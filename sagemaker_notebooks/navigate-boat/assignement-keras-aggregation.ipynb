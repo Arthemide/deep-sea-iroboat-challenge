{
 "cells": [
  {
   "cell_type": "markdown",
   "metadata": {},
   "source": [
    "# ML Model for Virtual Regatta in order to determine boat angle"
   ]
  },
  {
   "cell_type": "markdown",
   "metadata": {},
   "source": [
    "In this model, we will aggregate logs from all players to build the dataset"
   ]
  },
  {
   "cell_type": "markdown",
   "metadata": {},
   "source": [
    "## Import required libraries"
   ]
  },
  {
   "cell_type": "code",
   "execution_count": 1,
   "metadata": {},
   "outputs": [
    {
     "name": "stdout",
     "output_type": "stream",
     "text": [
      "Collecting smdebug\n",
      "  Using cached smdebug-0.9.2-py2.py3-none-any.whl (173 kB)\n",
      "Requirement already satisfied: boto3>=1.10.32 in /home/ec2-user/anaconda3/envs/python3/lib/python3.6/site-packages (from smdebug) (1.14.42)\n",
      "Requirement already satisfied: packaging in /home/ec2-user/anaconda3/envs/python3/lib/python3.6/site-packages (from smdebug) (20.3)\n",
      "Requirement already satisfied: numpy<2.0.0,>1.16.0 in /home/ec2-user/anaconda3/envs/python3/lib/python3.6/site-packages (from smdebug) (1.18.1)\n",
      "Requirement already satisfied: protobuf>=3.6.0 in /home/ec2-user/anaconda3/envs/python3/lib/python3.6/site-packages (from smdebug) (3.12.4)\n",
      "Requirement already satisfied: s3transfer<0.4.0,>=0.3.0 in /home/ec2-user/anaconda3/envs/python3/lib/python3.6/site-packages (from boto3>=1.10.32->smdebug) (0.3.3)\n",
      "\u001b[33mWARNING: No metadata found in /home/ec2-user/anaconda3/envs/python3/lib/python3.6/site-packages\u001b[0m\n",
      "\u001b[31mERROR: Could not install packages due to an EnvironmentError: [Errno 2] No such file or directory: '/home/ec2-user/anaconda3/envs/python3/lib/python3.6/site-packages/s3transfer-0.3.3.dist-info/METADATA'\n",
      "\u001b[0m\n",
      "Note: you may need to restart the kernel to use updated packages.\n"
     ]
    }
   ],
   "source": [
    "pip install smdebug"
   ]
  },
  {
   "cell_type": "code",
   "execution_count": 33,
   "metadata": {
    "scrolled": true
   },
   "outputs": [
    {
     "name": "stdout",
     "output_type": "stream",
     "text": [
      "The autoreload extension is already loaded. To reload it, use:\n",
      "  %reload_ext autoreload\n"
     ]
    }
   ],
   "source": [
    "%load_ext autoreload\n",
    "%autoreload 2\n",
    "%matplotlib inline\n",
    "\n",
    "# update import path\n",
    "import os, sys\n",
    "from os.path import join\n",
    "\n",
    "from io import StringIO\n",
    "import pandas as pd\n",
    "import numpy as np\n",
    "import matplotlib.pyplot as plt\n",
    "from sklearn.metrics import mean_absolute_error\n",
    "from sklearn.preprocessing import StandardScaler\n",
    "\n",
    "\n",
    "import tensorflow as tf\n",
    "import sagemaker\n",
    "from sagemaker.estimator import Framework\n",
    "from sagemaker.tensorflow import TensorFlow\n",
    "from sagemaker import LocalSession\n",
    "from sagemaker.debugger import Rule, DebuggerHookConfig, TensorBoardOutputConfig, CollectionConfig, rule_configs\n",
    "\n",
    "import matplotlib.pyplot as pyplot\n",
    "\n",
    "import boto3"
   ]
  },
  {
   "cell_type": "markdown",
   "metadata": {},
   "source": [
    "## Download Datasets from S3"
   ]
  },
  {
   "cell_type": "code",
   "execution_count": 34,
   "metadata": {},
   "outputs": [],
   "source": [
    "def downloadDirectoryFroms3(bucketName, remoteDirectoryName):\n",
    "    s3_resource = boto3.resource('s3')\n",
    "    bucket = s3_resource.Bucket(bucketName) \n",
    "    for obj in bucket.objects.filter(Prefix = remoteDirectoryName):\n",
    "        if not os.path.exists(os.path.dirname(obj.key)):\n",
    "            os.makedirs(os.path.dirname(obj.key))\n",
    "        bucket.download_file(obj.key, obj.key)"
   ]
  },
  {
   "cell_type": "code",
   "execution_count": 36,
   "metadata": {},
   "outputs": [],
   "source": [
    "data_bucket = 'virtual-regatta'\n",
    "bucket = 'virtual-regatta-ml'\n",
    "folder = 'logs_players/'\n",
    "\n",
    "downloadDirectoryFroms3(s3_bucket, folder)"
   ]
  },
  {
   "cell_type": "code",
   "execution_count": 37,
   "metadata": {},
   "outputs": [],
   "source": [
    "def aggregate_players_record(folder) :\n",
    "    df_global = pd.DataFrame(columns=['datetime','boat_speed','boat_angle','wind_speed', 'angle_of_attack', 'lat', 'lon', 'target_angle'])\n",
    "    for file in os.listdir(folder):\n",
    "        df = pd.read_csv(join(folder, file))\n",
    "        df_global = df_global.append(df, ignore_index=True)\n",
    "    df_global.set_index('datetime')\n",
    "    return df_global"
   ]
  },
  {
   "cell_type": "code",
   "execution_count": 38,
   "metadata": {},
   "outputs": [],
   "source": [
    "data = aggregate_players_record(folder)"
   ]
  },
  {
   "cell_type": "code",
   "execution_count": 32,
   "metadata": {},
   "outputs": [
    {
     "data": {
      "text/html": [
       "<div>\n",
       "<style scoped>\n",
       "    .dataframe tbody tr th:only-of-type {\n",
       "        vertical-align: middle;\n",
       "    }\n",
       "\n",
       "    .dataframe tbody tr th {\n",
       "        vertical-align: top;\n",
       "    }\n",
       "\n",
       "    .dataframe thead th {\n",
       "        text-align: right;\n",
       "    }\n",
       "</style>\n",
       "<table border=\"1\" class=\"dataframe\">\n",
       "  <thead>\n",
       "    <tr style=\"text-align: right;\">\n",
       "      <th></th>\n",
       "      <th>datetime</th>\n",
       "      <th>boat_speed</th>\n",
       "      <th>boat_angle</th>\n",
       "      <th>wind_speed</th>\n",
       "      <th>angle_of_attack</th>\n",
       "      <th>lat</th>\n",
       "      <th>lon</th>\n",
       "      <th>target_angle</th>\n",
       "    </tr>\n",
       "  </thead>\n",
       "  <tbody>\n",
       "    <tr>\n",
       "      <th>0</th>\n",
       "      <td>2020-09-03 13:30:22</td>\n",
       "      <td>4.59649</td>\n",
       "      <td>170.8058</td>\n",
       "      <td>4.94541</td>\n",
       "      <td>123.33377</td>\n",
       "      <td>43.540166</td>\n",
       "      <td>9.288994</td>\n",
       "      <td>188.963459</td>\n",
       "    </tr>\n",
       "    <tr>\n",
       "      <th>1</th>\n",
       "      <td>2020-09-03 13:35:20</td>\n",
       "      <td>4.66457</td>\n",
       "      <td>170.8058</td>\n",
       "      <td>5.02156</td>\n",
       "      <td>122.93140</td>\n",
       "      <td>43.533812</td>\n",
       "      <td>9.290413</td>\n",
       "      <td>188.963459</td>\n",
       "    </tr>\n",
       "    <tr>\n",
       "      <th>2</th>\n",
       "      <td>2020-09-03 13:45:16</td>\n",
       "      <td>4.74133</td>\n",
       "      <td>170.8058</td>\n",
       "      <td>5.10141</td>\n",
       "      <td>123.31155</td>\n",
       "      <td>43.520986</td>\n",
       "      <td>9.293276</td>\n",
       "      <td>188.963459</td>\n",
       "    </tr>\n",
       "    <tr>\n",
       "      <th>3</th>\n",
       "      <td>2020-09-03 13:55:12</td>\n",
       "      <td>4.81348</td>\n",
       "      <td>170.8058</td>\n",
       "      <td>5.17579</td>\n",
       "      <td>123.74926</td>\n",
       "      <td>43.507961</td>\n",
       "      <td>9.296183</td>\n",
       "      <td>188.963459</td>\n",
       "    </tr>\n",
       "    <tr>\n",
       "      <th>4</th>\n",
       "      <td>2020-09-03 14:05:08</td>\n",
       "      <td>4.88091</td>\n",
       "      <td>170.8058</td>\n",
       "      <td>5.24458</td>\n",
       "      <td>124.24321</td>\n",
       "      <td>43.494741</td>\n",
       "      <td>9.299133</td>\n",
       "      <td>188.963459</td>\n",
       "    </tr>\n",
       "  </tbody>\n",
       "</table>\n",
       "</div>"
      ],
      "text/plain": [
       "              datetime  boat_speed  boat_angle  wind_speed  angle_of_attack  \\\n",
       "0  2020-09-03 13:30:22     4.59649    170.8058     4.94541        123.33377   \n",
       "1  2020-09-03 13:35:20     4.66457    170.8058     5.02156        122.93140   \n",
       "2  2020-09-03 13:45:16     4.74133    170.8058     5.10141        123.31155   \n",
       "3  2020-09-03 13:55:12     4.81348    170.8058     5.17579        123.74926   \n",
       "4  2020-09-03 14:05:08     4.88091    170.8058     5.24458        124.24321   \n",
       "\n",
       "         lat       lon  target_angle  \n",
       "0  43.540166  9.288994    188.963459  \n",
       "1  43.533812  9.290413    188.963459  \n",
       "2  43.520986  9.293276    188.963459  \n",
       "3  43.507961  9.296183    188.963459  \n",
       "4  43.494741  9.299133    188.963459  "
      ]
     },
     "execution_count": 32,
     "metadata": {},
     "output_type": "execute_result"
    }
   ],
   "source": [
    "data.head()"
   ]
  },
  {
   "cell_type": "code",
   "execution_count": 31,
   "metadata": {},
   "outputs": [
    {
     "name": "stdout",
     "output_type": "stream",
     "text": [
      "(1865, 8)\n"
     ]
    }
   ],
   "source": [
    "print(data.shape)"
   ]
  },
  {
   "cell_type": "code",
   "execution_count": 39,
   "metadata": {},
   "outputs": [
    {
     "data": {
      "text/html": [
       "<div>\n",
       "<style scoped>\n",
       "    .dataframe tbody tr th:only-of-type {\n",
       "        vertical-align: middle;\n",
       "    }\n",
       "\n",
       "    .dataframe tbody tr th {\n",
       "        vertical-align: top;\n",
       "    }\n",
       "\n",
       "    .dataframe thead th {\n",
       "        text-align: right;\n",
       "    }\n",
       "</style>\n",
       "<table border=\"1\" class=\"dataframe\">\n",
       "  <thead>\n",
       "    <tr style=\"text-align: right;\">\n",
       "      <th></th>\n",
       "      <th>boat_speed</th>\n",
       "      <th>boat_angle</th>\n",
       "      <th>wind_speed</th>\n",
       "      <th>angle_of_attack</th>\n",
       "      <th>lat</th>\n",
       "      <th>lon</th>\n",
       "      <th>target_angle</th>\n",
       "    </tr>\n",
       "  </thead>\n",
       "  <tbody>\n",
       "    <tr>\n",
       "      <th>count</th>\n",
       "      <td>1865.000000</td>\n",
       "      <td>1865.000000</td>\n",
       "      <td>1865.000000</td>\n",
       "      <td>1865.000000</td>\n",
       "      <td>1865.000000</td>\n",
       "      <td>1865.000000</td>\n",
       "      <td>1865.000000</td>\n",
       "    </tr>\n",
       "    <tr>\n",
       "      <th>mean</th>\n",
       "      <td>6.675537</td>\n",
       "      <td>141.666766</td>\n",
       "      <td>11.106636</td>\n",
       "      <td>23.071084</td>\n",
       "      <td>45.737103</td>\n",
       "      <td>3.609135</td>\n",
       "      <td>176.072795</td>\n",
       "    </tr>\n",
       "    <tr>\n",
       "      <th>std</th>\n",
       "      <td>2.459648</td>\n",
       "      <td>45.008345</td>\n",
       "      <td>6.664975</td>\n",
       "      <td>112.989036</td>\n",
       "      <td>3.580484</td>\n",
       "      <td>7.968778</td>\n",
       "      <td>29.605890</td>\n",
       "    </tr>\n",
       "    <tr>\n",
       "      <th>min</th>\n",
       "      <td>1.787490</td>\n",
       "      <td>51.000000</td>\n",
       "      <td>3.687580</td>\n",
       "      <td>-177.061360</td>\n",
       "      <td>42.563000</td>\n",
       "      <td>-7.939762</td>\n",
       "      <td>8.959173</td>\n",
       "    </tr>\n",
       "    <tr>\n",
       "      <th>25%</th>\n",
       "      <td>4.691570</td>\n",
       "      <td>116.842600</td>\n",
       "      <td>5.415420</td>\n",
       "      <td>-91.203900</td>\n",
       "      <td>43.029039</td>\n",
       "      <td>-7.011000</td>\n",
       "      <td>175.717405</td>\n",
       "    </tr>\n",
       "    <tr>\n",
       "      <th>50%</th>\n",
       "      <td>5.891780</td>\n",
       "      <td>136.050940</td>\n",
       "      <td>7.642920</td>\n",
       "      <td>93.951010</td>\n",
       "      <td>43.252745</td>\n",
       "      <td>9.312061</td>\n",
       "      <td>187.569555</td>\n",
       "    </tr>\n",
       "    <tr>\n",
       "      <th>75%</th>\n",
       "      <td>9.814620</td>\n",
       "      <td>164.100980</td>\n",
       "      <td>20.047830</td>\n",
       "      <td>97.993230</td>\n",
       "      <td>50.527957</td>\n",
       "      <td>9.790852</td>\n",
       "      <td>188.963459</td>\n",
       "    </tr>\n",
       "    <tr>\n",
       "      <th>max</th>\n",
       "      <td>9.954010</td>\n",
       "      <td>328.000000</td>\n",
       "      <td>21.077130</td>\n",
       "      <td>162.784680</td>\n",
       "      <td>50.832882</td>\n",
       "      <td>10.139227</td>\n",
       "      <td>326.000000</td>\n",
       "    </tr>\n",
       "  </tbody>\n",
       "</table>\n",
       "</div>"
      ],
      "text/plain": [
       "        boat_speed   boat_angle   wind_speed  angle_of_attack          lat  \\\n",
       "count  1865.000000  1865.000000  1865.000000      1865.000000  1865.000000   \n",
       "mean      6.675537   141.666766    11.106636        23.071084    45.737103   \n",
       "std       2.459648    45.008345     6.664975       112.989036     3.580484   \n",
       "min       1.787490    51.000000     3.687580      -177.061360    42.563000   \n",
       "25%       4.691570   116.842600     5.415420       -91.203900    43.029039   \n",
       "50%       5.891780   136.050940     7.642920        93.951010    43.252745   \n",
       "75%       9.814620   164.100980    20.047830        97.993230    50.527957   \n",
       "max       9.954010   328.000000    21.077130       162.784680    50.832882   \n",
       "\n",
       "               lon  target_angle  \n",
       "count  1865.000000   1865.000000  \n",
       "mean      3.609135    176.072795  \n",
       "std       7.968778     29.605890  \n",
       "min      -7.939762      8.959173  \n",
       "25%      -7.011000    175.717405  \n",
       "50%       9.312061    187.569555  \n",
       "75%       9.790852    188.963459  \n",
       "max      10.139227    326.000000  "
      ]
     },
     "execution_count": 39,
     "metadata": {},
     "output_type": "execute_result"
    }
   ],
   "source": [
    "data.describe()"
   ]
  },
  {
   "cell_type": "markdown",
   "metadata": {},
   "source": [
    "## Data Vizualisation"
   ]
  },
  {
   "cell_type": "markdown",
   "metadata": {},
   "source": [
    "Boat approaching the target course"
   ]
  },
  {
   "cell_type": "code",
   "execution_count": 11,
   "metadata": {},
   "outputs": [
    {
     "data": {
      "text/plain": [
       "<matplotlib.axes._subplots.AxesSubplot at 0x7fe4a1c5ccf8>"
      ]
     },
     "execution_count": 11,
     "metadata": {},
     "output_type": "execute_result"
    },
    {
     "data": {
      "image/png": "[encoded data removed]",
      "text/plain": [
       "<Figure size 432x288 with 1 Axes>"
      ]
     },
     "metadata": {
      "needs_background": "light"
     },
     "output_type": "display_data"
    }
   ],
   "source": [
    "data['target_angle'][:2000].plot()\n",
    "data['boat_angle'][:2000].plot()"
   ]
  },
  {
   "cell_type": "code",
   "execution_count": 12,
   "metadata": {},
   "outputs": [
    {
     "data": {
      "text/plain": [
       "<matplotlib.axes._subplots.AxesSubplot at 0x7fe4a0b9a320>"
      ]
     },
     "execution_count": 12,
     "metadata": {},
     "output_type": "execute_result"
    },
    {
     "data": {
      "image/png": "[encoded data removed]",
      "text/plain": [
       "<Figure size 432x288 with 1 Axes>"
      ]
     },
     "metadata": {
      "needs_background": "light"
     },
     "output_type": "display_data"
    }
   ],
   "source": [
    "data['course_error'] = (data['boat_angle'] - data['target_angle'] + 180) % 360 -180\n",
    "data['course_error'][:2000].plot()"
   ]
  },
  {
   "cell_type": "code",
   "execution_count": 13,
   "metadata": {},
   "outputs": [
    {
     "data": {
      "text/plain": [
       "0.0"
      ]
     },
     "execution_count": 13,
     "metadata": {},
     "output_type": "execute_result"
    }
   ],
   "source": [
    "data['course_error'].max()"
   ]
  },
  {
   "cell_type": "code",
   "execution_count": 14,
   "metadata": {},
   "outputs": [
    {
     "data": {
      "text/html": [
       "<style  type=\"text/css\" >\n",
       "    #T_38e38312_ed15_11ea_8fae_e7231d69c788row0_col0 {\n",
       "            background-color:  #023858;\n",
       "            color:  #f1f1f1;\n",
       "        }    #T_38e38312_ed15_11ea_8fae_e7231d69c788row0_col1 {\n",
       "            background-color:  #3f93c2;\n",
       "            color:  #000000;\n",
       "        }    #T_38e38312_ed15_11ea_8fae_e7231d69c788row0_col2 {\n",
       "            background-color:  #9ebad9;\n",
       "            color:  #000000;\n",
       "        }    #T_38e38312_ed15_11ea_8fae_e7231d69c788row0_col3 {\n",
       "            background-color:  #4c99c5;\n",
       "            color:  #000000;\n",
       "        }    #T_38e38312_ed15_11ea_8fae_e7231d69c788row0_col4 {\n",
       "            background-color:  #9fbad9;\n",
       "            color:  #000000;\n",
       "        }    #T_38e38312_ed15_11ea_8fae_e7231d69c788row0_col5 {\n",
       "            background-color:  #3f93c2;\n",
       "            color:  #000000;\n",
       "        }    #T_38e38312_ed15_11ea_8fae_e7231d69c788row0_col6 {\n",
       "            background-color:  #3991c1;\n",
       "            color:  #000000;\n",
       "        }    #T_38e38312_ed15_11ea_8fae_e7231d69c788row0_col7 {\n",
       "            background-color:  #4295c3;\n",
       "            color:  #000000;\n",
       "        }    #T_38e38312_ed15_11ea_8fae_e7231d69c788row1_col0 {\n",
       "            background-color:  #adc1dd;\n",
       "            color:  #000000;\n",
       "        }    #T_38e38312_ed15_11ea_8fae_e7231d69c788row1_col1 {\n",
       "            background-color:  #023858;\n",
       "            color:  #f1f1f1;\n",
       "        }    #T_38e38312_ed15_11ea_8fae_e7231d69c788row1_col2 {\n",
       "            background-color:  #fff7fb;\n",
       "            color:  #000000;\n",
       "        }    #T_38e38312_ed15_11ea_8fae_e7231d69c788row1_col3 {\n",
       "            background-color:  #02395a;\n",
       "            color:  #f1f1f1;\n",
       "        }    #T_38e38312_ed15_11ea_8fae_e7231d69c788row1_col4 {\n",
       "            background-color:  #fff7fb;\n",
       "            color:  #000000;\n",
       "        }    #T_38e38312_ed15_11ea_8fae_e7231d69c788row1_col5 {\n",
       "            background-color:  #023858;\n",
       "            color:  #f1f1f1;\n",
       "        }    #T_38e38312_ed15_11ea_8fae_e7231d69c788row1_col6 {\n",
       "            background-color:  #023858;\n",
       "            color:  #f1f1f1;\n",
       "        }    #T_38e38312_ed15_11ea_8fae_e7231d69c788row1_col7 {\n",
       "            background-color:  #023858;\n",
       "            color:  #f1f1f1;\n",
       "        }    #T_38e38312_ed15_11ea_8fae_e7231d69c788row2_col0 {\n",
       "            background-color:  #fef6fa;\n",
       "            color:  #000000;\n",
       "        }    #T_38e38312_ed15_11ea_8fae_e7231d69c788row2_col1 {\n",
       "            background-color:  #fff7fb;\n",
       "            color:  #000000;\n",
       "        }    #T_38e38312_ed15_11ea_8fae_e7231d69c788row2_col2 {\n",
       "            background-color:  #023858;\n",
       "            color:  #f1f1f1;\n",
       "        }    #T_38e38312_ed15_11ea_8fae_e7231d69c788row2_col3 {\n",
       "            background-color:  #fff7fb;\n",
       "            color:  #000000;\n",
       "        }    #T_38e38312_ed15_11ea_8fae_e7231d69c788row2_col4 {\n",
       "            background-color:  #023858;\n",
       "            color:  #f1f1f1;\n",
       "        }    #T_38e38312_ed15_11ea_8fae_e7231d69c788row2_col5 {\n",
       "            background-color:  #fff7fb;\n",
       "            color:  #000000;\n",
       "        }    #T_38e38312_ed15_11ea_8fae_e7231d69c788row2_col6 {\n",
       "            background-color:  #fff7fb;\n",
       "            color:  #000000;\n",
       "        }    #T_38e38312_ed15_11ea_8fae_e7231d69c788row2_col7 {\n",
       "            background-color:  #fff7fb;\n",
       "            color:  #000000;\n",
       "        }    #T_38e38312_ed15_11ea_8fae_e7231d69c788row3_col0 {\n",
       "            background-color:  #bbc7e0;\n",
       "            color:  #000000;\n",
       "        }    #T_38e38312_ed15_11ea_8fae_e7231d69c788row3_col1 {\n",
       "            background-color:  #02395a;\n",
       "            color:  #f1f1f1;\n",
       "        }    #T_38e38312_ed15_11ea_8fae_e7231d69c788row3_col2 {\n",
       "            background-color:  #fef6fb;\n",
       "            color:  #000000;\n",
       "        }    #T_38e38312_ed15_11ea_8fae_e7231d69c788row3_col3 {\n",
       "            background-color:  #023858;\n",
       "            color:  #f1f1f1;\n",
       "        }    #T_38e38312_ed15_11ea_8fae_e7231d69c788row3_col4 {\n",
       "            background-color:  #fef6fb;\n",
       "            color:  #000000;\n",
       "        }    #T_38e38312_ed15_11ea_8fae_e7231d69c788row3_col5 {\n",
       "            background-color:  #02395a;\n",
       "            color:  #f1f1f1;\n",
       "        }    #T_38e38312_ed15_11ea_8fae_e7231d69c788row3_col6 {\n",
       "            background-color:  #02395a;\n",
       "            color:  #f1f1f1;\n",
       "        }    #T_38e38312_ed15_11ea_8fae_e7231d69c788row3_col7 {\n",
       "            background-color:  #02395a;\n",
       "            color:  #f1f1f1;\n",
       "        }    #T_38e38312_ed15_11ea_8fae_e7231d69c788row4_col0 {\n",
       "            background-color:  #fff7fb;\n",
       "            color:  #000000;\n",
       "        }    #T_38e38312_ed15_11ea_8fae_e7231d69c788row4_col1 {\n",
       "            background-color:  #fff7fb;\n",
       "            color:  #000000;\n",
       "        }    #T_38e38312_ed15_11ea_8fae_e7231d69c788row4_col2 {\n",
       "            background-color:  #023858;\n",
       "            color:  #f1f1f1;\n",
       "        }    #T_38e38312_ed15_11ea_8fae_e7231d69c788row4_col3 {\n",
       "            background-color:  #fff7fb;\n",
       "            color:  #000000;\n",
       "        }    #T_38e38312_ed15_11ea_8fae_e7231d69c788row4_col4 {\n",
       "            background-color:  #023858;\n",
       "            color:  #f1f1f1;\n",
       "        }    #T_38e38312_ed15_11ea_8fae_e7231d69c788row4_col5 {\n",
       "            background-color:  #fff7fb;\n",
       "            color:  #000000;\n",
       "        }    #T_38e38312_ed15_11ea_8fae_e7231d69c788row4_col6 {\n",
       "            background-color:  #fff7fb;\n",
       "            color:  #000000;\n",
       "        }    #T_38e38312_ed15_11ea_8fae_e7231d69c788row4_col7 {\n",
       "            background-color:  #fff7fb;\n",
       "            color:  #000000;\n",
       "        }    #T_38e38312_ed15_11ea_8fae_e7231d69c788row5_col0 {\n",
       "            background-color:  #acc0dd;\n",
       "            color:  #000000;\n",
       "        }    #T_38e38312_ed15_11ea_8fae_e7231d69c788row5_col1 {\n",
       "            background-color:  #023858;\n",
       "            color:  #f1f1f1;\n",
       "        }    #T_38e38312_ed15_11ea_8fae_e7231d69c788row5_col2 {\n",
       "            background-color:  #fff7fb;\n",
       "            color:  #000000;\n",
       "        }    #T_38e38312_ed15_11ea_8fae_e7231d69c788row5_col3 {\n",
       "            background-color:  #02395a;\n",
       "            color:  #f1f1f1;\n",
       "        }    #T_38e38312_ed15_11ea_8fae_e7231d69c788row5_col4 {\n",
       "            background-color:  #fff7fb;\n",
       "            color:  #000000;\n",
       "        }    #T_38e38312_ed15_11ea_8fae_e7231d69c788row5_col5 {\n",
       "            background-color:  #023858;\n",
       "            color:  #f1f1f1;\n",
       "        }    #T_38e38312_ed15_11ea_8fae_e7231d69c788row5_col6 {\n",
       "            background-color:  #023858;\n",
       "            color:  #f1f1f1;\n",
       "        }    #T_38e38312_ed15_11ea_8fae_e7231d69c788row5_col7 {\n",
       "            background-color:  #023858;\n",
       "            color:  #f1f1f1;\n",
       "        }    #T_38e38312_ed15_11ea_8fae_e7231d69c788row6_col0 {\n",
       "            background-color:  #a5bddb;\n",
       "            color:  #000000;\n",
       "        }    #T_38e38312_ed15_11ea_8fae_e7231d69c788row6_col1 {\n",
       "            background-color:  #023858;\n",
       "            color:  #f1f1f1;\n",
       "        }    #T_38e38312_ed15_11ea_8fae_e7231d69c788row6_col2 {\n",
       "            background-color:  #fff7fb;\n",
       "            color:  #000000;\n",
       "        }    #T_38e38312_ed15_11ea_8fae_e7231d69c788row6_col3 {\n",
       "            background-color:  #02395a;\n",
       "            color:  #f1f1f1;\n",
       "        }    #T_38e38312_ed15_11ea_8fae_e7231d69c788row6_col4 {\n",
       "            background-color:  #fff7fb;\n",
       "            color:  #000000;\n",
       "        }    #T_38e38312_ed15_11ea_8fae_e7231d69c788row6_col5 {\n",
       "            background-color:  #023858;\n",
       "            color:  #f1f1f1;\n",
       "        }    #T_38e38312_ed15_11ea_8fae_e7231d69c788row6_col6 {\n",
       "            background-color:  #023858;\n",
       "            color:  #f1f1f1;\n",
       "        }    #T_38e38312_ed15_11ea_8fae_e7231d69c788row6_col7 {\n",
       "            background-color:  #02395a;\n",
       "            color:  #f1f1f1;\n",
       "        }    #T_38e38312_ed15_11ea_8fae_e7231d69c788row7_col0 {\n",
       "            background-color:  #b1c2de;\n",
       "            color:  #000000;\n",
       "        }    #T_38e38312_ed15_11ea_8fae_e7231d69c788row7_col1 {\n",
       "            background-color:  #023858;\n",
       "            color:  #f1f1f1;\n",
       "        }    #T_38e38312_ed15_11ea_8fae_e7231d69c788row7_col2 {\n",
       "            background-color:  #fff7fb;\n",
       "            color:  #000000;\n",
       "        }    #T_38e38312_ed15_11ea_8fae_e7231d69c788row7_col3 {\n",
       "            background-color:  #02395a;\n",
       "            color:  #f1f1f1;\n",
       "        }    #T_38e38312_ed15_11ea_8fae_e7231d69c788row7_col4 {\n",
       "            background-color:  #fff7fb;\n",
       "            color:  #000000;\n",
       "        }    #T_38e38312_ed15_11ea_8fae_e7231d69c788row7_col5 {\n",
       "            background-color:  #023858;\n",
       "            color:  #f1f1f1;\n",
       "        }    #T_38e38312_ed15_11ea_8fae_e7231d69c788row7_col6 {\n",
       "            background-color:  #02395a;\n",
       "            color:  #f1f1f1;\n",
       "        }    #T_38e38312_ed15_11ea_8fae_e7231d69c788row7_col7 {\n",
       "            background-color:  #023858;\n",
       "            color:  #f1f1f1;\n",
       "        }</style><table id=\"T_38e38312_ed15_11ea_8fae_e7231d69c788\" ><thead>    <tr>        <th class=\"blank level0\" ></th>        <th class=\"col_heading level0 col0\" >boat_speed</th>        <th class=\"col_heading level0 col1\" >boat_angle</th>        <th class=\"col_heading level0 col2\" >wind_speed</th>        <th class=\"col_heading level0 col3\" >angle_of_attack</th>        <th class=\"col_heading level0 col4\" >lat</th>        <th class=\"col_heading level0 col5\" >lon</th>        <th class=\"col_heading level0 col6\" >target_angle</th>        <th class=\"col_heading level0 col7\" >course_error</th>    </tr></thead><tbody>\n",
       "                <tr>\n",
       "                        <th id=\"T_38e38312_ed15_11ea_8fae_e7231d69c788level0_row0\" class=\"row_heading level0 row0\" >boat_speed</th>\n",
       "                        <td id=\"T_38e38312_ed15_11ea_8fae_e7231d69c788row0_col0\" class=\"data row0 col0\" >1.000000</td>\n",
       "                        <td id=\"T_38e38312_ed15_11ea_8fae_e7231d69c788row0_col1\" class=\"data row0 col1\" >0.215873</td>\n",
       "                        <td id=\"T_38e38312_ed15_11ea_8fae_e7231d69c788row0_col2\" class=\"data row0 col2\" >-0.203417</td>\n",
       "                        <td id=\"T_38e38312_ed15_11ea_8fae_e7231d69c788row0_col3\" class=\"data row0 col3\" >0.165166</td>\n",
       "                        <td id=\"T_38e38312_ed15_11ea_8fae_e7231d69c788row0_col4\" class=\"data row0 col4\" >-0.216444</td>\n",
       "                        <td id=\"T_38e38312_ed15_11ea_8fae_e7231d69c788row0_col5\" class=\"data row0 col5\" >0.217995</td>\n",
       "                        <td id=\"T_38e38312_ed15_11ea_8fae_e7231d69c788row0_col6\" class=\"data row0 col6\" >0.242779</td>\n",
       "                        <td id=\"T_38e38312_ed15_11ea_8fae_e7231d69c788row0_col7\" class=\"data row0 col7\" >0.201701</td>\n",
       "            </tr>\n",
       "            <tr>\n",
       "                        <th id=\"T_38e38312_ed15_11ea_8fae_e7231d69c788level0_row1\" class=\"row_heading level0 row1\" >boat_angle</th>\n",
       "                        <td id=\"T_38e38312_ed15_11ea_8fae_e7231d69c788row1_col0\" class=\"data row1 col0\" >0.215873</td>\n",
       "                        <td id=\"T_38e38312_ed15_11ea_8fae_e7231d69c788row1_col1\" class=\"data row1 col1\" >1.000000</td>\n",
       "                        <td id=\"T_38e38312_ed15_11ea_8fae_e7231d69c788row1_col2\" class=\"data row1 col2\" >-0.998905</td>\n",
       "                        <td id=\"T_38e38312_ed15_11ea_8fae_e7231d69c788row1_col3\" class=\"data row1 col3\" >0.986994</td>\n",
       "                        <td id=\"T_38e38312_ed15_11ea_8fae_e7231d69c788row1_col4\" class=\"data row1 col4\" >-0.999423</td>\n",
       "                        <td id=\"T_38e38312_ed15_11ea_8fae_e7231d69c788row1_col5\" class=\"data row1 col5\" >0.999487</td>\n",
       "                        <td id=\"T_38e38312_ed15_11ea_8fae_e7231d69c788row1_col6\" class=\"data row1 col6\" >0.996491</td>\n",
       "                        <td id=\"T_38e38312_ed15_11ea_8fae_e7231d69c788row1_col7\" class=\"data row1 col7\" >0.999105</td>\n",
       "            </tr>\n",
       "            <tr>\n",
       "                        <th id=\"T_38e38312_ed15_11ea_8fae_e7231d69c788level0_row2\" class=\"row_heading level0 row2\" >wind_speed</th>\n",
       "                        <td id=\"T_38e38312_ed15_11ea_8fae_e7231d69c788row2_col0\" class=\"data row2 col0\" >-0.203417</td>\n",
       "                        <td id=\"T_38e38312_ed15_11ea_8fae_e7231d69c788row2_col1\" class=\"data row2 col1\" >-0.998905</td>\n",
       "                        <td id=\"T_38e38312_ed15_11ea_8fae_e7231d69c788row2_col2\" class=\"data row2 col2\" >1.000000</td>\n",
       "                        <td id=\"T_38e38312_ed15_11ea_8fae_e7231d69c788row2_col3\" class=\"data row2 col3\" >-0.990559</td>\n",
       "                        <td id=\"T_38e38312_ed15_11ea_8fae_e7231d69c788row2_col4\" class=\"data row2 col4\" >0.998739</td>\n",
       "                        <td id=\"T_38e38312_ed15_11ea_8fae_e7231d69c788row2_col5\" class=\"data row2 col5\" >-0.998765</td>\n",
       "                        <td id=\"T_38e38312_ed15_11ea_8fae_e7231d69c788row2_col6\" class=\"data row2 col6\" >-0.995841</td>\n",
       "                        <td id=\"T_38e38312_ed15_11ea_8fae_e7231d69c788row2_col7\" class=\"data row2 col7\" >-0.997788</td>\n",
       "            </tr>\n",
       "            <tr>\n",
       "                        <th id=\"T_38e38312_ed15_11ea_8fae_e7231d69c788level0_row3\" class=\"row_heading level0 row3\" >angle_of_attack</th>\n",
       "                        <td id=\"T_38e38312_ed15_11ea_8fae_e7231d69c788row3_col0\" class=\"data row3 col0\" >0.165166</td>\n",
       "                        <td id=\"T_38e38312_ed15_11ea_8fae_e7231d69c788row3_col1\" class=\"data row3 col1\" >0.986994</td>\n",
       "                        <td id=\"T_38e38312_ed15_11ea_8fae_e7231d69c788row3_col2\" class=\"data row3 col2\" >-0.990559</td>\n",
       "                        <td id=\"T_38e38312_ed15_11ea_8fae_e7231d69c788row3_col3\" class=\"data row3 col3\" >1.000000</td>\n",
       "                        <td id=\"T_38e38312_ed15_11ea_8fae_e7231d69c788row3_col4\" class=\"data row3 col4\" >-0.991016</td>\n",
       "                        <td id=\"T_38e38312_ed15_11ea_8fae_e7231d69c788row3_col5\" class=\"data row3 col5\" >0.990760</td>\n",
       "                        <td id=\"T_38e38312_ed15_11ea_8fae_e7231d69c788row3_col6\" class=\"data row3 col6\" >0.985536</td>\n",
       "                        <td id=\"T_38e38312_ed15_11ea_8fae_e7231d69c788row3_col7\" class=\"data row3 col7\" >0.985098</td>\n",
       "            </tr>\n",
       "            <tr>\n",
       "                        <th id=\"T_38e38312_ed15_11ea_8fae_e7231d69c788level0_row4\" class=\"row_heading level0 row4\" >lat</th>\n",
       "                        <td id=\"T_38e38312_ed15_11ea_8fae_e7231d69c788row4_col0\" class=\"data row4 col0\" >-0.216444</td>\n",
       "                        <td id=\"T_38e38312_ed15_11ea_8fae_e7231d69c788row4_col1\" class=\"data row4 col1\" >-0.999423</td>\n",
       "                        <td id=\"T_38e38312_ed15_11ea_8fae_e7231d69c788row4_col2\" class=\"data row4 col2\" >0.998739</td>\n",
       "                        <td id=\"T_38e38312_ed15_11ea_8fae_e7231d69c788row4_col3\" class=\"data row4 col3\" >-0.991016</td>\n",
       "                        <td id=\"T_38e38312_ed15_11ea_8fae_e7231d69c788row4_col4\" class=\"data row4 col4\" >1.000000</td>\n",
       "                        <td id=\"T_38e38312_ed15_11ea_8fae_e7231d69c788row4_col5\" class=\"data row4 col5\" >-0.999944</td>\n",
       "                        <td id=\"T_38e38312_ed15_11ea_8fae_e7231d69c788row4_col6\" class=\"data row4 col6\" >-0.995841</td>\n",
       "                        <td id=\"T_38e38312_ed15_11ea_8fae_e7231d69c788row4_col7\" class=\"data row4 col7\" >-0.998567</td>\n",
       "            </tr>\n",
       "            <tr>\n",
       "                        <th id=\"T_38e38312_ed15_11ea_8fae_e7231d69c788level0_row5\" class=\"row_heading level0 row5\" >lon</th>\n",
       "                        <td id=\"T_38e38312_ed15_11ea_8fae_e7231d69c788row5_col0\" class=\"data row5 col0\" >0.217995</td>\n",
       "                        <td id=\"T_38e38312_ed15_11ea_8fae_e7231d69c788row5_col1\" class=\"data row5 col1\" >0.999487</td>\n",
       "                        <td id=\"T_38e38312_ed15_11ea_8fae_e7231d69c788row5_col2\" class=\"data row5 col2\" >-0.998765</td>\n",
       "                        <td id=\"T_38e38312_ed15_11ea_8fae_e7231d69c788row5_col3\" class=\"data row5 col3\" >0.990760</td>\n",
       "                        <td id=\"T_38e38312_ed15_11ea_8fae_e7231d69c788row5_col4\" class=\"data row5 col4\" >-0.999944</td>\n",
       "                        <td id=\"T_38e38312_ed15_11ea_8fae_e7231d69c788row5_col5\" class=\"data row5 col5\" >1.000000</td>\n",
       "                        <td id=\"T_38e38312_ed15_11ea_8fae_e7231d69c788row5_col6\" class=\"data row5 col6\" >0.995947</td>\n",
       "                        <td id=\"T_38e38312_ed15_11ea_8fae_e7231d69c788row5_col7\" class=\"data row5 col7\" >0.998609</td>\n",
       "            </tr>\n",
       "            <tr>\n",
       "                        <th id=\"T_38e38312_ed15_11ea_8fae_e7231d69c788level0_row6\" class=\"row_heading level0 row6\" >target_angle</th>\n",
       "                        <td id=\"T_38e38312_ed15_11ea_8fae_e7231d69c788row6_col0\" class=\"data row6 col0\" >0.242779</td>\n",
       "                        <td id=\"T_38e38312_ed15_11ea_8fae_e7231d69c788row6_col1\" class=\"data row6 col1\" >0.996491</td>\n",
       "                        <td id=\"T_38e38312_ed15_11ea_8fae_e7231d69c788row6_col2\" class=\"data row6 col2\" >-0.995841</td>\n",
       "                        <td id=\"T_38e38312_ed15_11ea_8fae_e7231d69c788row6_col3\" class=\"data row6 col3\" >0.985536</td>\n",
       "                        <td id=\"T_38e38312_ed15_11ea_8fae_e7231d69c788row6_col4\" class=\"data row6 col4\" >-0.995841</td>\n",
       "                        <td id=\"T_38e38312_ed15_11ea_8fae_e7231d69c788row6_col5\" class=\"data row6 col5\" >0.995947</td>\n",
       "                        <td id=\"T_38e38312_ed15_11ea_8fae_e7231d69c788row6_col6\" class=\"data row6 col6\" >1.000000</td>\n",
       "                        <td id=\"T_38e38312_ed15_11ea_8fae_e7231d69c788row6_col7\" class=\"data row6 col7\" >0.992059</td>\n",
       "            </tr>\n",
       "            <tr>\n",
       "                        <th id=\"T_38e38312_ed15_11ea_8fae_e7231d69c788level0_row7\" class=\"row_heading level0 row7\" >course_error</th>\n",
       "                        <td id=\"T_38e38312_ed15_11ea_8fae_e7231d69c788row7_col0\" class=\"data row7 col0\" >0.201701</td>\n",
       "                        <td id=\"T_38e38312_ed15_11ea_8fae_e7231d69c788row7_col1\" class=\"data row7 col1\" >0.999105</td>\n",
       "                        <td id=\"T_38e38312_ed15_11ea_8fae_e7231d69c788row7_col2\" class=\"data row7 col2\" >-0.997788</td>\n",
       "                        <td id=\"T_38e38312_ed15_11ea_8fae_e7231d69c788row7_col3\" class=\"data row7 col3\" >0.985098</td>\n",
       "                        <td id=\"T_38e38312_ed15_11ea_8fae_e7231d69c788row7_col4\" class=\"data row7 col4\" >-0.998567</td>\n",
       "                        <td id=\"T_38e38312_ed15_11ea_8fae_e7231d69c788row7_col5\" class=\"data row7 col5\" >0.998609</td>\n",
       "                        <td id=\"T_38e38312_ed15_11ea_8fae_e7231d69c788row7_col6\" class=\"data row7 col6\" >0.992059</td>\n",
       "                        <td id=\"T_38e38312_ed15_11ea_8fae_e7231d69c788row7_col7\" class=\"data row7 col7\" >1.000000</td>\n",
       "            </tr>\n",
       "    </tbody></table>"
      ],
      "text/plain": [
       "<pandas.io.formats.style.Styler at 0x7fe4a0a9f3c8>"
      ]
     },
     "execution_count": 14,
     "metadata": {},
     "output_type": "execute_result"
    }
   ],
   "source": [
    "corr = data.corr()\n",
    "corr.style.background_gradient()"
   ]
  },
  {
   "cell_type": "markdown",
   "metadata": {},
   "source": [
    "### Save agreggated file"
   ]
  },
  {
   "cell_type": "code",
   "execution_count": 40,
   "metadata": {},
   "outputs": [],
   "source": [
    "def saveAggregatedFile(data, bucket, prefix, filename) :\n",
    "    csv_buffer = StringIO()\n",
    "    data.to_csv(csv_buffer,header=True, index=False)\n",
    "    s3_resource = boto3.resource('s3')\n",
    "    s3_resource.Object(bucket, prefix + '/data/input.csv').put(Body=csv_buffer.getvalue())"
   ]
  },
  {
   "cell_type": "code",
   "execution_count": 52,
   "metadata": {},
   "outputs": [
    {
     "name": "stdout",
     "output_type": "stream",
     "text": [
      "Data saved\n"
     ]
    }
   ],
   "source": [
    "s3_prefix = 'navigation-boat-ml'    # prefix used for all data stored within the bucket\n",
    "\n",
    "saveAggregatedFile(data, bucket, s3_prefix, 'input.csv')\n",
    "print(\"Data saved\")"
   ]
  },
  {
   "cell_type": "markdown",
   "metadata": {},
   "source": [
    "## Select Features and target"
   ]
  },
  {
   "cell_type": "code",
   "execution_count": 42,
   "metadata": {},
   "outputs": [],
   "source": [
    "features = ['boat_speed', 'target_angle', 'angle_of_attack', 'wind_speed']"
   ]
  },
  {
   "cell_type": "code",
   "execution_count": 43,
   "metadata": {},
   "outputs": [],
   "source": [
    "target = 'boat_angle'"
   ]
  },
  {
   "cell_type": "markdown",
   "metadata": {},
   "source": [
    "The Python interpreter executes the user module, passing hyperparameters as script arguments."
   ]
  },
  {
   "cell_type": "code",
   "execution_count": 44,
   "metadata": {},
   "outputs": [],
   "source": [
    "hyperparameters = {'features': features, \n",
    "                   \"target\": target\n",
    "                    #define the others hyperparameters set up in argumentParser of the train.py script if needed\n",
    "                  }"
   ]
  },
  {
   "cell_type": "code",
   "execution_count": 51,
   "metadata": {},
   "outputs": [
    {
     "name": "stdout",
     "output_type": "stream",
     "text": [
      "s3://virtual-regatta-ml/navigation-boat-ml/data/input.csv\n",
      "s3://virtual-regatta-ml/navigation-boat-ml/output\n",
      "arn:aws:iam::281633979087:role/service-role/AmazonSageMaker-ExecutionRole-20200828T144409\n"
     ]
    }
   ],
   "source": [
    "s3_data_path = \"s3://{}/{}/data/input.csv\".format(bucket, s3_prefix)\n",
    "print(s3_data_path)\n",
    "s3_output_path = \"s3://{}/{}/output\".format(bucket, s3_prefix)\n",
    "print(s3_output_path)\n",
    "\n",
    "role = sagemaker.get_execution_role()             # IAM role to use by SageMaker\n",
    "print(role)"
   ]
  },
  {
   "cell_type": "markdown",
   "metadata": {},
   "source": [
    "## Train locally"
   ]
  },
  {
   "cell_type": "code",
   "execution_count": 21,
   "metadata": {},
   "outputs": [],
   "source": [
    "train_instance_type = 'local'"
   ]
  },
  {
   "cell_type": "code",
   "execution_count": 22,
   "metadata": {},
   "outputs": [],
   "source": [
    "local_sgmk_session = LocalSession()\n",
    "\n",
    "region = local_sgmk_session.boto_region_name"
   ]
  },
  {
   "cell_type": "code",
   "execution_count": 23,
   "metadata": {},
   "outputs": [
    {
     "name": "stderr",
     "output_type": "stream",
     "text": [
      "'create_image_uri' will be deprecated in favor of 'ImageURIProvider' class in SageMaker Python SDK v2.\n"
     ]
    },
    {
     "name": "stdout",
     "output_type": "stream",
     "text": [
      "Creating tmpqza0fqwz_algo-1-47a8i_1 ... \n",
      "\u001b[1BAttaching to tmpqza0fqwz_algo-1-47a8i_12mdone\u001b[0m\n",
      "\u001b[36malgo-1-47a8i_1  |\u001b[0m 2020-09-02 12:10:10,250 sagemaker-training-toolkit INFO     Imported framework sagemaker_tensorflow_container.training\n",
      "\u001b[36malgo-1-47a8i_1  |\u001b[0m 2020-09-02 12:10:10,259 sagemaker-training-toolkit INFO     No GPUs detected (normal if no gpus installed)\n",
      "\u001b[36malgo-1-47a8i_1  |\u001b[0m 2020-09-02 12:10:11,691 sagemaker-training-toolkit INFO     Installing dependencies from requirements.txt:\n",
      "\u001b[36malgo-1-47a8i_1  |\u001b[0m /usr/local/bin/python3.7 -m pip install -r requirements.txt\n",
      "\u001b[36malgo-1-47a8i_1  |\u001b[0m Collecting keras==2.4.3\n",
      "\u001b[36malgo-1-47a8i_1  |\u001b[0m   Downloading Keras-2.4.3-py2.py3-none-any.whl (36 kB)\n",
      "\u001b[36malgo-1-47a8i_1  |\u001b[0m Requirement already satisfied: numpy>=1.9.1 in /usr/local/lib/python3.7/site-packages (from keras==2.4.3->-r requirements.txt (line 1)) (1.19.1)\n",
      "\u001b[36malgo-1-47a8i_1  |\u001b[0m Requirement already satisfied: scipy>=0.14 in /usr/local/lib/python3.7/site-packages (from keras==2.4.3->-r requirements.txt (line 1)) (1.4.1)\n",
      "\u001b[36malgo-1-47a8i_1  |\u001b[0m Requirement already satisfied: pyyaml in /usr/local/lib/python3.7/site-packages (from keras==2.4.3->-r requirements.txt (line 1)) (5.3.1)\n",
      "\u001b[36malgo-1-47a8i_1  |\u001b[0m Requirement already satisfied: h5py in /usr/local/lib/python3.7/site-packages (from keras==2.4.3->-r requirements.txt (line 1)) (2.10.0)\n",
      "\u001b[36malgo-1-47a8i_1  |\u001b[0m Requirement already satisfied: six in /usr/local/lib/python3.7/site-packages (from h5py->keras==2.4.3->-r requirements.txt (line 1)) (1.15.0)\n",
      "\u001b[36malgo-1-47a8i_1  |\u001b[0m Installing collected packages: keras\n",
      "\u001b[36malgo-1-47a8i_1  |\u001b[0m Successfully installed keras-2.4.3\n",
      "\u001b[36malgo-1-47a8i_1  |\u001b[0m 2020-09-02 12:10:13,128 sagemaker-training-toolkit INFO     No GPUs detected (normal if no gpus installed)\n",
      "\u001b[36malgo-1-47a8i_1  |\u001b[0m 2020-09-02 12:10:13,148 sagemaker-training-toolkit INFO     No GPUs detected (normal if no gpus installed)\n",
      "\u001b[36malgo-1-47a8i_1  |\u001b[0m 2020-09-02 12:10:13,168 sagemaker-training-toolkit INFO     No GPUs detected (normal if no gpus installed)\n",
      "\u001b[36malgo-1-47a8i_1  |\u001b[0m 2020-09-02 12:10:13,181 sagemaker-training-toolkit INFO     Invoking user script\n",
      "\u001b[36malgo-1-47a8i_1  |\u001b[0m \n",
      "\u001b[36malgo-1-47a8i_1  |\u001b[0m Training Env:\n",
      "\u001b[36malgo-1-47a8i_1  |\u001b[0m \n",
      "\u001b[36malgo-1-47a8i_1  |\u001b[0m {\n",
      "\u001b[36malgo-1-47a8i_1  |\u001b[0m     \"additional_framework_parameters\": {},\n",
      "\u001b[36malgo-1-47a8i_1  |\u001b[0m     \"channel_input_dirs\": {},\n",
      "\u001b[36malgo-1-47a8i_1  |\u001b[0m     \"current_host\": \"algo-1-47a8i\",\n",
      "\u001b[36malgo-1-47a8i_1  |\u001b[0m     \"framework_module\": \"sagemaker_tensorflow_container.training:main\",\n",
      "\u001b[36malgo-1-47a8i_1  |\u001b[0m     \"hosts\": [\n",
      "\u001b[36malgo-1-47a8i_1  |\u001b[0m         \"algo-1-47a8i\"\n",
      "\u001b[36malgo-1-47a8i_1  |\u001b[0m     ],\n",
      "\u001b[36malgo-1-47a8i_1  |\u001b[0m     \"hyperparameters\": {\n",
      "\u001b[36malgo-1-47a8i_1  |\u001b[0m         \"model_dir\": \"s3://virtual-regatta/navigation-boat-ml/output/boat-ml-keras-2020-09-02-12-09-59-832/model\"\n",
      "\u001b[36malgo-1-47a8i_1  |\u001b[0m     },\n",
      "\u001b[36malgo-1-47a8i_1  |\u001b[0m     \"input_config_dir\": \"/opt/ml/input/config\",\n",
      "\u001b[36malgo-1-47a8i_1  |\u001b[0m     \"input_data_config\": {},\n",
      "\u001b[36malgo-1-47a8i_1  |\u001b[0m     \"input_dir\": \"/opt/ml/input\",\n",
      "\u001b[36malgo-1-47a8i_1  |\u001b[0m     \"is_master\": true,\n",
      "\u001b[36malgo-1-47a8i_1  |\u001b[0m     \"job_name\": \"boat-ml-keras-2020-09-02-12-09-59-832\",\n",
      "\u001b[36malgo-1-47a8i_1  |\u001b[0m     \"log_level\": 20,\n",
      "\u001b[36malgo-1-47a8i_1  |\u001b[0m     \"master_hostname\": \"algo-1-47a8i\",\n",
      "\u001b[36malgo-1-47a8i_1  |\u001b[0m     \"model_dir\": \"/opt/ml/model\",\n",
      "\u001b[36malgo-1-47a8i_1  |\u001b[0m     \"module_dir\": \"s3://virtual-regatta/boat-ml-keras-2020-09-02-12-09-59-832/source/sourcedir.tar.gz\",\n",
      "\u001b[36malgo-1-47a8i_1  |\u001b[0m     \"module_name\": \"train\",\n",
      "\u001b[36malgo-1-47a8i_1  |\u001b[0m     \"network_interface_name\": \"eth0\",\n",
      "\u001b[36malgo-1-47a8i_1  |\u001b[0m     \"num_cpus\": 2,\n",
      "\u001b[36malgo-1-47a8i_1  |\u001b[0m     \"num_gpus\": 0,\n",
      "\u001b[36malgo-1-47a8i_1  |\u001b[0m     \"output_data_dir\": \"/opt/ml/output/data\",\n",
      "\u001b[36malgo-1-47a8i_1  |\u001b[0m     \"output_dir\": \"/opt/ml/output\",\n",
      "\u001b[36malgo-1-47a8i_1  |\u001b[0m     \"output_intermediate_dir\": \"/opt/ml/output/intermediate\",\n",
      "\u001b[36malgo-1-47a8i_1  |\u001b[0m     \"resource_config\": {\n",
      "\u001b[36malgo-1-47a8i_1  |\u001b[0m         \"current_host\": \"algo-1-47a8i\",\n",
      "\u001b[36malgo-1-47a8i_1  |\u001b[0m         \"hosts\": [\n",
      "\u001b[36malgo-1-47a8i_1  |\u001b[0m             \"algo-1-47a8i\"\n",
      "\u001b[36malgo-1-47a8i_1  |\u001b[0m         ]\n",
      "\u001b[36malgo-1-47a8i_1  |\u001b[0m     },\n",
      "\u001b[36malgo-1-47a8i_1  |\u001b[0m     \"user_entry_point\": \"train.py\"\n",
      "\u001b[36malgo-1-47a8i_1  |\u001b[0m }\n",
      "\u001b[36malgo-1-47a8i_1  |\u001b[0m \n",
      "\u001b[36malgo-1-47a8i_1  |\u001b[0m Environment variables:\n",
      "\u001b[36malgo-1-47a8i_1  |\u001b[0m \n",
      "\u001b[36malgo-1-47a8i_1  |\u001b[0m SM_HOSTS=[\"algo-1-47a8i\"]\n",
      "\u001b[36malgo-1-47a8i_1  |\u001b[0m SM_NETWORK_INTERFACE_NAME=eth0\n",
      "\u001b[36malgo-1-47a8i_1  |\u001b[0m SM_HPS={\"model_dir\":\"s3://virtual-regatta/navigation-boat-ml/output/boat-ml-keras-2020-09-02-12-09-59-832/model\"}\n",
      "\u001b[36malgo-1-47a8i_1  |\u001b[0m SM_USER_ENTRY_POINT=train.py\n",
      "\u001b[36malgo-1-47a8i_1  |\u001b[0m SM_FRAMEWORK_PARAMS={}\n",
      "\u001b[36malgo-1-47a8i_1  |\u001b[0m SM_RESOURCE_CONFIG={\"current_host\":\"algo-1-47a8i\",\"hosts\":[\"algo-1-47a8i\"]}\n",
      "\u001b[36malgo-1-47a8i_1  |\u001b[0m SM_INPUT_DATA_CONFIG={}\n",
      "\u001b[36malgo-1-47a8i_1  |\u001b[0m SM_OUTPUT_DATA_DIR=/opt/ml/output/data\n",
      "\u001b[36malgo-1-47a8i_1  |\u001b[0m SM_CHANNELS=[]\n",
      "\u001b[36malgo-1-47a8i_1  |\u001b[0m SM_CURRENT_HOST=algo-1-47a8i\n",
      "\u001b[36malgo-1-47a8i_1  |\u001b[0m SM_MODULE_NAME=train\n",
      "\u001b[36malgo-1-47a8i_1  |\u001b[0m SM_LOG_LEVEL=20\n",
      "\u001b[36malgo-1-47a8i_1  |\u001b[0m SM_FRAMEWORK_MODULE=sagemaker_tensorflow_container.training:main\n",
      "\u001b[36malgo-1-47a8i_1  |\u001b[0m SM_INPUT_DIR=/opt/ml/input\n",
      "\u001b[36malgo-1-47a8i_1  |\u001b[0m SM_INPUT_CONFIG_DIR=/opt/ml/input/config\n",
      "\u001b[36malgo-1-47a8i_1  |\u001b[0m SM_OUTPUT_DIR=/opt/ml/output\n",
      "\u001b[36malgo-1-47a8i_1  |\u001b[0m SM_NUM_CPUS=2\n",
      "\u001b[36malgo-1-47a8i_1  |\u001b[0m SM_NUM_GPUS=0\n",
      "\u001b[36malgo-1-47a8i_1  |\u001b[0m SM_MODEL_DIR=/opt/ml/model\n",
      "\u001b[36malgo-1-47a8i_1  |\u001b[0m SM_MODULE_DIR=s3://virtual-regatta/boat-ml-keras-2020-09-02-12-09-59-832/source/sourcedir.tar.gz\n",
      "\u001b[36malgo-1-47a8i_1  |\u001b[0m SM_TRAINING_ENV={\"additional_framework_parameters\":{},\"channel_input_dirs\":{},\"current_host\":\"algo-1-47a8i\",\"framework_module\":\"sagemaker_tensorflow_container.training:main\",\"hosts\":[\"algo-1-47a8i\"],\"hyperparameters\":{\"model_dir\":\"s3://virtual-regatta/navigation-boat-ml/output/boat-ml-keras-2020-09-02-12-09-59-832/model\"},\"input_config_dir\":\"/opt/ml/input/config\",\"input_data_config\":{},\"input_dir\":\"/opt/ml/input\",\"is_master\":true,\"job_name\":\"boat-ml-keras-2020-09-02-12-09-59-832\",\"log_level\":20,\"master_hostname\":\"algo-1-47a8i\",\"model_dir\":\"/opt/ml/model\",\"module_dir\":\"s3://virtual-regatta/boat-ml-keras-2020-09-02-12-09-59-832/source/sourcedir.tar.gz\",\"module_name\":\"train\",\"network_interface_name\":\"eth0\",\"num_cpus\":2,\"num_gpus\":0,\"output_data_dir\":\"/opt/ml/output/data\",\"output_dir\":\"/opt/ml/output\",\"output_intermediate_dir\":\"/opt/ml/output/intermediate\",\"resource_config\":{\"current_host\":\"algo-1-47a8i\",\"hosts\":[\"algo-1-47a8i\"]},\"user_entry_point\":\"train.py\"}\n",
      "\u001b[36malgo-1-47a8i_1  |\u001b[0m SM_USER_ARGS=[\"--model_dir\",\"s3://virtual-regatta/navigation-boat-ml/output/boat-ml-keras-2020-09-02-12-09-59-832/model\"]\n",
      "\u001b[36malgo-1-47a8i_1  |\u001b[0m SM_OUTPUT_INTERMEDIATE_DIR=/opt/ml/output/intermediate\n",
      "\u001b[36malgo-1-47a8i_1  |\u001b[0m SM_HP_MODEL_DIR=s3://virtual-regatta/navigation-boat-ml/output/boat-ml-keras-2020-09-02-12-09-59-832/model\n",
      "\u001b[36malgo-1-47a8i_1  |\u001b[0m PYTHONPATH=/opt/ml/code:/usr/local/bin:/usr/local/lib/python37.zip:/usr/local/lib/python3.7:/usr/local/lib/python3.7/lib-dynload:/usr/local/lib/python3.7/site-packages\n",
      "\u001b[36malgo-1-47a8i_1  |\u001b[0m \n",
      "\u001b[36malgo-1-47a8i_1  |\u001b[0m Invoking script with the following command:\n",
      "\u001b[36malgo-1-47a8i_1  |\u001b[0m \n",
      "\u001b[36malgo-1-47a8i_1  |\u001b[0m /usr/local/bin/python3.7 train.py --model_dir s3://virtual-regatta/navigation-boat-ml/output/boat-ml-keras-2020-09-02-12-09-59-832/model\n",
      "\u001b[36malgo-1-47a8i_1  |\u001b[0m \n",
      "\u001b[36malgo-1-47a8i_1  |\u001b[0m \n",
      "\u001b[36malgo-1-47a8i_1  |\u001b[0m Epoch 1/100\n",
      "2/2 [==============================] - 0s 119ms/step - loss: 0.9399 - mse: 0.9399 - val_loss: 0.6021 - val_mse: 0.6021\n",
      "\u001b[36malgo-1-47a8i_1  |\u001b[0m Epoch 2/100\n",
      "2/2 [==============================] - 0s 16ms/step - loss: 0.6930 - mse: 0.6930 - val_loss: 0.3809 - val_mse: 0.3809\n",
      "\u001b[36malgo-1-47a8i_1  |\u001b[0m Epoch 3/100\n",
      "2/2 [==============================] - 0s 18ms/step - loss: 0.4759 - mse: 0.4759 - val_loss: 0.1885 - val_mse: 0.1885\n",
      "\u001b[36malgo-1-47a8i_1  |\u001b[0m Epoch 4/100\n"
     ]
    },
    {
     "name": "stdout",
     "output_type": "stream",
     "text": [
      "2/2 [==============================] - 0s 61ms/step - loss: 0.2588 - mse: 0.2588 - val_loss: 0.0450 - val_mse: 0.0450\n",
      "\u001b[36malgo-1-47a8i_1  |\u001b[0m Epoch 5/100\n",
      "2/2 [==============================] - 0s 16ms/step - loss: 0.0841 - mse: 0.0841 - val_loss: 0.0157 - val_mse: 0.0157\n",
      "\u001b[36malgo-1-47a8i_1  |\u001b[0m Epoch 6/100\n",
      "2/2 [==============================] - 0s 16ms/step - loss: 0.0146 - mse: 0.0146 - val_loss: 0.1104 - val_mse: 0.1104\n",
      "\u001b[36malgo-1-47a8i_1  |\u001b[0m Epoch 7/100\n",
      "2/2 [==============================] - 0s 16ms/step - loss: 0.0596 - mse: 0.0596 - val_loss: 0.1423 - val_mse: 0.1423\n",
      "\u001b[36malgo-1-47a8i_1  |\u001b[0m Epoch 8/100\n",
      "2/2 [==============================] - 0s 16ms/step - loss: 0.1005 - mse: 0.1005 - val_loss: 0.0733 - val_mse: 0.0733\n",
      "\u001b[36malgo-1-47a8i_1  |\u001b[0m Epoch 9/100\n",
      "2/2 [==============================] - 0s 16ms/step - loss: 0.0581 - mse: 0.0581 - val_loss: 0.0092 - val_mse: 0.0092\n",
      "\u001b[36malgo-1-47a8i_1  |\u001b[0m Epoch 10/100\n",
      "2/2 [==============================] - 0s 16ms/step - loss: 0.0113 - mse: 0.0113 - val_loss: 0.0129 - val_mse: 0.0129\n",
      "\u001b[36malgo-1-47a8i_1  |\u001b[0m Epoch 11/100\n",
      "2/2 [==============================] - 0s 16ms/step - loss: 0.0161 - mse: 0.0161 - val_loss: 0.0207 - val_mse: 0.0207\n",
      "\u001b[36malgo-1-47a8i_1  |\u001b[0m Epoch 12/100\n",
      "2/2 [==============================] - 0s 16ms/step - loss: 0.0190 - mse: 0.0190 - val_loss: 0.0090 - val_mse: 0.0090\n",
      "\u001b[36malgo-1-47a8i_1  |\u001b[0m Epoch 13/100\n",
      "2/2 [==============================] - 0s 20ms/step - loss: 0.0105 - mse: 0.0105 - val_loss: 0.0034 - val_mse: 0.0034\n",
      "\u001b[36malgo-1-47a8i_1  |\u001b[0m Epoch 14/100\n",
      "2/2 [==============================] - 0s 16ms/step - loss: 0.0047 - mse: 0.0047 - val_loss: 0.0124 - val_mse: 0.0124\n",
      "\u001b[36malgo-1-47a8i_1  |\u001b[0m Epoch 15/100\n",
      "2/2 [==============================] - 0s 16ms/step - loss: 0.0078 - mse: 0.0078 - val_loss: 0.0231 - val_mse: 0.0231\n",
      "\u001b[36malgo-1-47a8i_1  |\u001b[0m Epoch 16/100\n",
      "2/2 [==============================] - 0s 16ms/step - loss: 0.0125 - mse: 0.0125 - val_loss: 0.0199 - val_mse: 0.0199\n",
      "\u001b[36malgo-1-47a8i_1  |\u001b[0m Epoch 17/100\n",
      "2/2 [==============================] - 0s 16ms/step - loss: 0.0082 - mse: 0.0082 - val_loss: 0.0091 - val_mse: 0.0091\n",
      "\u001b[36malgo-1-47a8i_1  |\u001b[0m Epoch 18/100\n",
      "2/2 [==============================] - 0s 16ms/step - loss: 0.0016 - mse: 0.0016 - val_loss: 0.0023 - val_mse: 0.0023\n",
      "\u001b[36malgo-1-47a8i_1  |\u001b[0m Epoch 19/100\n",
      "2/2 [==============================] - 0s 16ms/step - loss: 0.0015 - mse: 0.0015 - val_loss: 8.7725e-04 - val_mse: 8.7725e-04\n",
      "\u001b[36malgo-1-47a8i_1  |\u001b[0m Epoch 20/100\n",
      "2/2 [==============================] - 0s 16ms/step - loss: 0.0043 - mse: 0.0043 - val_loss: 9.2149e-04 - val_mse: 9.2149e-04\n",
      "\u001b[36malgo-1-47a8i_1  |\u001b[0m Epoch 21/100\n",
      "2/2 [==============================] - 0s 16ms/step - loss: 0.0059 - mse: 0.0059 - val_loss: 7.2130e-04 - val_mse: 7.2130e-04\n",
      "\u001b[36malgo-1-47a8i_1  |\u001b[0m Epoch 22/100\n",
      "2/2 [==============================] - 0s 16ms/step - loss: 0.0054 - mse: 0.0054 - val_loss: 7.2424e-04 - val_mse: 7.2424e-04\n",
      "\u001b[36malgo-1-47a8i_1  |\u001b[0m Epoch 23/100\n",
      "2/2 [==============================] - 0s 19ms/step - loss: 0.0034 - mse: 0.0034 - val_loss: 0.0020 - val_mse: 0.0020\n",
      "\u001b[36malgo-1-47a8i_1  |\u001b[0m Epoch 24/100\n",
      "2/2 [==============================] - 0s 16ms/step - loss: 0.0017 - mse: 0.0017 - val_loss: 0.0044 - val_mse: 0.0044\n",
      "\u001b[36malgo-1-47a8i_1  |\u001b[0m Epoch 25/100\n",
      "2/2 [==============================] - 0s 16ms/step - loss: 0.0011 - mse: 0.0011 - val_loss: 0.0056 - val_mse: 0.0056\n",
      "\u001b[36malgo-1-47a8i_1  |\u001b[0m Epoch 26/100\n",
      "2/2 [==============================] - 0s 16ms/step - loss: 0.0015 - mse: 0.0015 - val_loss: 0.0053 - val_mse: 0.0053\n",
      "\u001b[36malgo-1-47a8i_1  |\u001b[0m Epoch 27/100\n",
      "2/2 [==============================] - 0s 16ms/step - loss: 0.0017 - mse: 0.0017 - val_loss: 0.0035 - val_mse: 0.0035\n",
      "\u001b[36malgo-1-47a8i_1  |\u001b[0m Epoch 28/100\n",
      "2/2 [==============================] - 0s 16ms/step - loss: 0.0012 - mse: 0.0012 - val_loss: 0.0014 - val_mse: 0.0014\n",
      "\u001b[36malgo-1-47a8i_1  |\u001b[0m Epoch 29/100\n",
      "2/2 [==============================] - 0s 16ms/step - loss: 4.9379e-04 - mse: 4.9379e-04 - val_loss: 2.8565e-04 - val_mse: 2.8565e-04\n",
      "\u001b[36malgo-1-47a8i_1  |\u001b[0m Epoch 30/100\n",
      "2/2 [==============================] - 0s 17ms/step - loss: 3.0366e-04 - mse: 3.0366e-04 - val_loss: 5.4290e-05 - val_mse: 5.4290e-05\n",
      "\u001b[36malgo-1-47a8i_1  |\u001b[0m Epoch 31/100\n",
      "2/2 [==============================] - 0s 16ms/step - loss: 5.2904e-04 - mse: 5.2904e-04 - val_loss: 1.0170e-04 - val_mse: 1.0170e-04\n",
      "\u001b[36malgo-1-47a8i_1  |\u001b[0m Epoch 32/100\n",
      "2/2 [==============================] - 0s 19ms/step - loss: 6.5414e-04 - mse: 6.5414e-04 - val_loss: 8.6123e-05 - val_mse: 8.6123e-05\n",
      "\u001b[36malgo-1-47a8i_1  |\u001b[0m Epoch 33/100\n",
      "2/2 [==============================] - 0s 16ms/step - loss: 5.3501e-04 - mse: 5.3501e-04 - val_loss: 1.0952e-04 - val_mse: 1.0952e-04\n",
      "\u001b[36malgo-1-47a8i_1  |\u001b[0m Epoch 34/100\n",
      "2/2 [==============================] - 0s 16ms/step - loss: 3.5619e-04 - mse: 3.5619e-04 - val_loss: 2.8985e-04 - val_mse: 2.8985e-04\n",
      "\u001b[36malgo-1-47a8i_1  |\u001b[0m Epoch 35/100\n",
      "2/2 [==============================] - 0s 17ms/step - loss: 2.5828e-04 - mse: 2.5828e-04 - val_loss: 7.4169e-04 - val_mse: 7.4169e-04\n",
      "\u001b[36malgo-1-47a8i_1  |\u001b[0m Epoch 36/100\n",
      "2/2 [==============================] - 0s 16ms/step - loss: 3.3054e-04 - mse: 3.3054e-04 - val_loss: 0.0013 - val_mse: 0.0013\n",
      "\u001b[36malgo-1-47a8i_1  |\u001b[0m Epoch 37/100\n",
      "2/2 [==============================] - 0s 16ms/step - loss: 3.9228e-04 - mse: 3.9228e-04 - val_loss: 0.0014 - val_mse: 0.0014\n",
      "\u001b[36malgo-1-47a8i_1  |\u001b[0m Epoch 38/100\n",
      "2/2 [==============================] - 0s 15ms/step - loss: 3.1720e-04 - mse: 3.1720e-04 - val_loss: 0.0010 - val_mse: 0.0010\n",
      "\u001b[36malgo-1-47a8i_1  |\u001b[0m Epoch 39/100\n",
      "2/2 [==============================] - 0s 16ms/step - loss: 2.4121e-04 - mse: 2.4121e-04 - val_loss: 7.1029e-04 - val_mse: 7.1029e-04\n",
      "\u001b[36malgo-1-47a8i_1  |\u001b[0m Epoch 40/100\n",
      "2/2 [==============================] - 0s 17ms/step - loss: 2.9381e-04 - mse: 2.9381e-04 - val_loss: 6.1649e-04 - val_mse: 6.1649e-04\n",
      "\u001b[36malgo-1-47a8i_1  |\u001b[0m Epoch 41/100\n",
      "2/2 [==============================] - 0s 16ms/step - loss: 3.1734e-04 - mse: 3.1734e-04 - val_loss: 7.3055e-04 - val_mse: 7.3055e-04\n",
      "\u001b[36malgo-1-47a8i_1  |\u001b[0m Epoch 42/100\n",
      "2/2 [==============================] - 0s 19ms/step - loss: 2.5977e-04 - mse: 2.5977e-04 - val_loss: 9.4533e-04 - val_mse: 9.4533e-04\n",
      "\u001b[36malgo-1-47a8i_1  |\u001b[0m Epoch 43/100\n",
      "2/2 [==============================] - 0s 16ms/step - loss: 2.2134e-04 - mse: 2.2134e-04 - val_loss: 0.0012 - val_mse: 0.0012\n",
      "\u001b[36malgo-1-47a8i_1  |\u001b[0m Epoch 44/100\n",
      "2/2 [==============================] - 0s 16ms/step - loss: 2.1761e-04 - mse: 2.1761e-04 - val_loss: 0.0014 - val_mse: 0.0014\n",
      "\u001b[36malgo-1-47a8i_1  |\u001b[0m Epoch 45/100\n",
      "2/2 [==============================] - 0s 16ms/step - loss: 2.4106e-04 - mse: 2.4106e-04 - val_loss: 0.0014 - val_mse: 0.0014\n",
      "\u001b[36malgo-1-47a8i_1  |\u001b[0m Epoch 46/100\n",
      "2/2 [==============================] - 0s 15ms/step - loss: 2.5629e-04 - mse: 2.5629e-04 - val_loss: 0.0013 - val_mse: 0.0013\n",
      "\u001b[36malgo-1-47a8i_1  |\u001b[0m Epoch 47/100\n",
      "2/2 [==============================] - 0s 16ms/step - loss: 2.4280e-04 - mse: 2.4280e-04 - val_loss: 9.7367e-04 - val_mse: 9.7367e-04\n",
      "\u001b[36malgo-1-47a8i_1  |\u001b[0m Epoch 48/100\n",
      "2/2 [==============================] - 0s 16ms/step - loss: 2.1307e-04 - mse: 2.1307e-04 - val_loss: 5.5483e-04 - val_mse: 5.5483e-04\n",
      "\u001b[36malgo-1-47a8i_1  |\u001b[0m Epoch 49/100\n",
      "2/2 [==============================] - 0s 16ms/step - loss: 2.5871e-04 - mse: 2.5871e-04 - val_loss: 3.9390e-04 - val_mse: 3.9390e-04\n",
      "\u001b[36malgo-1-47a8i_1  |\u001b[0m Epoch 50/100\n",
      "2/2 [==============================] - 0s 16ms/step - loss: 3.2559e-04 - mse: 3.2559e-04 - val_loss: 4.2299e-04 - val_mse: 4.2299e-04\n",
      "\u001b[36malgo-1-47a8i_1  |\u001b[0m Epoch 51/100\n",
      "2/2 [==============================] - 0s 16ms/step - loss: 3.1978e-04 - mse: 3.1978e-04 - val_loss: 6.0884e-04 - val_mse: 6.0884e-04\n",
      "\u001b[36malgo-1-47a8i_1  |\u001b[0m Epoch 52/100\n",
      "2/2 [==============================] - 0s 19ms/step - loss: 2.4911e-04 - mse: 2.4911e-04 - val_loss: 9.5618e-04 - val_mse: 9.5618e-04\n",
      "\u001b[36malgo-1-47a8i_1  |\u001b[0m Epoch 53/100\n",
      "2/2 [==============================] - 0s 16ms/step - loss: 1.9458e-04 - mse: 1.9458e-04 - val_loss: 0.0014 - val_mse: 0.0014\n",
      "\u001b[36malgo-1-47a8i_1  |\u001b[0m Epoch 54/100\n",
      "2/2 [==============================] - 0s 16ms/step - loss: 1.8655e-04 - mse: 1.8655e-04 - val_loss: 0.0017 - val_mse: 0.0017\n",
      "\u001b[36malgo-1-47a8i_1  |\u001b[0m Epoch 55/100\n",
      "2/2 [==============================] - 0s 16ms/step - loss: 2.0231e-04 - mse: 2.0231e-04 - val_loss: 0.0017 - val_mse: 0.0017\n",
      "\u001b[36malgo-1-47a8i_1  |\u001b[0m Epoch 56/100\n",
      "2/2 [==============================] - 0s 16ms/step - loss: 1.9207e-04 - mse: 1.9207e-04 - val_loss: 0.0013 - val_mse: 0.0013\n",
      "\u001b[36malgo-1-47a8i_1  |\u001b[0m Epoch 57/100\n",
      "2/2 [==============================] - 0s 17ms/step - loss: 1.8237e-04 - mse: 1.8237e-04 - val_loss: 8.3758e-04 - val_mse: 8.3758e-04\n",
      "\u001b[36malgo-1-47a8i_1  |\u001b[0m Epoch 58/100\n"
     ]
    },
    {
     "name": "stdout",
     "output_type": "stream",
     "text": [
      "2/2 [==============================] - 0s 17ms/step - loss: 2.3465e-04 - mse: 2.3465e-04 - val_loss: 6.5374e-04 - val_mse: 6.5374e-04\n",
      "\u001b[36malgo-1-47a8i_1  |\u001b[0m Epoch 59/100\n",
      "2/2 [==============================] - 0s 17ms/step - loss: 2.7859e-04 - mse: 2.7859e-04 - val_loss: 6.7113e-04 - val_mse: 6.7113e-04\n",
      "\u001b[36malgo-1-47a8i_1  |\u001b[0m Epoch 60/100\n",
      "2/2 [==============================] - 0s 17ms/step - loss: 2.5074e-04 - mse: 2.5074e-04 - val_loss: 8.6278e-04 - val_mse: 8.6278e-04\n",
      "\u001b[36malgo-1-47a8i_1  |\u001b[0m Epoch 61/100\n",
      "2/2 [==============================] - 0s 20ms/step - loss: 1.8766e-04 - mse: 1.8766e-04 - val_loss: 0.0012 - val_mse: 0.0012\n",
      "\u001b[36malgo-1-47a8i_1  |\u001b[0m Epoch 62/100\n",
      "2/2 [==============================] - 0s 17ms/step - loss: 1.6032e-04 - mse: 1.6032e-04 - val_loss: 0.0014 - val_mse: 0.0014\n",
      "\u001b[36malgo-1-47a8i_1  |\u001b[0m Epoch 63/100\n",
      "2/2 [==============================] - 0s 16ms/step - loss: 1.8022e-04 - mse: 1.8022e-04 - val_loss: 0.0015 - val_mse: 0.0015\n",
      "\u001b[36malgo-1-47a8i_1  |\u001b[0m Epoch 64/100\n",
      "2/2 [==============================] - 0s 16ms/step - loss: 1.9864e-04 - mse: 1.9864e-04 - val_loss: 0.0013 - val_mse: 0.0013\n",
      "\u001b[36malgo-1-47a8i_1  |\u001b[0m Epoch 65/100\n",
      "2/2 [==============================] - 0s 16ms/step - loss: 1.5744e-04 - mse: 1.5744e-04 - val_loss: 6.7763e-04 - val_mse: 6.7763e-04\n",
      "\u001b[36malgo-1-47a8i_1  |\u001b[0m Epoch 66/100\n",
      "2/2 [==============================] - 0s 16ms/step - loss: 1.6849e-04 - mse: 1.6849e-04 - val_loss: 2.0491e-04 - val_mse: 2.0491e-04\n",
      "\u001b[36malgo-1-47a8i_1  |\u001b[0m Epoch 67/100\n",
      "2/2 [==============================] - 0s 17ms/step - loss: 3.9705e-04 - mse: 3.9705e-04 - val_loss: 1.0917e-04 - val_mse: 1.0917e-04\n",
      "\u001b[36malgo-1-47a8i_1  |\u001b[0m Epoch 68/100\n",
      "2/2 [==============================] - 0s 16ms/step - loss: 5.2716e-04 - mse: 5.2716e-04 - val_loss: 2.0119e-04 - val_mse: 2.0119e-04\n",
      "\u001b[36malgo-1-47a8i_1  |\u001b[0m Epoch 69/100\n",
      "2/2 [==============================] - 0s 17ms/step - loss: 3.5425e-04 - mse: 3.5425e-04 - val_loss: 7.7705e-04 - val_mse: 7.7705e-04\n",
      "\u001b[36malgo-1-47a8i_1  |\u001b[0m Epoch 70/100\n",
      "2/2 [==============================] - 0s 16ms/step - loss: 1.4647e-04 - mse: 1.4647e-04 - val_loss: 0.0021 - val_mse: 0.0021\n",
      "\u001b[36malgo-1-47a8i_1  |\u001b[0m Epoch 71/100\n",
      "2/2 [==============================] - 0s 19ms/step - loss: 5.3025e-04 - mse: 5.3025e-04 - val_loss: 0.0020 - val_mse: 0.0020\n",
      "\u001b[36malgo-1-47a8i_1  |\u001b[0m Epoch 72/100\n",
      "2/2 [==============================] - 0s 16ms/step - loss: 6.2424e-04 - mse: 6.2424e-04 - val_loss: 6.8680e-04 - val_mse: 6.8680e-04\n",
      "\u001b[36malgo-1-47a8i_1  |\u001b[0m Epoch 73/100\n",
      "2/2 [==============================] - 0s 16ms/step - loss: 3.2730e-04 - mse: 3.2730e-04 - val_loss: 7.6994e-05 - val_mse: 7.6994e-05\n",
      "\u001b[36malgo-1-47a8i_1  |\u001b[0m Epoch 74/100\n",
      "2/2 [==============================] - 0s 16ms/step - loss: 2.6319e-04 - mse: 2.6319e-04 - val_loss: 3.5728e-05 - val_mse: 3.5728e-05\n",
      "\u001b[36malgo-1-47a8i_1  |\u001b[0m Epoch 75/100\n",
      "2/2 [==============================] - 0s 17ms/step - loss: 4.8795e-04 - mse: 4.8795e-04 - val_loss: 1.5109e-04 - val_mse: 1.5109e-04\n",
      "\u001b[36malgo-1-47a8i_1  |\u001b[0m Epoch 76/100\n",
      "2/2 [==============================] - 0s 17ms/step - loss: 7.0542e-04 - mse: 7.0542e-04 - val_loss: 7.5404e-05 - val_mse: 7.5404e-05\n",
      "\u001b[36malgo-1-47a8i_1  |\u001b[0m Epoch 77/100\n",
      "2/2 [==============================] - 0s 17ms/step - loss: 5.7797e-04 - mse: 5.7797e-04 - val_loss: 3.5801e-05 - val_mse: 3.5801e-05\n",
      "\u001b[36malgo-1-47a8i_1  |\u001b[0m Epoch 78/100\n",
      "2/2 [==============================] - 0s 16ms/step - loss: 2.7245e-04 - mse: 2.7245e-04 - val_loss: 5.6873e-04 - val_mse: 5.6873e-04\n",
      "\u001b[36malgo-1-47a8i_1  |\u001b[0m Epoch 79/100\n",
      "2/2 [==============================] - 0s 16ms/step - loss: 2.0849e-04 - mse: 2.0849e-04 - val_loss: 0.0014 - val_mse: 0.0014\n",
      "\u001b[36malgo-1-47a8i_1  |\u001b[0m Epoch 80/100\n",
      "2/2 [==============================] - 0s 20ms/step - loss: 3.9960e-04 - mse: 3.9960e-04 - val_loss: 0.0016 - val_mse: 0.0016\n",
      "\u001b[36malgo-1-47a8i_1  |\u001b[0m Epoch 81/100\n",
      "2/2 [==============================] - 0s 16ms/step - loss: 3.8584e-04 - mse: 3.8584e-04 - val_loss: 0.0011 - val_mse: 0.0011\n",
      "\u001b[36malgo-1-47a8i_1  |\u001b[0m Epoch 82/100\n",
      "2/2 [==============================] - 0s 17ms/step - loss: 1.8180e-04 - mse: 1.8180e-04 - val_loss: 5.2641e-04 - val_mse: 5.2641e-04\n",
      "\u001b[36malgo-1-47a8i_1  |\u001b[0m Epoch 83/100\n",
      "2/2 [==============================] - 0s 17ms/step - loss: 1.5099e-04 - mse: 1.5099e-04 - val_loss: 2.8646e-04 - val_mse: 2.8646e-04\n",
      "\u001b[36malgo-1-47a8i_1  |\u001b[0m Epoch 84/100\n",
      "2/2 [==============================] - 0s 17ms/step - loss: 1.9203e-04 - mse: 1.9203e-04 - val_loss: 3.4248e-04 - val_mse: 3.4248e-04\n",
      "\u001b[36malgo-1-47a8i_1  |\u001b[0m Epoch 85/100\n",
      "2/2 [==============================] - 0s 16ms/step - loss: 1.4633e-04 - mse: 1.4633e-04 - val_loss: 6.8158e-04 - val_mse: 6.8158e-04\n",
      "\u001b[36malgo-1-47a8i_1  |\u001b[0m Epoch 86/100\n",
      "2/2 [==============================] - 0s 18ms/step - loss: 1.1819e-04 - mse: 1.1819e-04 - val_loss: 0.0012 - val_mse: 0.0012\n",
      "\u001b[36malgo-1-47a8i_1  |\u001b[0m Epoch 87/100\n",
      "2/2 [==============================] - 0s 17ms/step - loss: 1.7452e-04 - mse: 1.7452e-04 - val_loss: 0.0013 - val_mse: 0.0013\n",
      "\u001b[36malgo-1-47a8i_1  |\u001b[0m Epoch 88/100\n",
      "2/2 [==============================] - 0s 17ms/step - loss: 1.6847e-04 - mse: 1.6847e-04 - val_loss: 0.0010 - val_mse: 0.0010\n",
      "\u001b[36malgo-1-47a8i_1  |\u001b[0m Epoch 89/100\n",
      "2/2 [==============================] - 0s 17ms/step - loss: 1.1834e-04 - mse: 1.1834e-04 - val_loss: 7.4940e-04 - val_mse: 7.4940e-04\n",
      "\u001b[36malgo-1-47a8i_1  |\u001b[0m Epoch 90/100\n",
      "2/2 [==============================] - 0s 21ms/step - loss: 1.4814e-04 - mse: 1.4814e-04 - val_loss: 8.1390e-04 - val_mse: 8.1390e-04\n",
      "\u001b[36malgo-1-47a8i_1  |\u001b[0m Epoch 91/100\n",
      "2/2 [==============================] - 0s 16ms/step - loss: 1.2368e-04 - mse: 1.2368e-04 - val_loss: 0.0011 - val_mse: 0.0011\n",
      "\u001b[36malgo-1-47a8i_1  |\u001b[0m Epoch 92/100\n",
      "2/2 [==============================] - 0s 17ms/step - loss: 1.4325e-04 - mse: 1.4325e-04 - val_loss: 9.3637e-04 - val_mse: 9.3637e-04\n",
      "\u001b[36malgo-1-47a8i_1  |\u001b[0m Epoch 93/100\n",
      "2/2 [==============================] - 0s 17ms/step - loss: 1.1559e-04 - mse: 1.1559e-04 - val_loss: 5.1630e-04 - val_mse: 5.1630e-04\n",
      "\u001b[36malgo-1-47a8i_1  |\u001b[0m Epoch 94/100\n",
      "2/2 [==============================] - 0s 18ms/step - loss: 1.3360e-04 - mse: 1.3360e-04 - val_loss: 3.4012e-04 - val_mse: 3.4012e-04\n",
      "\u001b[36malgo-1-47a8i_1  |\u001b[0m Epoch 95/100\n",
      "2/2 [==============================] - 0s 17ms/step - loss: 1.8892e-04 - mse: 1.8892e-04 - val_loss: 3.5240e-04 - val_mse: 3.5240e-04\n",
      "\u001b[36malgo-1-47a8i_1  |\u001b[0m Epoch 96/100\n",
      "2/2 [==============================] - 0s 16ms/step - loss: 1.7815e-04 - mse: 1.7815e-04 - val_loss: 5.1420e-04 - val_mse: 5.1420e-04\n",
      "\u001b[36malgo-1-47a8i_1  |\u001b[0m Epoch 97/100\n",
      "2/2 [==============================] - 0s 16ms/step - loss: 1.2379e-04 - mse: 1.2379e-04 - val_loss: 7.5514e-04 - val_mse: 7.5514e-04\n",
      "\u001b[36malgo-1-47a8i_1  |\u001b[0m Epoch 98/100\n",
      "2/2 [==============================] - 0s 16ms/step - loss: 1.0058e-04 - mse: 1.0058e-04 - val_loss: 9.6220e-04 - val_mse: 9.6220e-04\n",
      "\u001b[36malgo-1-47a8i_1  |\u001b[0m Epoch 99/100\n",
      "2/2 [==============================] - 0s 17ms/step - loss: 1.1341e-04 - mse: 1.1341e-04 - val_loss: 9.7099e-04 - val_mse: 9.7099e-04\n",
      "\u001b[36malgo-1-47a8i_1  |\u001b[0m Epoch 100/100\n",
      "2/2 [==============================] - 0s 21ms/step - loss: 1.1280e-04 - mse: 1.1280e-04 - val_loss: 7.5503e-04 - val_mse: 7.5503e-04\n",
      "\u001b[36malgo-1-47a8i_1  |\u001b[0m 2020-09-02 12:10:23,877 sagemaker-training-toolkit INFO     Reporting training SUCCESS\n",
      "\u001b[36mtmpqza0fqwz_algo-1-47a8i_1 exited with code 0\n",
      "\u001b[0mAborting on container exit...\n",
      "===== Job Complete =====\n"
     ]
    }
   ],
   "source": [
    "localEstimator = TensorFlow(\n",
    "    role=role,\n",
    "    base_job_name='boat-ml-keras',\n",
    "    train_instance_count=1,\n",
    "    train_instance_type=train_instance_type,\n",
    "    entry_point='train.py',\n",
    "    framework_version='2.2', # TensorFlow's version\n",
    "    py_version='py37',\n",
    "    output_path=s3_output_path,\n",
    "    sagemaker_session=local_sgmk_session,\n",
    "    source_dir='src'\n",
    ")\n",
    "\n",
    "localEstimator.fit()"
   ]
  },
  {
   "cell_type": "markdown",
   "metadata": {},
   "source": [
    "## Train in SageMaker"
   ]
  },
  {
   "cell_type": "code",
   "execution_count": 53,
   "metadata": {},
   "outputs": [
    {
     "ename": "ClientError",
     "evalue": "An error occurred (SignatureDoesNotMatch) when calling the GetCallerIdentity operation: Credential should be scoped to a valid region, not 'eu-west-2'. ",
     "output_type": "error",
     "traceback": [
      "\u001b[0;31m---------------------------------------------------------------------------\u001b[0m",
      "\u001b[0;31mClientError\u001b[0m                               Traceback (most recent call last)",
      "\u001b[0;32m<ipython-input-53-7b5246f72b0d>\u001b[0m in \u001b[0;36m<module>\u001b[0;34m\u001b[0m\n\u001b[1;32m     13\u001b[0m                        base_job_name='boat-ml-keras')\n\u001b[1;32m     14\u001b[0m \u001b[0;34m\u001b[0m\u001b[0m\n\u001b[0;32m---> 15\u001b[0;31m \u001b[0mestimator\u001b[0m\u001b[0;34m.\u001b[0m\u001b[0mfit\u001b[0m\u001b[0;34m(\u001b[0m\u001b[0;34m)\u001b[0m\u001b[0;34m\u001b[0m\u001b[0;34m\u001b[0m\u001b[0m\n\u001b[0m",
      "\u001b[0;32m~/anaconda3/envs/python3/lib/python3.6/site-packages/sagemaker/tensorflow/estimator.py\u001b[0m in \u001b[0;36mfit\u001b[0;34m(self, inputs, wait, logs, job_name, experiment_config, run_tensorboard_locally)\u001b[0m\n\u001b[1;32m    481\u001b[0m                 \u001b[0mtensorboard\u001b[0m\u001b[0;34m.\u001b[0m\u001b[0mjoin\u001b[0m\u001b[0;34m(\u001b[0m\u001b[0;34m)\u001b[0m\u001b[0;34m\u001b[0m\u001b[0;34m\u001b[0m\u001b[0m\n\u001b[1;32m    482\u001b[0m         \u001b[0;32melse\u001b[0m\u001b[0;34m:\u001b[0m\u001b[0;34m\u001b[0m\u001b[0;34m\u001b[0m\u001b[0m\n\u001b[0;32m--> 483\u001b[0;31m             \u001b[0mfit_super\u001b[0m\u001b[0;34m(\u001b[0m\u001b[0;34m)\u001b[0m\u001b[0;34m\u001b[0m\u001b[0;34m\u001b[0m\u001b[0m\n\u001b[0m\u001b[1;32m    484\u001b[0m \u001b[0;34m\u001b[0m\u001b[0m\n\u001b[1;32m    485\u001b[0m     \u001b[0;34m@\u001b[0m\u001b[0mclassmethod\u001b[0m\u001b[0;34m\u001b[0m\u001b[0;34m\u001b[0m\u001b[0m\n",
      "\u001b[0;32m~/anaconda3/envs/python3/lib/python3.6/site-packages/sagemaker/tensorflow/estimator.py\u001b[0m in \u001b[0;36mfit_super\u001b[0;34m()\u001b[0m\n\u001b[1;32m    460\u001b[0m \u001b[0;34m\u001b[0m\u001b[0m\n\u001b[1;32m    461\u001b[0m         \u001b[0;32mdef\u001b[0m \u001b[0mfit_super\u001b[0m\u001b[0;34m(\u001b[0m\u001b[0;34m)\u001b[0m\u001b[0;34m:\u001b[0m\u001b[0;34m\u001b[0m\u001b[0;34m\u001b[0m\u001b[0m\n\u001b[0;32m--> 462\u001b[0;31m             \u001b[0msuper\u001b[0m\u001b[0;34m(\u001b[0m\u001b[0mTensorFlow\u001b[0m\u001b[0;34m,\u001b[0m \u001b[0mself\u001b[0m\u001b[0;34m)\u001b[0m\u001b[0;34m.\u001b[0m\u001b[0mfit\u001b[0m\u001b[0;34m(\u001b[0m\u001b[0minputs\u001b[0m\u001b[0;34m,\u001b[0m \u001b[0mwait\u001b[0m\u001b[0;34m,\u001b[0m \u001b[0mlogs\u001b[0m\u001b[0;34m,\u001b[0m \u001b[0mjob_name\u001b[0m\u001b[0;34m,\u001b[0m \u001b[0mexperiment_config\u001b[0m\u001b[0;34m)\u001b[0m\u001b[0;34m\u001b[0m\u001b[0;34m\u001b[0m\u001b[0m\n\u001b[0m\u001b[1;32m    463\u001b[0m \u001b[0;34m\u001b[0m\u001b[0m\n\u001b[1;32m    464\u001b[0m         \u001b[0;32mif\u001b[0m \u001b[0mrun_tensorboard_locally\u001b[0m \u001b[0;32mand\u001b[0m \u001b[0mwait\u001b[0m \u001b[0;32mis\u001b[0m \u001b[0;32mFalse\u001b[0m\u001b[0;34m:\u001b[0m\u001b[0;34m\u001b[0m\u001b[0;34m\u001b[0m\u001b[0m\n",
      "\u001b[0;32m~/anaconda3/envs/python3/lib/python3.6/site-packages/sagemaker/estimator.py\u001b[0m in \u001b[0;36mfit\u001b[0;34m(self, inputs, wait, logs, job_name, experiment_config)\u001b[0m\n\u001b[1;32m    492\u001b[0m \u001b[0;34m\u001b[0m\u001b[0m\n\u001b[1;32m    493\u001b[0m         \"\"\"\n\u001b[0;32m--> 494\u001b[0;31m         \u001b[0mself\u001b[0m\u001b[0;34m.\u001b[0m\u001b[0m_prepare_for_training\u001b[0m\u001b[0;34m(\u001b[0m\u001b[0mjob_name\u001b[0m\u001b[0;34m=\u001b[0m\u001b[0mjob_name\u001b[0m\u001b[0;34m)\u001b[0m\u001b[0;34m\u001b[0m\u001b[0;34m\u001b[0m\u001b[0m\n\u001b[0m\u001b[1;32m    495\u001b[0m \u001b[0;34m\u001b[0m\u001b[0m\n\u001b[1;32m    496\u001b[0m         \u001b[0mself\u001b[0m\u001b[0;34m.\u001b[0m\u001b[0mlatest_training_job\u001b[0m \u001b[0;34m=\u001b[0m \u001b[0m_TrainingJob\u001b[0m\u001b[0;34m.\u001b[0m\u001b[0mstart_new\u001b[0m\u001b[0;34m(\u001b[0m\u001b[0mself\u001b[0m\u001b[0;34m,\u001b[0m \u001b[0minputs\u001b[0m\u001b[0;34m,\u001b[0m \u001b[0mexperiment_config\u001b[0m\u001b[0;34m)\u001b[0m\u001b[0;34m\u001b[0m\u001b[0;34m\u001b[0m\u001b[0m\n",
      "\u001b[0;32m~/anaconda3/envs/python3/lib/python3.6/site-packages/sagemaker/estimator.py\u001b[0m in \u001b[0;36m_prepare_for_training\u001b[0;34m(self, job_name)\u001b[0m\n\u001b[1;32m   1697\u001b[0m                 \u001b[0mconstructor\u001b[0m \u001b[0;32mif\u001b[0m \u001b[0mapplicable\u001b[0m\u001b[0;34m.\u001b[0m\u001b[0;34m\u001b[0m\u001b[0;34m\u001b[0m\u001b[0m\n\u001b[1;32m   1698\u001b[0m         \"\"\"\n\u001b[0;32m-> 1699\u001b[0;31m         \u001b[0msuper\u001b[0m\u001b[0;34m(\u001b[0m\u001b[0mFramework\u001b[0m\u001b[0;34m,\u001b[0m \u001b[0mself\u001b[0m\u001b[0;34m)\u001b[0m\u001b[0;34m.\u001b[0m\u001b[0m_prepare_for_training\u001b[0m\u001b[0;34m(\u001b[0m\u001b[0mjob_name\u001b[0m\u001b[0;34m=\u001b[0m\u001b[0mjob_name\u001b[0m\u001b[0;34m)\u001b[0m\u001b[0;34m\u001b[0m\u001b[0;34m\u001b[0m\u001b[0m\n\u001b[0m\u001b[1;32m   1700\u001b[0m \u001b[0;34m\u001b[0m\u001b[0m\n\u001b[1;32m   1701\u001b[0m         \u001b[0;32mif\u001b[0m \u001b[0mself\u001b[0m\u001b[0;34m.\u001b[0m\u001b[0mgit_config\u001b[0m\u001b[0;34m:\u001b[0m\u001b[0;34m\u001b[0m\u001b[0;34m\u001b[0m\u001b[0m\n",
      "\u001b[0;32m~/anaconda3/envs/python3/lib/python3.6/site-packages/sagemaker/estimator.py\u001b[0m in \u001b[0;36m_prepare_for_training\u001b[0;34m(self, job_name)\u001b[0m\n\u001b[1;32m    359\u001b[0m                 \u001b[0mself\u001b[0m\u001b[0;34m.\u001b[0m\u001b[0moutput_path\u001b[0m \u001b[0;34m=\u001b[0m \u001b[0;34m\"\"\u001b[0m\u001b[0;34m\u001b[0m\u001b[0;34m\u001b[0m\u001b[0m\n\u001b[1;32m    360\u001b[0m             \u001b[0;32melse\u001b[0m\u001b[0;34m:\u001b[0m\u001b[0;34m\u001b[0m\u001b[0;34m\u001b[0m\u001b[0m\n\u001b[0;32m--> 361\u001b[0;31m                 \u001b[0mself\u001b[0m\u001b[0;34m.\u001b[0m\u001b[0moutput_path\u001b[0m \u001b[0;34m=\u001b[0m \u001b[0;34m\"s3://{}/\"\u001b[0m\u001b[0;34m.\u001b[0m\u001b[0mformat\u001b[0m\u001b[0;34m(\u001b[0m\u001b[0mself\u001b[0m\u001b[0;34m.\u001b[0m\u001b[0msagemaker_session\u001b[0m\u001b[0;34m.\u001b[0m\u001b[0mdefault_bucket\u001b[0m\u001b[0;34m(\u001b[0m\u001b[0;34m)\u001b[0m\u001b[0;34m)\u001b[0m\u001b[0;34m\u001b[0m\u001b[0;34m\u001b[0m\u001b[0m\n\u001b[0m\u001b[1;32m    362\u001b[0m \u001b[0;34m\u001b[0m\u001b[0m\n\u001b[1;32m    363\u001b[0m         \u001b[0;31m# Prepare rules and debugger configs for training.\u001b[0m\u001b[0;34m\u001b[0m\u001b[0;34m\u001b[0m\u001b[0;34m\u001b[0m\u001b[0m\n",
      "\u001b[0;32m~/anaconda3/envs/python3/lib/python3.6/site-packages/sagemaker/session.py\u001b[0m in \u001b[0;36mdefault_bucket\u001b[0;34m(self)\u001b[0m\n\u001b[1;32m    356\u001b[0m         \u001b[0;32mif\u001b[0m \u001b[0;32mnot\u001b[0m \u001b[0mdefault_bucket\u001b[0m\u001b[0;34m:\u001b[0m\u001b[0;34m\u001b[0m\u001b[0;34m\u001b[0m\u001b[0m\n\u001b[1;32m    357\u001b[0m             account = self.boto_session.client(\n\u001b[0;32m--> 358\u001b[0;31m                 \u001b[0;34m\"sts\"\u001b[0m\u001b[0;34m,\u001b[0m \u001b[0mregion_name\u001b[0m\u001b[0;34m=\u001b[0m\u001b[0mregion\u001b[0m\u001b[0;34m,\u001b[0m \u001b[0mendpoint_url\u001b[0m\u001b[0;34m=\u001b[0m\u001b[0msts_regional_endpoint\u001b[0m\u001b[0;34m(\u001b[0m\u001b[0mregion\u001b[0m\u001b[0;34m)\u001b[0m\u001b[0;34m\u001b[0m\u001b[0;34m\u001b[0m\u001b[0m\n\u001b[0m\u001b[1;32m    359\u001b[0m             ).get_caller_identity()[\"Account\"]\n\u001b[1;32m    360\u001b[0m             \u001b[0mdefault_bucket\u001b[0m \u001b[0;34m=\u001b[0m \u001b[0;34m\"sagemaker-{}-{}\"\u001b[0m\u001b[0;34m.\u001b[0m\u001b[0mformat\u001b[0m\u001b[0;34m(\u001b[0m\u001b[0mregion\u001b[0m\u001b[0;34m,\u001b[0m \u001b[0maccount\u001b[0m\u001b[0;34m)\u001b[0m\u001b[0;34m\u001b[0m\u001b[0;34m\u001b[0m\u001b[0m\n",
      "\u001b[0;32m~/anaconda3/envs/python3/lib/python3.6/site-packages/botocore/client.py\u001b[0m in \u001b[0;36m_api_call\u001b[0;34m(self, *args, **kwargs)\u001b[0m\n\u001b[1;32m    355\u001b[0m                     \"%s() only accepts keyword arguments.\" % py_operation_name)\n\u001b[1;32m    356\u001b[0m             \u001b[0;31m# The \"self\" in this scope is referring to the BaseClient.\u001b[0m\u001b[0;34m\u001b[0m\u001b[0;34m\u001b[0m\u001b[0;34m\u001b[0m\u001b[0m\n\u001b[0;32m--> 357\u001b[0;31m             \u001b[0;32mreturn\u001b[0m \u001b[0mself\u001b[0m\u001b[0;34m.\u001b[0m\u001b[0m_make_api_call\u001b[0m\u001b[0;34m(\u001b[0m\u001b[0moperation_name\u001b[0m\u001b[0;34m,\u001b[0m \u001b[0mkwargs\u001b[0m\u001b[0;34m)\u001b[0m\u001b[0;34m\u001b[0m\u001b[0;34m\u001b[0m\u001b[0m\n\u001b[0m\u001b[1;32m    358\u001b[0m \u001b[0;34m\u001b[0m\u001b[0m\n\u001b[1;32m    359\u001b[0m         \u001b[0m_api_call\u001b[0m\u001b[0;34m.\u001b[0m\u001b[0m__name__\u001b[0m \u001b[0;34m=\u001b[0m \u001b[0mstr\u001b[0m\u001b[0;34m(\u001b[0m\u001b[0mpy_operation_name\u001b[0m\u001b[0;34m)\u001b[0m\u001b[0;34m\u001b[0m\u001b[0;34m\u001b[0m\u001b[0m\n",
      "\u001b[0;32m~/anaconda3/envs/python3/lib/python3.6/site-packages/botocore/client.py\u001b[0m in \u001b[0;36m_make_api_call\u001b[0;34m(self, operation_name, api_params)\u001b[0m\n\u001b[1;32m    659\u001b[0m             \u001b[0merror_code\u001b[0m \u001b[0;34m=\u001b[0m \u001b[0mparsed_response\u001b[0m\u001b[0;34m.\u001b[0m\u001b[0mget\u001b[0m\u001b[0;34m(\u001b[0m\u001b[0;34m\"Error\"\u001b[0m\u001b[0;34m,\u001b[0m \u001b[0;34m{\u001b[0m\u001b[0;34m}\u001b[0m\u001b[0;34m)\u001b[0m\u001b[0;34m.\u001b[0m\u001b[0mget\u001b[0m\u001b[0;34m(\u001b[0m\u001b[0;34m\"Code\"\u001b[0m\u001b[0;34m)\u001b[0m\u001b[0;34m\u001b[0m\u001b[0;34m\u001b[0m\u001b[0m\n\u001b[1;32m    660\u001b[0m             \u001b[0merror_class\u001b[0m \u001b[0;34m=\u001b[0m \u001b[0mself\u001b[0m\u001b[0;34m.\u001b[0m\u001b[0mexceptions\u001b[0m\u001b[0;34m.\u001b[0m\u001b[0mfrom_code\u001b[0m\u001b[0;34m(\u001b[0m\u001b[0merror_code\u001b[0m\u001b[0;34m)\u001b[0m\u001b[0;34m\u001b[0m\u001b[0;34m\u001b[0m\u001b[0m\n\u001b[0;32m--> 661\u001b[0;31m             \u001b[0;32mraise\u001b[0m \u001b[0merror_class\u001b[0m\u001b[0;34m(\u001b[0m\u001b[0mparsed_response\u001b[0m\u001b[0;34m,\u001b[0m \u001b[0moperation_name\u001b[0m\u001b[0;34m)\u001b[0m\u001b[0;34m\u001b[0m\u001b[0;34m\u001b[0m\u001b[0m\n\u001b[0m\u001b[1;32m    662\u001b[0m         \u001b[0;32melse\u001b[0m\u001b[0;34m:\u001b[0m\u001b[0;34m\u001b[0m\u001b[0;34m\u001b[0m\u001b[0m\n\u001b[1;32m    663\u001b[0m             \u001b[0;32mreturn\u001b[0m \u001b[0mparsed_response\u001b[0m\u001b[0;34m\u001b[0m\u001b[0;34m\u001b[0m\u001b[0m\n",
      "\u001b[0;31mClientError\u001b[0m: An error occurred (SignatureDoesNotMatch) when calling the GetCallerIdentity operation: Credential should be scoped to a valid region, not 'eu-west-2'. "
     ]
    }
   ],
   "source": [
    "sagemaker_session = sagemaker.Session()\n",
    "\n",
    "train_instance_type=\"ml.m5.large\"\n",
    "\n",
    "estimator = TensorFlow(entry_point='train.py',\n",
    "                       source_dir='src',\n",
    "                       hyperparameters=hyperparameters,\n",
    "                       role=role,\n",
    "                       framework_version='1.15.2',\n",
    "                       py_version='py3',\n",
    "                       train_instance_count=1,\n",
    "                       train_instance_type=train_instance_type,\n",
    "                       base_job_name='boat-ml-keras')\n",
    "\n",
    "estimator.fit()"
   ]
  },
  {
   "cell_type": "markdown",
   "metadata": {},
   "source": [
    "## Create endpoint and predictor"
   ]
  },
  {
   "cell_type": "markdown",
   "metadata": {},
   "source": [
    "Now that we have a trained model, we can use it to perform predictions by deploying it to an endpoint.\n",
    "\n",
    "Note: Remember to delete the endpoint after running this experiment. A cell at the very bottom of this notebook will do that: make sure you run it at the end."
   ]
  },
  {
   "cell_type": "code",
   "execution_count": 27,
   "metadata": {},
   "outputs": [
    {
     "name": "stderr",
     "output_type": "stream",
     "text": [
      "Parameter image will be renamed to image_uri in SageMaker Python SDK v2.\n",
      "'create_image_uri' will be deprecated in favor of 'ImageURIProvider' class in SageMaker Python SDK v2.\n"
     ]
    },
    {
     "name": "stdout",
     "output_type": "stream",
     "text": [
      "<sagemaker.tensorflow.estimator.TensorFlow object at 0x7fe4a07b33c8>\n",
      "!"
     ]
    },
    {
     "name": "stderr",
     "output_type": "stream",
     "text": [
      "Exception in thread Thread-4:\n",
      "Traceback (most recent call last):\n",
      "  File \"/home/ec2-user/anaconda3/envs/python3/lib/python3.6/site-packages/sagemaker/local/image.py\", line 618, in run\n",
      "    _stream_output(self.process)\n",
      "  File \"/home/ec2-user/anaconda3/envs/python3/lib/python3.6/site-packages/sagemaker/local/image.py\", line 677, in _stream_output\n",
      "    raise RuntimeError(\"Process exited with code: %s\" % exit_code)\n",
      "RuntimeError: Process exited with code: 1\n",
      "\n",
      "During handling of the above exception, another exception occurred:\n",
      "\n",
      "Traceback (most recent call last):\n",
      "  File \"/home/ec2-user/anaconda3/envs/python3/lib/python3.6/threading.py\", line 916, in _bootstrap_inner\n",
      "    self.run()\n",
      "  File \"/home/ec2-user/anaconda3/envs/python3/lib/python3.6/site-packages/sagemaker/local/image.py\", line 623, in run\n",
      "    raise RuntimeError(msg)\n",
      "RuntimeError: Failed to run: ['docker-compose', '-f', '/tmp/tmpho4h9_yc/docker-compose.yaml', 'up', '--build', '--abort-on-container-exit'], Process exited with code: 1\n",
      "\n"
     ]
    }
   ],
   "source": [
    "print(localEstimator)\n",
    "\n",
    "localPredictor = localEstimator.deploy(\n",
    "    initial_instance_count=1,\n",
    "    instance_type='local')"
   ]
  },
  {
   "cell_type": "markdown",
   "metadata": {},
   "source": [
    "## Make predictions"
   ]
  },
  {
   "cell_type": "markdown",
   "metadata": {},
   "source": [
    "Now we can use the predictor object to generate predictions."
   ]
  },
  {
   "cell_type": "code",
   "execution_count": null,
   "metadata": {},
   "outputs": [],
   "source": [
    "boat_speed = 6.9141\n",
    "wind_speed = 14.2405\n",
    "angle_of_attack = -139.8768\n",
    "target_angle = 306.73887\n",
    "\n",
    "payload = np.asarray([[boat_speed, wind_speed,angle_of_attack,target_angle]])\n",
    "print(payload)"
   ]
  },
  {
   "cell_type": "code",
   "execution_count": null,
   "metadata": {},
   "outputs": [],
   "source": [
    "scaler_x = StandardScaler()\n",
    "scaler_y = StandardScaler()\n",
    "\n",
    "payload_scaled = scaler_x.fit_transform(payload)\n",
    "print(payload_scaled)"
   ]
  },
  {
   "cell_type": "code",
   "execution_count": null,
   "metadata": {},
   "outputs": [],
   "source": [
    "response = localPredictor.predict(payload_scaled)\n",
    "\n",
    "boat_angle = float(scaler_y.inverse_transform(response[0].reshape(1,-1)))\n",
    "print(boat_angle) #return the predicted boat_angle"
   ]
  },
  {
   "cell_type": "markdown",
   "metadata": {},
   "source": [
    "### Show performance"
   ]
  },
  {
   "cell_type": "code",
   "execution_count": null,
   "metadata": {},
   "outputs": [],
   "source": [
    "data_dir = 'navigation-boat-ml/data/'\n",
    "s3 = boto3.client('s3')\n",
    "obj = s3.get_object(Bucket=s3_bucket, Key=data_dir+'x_test.csv')\n",
    "x_test = pd.read_csv(obj['Body'])\n",
    "print(x_test)"
   ]
  },
  {
   "cell_type": "code",
   "execution_count": null,
   "metadata": {},
   "outputs": [],
   "source": [
    "obj = s3.get_object(Bucket=s3_bucket, Key=data_dir+'y_test.csv')\n",
    "y_test = pd.read_csv(obj['Body'])\n",
    "print(y_test)"
   ]
  },
  {
   "cell_type": "code",
   "execution_count": null,
   "metadata": {},
   "outputs": [],
   "source": [
    "x_test_scaled = scaler_x.fit_transform(x_test)\n",
    "print(x_test_scaled)\n",
    "\n",
    "pred_y = model.predict(x_test_scaled)\n",
    "pred_y_inversed = scaler_y.inverse_transform(pred_y)\n",
    "print(f'Mean Absolute Error:{mean_absolute_error(pred_y_inversed, y_test)}')"
   ]
  },
  {
   "cell_type": "markdown",
   "metadata": {},
   "source": [
    "## Delete endpoints"
   ]
  },
  {
   "cell_type": "code",
   "execution_count": null,
   "metadata": {},
   "outputs": [],
   "source": [
    "localPredictor.delete_endpoint()"
   ]
  },
  {
   "cell_type": "code",
   "execution_count": null,
   "metadata": {},
   "outputs": [],
   "source": []
  }
 ],
 "metadata": {
  "kernelspec": {
   "display_name": "conda_python3",
   "language": "python",
   "name": "conda_python3"
  },
  "language_info": {
   "codemirror_mode": {
    "name": "ipython",
    "version": 3
   },
   "file_extension": ".py",
   "mimetype": "text/x-python",
   "name": "python",
   "nbconvert_exporter": "python",
   "pygments_lexer": "ipython3",
   "version": "3.6.10"
  }
 },
 "nbformat": 4,
 "nbformat_minor": 4
}
