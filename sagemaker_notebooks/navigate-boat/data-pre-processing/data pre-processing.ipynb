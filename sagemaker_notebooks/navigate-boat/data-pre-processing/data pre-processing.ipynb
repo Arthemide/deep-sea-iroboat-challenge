{
 "cells": [
  {
   "cell_type": "code",
   "execution_count": 1,
   "metadata": {},
   "outputs": [],
   "source": [
    "import boto3\n",
    "import os\n",
    "\n",
    "\n",
    "def downloadDirectoryFroms3(bucketName, remoteDirectoryName):\n",
    "    s3_resource = boto3.resource('s3')\n",
    "    bucket = s3_resource.Bucket(bucketName) \n",
    "    for obj in bucket.objects.filter(Prefix = remoteDirectoryName):\n",
    "        if not os.path.exists(os.path.dirname(obj.key)):\n",
    "            os.makedirs(os.path.dirname(obj.key))\n",
    "        bucket.download_file(obj.key, obj.key)"
   ]
  },
  {
   "cell_type": "code",
   "execution_count": 2,
   "metadata": {},
   "outputs": [],
   "source": [
    "import random\n",
    "def angleFromCoordinate(lat1, long1, lat2, long2):\n",
    "    dLon = (long2 - long1)\n",
    "\n",
    "    y = math.sin(dLon) * math.cos(lat2)\n",
    "    x = math.cos(lat1) * math.sin(lat2) - math.sin(lat1) * math.cos(lat2) * math.cos(dLon)\n",
    "\n",
    "    brng = math.atan2(y, x)\n",
    "\n",
    "    brng = math.degrees(brng)\n",
    "    brng = (brng + 360) % 360\n",
    "    #brng = 360 - brng # count degrees clockwise - remove to make counter-clockwise\n",
    "\n",
    "    return brng"
   ]
  },
  {
   "cell_type": "code",
   "execution_count": 3,
   "metadata": {},
   "outputs": [],
   "source": [
    "import math\n",
    "def compute_target_angle(lat_list, lon_list, step = 5):\n",
    "    if len(lat_list) != len(lon_list):\n",
    "        print(f'Error! Length of lat ({len(lat_list)}) is different from length of lon ({len(lon_list)}). Returning an empty list of target_angles')\n",
    "        return []\n",
    "    tgt_angle_list = []\n",
    "    for index, lat in enumerate(lat_list):\n",
    "        if index + step > len(lat_list) - 1:\n",
    "            return tgt_angle_list\n",
    "        tgt_angle_list.append(angleFromCoordinate(lat, lon_list[index], lat_list[index+step], lon_list[index+step]))\n",
    "    return tgt_angle_list"
   ]
  },
  {
   "cell_type": "code",
   "execution_count": 4,
   "metadata": {},
   "outputs": [],
   "source": [
    "def aggregate_players_record(folder) :\n",
    "    df_global = pd.DataFrame(columns=['boat_speed', 'angle_of_attack_deg','wind_speed', 'target_angle_deg', 'boat_angle_deg'])\n",
    "    for file in os.listdir(folder):\n",
    "        try:\n",
    "            df = pd.read_csv(join(folder, file))\n",
    "        except Exception as e:\n",
    "            print(f'Error {e} while reading file {file}')\n",
    "            continue\n",
    "        # remove Igor's tracking\n",
    "        if '5f3b964b52e859ef03fd61ea' in file:\n",
    "            print(f'Avoid following Igor data consisting of {len(df)} rows')\n",
    "            continue\n",
    "        df_global = df_global.append(df, ignore_index=True)\n",
    "    #df_global.set_index('datetime')\n",
    "    return df_global"
   ]
  },
  {
   "cell_type": "code",
   "execution_count": 5,
   "metadata": {},
   "outputs": [],
   "source": [
    "bucket = 'virtual-regatta'\n",
    "folder = 'logs_players/'\n",
    "\n",
    "for file in os.listdir(folder):\n",
    "    try:\n",
    "        os.remove(file)\n",
    "    except:\n",
    "        pass\n",
    "\n",
    "downloadDirectoryFroms3(bucket, folder)"
   ]
  },
  {
   "cell_type": "code",
   "execution_count": 6,
   "metadata": {},
   "outputs": [],
   "source": [
    "def vr_trigo_bijection(angle):\n",
    "    angle_rad = angle * math.pi / 180\n",
    "    cos_new_angle = math.sin(angle_rad)\n",
    "    sin_new_angle = math.cos(angle_rad)\n",
    "\n",
    "    if sin_new_angle > 0:\n",
    "        return round(math.degrees(math.acos(cos_new_angle)), 0)\n",
    "    else:\n",
    "        return round(360 - math.degrees(math.acos(cos_new_angle)), 0)"
   ]
  },
  {
   "cell_type": "markdown",
   "metadata": {},
   "source": [
    "## Data processing without accounting for compass angle"
   ]
  },
  {
   "cell_type": "code",
   "execution_count": 7,
   "metadata": {},
   "outputs": [],
   "source": [
    "# import pandas as pd\n",
    "# from os.path import join\n",
    "# import os\n",
    "# import numpy as np\n",
    "\n",
    "# results_folder = 'pre-processed/'\n",
    "\n",
    "# for file in os.listdir(os.path.join(folder, results_folder)):\n",
    "#     try:\n",
    "#         os.remove(file)\n",
    "#     except:\n",
    "#         pass\n",
    "\n",
    "# for file in os.listdir(folder):\n",
    "#     file_name, file_extension = os.path.splitext(join(folder, file))\n",
    "#     if file_extension != '.csv':\n",
    "#         print(f'File {file} is not a CSV, skipping...')\n",
    "#         continue\n",
    "    \n",
    "#     try:\n",
    "#         df = pd.read_csv(join(folder, file))\n",
    "#     except Exception as e:\n",
    "#         print(f'Error {e} while reading file {file}')\n",
    "#         continue\n",
    "    \n",
    "#     df = df.drop(columns=['target_angle'])\n",
    "#     lat_list = df['lat'].to_list()\n",
    "#     lon_list = df['lon'].to_list()\n",
    "#     tgt_angle_list = compute_target_angle(lat_list, lon_list, step = 10)\n",
    "#     df['target_angle'] = pd.Series(tgt_angle_list)\n",
    "    \n",
    "#     #remove target_angle = 360 & remove not needed features (lat/lon)\n",
    "#     features = ['datetime', 'boat_speed', 'target_angle', 'angle_of_attack', 'wind_speed', 'boat_angle']\n",
    "#     #data_reduced = df[abs(df.target_angle - 360) > 0.1][features]\n",
    "#     #data_reduced = df[df.target_angle < 0.1][features]\n",
    "#     data_reduced = df[features].dropna()\n",
    "        \n",
    "#     # Remove trailing lines for which the target_angle was not calculated (by design)\n",
    "#     #data_reduced.dropna()\n",
    "    \n",
    "#     data_reduced['boat_angle_deg'] = data_reduced['boat_angle']\n",
    "#     data_reduced['target_angle_deg'] = data_reduced['target_angle']\n",
    "\n",
    "#     # Convert angles to radians\n",
    "#     data_reduced['boat_angle'] = data_reduced['boat_angle'] * np.pi / 180\n",
    "#     data_reduced['target_angle'] = data_reduced['target_angle'] * np.pi / 180\n",
    "    \n",
    "#     # Compute cosinus of the angles (we'll predict cos rather than the angle itself)\n",
    "#     data_reduced['cos_boat_angle'] = np.cos(data_reduced['boat_angle'])\n",
    "#     data_reduced['cos_target_angle'] = np.cos(data_reduced['target_angle'])\n",
    "    \n",
    "#     data_reduced = data_reduced[data_reduced.cos_target_angle != 1.0]\n",
    "    \n",
    "#     # Store sinus sign (since predicting a cosinus yelds two possible angles)\n",
    "#     data_reduced['sin_boat_angle'] = np.sin(data_reduced['boat_angle'])\n",
    "#     data_reduced['sin_target_angle'] = np.sin(data_reduced['target_angle'])\n",
    "    \n",
    "#     data_reduced = data_reduced[abs(data_reduced['sin_target_angle'] - data_reduced['sin_boat_angle']) < 0.3]\n",
    "    \n",
    "#     # Not needed anymore (as we have the cosinus value and the sign of the sinus)\n",
    "#     data_reduced = data_reduced.drop(columns=['boat_angle', 'target_angle', 'datetime'])\n",
    "    \n",
    "#     data_reduced.to_csv(join(folder, results_folder, file), index=False)\n",
    "#     print(f'Stored pre-processed file {file}')"
   ]
  },
  {
   "cell_type": "markdown",
   "metadata": {},
   "source": [
    "## Data processing accounting for compass angle"
   ]
  },
  {
   "cell_type": "code",
   "execution_count": 8,
   "metadata": {},
   "outputs": [],
   "source": [
    "def vr_trigo_bijection(angle):\n",
    "    angle_rad = angle * math.pi / 180\n",
    "    cos_new_angle = math.sin(angle_rad)\n",
    "    sin_new_angle = math.cos(angle_rad)\n",
    "\n",
    "    if sin_new_angle > 0:\n",
    "        return round(math.degrees(math.acos(cos_new_angle)), 0)\n",
    "    else:\n",
    "        return round(360 - math.degrees(math.acos(cos_new_angle)), 0)"
   ]
  },
  {
   "cell_type": "code",
   "execution_count": 9,
   "metadata": {},
   "outputs": [
    {
     "name": "stderr",
     "output_type": "stream",
     "text": [
      "/home/ec2-user/anaconda3/envs/python3/lib/python3.6/site-packages/ipykernel/__main__.py:30: DeprecationWarning: The default dtype for empty Series will be 'object' instead of 'float64' in a future version. Specify a dtype explicitly to silence this warning.\n"
     ]
    },
    {
     "name": "stdout",
     "output_type": "stream",
     "text": [
      "Stored pre-processed file status_5ccf239b517022fc0915acae.csv\n",
      "Stored pre-processed file status_5bdead24517022fc09d60ba0.csv\n",
      "Stored pre-processed file status_59d3f0c0b395b292ed63ea7e.csv\n",
      "Stored pre-processed file status_5c694480517022fc090894ad.csv\n",
      "Stored pre-processed file status_5f5e1f9652e859ef0302dfc1.csv\n",
      "Stored pre-processed file status_5eb676b6080c8cbd45238cbc.csv\n",
      "Stored pre-processed file status_59c1024eb395b292ed621334.csv\n",
      "Stored pre-processed file status_5a1575457b296eaadfc427ca.csv\n",
      "File pre-processed is not a CSV, skipping...\n",
      "Stored pre-processed file status_59c129a0b395b292ed6216e5.csv\n",
      "Stored pre-processed file status_5e791a92080c8cbd450ce5c7.csv\n",
      "Stored pre-processed file status_59c18866b395b292ed621f3a.csv\n",
      "Stored pre-processed file status_5ecfbea28e4c1d3e55e7bdcc.csv\n",
      "Stored pre-processed file status_5a34e1827b296eaadfc6f1c3.csv\n",
      "Stored pre-processed file status_59c40ab3b395b292ed625660.csv\n",
      "Stored pre-processed file status_5a1b17c17b296eaadfc4b4c1.csv\n",
      "Stored pre-processed file status_59c403a4b395b292ed6254fa.csv\n",
      "Stored pre-processed file status_59c0d723b395b292ed620fce.csv\n",
      "Stored pre-processed file status_5a7345da7b296eaadfcb51da.csv\n",
      "Stored pre-processed file status_59ff0cddec355084ecddf1ba.csv\n",
      "Stored pre-processed file status_59ce7d57b395b292ed63147e.csv\n",
      "Stored pre-processed file status_59c16f64b395b292ed621d2e.csv\n",
      "File .ipynb_checkpoints is not a CSV, skipping...\n",
      "Stored pre-processed file status_5bdf0c68517022fc09d7b387.csv\n",
      "Stored pre-processed file status_5eb82cb4080c8cbd45241f20.csv\n",
      "Stored pre-processed file status_59c14b0bb395b292ed621a03.csv\n",
      "Stored pre-processed file status_59fed23ee0750e372d69452f.csv\n",
      "Stored pre-processed file status_5bf4468c517022fc09ec7d93.csv\n",
      "Stored pre-processed file status_59c143e7b395b292ed621938.csv\n",
      "Stored pre-processed file status_59fec543e0750e372d693192.csv\n",
      "Stored pre-processed file status_59d907afe7821e2954918777.csv\n",
      "Stored pre-processed file status_59cbd5e6b395b292ed62ddab.csv\n",
      "Stored pre-processed file status_5a061f5f7b296eaadfc25355.csv\n",
      "Stored pre-processed file status_59c12713b395b292ed6216b1.csv\n",
      "Stored pre-processed file status_5ee8217f52e859ef03f07031.csv\n",
      "Stored pre-processed file status_59c15e1db395b292ed621b9b.csv\n",
      "Stored pre-processed file status_5dc0350f98b1b8ca5941b65b.csv\n",
      "Stored pre-processed file status_5e508ac4080c8cbd45fc1016.csv\n",
      "Stored pre-processed file status_59c74a9cb395b292ed629d90.csv\n",
      "Stored pre-processed file status_59c1a3bdb395b292ed622096.csv\n",
      "Stored pre-processed file status_5ea2d921080c8cbd451cf447.csv\n",
      "Stored pre-processed file status_59c5e913b395b292ed6285ea.csv\n",
      "Stored pre-processed file status_5b4aee64517022fc09cf4ef9.csv\n",
      "Stored pre-processed file status_5f3b964b52e859ef03fd61ea.csv\n",
      "Stored pre-processed file status_59c3f041b395b292ed6251a6.csv\n",
      "Stored pre-processed file status_5eb1e398080c8cbd452252d3.csv\n",
      "Stored pre-processed file status_59d0b932b395b292ed6341ea.csv\n",
      "Stored pre-processed file status_59d53decb395b292ed641a2e.csv\n",
      "Stored pre-processed file status_5a0176657b296eaadfc10bdd.csv\n",
      "Stored pre-processed file status_5ea19517080c8cbd451c79b8.csv\n",
      "Stored pre-processed file status_5ebad935080c8cbd45254c87.csv\n",
      "Stored pre-processed file status_59c5f267b395b292ed628670.csv\n",
      "Stored pre-processed file status_5a1749727b296eaadfc44e2d.csv\n",
      "Stored pre-processed file status_59c15316b395b292ed621ad2.csv\n",
      "Stored pre-processed file status_5c33d7bb517022fc09002c80.csv\n",
      "Stored pre-processed file status_59d8bf79e7821e2954917a20.csv\n"
     ]
    }
   ],
   "source": [
    "import pandas as pd\n",
    "from os.path import join\n",
    "import os\n",
    "import numpy as np\n",
    "\n",
    "results_folder = 'pre-processed/'\n",
    "\n",
    "for file in os.listdir(os.path.join(folder, results_folder)):\n",
    "    try:\n",
    "        os.remove(file)\n",
    "    except:\n",
    "        pass\n",
    "\n",
    "for file in os.listdir(folder):\n",
    "    file_name, file_extension = os.path.splitext(join(folder, file))\n",
    "    if file_extension != '.csv':\n",
    "        print(f'File {file} is not a CSV, skipping...')\n",
    "        continue\n",
    "    \n",
    "    try:\n",
    "        df = pd.read_csv(join(folder, file))\n",
    "    except Exception as e:\n",
    "        print(f'Error {e} while reading file {file}')\n",
    "        continue\n",
    "    \n",
    "    df = df.drop(columns=['target_angle'])\n",
    "    lat_list = df['lat'].to_list()\n",
    "    lon_list = df['lon'].to_list()\n",
    "    tgt_angle_list = compute_target_angle(lat_list, lon_list, step = 10)\n",
    "    df['target_angle'] = pd.Series(tgt_angle_list)\n",
    "    \n",
    "    #remove target_angle = 360 & remove not needed features (lat/lon)\n",
    "    features = ['datetime', 'boat_speed', 'target_angle', 'angle_of_attack', 'wind_speed', 'boat_angle']\n",
    "    data_reduced = df[features].dropna()\n",
    "    \n",
    "    data_reduced['boat_angle_deg'] = data_reduced['boat_angle'].apply(lambda x: vr_trigo_bijection(x))\n",
    "    data_reduced['target_angle_deg'] = data_reduced['target_angle'].apply(lambda x: vr_trigo_bijection(x))\n",
    "    data_reduced['angle_of_attack_deg'] = data_reduced['angle_of_attack'].apply(lambda x: vr_trigo_bijection(x))\n",
    "\n",
    "    # Convert angles to radians\n",
    "    data_reduced['boat_angle'] = data_reduced['boat_angle_deg'] * np.pi / 180\n",
    "    data_reduced['target_angle'] = data_reduced['target_angle_deg'] * np.pi / 180\n",
    "    \n",
    "    # Compute cosinus of the angles (we'll predict cos rather than the angle itself)\n",
    "    data_reduced['cos_boat_angle'] = np.cos(data_reduced['boat_angle'])\n",
    "    data_reduced['cos_target_angle'] = np.cos(data_reduced['target_angle'])\n",
    "    \n",
    "    data_reduced = data_reduced[data_reduced.cos_target_angle != 1.0]\n",
    "    data_reduced.drop(columns=[c for c in list(data_reduced.columns) if c not in (\n",
    "        'wind_speed', 'boat_speed', 'angle_of_attack_deg', 'boat_angle_deg', 'target_angle_deg')], inplace=True)\n",
    "    \n",
    "    data_reduced.to_csv(join(folder, results_folder, file), index=False)\n",
    "    print(f'Stored pre-processed file {file}')"
   ]
  },
  {
   "cell_type": "code",
   "execution_count": 10,
   "metadata": {},
   "outputs": [
    {
     "name": "stdout",
     "output_type": "stream",
     "text": [
      "Error Error tokenizing data. C error: Calling read(nbytes) on source failed. Try engine='python'. while reading file .ipynb_checkpoints\n",
      "Avoid following Igor data consisting of 0 rows\n"
     ]
    },
    {
     "data": {
      "text/html": [
       "<div>\n",
       "<style scoped>\n",
       "    .dataframe tbody tr th:only-of-type {\n",
       "        vertical-align: middle;\n",
       "    }\n",
       "\n",
       "    .dataframe tbody tr th {\n",
       "        vertical-align: top;\n",
       "    }\n",
       "\n",
       "    .dataframe thead th {\n",
       "        text-align: right;\n",
       "    }\n",
       "</style>\n",
       "<table border=\"1\" class=\"dataframe\">\n",
       "  <thead>\n",
       "    <tr style=\"text-align: right;\">\n",
       "      <th></th>\n",
       "      <th>boat_speed</th>\n",
       "      <th>angle_of_attack_deg</th>\n",
       "      <th>wind_speed</th>\n",
       "      <th>target_angle_deg</th>\n",
       "      <th>boat_angle_deg</th>\n",
       "    </tr>\n",
       "  </thead>\n",
       "  <tbody>\n",
       "    <tr>\n",
       "      <th>count</th>\n",
       "      <td>10548.000000</td>\n",
       "      <td>10548.000000</td>\n",
       "      <td>10548.000000</td>\n",
       "      <td>10548.000000</td>\n",
       "      <td>10548.000000</td>\n",
       "    </tr>\n",
       "    <tr>\n",
       "      <th>mean</th>\n",
       "      <td>5.961957</td>\n",
       "      <td>204.763936</td>\n",
       "      <td>8.096902</td>\n",
       "      <td>162.239287</td>\n",
       "      <td>144.718335</td>\n",
       "    </tr>\n",
       "    <tr>\n",
       "      <th>std</th>\n",
       "      <td>2.449220</td>\n",
       "      <td>117.550451</td>\n",
       "      <td>4.153398</td>\n",
       "      <td>94.732796</td>\n",
       "      <td>109.392607</td>\n",
       "    </tr>\n",
       "    <tr>\n",
       "      <th>min</th>\n",
       "      <td>0.000000</td>\n",
       "      <td>0.000000</td>\n",
       "      <td>2.000000</td>\n",
       "      <td>1.000000</td>\n",
       "      <td>0.000000</td>\n",
       "    </tr>\n",
       "    <tr>\n",
       "      <th>25%</th>\n",
       "      <td>4.404475</td>\n",
       "      <td>50.000000</td>\n",
       "      <td>5.397507</td>\n",
       "      <td>90.000000</td>\n",
       "      <td>36.000000</td>\n",
       "    </tr>\n",
       "    <tr>\n",
       "      <th>50%</th>\n",
       "      <td>5.024275</td>\n",
       "      <td>224.000000</td>\n",
       "      <td>6.367040</td>\n",
       "      <td>106.000000</td>\n",
       "      <td>137.000000</td>\n",
       "    </tr>\n",
       "    <tr>\n",
       "      <th>75%</th>\n",
       "      <td>7.733900</td>\n",
       "      <td>315.000000</td>\n",
       "      <td>11.330380</td>\n",
       "      <td>258.000000</td>\n",
       "      <td>231.000000</td>\n",
       "    </tr>\n",
       "    <tr>\n",
       "      <th>max</th>\n",
       "      <td>15.157860</td>\n",
       "      <td>360.000000</td>\n",
       "      <td>21.077130</td>\n",
       "      <td>359.000000</td>\n",
       "      <td>360.000000</td>\n",
       "    </tr>\n",
       "  </tbody>\n",
       "</table>\n",
       "</div>"
      ],
      "text/plain": [
       "         boat_speed  angle_of_attack_deg    wind_speed  target_angle_deg  \\\n",
       "count  10548.000000         10548.000000  10548.000000      10548.000000   \n",
       "mean       5.961957           204.763936      8.096902        162.239287   \n",
       "std        2.449220           117.550451      4.153398         94.732796   \n",
       "min        0.000000             0.000000      2.000000          1.000000   \n",
       "25%        4.404475            50.000000      5.397507         90.000000   \n",
       "50%        5.024275           224.000000      6.367040        106.000000   \n",
       "75%        7.733900           315.000000     11.330380        258.000000   \n",
       "max       15.157860           360.000000     21.077130        359.000000   \n",
       "\n",
       "       boat_angle_deg  \n",
       "count    10548.000000  \n",
       "mean       144.718335  \n",
       "std        109.392607  \n",
       "min          0.000000  \n",
       "25%         36.000000  \n",
       "50%        137.000000  \n",
       "75%        231.000000  \n",
       "max        360.000000  "
      ]
     },
     "execution_count": 10,
     "metadata": {},
     "output_type": "execute_result"
    }
   ],
   "source": [
    "data = aggregate_players_record(join(folder, results_folder))\n",
    "\n",
    "data.describe()"
   ]
  },
  {
   "cell_type": "code",
   "execution_count": 14,
   "metadata": {},
   "outputs": [
    {
     "name": "stdout",
     "output_type": "stream",
     "text": [
      "   boat_speed  angle_of_attack_deg  wind_speed  target_angle_deg  \\\n",
      "0     7.73236                214.0     9.43467             214.0   \n",
      "1     7.73236                214.0     9.43467             214.0   \n",
      "\n",
      "   boat_angle_deg  cos_attack_angle  sin_attack_angle  cos_boat_angle  \\\n",
      "0           210.0         -0.829038         -0.559193       -0.866025   \n",
      "1           210.0         -0.829038         -0.559193       -0.866025   \n",
      "\n",
      "   sin_boat_angle  cos_target_angle  sin_target_angle  \n",
      "0            -0.5         -0.829038         -0.559193  \n",
      "1            -0.5         -0.829038         -0.559193  \n"
     ]
    }
   ],
   "source": [
    "data['cos_attack_angle'] = data['angle_of_attack_deg'].apply(lambda x: np.cos(np.deg2rad(x)))\n",
    "data['sin_attack_angle'] = data['angle_of_attack_deg'].apply(lambda x: np.sin(np.deg2rad(x)))\n",
    "data['cos_boat_angle'] = data['boat_angle_deg'].apply(lambda x: np.cos(np.deg2rad(x)))\n",
    "data['sin_boat_angle'] = data['boat_angle_deg'].apply(lambda x: np.sin(np.deg2rad(x)))\n",
    "data['cos_target_angle'] = data['target_angle_deg'].apply(lambda x: np.cos(np.deg2rad(x)))\n",
    "data['sin_target_angle'] = data['target_angle_deg'].apply(lambda x: np.sin(np.deg2rad(x)))\n",
    "print(data.head(2))"
   ]
  },
  {
   "cell_type": "code",
   "execution_count": 15,
   "metadata": {},
   "outputs": [
    {
     "name": "stdout",
     "output_type": "stream",
     "text": [
      "Total duplicate rows based on ['boat_speed', 'cos_attack_angle', 'sin_attack_angle', 'wind_speed', 'cos_boat_angle']: 4726\n"
     ]
    }
   ],
   "source": [
    "dup_columns_check = ['boat_speed', 'cos_attack_angle', 'sin_attack_angle', 'wind_speed', 'cos_boat_angle']\n",
    "dup_boat_angle = data[data.duplicated(dup_columns_check, keep=False)]\n",
    "print(f'Total duplicate rows based on {dup_columns_check}: {len(dup_boat_angle)}')"
   ]
  },
  {
   "cell_type": "code",
   "execution_count": 16,
   "metadata": {},
   "outputs": [
    {
     "name": "stdout",
     "output_type": "stream",
     "text": [
      "Num rows before removing duplicates: 10548\n",
      "Num rows after removing duplicates: 5992\n"
     ]
    }
   ],
   "source": [
    "print(f'Num rows before removing duplicates: {len(data)}')\n",
    "data = data.drop_duplicates(subset=dup_columns_check)\n",
    "print(f'Num rows after removing duplicates: {len(data)}')"
   ]
  },
  {
   "cell_type": "code",
   "execution_count": 17,
   "metadata": {},
   "outputs": [
    {
     "name": "stdout",
     "output_type": "stream",
     "text": [
      "   boat_speed  angle_of_attack_deg  wind_speed  target_angle_deg  \\\n",
      "0     7.73236                214.0     9.43467             214.0   \n",
      "2     7.78952                215.0     9.59005             215.0   \n",
      "\n",
      "   boat_angle_deg  cos_attack_angle  sin_attack_angle  cos_boat_angle  \\\n",
      "0           210.0         -0.829038         -0.559193       -0.866025   \n",
      "2           211.0         -0.819152         -0.573576       -0.857167   \n",
      "\n",
      "   sin_boat_angle  cos_target_angle  sin_target_angle  \n",
      "0       -0.500000         -0.829038         -0.559193  \n",
      "2       -0.515038         -0.819152         -0.573576  \n"
     ]
    }
   ],
   "source": [
    "print(data.head(2))"
   ]
  },
  {
   "cell_type": "markdown",
   "metadata": {},
   "source": [
    "## Preprocess and save for cosine regression"
   ]
  },
  {
   "cell_type": "code",
   "execution_count": 19,
   "metadata": {},
   "outputs": [
    {
     "name": "stdout",
     "output_type": "stream",
     "text": [
      "   boat_speed  wind_speed  cos_attack_angle  sin_attack_angle  \\\n",
      "0     7.73236     9.43467         -0.829038         -0.559193   \n",
      "2     7.78952     9.59005         -0.819152         -0.573576   \n",
      "\n",
      "   cos_target_angle  sin_target_angle  cos_boat_angle  \n",
      "0         -0.829038         -0.559193       -0.866025  \n",
      "2         -0.819152         -0.573576       -0.857167  \n",
      "5992\n"
     ]
    }
   ],
   "source": [
    "cosine_data =  data[['boat_speed', 'wind_speed', 'cos_attack_angle', 'sin_attack_angle', 'cos_target_angle', 'sin_target_angle', 'cos_boat_angle']]\n",
    "print(cosine_data.head(2))\n",
    "print(len(cosine_data))"
   ]
  },
  {
   "cell_type": "code",
   "execution_count": 20,
   "metadata": {},
   "outputs": [],
   "source": [
    "cosine_data.to_csv('cosine_data.csv', index=False)"
   ]
  },
  {
   "cell_type": "code",
   "execution_count": 22,
   "metadata": {},
   "outputs": [],
   "source": [
    "s3 = boto3.resource('s3')\n",
    "s3.Bucket('vr-autopilot-ml').upload_file('cosine_data.csv','sagemaker-experiment-data/cosine_data.csv')"
   ]
  },
  {
   "cell_type": "markdown",
   "metadata": {},
   "source": [
    "## Preprocess and save for sine regression"
   ]
  },
  {
   "cell_type": "code",
   "execution_count": 24,
   "metadata": {},
   "outputs": [
    {
     "name": "stdout",
     "output_type": "stream",
     "text": [
      "   boat_speed  wind_speed  cos_attack_angle  sin_attack_angle  \\\n",
      "0     7.73236     9.43467         -0.829038         -0.559193   \n",
      "2     7.78952     9.59005         -0.819152         -0.573576   \n",
      "\n",
      "   cos_target_angle  sin_target_angle  sin_boat_angle  \n",
      "0         -0.829038         -0.559193       -0.500000  \n",
      "2         -0.819152         -0.573576       -0.515038  \n",
      "5992\n"
     ]
    }
   ],
   "source": [
    "sine_data =  data[['boat_speed', 'wind_speed', 'cos_attack_angle', 'sin_attack_angle', 'cos_target_angle', 'sin_target_angle', 'sin_boat_angle']]\n",
    "print(sine_data.head(2))\n",
    "print(len(sine_data))"
   ]
  },
  {
   "cell_type": "code",
   "execution_count": 25,
   "metadata": {},
   "outputs": [],
   "source": [
    "sine_data.to_csv('sine_data.csv', index=False)\n",
    "s3 = boto3.resource('s3')\n",
    "s3.Bucket('vr-autopilot-ml').upload_file('sine_data.csv','sagemaker-experiment-data/sine_data.csv')"
   ]
  },
  {
   "cell_type": "code",
   "execution_count": null,
   "metadata": {},
   "outputs": [],
   "source": [
    "assert False"
   ]
  },
  {
   "cell_type": "code",
   "execution_count": 11,
   "metadata": {},
   "outputs": [
    {
     "ename": "KeyError",
     "evalue": "\"None of [Index(['cos_target_angle', 'cos_boat_angle'], dtype='object')] are in the [columns]\"",
     "output_type": "error",
     "traceback": [
      "\u001b[0;31m---------------------------------------------------------------------------\u001b[0m",
      "\u001b[0;31mKeyError\u001b[0m                                  Traceback (most recent call last)",
      "\u001b[0;32m<ipython-input-11-94f5466f099f>\u001b[0m in \u001b[0;36m<module>\u001b[0;34m\u001b[0m\n\u001b[0;32m----> 1\u001b[0;31m \u001b[0mcorr\u001b[0m \u001b[0;34m=\u001b[0m \u001b[0mdata\u001b[0m\u001b[0;34m[\u001b[0m\u001b[0;34m[\u001b[0m\u001b[0;34m'cos_target_angle'\u001b[0m\u001b[0;34m,\u001b[0m \u001b[0;34m'cos_boat_angle'\u001b[0m\u001b[0;34m]\u001b[0m\u001b[0;34m]\u001b[0m\u001b[0;34m.\u001b[0m\u001b[0mcorr\u001b[0m\u001b[0;34m(\u001b[0m\u001b[0;34m)\u001b[0m\u001b[0;34m\u001b[0m\u001b[0;34m\u001b[0m\u001b[0m\n\u001b[0m\u001b[1;32m      2\u001b[0m \u001b[0mcorr\u001b[0m\u001b[0;34m.\u001b[0m\u001b[0mstyle\u001b[0m\u001b[0;34m.\u001b[0m\u001b[0mbackground_gradient\u001b[0m\u001b[0;34m(\u001b[0m\u001b[0;34m)\u001b[0m\u001b[0;34m\u001b[0m\u001b[0;34m\u001b[0m\u001b[0m\n",
      "\u001b[0;32m~/anaconda3/envs/python3/lib/python3.6/site-packages/pandas/core/frame.py\u001b[0m in \u001b[0;36m__getitem__\u001b[0;34m(self, key)\u001b[0m\n\u001b[1;32m   2804\u001b[0m             \u001b[0;32mif\u001b[0m \u001b[0mis_iterator\u001b[0m\u001b[0;34m(\u001b[0m\u001b[0mkey\u001b[0m\u001b[0;34m)\u001b[0m\u001b[0;34m:\u001b[0m\u001b[0;34m\u001b[0m\u001b[0;34m\u001b[0m\u001b[0m\n\u001b[1;32m   2805\u001b[0m                 \u001b[0mkey\u001b[0m \u001b[0;34m=\u001b[0m \u001b[0mlist\u001b[0m\u001b[0;34m(\u001b[0m\u001b[0mkey\u001b[0m\u001b[0;34m)\u001b[0m\u001b[0;34m\u001b[0m\u001b[0;34m\u001b[0m\u001b[0m\n\u001b[0;32m-> 2806\u001b[0;31m             \u001b[0mindexer\u001b[0m \u001b[0;34m=\u001b[0m \u001b[0mself\u001b[0m\u001b[0;34m.\u001b[0m\u001b[0mloc\u001b[0m\u001b[0;34m.\u001b[0m\u001b[0m_get_listlike_indexer\u001b[0m\u001b[0;34m(\u001b[0m\u001b[0mkey\u001b[0m\u001b[0;34m,\u001b[0m \u001b[0maxis\u001b[0m\u001b[0;34m=\u001b[0m\u001b[0;36m1\u001b[0m\u001b[0;34m,\u001b[0m \u001b[0mraise_missing\u001b[0m\u001b[0;34m=\u001b[0m\u001b[0;32mTrue\u001b[0m\u001b[0;34m)\u001b[0m\u001b[0;34m[\u001b[0m\u001b[0;36m1\u001b[0m\u001b[0;34m]\u001b[0m\u001b[0;34m\u001b[0m\u001b[0;34m\u001b[0m\u001b[0m\n\u001b[0m\u001b[1;32m   2807\u001b[0m \u001b[0;34m\u001b[0m\u001b[0m\n\u001b[1;32m   2808\u001b[0m         \u001b[0;31m# take() does not accept boolean indexers\u001b[0m\u001b[0;34m\u001b[0m\u001b[0;34m\u001b[0m\u001b[0;34m\u001b[0m\u001b[0m\n",
      "\u001b[0;32m~/anaconda3/envs/python3/lib/python3.6/site-packages/pandas/core/indexing.py\u001b[0m in \u001b[0;36m_get_listlike_indexer\u001b[0;34m(self, key, axis, raise_missing)\u001b[0m\n\u001b[1;32m   1550\u001b[0m \u001b[0;34m\u001b[0m\u001b[0m\n\u001b[1;32m   1551\u001b[0m         self._validate_read_indexer(\n\u001b[0;32m-> 1552\u001b[0;31m             \u001b[0mkeyarr\u001b[0m\u001b[0;34m,\u001b[0m \u001b[0mindexer\u001b[0m\u001b[0;34m,\u001b[0m \u001b[0mo\u001b[0m\u001b[0;34m.\u001b[0m\u001b[0m_get_axis_number\u001b[0m\u001b[0;34m(\u001b[0m\u001b[0maxis\u001b[0m\u001b[0;34m)\u001b[0m\u001b[0;34m,\u001b[0m \u001b[0mraise_missing\u001b[0m\u001b[0;34m=\u001b[0m\u001b[0mraise_missing\u001b[0m\u001b[0;34m\u001b[0m\u001b[0;34m\u001b[0m\u001b[0m\n\u001b[0m\u001b[1;32m   1553\u001b[0m         )\n\u001b[1;32m   1554\u001b[0m         \u001b[0;32mreturn\u001b[0m \u001b[0mkeyarr\u001b[0m\u001b[0;34m,\u001b[0m \u001b[0mindexer\u001b[0m\u001b[0;34m\u001b[0m\u001b[0;34m\u001b[0m\u001b[0m\n",
      "\u001b[0;32m~/anaconda3/envs/python3/lib/python3.6/site-packages/pandas/core/indexing.py\u001b[0m in \u001b[0;36m_validate_read_indexer\u001b[0;34m(self, key, indexer, axis, raise_missing)\u001b[0m\n\u001b[1;32m   1637\u001b[0m             \u001b[0;32mif\u001b[0m \u001b[0mmissing\u001b[0m \u001b[0;34m==\u001b[0m \u001b[0mlen\u001b[0m\u001b[0;34m(\u001b[0m\u001b[0mindexer\u001b[0m\u001b[0;34m)\u001b[0m\u001b[0;34m:\u001b[0m\u001b[0;34m\u001b[0m\u001b[0;34m\u001b[0m\u001b[0m\n\u001b[1;32m   1638\u001b[0m                 \u001b[0maxis_name\u001b[0m \u001b[0;34m=\u001b[0m \u001b[0mself\u001b[0m\u001b[0;34m.\u001b[0m\u001b[0mobj\u001b[0m\u001b[0;34m.\u001b[0m\u001b[0m_get_axis_name\u001b[0m\u001b[0;34m(\u001b[0m\u001b[0maxis\u001b[0m\u001b[0;34m)\u001b[0m\u001b[0;34m\u001b[0m\u001b[0;34m\u001b[0m\u001b[0m\n\u001b[0;32m-> 1639\u001b[0;31m                 \u001b[0;32mraise\u001b[0m \u001b[0mKeyError\u001b[0m\u001b[0;34m(\u001b[0m\u001b[0;34mf\"None of [{key}] are in the [{axis_name}]\"\u001b[0m\u001b[0;34m)\u001b[0m\u001b[0;34m\u001b[0m\u001b[0;34m\u001b[0m\u001b[0m\n\u001b[0m\u001b[1;32m   1640\u001b[0m \u001b[0;34m\u001b[0m\u001b[0m\n\u001b[1;32m   1641\u001b[0m             \u001b[0;31m# We (temporarily) allow for some missing keys with .loc, except in\u001b[0m\u001b[0;34m\u001b[0m\u001b[0;34m\u001b[0m\u001b[0;34m\u001b[0m\u001b[0m\n",
      "\u001b[0;31mKeyError\u001b[0m: \"None of [Index(['cos_target_angle', 'cos_boat_angle'], dtype='object')] are in the [columns]\""
     ]
    }
   ],
   "source": [
    "corr = data[['cos_target_angle', 'cos_boat_angle']].corr()\n",
    "corr.style.background_gradient()"
   ]
  },
  {
   "cell_type": "code",
   "execution_count": null,
   "metadata": {},
   "outputs": [],
   "source": [
    "corr = data[['sin_target_angle', 'sin_boat_angle']].corr()\n",
    "corr.style.background_gradient()"
   ]
  },
  {
   "cell_type": "code",
   "execution_count": null,
   "metadata": {},
   "outputs": [],
   "source": [
    "corr = data.corr()\n",
    "corr.style.background_gradient()"
   ]
  },
  {
   "cell_type": "code",
   "execution_count": null,
   "metadata": {},
   "outputs": [],
   "source": [
    "data['cos_boat_angle'][1000:1500].plot()\n",
    "data['cos_target_angle'][1000:1500].plot()"
   ]
  },
  {
   "cell_type": "code",
   "execution_count": null,
   "metadata": {},
   "outputs": [],
   "source": [
    "data['sin_boat_angle'][1000:1500].plot()\n",
    "data['sin_target_angle'][1000:1500].plot()"
   ]
  },
  {
   "cell_type": "code",
   "execution_count": null,
   "metadata": {},
   "outputs": [],
   "source": [
    "test = pd.DataFrame(columns=['x', 'y'])\n",
    "\n",
    "test.x = data['sin_boat_angle'][:].to_numpy()\n",
    "test.y = data['sin_target_angle'][:].to_numpy()\n",
    "\n",
    "test.head()\n",
    "test.plot.scatter(x='x',y='y')"
   ]
  },
  {
   "cell_type": "code",
   "execution_count": null,
   "metadata": {},
   "outputs": [],
   "source": [
    "test = pd.DataFrame(columns=['x', 'y'])\n",
    "\n",
    "test.x = data['cos_boat_angle'][:].to_numpy()\n",
    "test.y = data['cos_target_angle'][:].to_numpy()\n",
    "\n",
    "test.head()\n",
    "test.plot.scatter(x='x',y='y')"
   ]
  },
  {
   "cell_type": "code",
   "execution_count": null,
   "metadata": {},
   "outputs": [],
   "source": [
    "test = pd.DataFrame(columns=['x', 'y'])\n",
    "\n",
    "test.x = data['boat_angle_deg'][:].to_numpy()\n",
    "test.y = data['target_angle_deg'][:].to_numpy()\n",
    "\n",
    "test.head()\n",
    "test.plot.scatter(x='x',y='y')"
   ]
  },
  {
   "cell_type": "code",
   "execution_count": 12,
   "metadata": {},
   "outputs": [],
   "source": [
    "data.to_csv('../all-in-one.csv', index=False)"
   ]
  },
  {
   "cell_type": "code",
   "execution_count": null,
   "metadata": {},
   "outputs": [],
   "source": []
  }
 ],
 "metadata": {
  "kernelspec": {
   "display_name": "conda_python3",
   "language": "python",
   "name": "conda_python3"
  },
  "language_info": {
   "codemirror_mode": {
    "name": "ipython",
    "version": 3
   },
   "file_extension": ".py",
   "mimetype": "text/x-python",
   "name": "python",
   "nbconvert_exporter": "python",
   "pygments_lexer": "ipython3",
   "version": "3.6.10"
  }
 },
 "nbformat": 4,
 "nbformat_minor": 4
}
