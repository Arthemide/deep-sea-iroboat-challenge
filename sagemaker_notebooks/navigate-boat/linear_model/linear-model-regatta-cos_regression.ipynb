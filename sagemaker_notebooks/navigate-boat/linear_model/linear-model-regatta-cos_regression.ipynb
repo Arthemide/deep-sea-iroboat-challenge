{
 "cells": [
  {
   "cell_type": "markdown",
   "metadata": {
    "nbpresent": {
     "id": "42b5e80b-ad1d-4335-a1f7-10a91127e3dc"
    }
   },
   "source": [
    "# Heading prediction \n",
    "\n",
    "\n",
    "## Contents\n",
    "\n",
    "1. [Background](#Background)\n",
    "1. [Setup](#Setup)\n",
    "1. [Data](#Data)\n",
    "1. [Train](#Train)\n",
    "1. [Host](#Host)\n",
    "1. [Predict](#Predict)\n",
    "1. [Extensions](#Extensions)\n",
    "\n",
    "---\n",
    "\n",
    "## Background\n",
    "This notebook illustrates how one can use SageMaker's algorithms for solving applications which require `linear models` for prediction.\n",
    "* Basic setup for using SageMaker.\n",
    "* converting datasets to protobuf format used by the Amazon SageMaker algorithms and uploading to S3. \n",
    "* Training SageMaker's linear learner on the data set.\n",
    "* Hosting the trained model.\n",
    "* Scoring using the trained model.\n",
    "\n",
    "\n",
    "\n",
    "---\n",
    "\n",
    "## Setup\n",
    "\n",
    "Let's start by specifying:\n",
    "\n",
    "* The SageMaker role arn used to give learning and hosting access to your data. The snippet below will use the same role used by your SageMaker notebook instance, if you're using other.  Otherwise, specify the full ARN of a role with the SageMakerFullAccess policy attached.\n",
    "* The S3 bucket that you want to use for training and storing model objects."
   ]
  },
  {
   "cell_type": "markdown",
   "metadata": {
    "nbpresent": {
     "id": "b2548d66-6f8f-426f-9cda-7a3cd1459abd"
    }
   },
   "source": [
    "Now we'll import the Python libraries we'll need."
   ]
  },
  {
   "cell_type": "code",
   "execution_count": 1,
   "metadata": {
    "nbpresent": {
     "id": "bb88eea9-27f3-4e47-9133-663911ea09a9"
    }
   },
   "outputs": [],
   "source": [
    "import pandas as pd\n",
    "import numpy as np\n",
    "import matplotlib.pyplot as plt\n",
    "import io\n",
    "import time\n",
    "import json\n",
    "import sagemaker.amazon.common as smac\n",
    "import os\n",
    "import boto3\n",
    "import re\n",
    "import sagemaker\n",
    "from os.path import join\n",
    "from sagemaker.amazon.amazon_estimator import get_image_uri\n",
    "from sklearn.preprocessing import StandardScaler"
   ]
  },
  {
   "cell_type": "code",
   "execution_count": 2,
   "metadata": {
    "isConfigCell": true,
    "nbpresent": {
     "id": "6427e831-8f89-45c0-b150-0b134397d79a"
    },
    "tags": [
     "parameters"
    ]
   },
   "outputs": [],
   "source": [
    "role = sagemaker.get_execution_role()\n",
    "region = boto3.Session().region_name\n",
    "\n",
    "# S3 bucket for saving code and model artifacts.\n",
    "# Feel free to specify a different bucket and prefix\n",
    "bucket = 'virtual-regatta-ml'\n",
    "\n",
    "prefix = 'linear-learner' # place to upload training files within the bucket"
   ]
  },
  {
   "cell_type": "markdown",
   "metadata": {
    "nbpresent": {
     "id": "142777ae-c072-448e-b941-72bc75735d01"
    }
   },
   "source": [
    "---\n",
    "## Data\n"
   ]
  },
  {
   "cell_type": "code",
   "execution_count": 3,
   "metadata": {},
   "outputs": [
    {
     "name": "stdout",
     "output_type": "stream",
     "text": [
      "   boat_speed  angle_of_attack  wind_speed  cos_target_angle  \\\n",
      "0     7.73236        -123.9447     9.43467         -0.572317   \n",
      "1     7.73236        -123.9447     9.43467         -0.566925   \n",
      "2     7.78952        -124.9447     9.59005         -0.544712   \n",
      "3     7.81913        -124.9447     9.66396         -0.600231   \n",
      "4     7.81658        -124.9447     9.65759         -0.629854   \n",
      "\n",
      "   sin_target_angle  cos_boat_angle  \n",
      "0         -0.820033       -0.498210  \n",
      "1         -0.823769       -0.498210  \n",
      "2         -0.838623       -0.512318  \n",
      "3         -0.799827       -0.521811  \n",
      "4         -0.776713       -0.526100  \n"
     ]
    },
    {
     "data": {
      "text/html": [
       "<div>\n",
       "<style scoped>\n",
       "    .dataframe tbody tr th:only-of-type {\n",
       "        vertical-align: middle;\n",
       "    }\n",
       "\n",
       "    .dataframe tbody tr th {\n",
       "        vertical-align: top;\n",
       "    }\n",
       "\n",
       "    .dataframe thead th {\n",
       "        text-align: right;\n",
       "    }\n",
       "</style>\n",
       "<table border=\"1\" class=\"dataframe\">\n",
       "  <thead>\n",
       "    <tr style=\"text-align: right;\">\n",
       "      <th></th>\n",
       "      <th>boat_speed</th>\n",
       "      <th>angle_of_attack</th>\n",
       "      <th>wind_speed</th>\n",
       "      <th>cos_target_angle</th>\n",
       "      <th>sin_target_angle</th>\n",
       "      <th>cos_boat_angle</th>\n",
       "    </tr>\n",
       "  </thead>\n",
       "  <tbody>\n",
       "    <tr>\n",
       "      <th>count</th>\n",
       "      <td>2869.000000</td>\n",
       "      <td>2869.000000</td>\n",
       "      <td>2869.000000</td>\n",
       "      <td>2869.000000</td>\n",
       "      <td>2869.000000</td>\n",
       "      <td>2869.000000</td>\n",
       "    </tr>\n",
       "    <tr>\n",
       "      <th>mean</th>\n",
       "      <td>5.964360</td>\n",
       "      <td>12.365479</td>\n",
       "      <td>9.157457</td>\n",
       "      <td>-0.184606</td>\n",
       "      <td>0.166315</td>\n",
       "      <td>-0.213446</td>\n",
       "    </tr>\n",
       "    <tr>\n",
       "      <th>std</th>\n",
       "      <td>2.373046</td>\n",
       "      <td>107.211737</td>\n",
       "      <td>5.706170</td>\n",
       "      <td>0.680841</td>\n",
       "      <td>0.689233</td>\n",
       "      <td>0.653259</td>\n",
       "    </tr>\n",
       "    <tr>\n",
       "      <th>min</th>\n",
       "      <td>0.000000</td>\n",
       "      <td>-177.061360</td>\n",
       "      <td>2.000000</td>\n",
       "      <td>-1.000000</td>\n",
       "      <td>-0.999998</td>\n",
       "      <td>-1.000000</td>\n",
       "    </tr>\n",
       "    <tr>\n",
       "      <th>25%</th>\n",
       "      <td>4.151830</td>\n",
       "      <td>-108.771260</td>\n",
       "      <td>4.995720</td>\n",
       "      <td>-0.911645</td>\n",
       "      <td>-0.452754</td>\n",
       "      <td>-0.834221</td>\n",
       "    </tr>\n",
       "    <tr>\n",
       "      <th>50%</th>\n",
       "      <td>5.374240</td>\n",
       "      <td>44.951450</td>\n",
       "      <td>6.975660</td>\n",
       "      <td>-0.291872</td>\n",
       "      <td>0.176061</td>\n",
       "      <td>-0.451541</td>\n",
       "    </tr>\n",
       "    <tr>\n",
       "      <th>75%</th>\n",
       "      <td>7.753420</td>\n",
       "      <td>95.351770</td>\n",
       "      <td>9.983790</td>\n",
       "      <td>0.406604</td>\n",
       "      <td>0.942611</td>\n",
       "      <td>0.412255</td>\n",
       "    </tr>\n",
       "    <tr>\n",
       "      <th>max</th>\n",
       "      <td>9.949470</td>\n",
       "      <td>154.981630</td>\n",
       "      <td>21.077130</td>\n",
       "      <td>0.999989</td>\n",
       "      <td>0.999998</td>\n",
       "      <td>0.993901</td>\n",
       "    </tr>\n",
       "  </tbody>\n",
       "</table>\n",
       "</div>"
      ],
      "text/plain": [
       "        boat_speed  angle_of_attack   wind_speed  cos_target_angle  \\\n",
       "count  2869.000000      2869.000000  2869.000000       2869.000000   \n",
       "mean      5.964360        12.365479     9.157457         -0.184606   \n",
       "std       2.373046       107.211737     5.706170          0.680841   \n",
       "min       0.000000      -177.061360     2.000000         -1.000000   \n",
       "25%       4.151830      -108.771260     4.995720         -0.911645   \n",
       "50%       5.374240        44.951450     6.975660         -0.291872   \n",
       "75%       7.753420        95.351770     9.983790          0.406604   \n",
       "max       9.949470       154.981630    21.077130          0.999989   \n",
       "\n",
       "       sin_target_angle  cos_boat_angle  \n",
       "count       2869.000000     2869.000000  \n",
       "mean           0.166315       -0.213446  \n",
       "std            0.689233        0.653259  \n",
       "min           -0.999998       -1.000000  \n",
       "25%           -0.452754       -0.834221  \n",
       "50%            0.176061       -0.451541  \n",
       "75%            0.942611        0.412255  \n",
       "max            0.999998        0.993901  "
      ]
     },
     "execution_count": 3,
     "metadata": {},
     "output_type": "execute_result"
    }
   ],
   "source": [
    "data = pd.read_csv('../all-in-one.csv')\n",
    "\n",
    "# This column will be predicted using a classifier\n",
    "data = data.drop(columns=['sin_boat_angle'])\n",
    "\n",
    "# The column to predict has to be in last position\n",
    "df_reordered = data[['boat_speed','angle_of_attack','wind_speed','cos_target_angle', 'sin_target_angle', 'cos_boat_angle']]\n",
    "\n",
    "# Same pre-processing as for the binary classifier, not sure if it makes sense\n",
    "#df_reordered['sign_sin_target_angle'] = df_reordered['sign_sin_target_angle'].map({-1:0, 1:1})\n",
    "\n",
    "print(df_reordered.head())\n",
    "df_reordered.describe()"
   ]
  },
  {
   "cell_type": "code",
   "execution_count": 258,
   "metadata": {},
   "outputs": [
    {
     "data": {
      "text/html": [
       "<style  type=\"text/css\" >\n",
       "    #T_bb9d8260_ff37_11ea_8d9e_a5bd14d0fd8arow0_col0 {\n",
       "            background-color:  #023858;\n",
       "            color:  #f1f1f1;\n",
       "        }    #T_bb9d8260_ff37_11ea_8d9e_a5bd14d0fd8arow0_col1 {\n",
       "            background-color:  #e3e0ee;\n",
       "            color:  #000000;\n",
       "        }    #T_bb9d8260_ff37_11ea_8d9e_a5bd14d0fd8arow0_col2 {\n",
       "            background-color:  #034871;\n",
       "            color:  #f1f1f1;\n",
       "        }    #T_bb9d8260_ff37_11ea_8d9e_a5bd14d0fd8arow0_col3 {\n",
       "            background-color:  #fff7fb;\n",
       "            color:  #000000;\n",
       "        }    #T_bb9d8260_ff37_11ea_8d9e_a5bd14d0fd8arow0_col4 {\n",
       "            background-color:  #4295c3;\n",
       "            color:  #000000;\n",
       "        }    #T_bb9d8260_ff37_11ea_8d9e_a5bd14d0fd8arow0_col5 {\n",
       "            background-color:  #fff7fb;\n",
       "            color:  #000000;\n",
       "        }    #T_bb9d8260_ff37_11ea_8d9e_a5bd14d0fd8arow1_col0 {\n",
       "            background-color:  #b9c6e0;\n",
       "            color:  #000000;\n",
       "        }    #T_bb9d8260_ff37_11ea_8d9e_a5bd14d0fd8arow1_col1 {\n",
       "            background-color:  #023858;\n",
       "            color:  #f1f1f1;\n",
       "        }    #T_bb9d8260_ff37_11ea_8d9e_a5bd14d0fd8arow1_col2 {\n",
       "            background-color:  #a1bbda;\n",
       "            color:  #000000;\n",
       "        }    #T_bb9d8260_ff37_11ea_8d9e_a5bd14d0fd8arow1_col3 {\n",
       "            background-color:  #dddbec;\n",
       "            color:  #000000;\n",
       "        }    #T_bb9d8260_ff37_11ea_8d9e_a5bd14d0fd8arow1_col4 {\n",
       "            background-color:  #97b7d7;\n",
       "            color:  #000000;\n",
       "        }    #T_bb9d8260_ff37_11ea_8d9e_a5bd14d0fd8arow1_col5 {\n",
       "            background-color:  #e0dded;\n",
       "            color:  #000000;\n",
       "        }    #T_bb9d8260_ff37_11ea_8d9e_a5bd14d0fd8arow2_col0 {\n",
       "            background-color:  #03476f;\n",
       "            color:  #f1f1f1;\n",
       "        }    #T_bb9d8260_ff37_11ea_8d9e_a5bd14d0fd8arow2_col1 {\n",
       "            background-color:  #c0c9e2;\n",
       "            color:  #000000;\n",
       "        }    #T_bb9d8260_ff37_11ea_8d9e_a5bd14d0fd8arow2_col2 {\n",
       "            background-color:  #023858;\n",
       "            color:  #f1f1f1;\n",
       "        }    #T_bb9d8260_ff37_11ea_8d9e_a5bd14d0fd8arow2_col3 {\n",
       "            background-color:  #f2ecf5;\n",
       "            color:  #000000;\n",
       "        }    #T_bb9d8260_ff37_11ea_8d9e_a5bd14d0fd8arow2_col4 {\n",
       "            background-color:  #328dbf;\n",
       "            color:  #000000;\n",
       "        }    #T_bb9d8260_ff37_11ea_8d9e_a5bd14d0fd8arow2_col5 {\n",
       "            background-color:  #f6eff7;\n",
       "            color:  #000000;\n",
       "        }    #T_bb9d8260_ff37_11ea_8d9e_a5bd14d0fd8arow3_col0 {\n",
       "            background-color:  #f8f1f8;\n",
       "            color:  #000000;\n",
       "        }    #T_bb9d8260_ff37_11ea_8d9e_a5bd14d0fd8arow3_col1 {\n",
       "            background-color:  #f7f0f7;\n",
       "            color:  #000000;\n",
       "        }    #T_bb9d8260_ff37_11ea_8d9e_a5bd14d0fd8arow3_col2 {\n",
       "            background-color:  #f4eef6;\n",
       "            color:  #000000;\n",
       "        }    #T_bb9d8260_ff37_11ea_8d9e_a5bd14d0fd8arow3_col3 {\n",
       "            background-color:  #023858;\n",
       "            color:  #f1f1f1;\n",
       "        }    #T_bb9d8260_ff37_11ea_8d9e_a5bd14d0fd8arow3_col4 {\n",
       "            background-color:  #f8f1f8;\n",
       "            color:  #000000;\n",
       "        }    #T_bb9d8260_ff37_11ea_8d9e_a5bd14d0fd8arow3_col5 {\n",
       "            background-color:  #023d60;\n",
       "            color:  #f1f1f1;\n",
       "        }    #T_bb9d8260_ff37_11ea_8d9e_a5bd14d0fd8arow4_col0 {\n",
       "            background-color:  #2c89bd;\n",
       "            color:  #000000;\n",
       "        }    #T_bb9d8260_ff37_11ea_8d9e_a5bd14d0fd8arow4_col1 {\n",
       "            background-color:  #a7bddb;\n",
       "            color:  #000000;\n",
       "        }    #T_bb9d8260_ff37_11ea_8d9e_a5bd14d0fd8arow4_col2 {\n",
       "            background-color:  #2786bb;\n",
       "            color:  #000000;\n",
       "        }    #T_bb9d8260_ff37_11ea_8d9e_a5bd14d0fd8arow4_col3 {\n",
       "            background-color:  #ece7f2;\n",
       "            color:  #000000;\n",
       "        }    #T_bb9d8260_ff37_11ea_8d9e_a5bd14d0fd8arow4_col4 {\n",
       "            background-color:  #023858;\n",
       "            color:  #f1f1f1;\n",
       "        }    #T_bb9d8260_ff37_11ea_8d9e_a5bd14d0fd8arow4_col5 {\n",
       "            background-color:  #ece7f2;\n",
       "            color:  #000000;\n",
       "        }    #T_bb9d8260_ff37_11ea_8d9e_a5bd14d0fd8arow5_col0 {\n",
       "            background-color:  #fff7fb;\n",
       "            color:  #000000;\n",
       "        }    #T_bb9d8260_ff37_11ea_8d9e_a5bd14d0fd8arow5_col1 {\n",
       "            background-color:  #fff7fb;\n",
       "            color:  #000000;\n",
       "        }    #T_bb9d8260_ff37_11ea_8d9e_a5bd14d0fd8arow5_col2 {\n",
       "            background-color:  #fff7fb;\n",
       "            color:  #000000;\n",
       "        }    #T_bb9d8260_ff37_11ea_8d9e_a5bd14d0fd8arow5_col3 {\n",
       "            background-color:  #023e62;\n",
       "            color:  #f1f1f1;\n",
       "        }    #T_bb9d8260_ff37_11ea_8d9e_a5bd14d0fd8arow5_col4 {\n",
       "            background-color:  #fff7fb;\n",
       "            color:  #000000;\n",
       "        }    #T_bb9d8260_ff37_11ea_8d9e_a5bd14d0fd8arow5_col5 {\n",
       "            background-color:  #023858;\n",
       "            color:  #f1f1f1;\n",
       "        }</style><table id=\"T_bb9d8260_ff37_11ea_8d9e_a5bd14d0fd8a\" ><thead>    <tr>        <th class=\"blank level0\" ></th>        <th class=\"col_heading level0 col0\" >boat_speed</th>        <th class=\"col_heading level0 col1\" >angle_of_attack</th>        <th class=\"col_heading level0 col2\" >wind_speed</th>        <th class=\"col_heading level0 col3\" >cos_target_angle</th>        <th class=\"col_heading level0 col4\" >sin_target_angle</th>        <th class=\"col_heading level0 col5\" >cos_boat_angle</th>    </tr></thead><tbody>\n",
       "                <tr>\n",
       "                        <th id=\"T_bb9d8260_ff37_11ea_8d9e_a5bd14d0fd8alevel0_row0\" class=\"row_heading level0 row0\" >boat_speed</th>\n",
       "                        <td id=\"T_bb9d8260_ff37_11ea_8d9e_a5bd14d0fd8arow0_col0\" class=\"data row0 col0\" >1.000000</td>\n",
       "                        <td id=\"T_bb9d8260_ff37_11ea_8d9e_a5bd14d0fd8arow0_col1\" class=\"data row0 col1\" >0.156842</td>\n",
       "                        <td id=\"T_bb9d8260_ff37_11ea_8d9e_a5bd14d0fd8arow0_col2\" class=\"data row0 col2\" >0.928874</td>\n",
       "                        <td id=\"T_bb9d8260_ff37_11ea_8d9e_a5bd14d0fd8arow0_col3\" class=\"data row0 col3\" >-0.181336</td>\n",
       "                        <td id=\"T_bb9d8260_ff37_11ea_8d9e_a5bd14d0fd8arow0_col4\" class=\"data row0 col4\" >0.565870</td>\n",
       "                        <td id=\"T_bb9d8260_ff37_11ea_8d9e_a5bd14d0fd8arow0_col5\" class=\"data row0 col5\" >-0.235990</td>\n",
       "            </tr>\n",
       "            <tr>\n",
       "                        <th id=\"T_bb9d8260_ff37_11ea_8d9e_a5bd14d0fd8alevel0_row1\" class=\"row_heading level0 row1\" >angle_of_attack</th>\n",
       "                        <td id=\"T_bb9d8260_ff37_11ea_8d9e_a5bd14d0fd8arow1_col0\" class=\"data row1 col0\" >0.156842</td>\n",
       "                        <td id=\"T_bb9d8260_ff37_11ea_8d9e_a5bd14d0fd8arow1_col1\" class=\"data row1 col1\" >1.000000</td>\n",
       "                        <td id=\"T_bb9d8260_ff37_11ea_8d9e_a5bd14d0fd8arow1_col2\" class=\"data row1 col2\" >0.289800</td>\n",
       "                        <td id=\"T_bb9d8260_ff37_11ea_8d9e_a5bd14d0fd8arow1_col3\" class=\"data row1 col3\" >0.046304</td>\n",
       "                        <td id=\"T_bb9d8260_ff37_11ea_8d9e_a5bd14d0fd8arow1_col4\" class=\"data row1 col4\" >0.366642</td>\n",
       "                        <td id=\"T_bb9d8260_ff37_11ea_8d9e_a5bd14d0fd8arow1_col5\" class=\"data row1 col5\" >-0.010546</td>\n",
       "            </tr>\n",
       "            <tr>\n",
       "                        <th id=\"T_bb9d8260_ff37_11ea_8d9e_a5bd14d0fd8alevel0_row2\" class=\"row_heading level0 row2\" >wind_speed</th>\n",
       "                        <td id=\"T_bb9d8260_ff37_11ea_8d9e_a5bd14d0fd8arow2_col0\" class=\"data row2 col0\" >0.928874</td>\n",
       "                        <td id=\"T_bb9d8260_ff37_11ea_8d9e_a5bd14d0fd8arow2_col1\" class=\"data row2 col1\" >0.289800</td>\n",
       "                        <td id=\"T_bb9d8260_ff37_11ea_8d9e_a5bd14d0fd8arow2_col2\" class=\"data row2 col2\" >1.000000</td>\n",
       "                        <td id=\"T_bb9d8260_ff37_11ea_8d9e_a5bd14d0fd8arow2_col3\" class=\"data row2 col3\" >-0.077719</td>\n",
       "                        <td id=\"T_bb9d8260_ff37_11ea_8d9e_a5bd14d0fd8arow2_col4\" class=\"data row2 col4\" >0.607554</td>\n",
       "                        <td id=\"T_bb9d8260_ff37_11ea_8d9e_a5bd14d0fd8arow2_col5\" class=\"data row2 col5\" >-0.160493</td>\n",
       "            </tr>\n",
       "            <tr>\n",
       "                        <th id=\"T_bb9d8260_ff37_11ea_8d9e_a5bd14d0fd8alevel0_row3\" class=\"row_heading level0 row3\" >cos_target_angle</th>\n",
       "                        <td id=\"T_bb9d8260_ff37_11ea_8d9e_a5bd14d0fd8arow3_col0\" class=\"data row3 col0\" >-0.181336</td>\n",
       "                        <td id=\"T_bb9d8260_ff37_11ea_8d9e_a5bd14d0fd8arow3_col1\" class=\"data row3 col1\" >0.046304</td>\n",
       "                        <td id=\"T_bb9d8260_ff37_11ea_8d9e_a5bd14d0fd8arow3_col2\" class=\"data row3 col2\" >-0.077719</td>\n",
       "                        <td id=\"T_bb9d8260_ff37_11ea_8d9e_a5bd14d0fd8arow3_col3\" class=\"data row3 col3\" >1.000000</td>\n",
       "                        <td id=\"T_bb9d8260_ff37_11ea_8d9e_a5bd14d0fd8arow3_col4\" class=\"data row3 col4\" >-0.031273</td>\n",
       "                        <td id=\"T_bb9d8260_ff37_11ea_8d9e_a5bd14d0fd8arow3_col5\" class=\"data row3 col5\" >0.972123</td>\n",
       "            </tr>\n",
       "            <tr>\n",
       "                        <th id=\"T_bb9d8260_ff37_11ea_8d9e_a5bd14d0fd8alevel0_row4\" class=\"row_heading level0 row4\" >sin_target_angle</th>\n",
       "                        <td id=\"T_bb9d8260_ff37_11ea_8d9e_a5bd14d0fd8arow4_col0\" class=\"data row4 col0\" >0.565870</td>\n",
       "                        <td id=\"T_bb9d8260_ff37_11ea_8d9e_a5bd14d0fd8arow4_col1\" class=\"data row4 col1\" >0.366642</td>\n",
       "                        <td id=\"T_bb9d8260_ff37_11ea_8d9e_a5bd14d0fd8arow4_col2\" class=\"data row4 col2\" >0.607554</td>\n",
       "                        <td id=\"T_bb9d8260_ff37_11ea_8d9e_a5bd14d0fd8arow4_col3\" class=\"data row4 col3\" >-0.031273</td>\n",
       "                        <td id=\"T_bb9d8260_ff37_11ea_8d9e_a5bd14d0fd8arow4_col4\" class=\"data row4 col4\" >1.000000</td>\n",
       "                        <td id=\"T_bb9d8260_ff37_11ea_8d9e_a5bd14d0fd8arow4_col5\" class=\"data row4 col5\" >-0.080009</td>\n",
       "            </tr>\n",
       "            <tr>\n",
       "                        <th id=\"T_bb9d8260_ff37_11ea_8d9e_a5bd14d0fd8alevel0_row5\" class=\"row_heading level0 row5\" >cos_boat_angle</th>\n",
       "                        <td id=\"T_bb9d8260_ff37_11ea_8d9e_a5bd14d0fd8arow5_col0\" class=\"data row5 col0\" >-0.235990</td>\n",
       "                        <td id=\"T_bb9d8260_ff37_11ea_8d9e_a5bd14d0fd8arow5_col1\" class=\"data row5 col1\" >-0.010546</td>\n",
       "                        <td id=\"T_bb9d8260_ff37_11ea_8d9e_a5bd14d0fd8arow5_col2\" class=\"data row5 col2\" >-0.160493</td>\n",
       "                        <td id=\"T_bb9d8260_ff37_11ea_8d9e_a5bd14d0fd8arow5_col3\" class=\"data row5 col3\" >0.972123</td>\n",
       "                        <td id=\"T_bb9d8260_ff37_11ea_8d9e_a5bd14d0fd8arow5_col4\" class=\"data row5 col4\" >-0.080009</td>\n",
       "                        <td id=\"T_bb9d8260_ff37_11ea_8d9e_a5bd14d0fd8arow5_col5\" class=\"data row5 col5\" >1.000000</td>\n",
       "            </tr>\n",
       "    </tbody></table>"
      ],
      "text/plain": [
       "<pandas.io.formats.style.Styler at 0x7f2ac8931400>"
      ]
     },
     "execution_count": 258,
     "metadata": {},
     "output_type": "execute_result"
    }
   ],
   "source": [
    "corr = df_reordered.corr()\n",
    "corr.style.background_gradient()"
   ]
  },
  {
   "cell_type": "markdown",
   "metadata": {},
   "source": [
    "## Create Features and Labels\n",
    "#### Split the data into 80% training, 10% validation and 10% testing."
   ]
  },
  {
   "cell_type": "markdown",
   "metadata": {
    "nbpresent": {
     "id": "ff9d10f9-b611-423b-80da-6dcdafd1c8b9"
    }
   },
   "source": [
    "Now, we'll convert the datasets to the recordIO-wrapped protobuf format used by the Amazon SageMaker algorithms, and then upload this data to S3.  We'll start with training data."
   ]
  },
  {
   "cell_type": "code",
   "execution_count": 259,
   "metadata": {},
   "outputs": [],
   "source": [
    "def save_train_and_validation_data_to_s3(bucket, test_name, data) :\n",
    "    rand_split = np.random.rand(len(data))\n",
    "    train_list = rand_split < 0.8\n",
    "    val_list = (rand_split >= 0.8) & (rand_split < 0.9)\n",
    "    test_list = rand_split >= 0.9\n",
    "\n",
    "    data_train = data[train_list]\n",
    "    data_val = data[val_list]\n",
    "    data_test = data[test_list]\n",
    "\n",
    "    train_y = data_train.iloc[:,-1].to_numpy();\n",
    "    train_X = data_train.iloc[:,:-1].to_numpy();\n",
    "    print(train_X)\n",
    "    print(train_y)\n",
    "\n",
    "    val_y = data_val.iloc[:,-1].to_numpy();\n",
    "    val_X = data_val.iloc[:,:-1].to_numpy();\n",
    "\n",
    "    test_y = data_test.iloc[:,-1].to_numpy();\n",
    "    test_X = data_test.iloc[:,:-1].to_numpy();\n",
    "    train_file = 'linear_train.data'\n",
    "\n",
    "    f = io.BytesIO()\n",
    "    smac.write_numpy_to_dense_tensor(f, train_X.astype('float32'), train_y.astype('float32'))\n",
    "    f.seek(0)\n",
    "    boto3.Session().resource('s3').Bucket(bucket).Object(os.path.join(prefix, test_name, 'train', train_file)).upload_fileobj(f)\n",
    "    validation_file = 'linear_validation.data'\n",
    "    \n",
    "    f = io.BytesIO()\n",
    "    smac.write_numpy_to_dense_tensor(f, val_X.astype('float32'), val_y.astype('float32'))\n",
    "    f.seek(0)\n",
    "    boto3.Session().resource('s3').Bucket(bucket).Object(os.path.join(prefix, test_name,'validation', validation_file)).upload_fileobj(f)\n",
    "    return (test_X, test_y)"
   ]
  },
  {
   "cell_type": "code",
   "execution_count": 260,
   "metadata": {},
   "outputs": [
    {
     "name": "stdout",
     "output_type": "stream",
     "text": [
      "[[ 7.73236000e+00 -1.23944700e+02  9.43467000e+00 -4.49819941e-01\n",
      "  -8.93119265e-01]\n",
      " [ 7.78952000e+00 -1.24944700e+02  9.59005000e+00 -5.59672099e-01\n",
      "  -8.28714149e-01]\n",
      " [ 7.81913000e+00 -1.24944700e+02  9.66396000e+00 -5.15458493e-01\n",
      "  -8.56914548e-01]\n",
      " ...\n",
      " [ 3.03315000e+00  1.30213000e+02  3.14956000e+00 -9.91917429e-01\n",
      "   1.26885045e-01]\n",
      " [ 2.95132000e+00  1.35226500e+02  3.25623000e+00 -8.93192993e-01\n",
      "  -4.49673522e-01]\n",
      " [ 2.99092000e+00  1.35226500e+02  3.29993000e+00 -7.13218943e-01\n",
      "  -7.00941324e-01]]\n",
      "[-0.49821023 -0.51231824 -0.52181147 ... -0.99269679 -0.92177507\n",
      " -0.90366749]\n"
     ]
    }
   ],
   "source": [
    "test_name = 'default'\n",
    "\n",
    "test_X, test_y = save_train_and_validation_data_to_s3(bucket, test_name, df_reordered)"
   ]
  },
  {
   "cell_type": "markdown",
   "metadata": {
    "nbpresent": {
     "id": "f3b125ad-a2d5-464c-8cfa-bd203034eee4"
    }
   },
   "source": [
    "---\n",
    "## Train\n",
    "\n",
    "Now we can begin to specify our linear model.  Amazon SageMaker's Linear Learner actually fits many models in parallel, each with slightly different hyperparameters, and then returns the one with the best fit.  This functionality is automatically enabled.  We can influence this using parameters like:\n",
    "\n",
    "- `num_models` to increase to total number of models run.  The specified parameters will always be one of those models, but the algorithm also chooses models with nearby parameter values in order to find a solution nearby that may be more optimal.  In this case, we're going to use the max of 32.\n",
    "- `loss` which controls how we penalize mistakes in our model estimates.  For this case, let's use absolute loss as we haven't spent much time cleaning the data, and absolute loss will be less sensitive to outliers.\n",
    "- `wd` or `l1` which control regularization.  Regularization can prevent model overfitting by preventing our estimates from becoming too finely tuned to the training data, which can actually hurt generalizability.  In this case, we'll leave these parameters as their default \"auto\" though."
   ]
  },
  {
   "cell_type": "code",
   "execution_count": 261,
   "metadata": {},
   "outputs": [],
   "source": [
    "def launch_training(sm, container, bucket, prefix, test_number, instance_type, hyperparameters):\n",
    "\n",
    "    linear_job = 'VR-cos-regression-' + time.strftime(\"%Y-%m-%d-%H-%M-%S\", time.gmtime())\n",
    "\n",
    "    print(\"Job name is:\", linear_job)\n",
    "\n",
    "    linear_training_params = {\n",
    "        \"RoleArn\": role,\n",
    "        \"TrainingJobName\": linear_job,\n",
    "        \"AlgorithmSpecification\": {\n",
    "            \"TrainingImage\": container,\n",
    "            \"TrainingInputMode\": \"File\"\n",
    "        },\n",
    "        \"ResourceConfig\": {\n",
    "            \"InstanceCount\": 1,\n",
    "            \"InstanceType\": instance_type,\n",
    "            \"VolumeSizeInGB\": 1\n",
    "        },\n",
    "        \"InputDataConfig\": [\n",
    "            {\n",
    "                \"ChannelName\": \"train\",\n",
    "                \"DataSource\": {\n",
    "                    \"S3DataSource\": {\n",
    "                        \"S3DataType\": \"S3Prefix\",\n",
    "                        \"S3Uri\": \"s3://{}/{}/{}/train/\".format(bucket, prefix, test_number),\n",
    "                        \"S3DataDistributionType\": \"ShardedByS3Key\"\n",
    "                    }\n",
    "                },\n",
    "                \"CompressionType\": \"None\",\n",
    "                \"RecordWrapperType\": \"None\"\n",
    "            },\n",
    "            {\n",
    "                \"ChannelName\": \"validation\",\n",
    "                \"DataSource\": {\n",
    "                    \"S3DataSource\": {\n",
    "                        \"S3DataType\": \"S3Prefix\",\n",
    "                        \"S3Uri\": \"s3://{}/{}/{}/validation/\".format(bucket, prefix, test_number),\n",
    "                        \"S3DataDistributionType\": \"FullyReplicated\"\n",
    "                    }\n",
    "                },\n",
    "                \"CompressionType\": \"None\",\n",
    "                \"RecordWrapperType\": \"None\"\n",
    "            }\n",
    "\n",
    "        ],\n",
    "        \"OutputDataConfig\": {\n",
    "            \"S3OutputPath\": \"s3://{}/{}/{}/\".format(bucket, prefix, test_number)\n",
    "        },\n",
    "        \"HyperParameters\": hyperparameters,\n",
    "        \"StoppingCondition\": {\n",
    "            \"MaxRuntimeInSeconds\": 60 * 60\n",
    "        }\n",
    "    }\n",
    "\n",
    "    sm.create_training_job(**linear_training_params)\n",
    "\n",
    "    status = sm.describe_training_job(TrainingJobName=linear_job)['TrainingJobStatus']\n",
    "    print(status)\n",
    "    sm.get_waiter('training_job_completed_or_stopped').wait(TrainingJobName=linear_job)\n",
    "    print(\"training done\")\n",
    "    return linear_job\n",
    "    if status == 'Failed':\n",
    "        message = sm.describe_training_job(TrainingJobName=linear_job)['FailureReason']\n",
    "        print('Training failed with the following error: {}'.format(message))\n",
    "        raise Exception('Training job failed')"
   ]
  },
  {
   "cell_type": "markdown",
   "metadata": {},
   "source": [
    "### Specify container images used for training and hosting SageMaker's linear-learner"
   ]
  },
  {
   "cell_type": "code",
   "execution_count": 262,
   "metadata": {},
   "outputs": [
    {
     "name": "stderr",
     "output_type": "stream",
     "text": [
      "'get_image_uri' method will be deprecated in favor of 'ImageURIProvider' class in SageMaker Python SDK v2.\n"
     ]
    }
   ],
   "source": [
    "# See 'Algorithms Provided by Amazon SageMaker: Common Parameters' in the SageMaker documentation for an explanation of these values.\n",
    "container = get_image_uri(boto3.Session().region_name, 'linear-learner')"
   ]
  },
  {
   "cell_type": "markdown",
   "metadata": {},
   "source": [
    "Now let's kick off our training job in SageMaker's distributed, managed training, using the parameters we just created.  Because training is managed, we don't have to wait for our job to finish to continue, but for this case, let's use boto3's 'training_job_completed_or_stopped' waiter so we can ensure that the job has been started."
   ]
  },
  {
   "cell_type": "code",
   "execution_count": 263,
   "metadata": {},
   "outputs": [
    {
     "name": "stdout",
     "output_type": "stream",
     "text": [
      "Job name is: VR-cos-regression-2020-09-25-14-02-22\n",
      "InProgress\n",
      "training done\n"
     ]
    }
   ],
   "source": [
    "region = boto3.Session().region_name\n",
    "sm = boto3.client('sagemaker')\n",
    "hyperparameters = {\n",
    "        \"feature_dim\": \"5\",\n",
    "        \"mini_batch_size\": \"64\",\n",
    "        \"predictor_type\": \"regressor\",\n",
    "        \"epochs\": \"100\",\n",
    "        \"num_models\": \"32\",\n",
    "        \"loss\": \"absolute_loss\"\n",
    "    }\n",
    "instance_type = \"ml.m5.large\"\n",
    "\n",
    "linear_job = launch_training(sm, container, bucket, prefix, test_name, instance_type, hyperparameters)"
   ]
  },
  {
   "cell_type": "markdown",
   "metadata": {
    "nbpresent": {
     "id": "2adcc348-9ab5-4a8a-8139-d0ecd740208a"
    }
   },
   "source": [
    "---\n",
    "## Host\n",
    "\n",
    "Now that we've trained the linear algorithm on our data, let's setup a model which can later be hosted.  We will:\n",
    "1. Point to the scoring container\n",
    "1. Point to the model.tar.gz that came from training\n",
    "1. Create the hosting model"
   ]
  },
  {
   "cell_type": "markdown",
   "metadata": {},
   "source": [
    "Once we've setup a model, we can configure what our hosting endpoints should be.  Here we specify:\n",
    "1. EC2 instance type to use for hosting\n",
    "1. Initial number of instances\n",
    "1. Our hosting model name"
   ]
  },
  {
   "cell_type": "markdown",
   "metadata": {},
   "source": [
    "Now that we've specified how our endpoint should be configured, we can create them.  This can be done in the background, but for now let's run a loop that updates us on the status of the endpoints so that we know when they are ready for use."
   ]
  },
  {
   "cell_type": "code",
   "execution_count": 264,
   "metadata": {},
   "outputs": [],
   "source": [
    "def launch_endpoint(container, linear_job, role, instance_type) :\n",
    "\n",
    "    linear_hosting_container = {\n",
    "        'Image': container,\n",
    "        'ModelDataUrl': sm.describe_training_job(TrainingJobName=linear_job)['ModelArtifacts']['S3ModelArtifacts']\n",
    "    }\n",
    "\n",
    "    create_model_response = sm.create_model(\n",
    "    ModelName=linear_job,\n",
    "        ExecutionRoleArn=role,\n",
    "        PrimaryContainer=linear_hosting_container)\n",
    "\n",
    "    print(create_model_response['ModelArn'])\n",
    "\n",
    "    linear_endpoint_config = 'VR-cos-regression-endpoint-config-' + time.strftime(\"%Y-%m-%d-%H-%M-%S\", time.gmtime())\n",
    "    print(linear_endpoint_config)\n",
    "    create_endpoint_config_response = sm.create_endpoint_config(\n",
    "        EndpointConfigName=linear_endpoint_config,\n",
    "        ProductionVariants=[{\n",
    "            'InstanceType': instance_type,\n",
    "            'InitialInstanceCount': 1,\n",
    "            'ModelName': linear_job,\n",
    "            'VariantName': 'AllTraffic'}])\n",
    "\n",
    "    print(\"Endpoint Config Arn: \" + create_endpoint_config_response['EndpointConfigArn'])\n",
    "\n",
    "    linear_endpoint = 'VR-cos-regression-endpoint-' + time.strftime(\"%Y%m%d%H%M\", time.gmtime())\n",
    "    print(linear_endpoint)\n",
    "    create_endpoint_response = sm.create_endpoint(\n",
    "        EndpointName=linear_endpoint,\n",
    "        EndpointConfigName=linear_endpoint_config)\n",
    "    print(create_endpoint_response['EndpointArn'])\n",
    "\n",
    "    resp = sm.describe_endpoint(EndpointName=linear_endpoint)\n",
    "    status = resp['EndpointStatus']\n",
    "    print(\"Status: \" + status)\n",
    "\n",
    "    sm.get_waiter('endpoint_in_service').wait(EndpointName=linear_endpoint)\n",
    "\n",
    "    resp = sm.describe_endpoint(EndpointName=linear_endpoint)\n",
    "    status = resp['EndpointStatus']\n",
    "    print(\"Arn: \" + resp['EndpointArn'])\n",
    "    print(\"Status: \" + status)\n",
    "    return linear_endpoint\n",
    "    if status != 'InService':\n",
    "        raise Exception('Endpoint creation did not succeed')"
   ]
  },
  {
   "cell_type": "code",
   "execution_count": 265,
   "metadata": {},
   "outputs": [
    {
     "name": "stdout",
     "output_type": "stream",
     "text": [
      "arn:aws:sagemaker:eu-west-2:281633979087:model/vr-cos-regression-2020-09-25-14-02-22\n",
      "VR-cos-regression-endpoint-config-2020-09-25-14-06-23\n",
      "Endpoint Config Arn: arn:aws:sagemaker:eu-west-2:281633979087:endpoint-config/vr-cos-regression-endpoint-config-2020-09-25-14-06-23\n",
      "VR-cos-regression-endpoint-202009251406\n",
      "arn:aws:sagemaker:eu-west-2:281633979087:endpoint/vr-cos-regression-endpoint-202009251406\n",
      "Status: Creating\n",
      "Arn: arn:aws:sagemaker:eu-west-2:281633979087:endpoint/vr-cos-regression-endpoint-202009251406\n",
      "Status: InService\n",
      "CPU times: user 257 ms, sys: 0 ns, total: 257 ms\n",
      "Wall time: 7min 31s\n"
     ]
    }
   ],
   "source": [
    "%%time\n",
    "\n",
    "instance_type = 'ml.t2.medium'\n",
    "\n",
    "linear_endpoint = launch_endpoint(container, linear_job, role, instance_type)"
   ]
  },
  {
   "cell_type": "markdown",
   "metadata": {},
   "source": [
    "## Predict\n",
    "### Predict on Test Data\n",
    "\n",
    "Now that we have our hosted endpoint, we can generate statistical predictions from it.  Let's predict on our test dataset to understand how accurate our model is.\n",
    "\n",
    "There are many metrics to measure classification accuracy.  Common examples include include:\n",
    "- Precision\n",
    "- Recall\n",
    "- F1 measure\n",
    "- Area under the ROC curve - AUC\n",
    "- Total Classification Accuracy \n",
    "- Mean Absolute Error\n",
    "\n",
    "For our example, we'll keep things simple and use total classification accuracy as our metric of choice. We will also evaluate  Mean Absolute  Error (MAE) as the linear-learner has been optimized using this metric, not necessarily because it is a relevant metric from an application point of view. We'll compare the performance of the linear-learner against a naive benchmark prediction which uses majority class observed in the training data set for prediction on the test data.\n",
    "\n",
    "\n"
   ]
  },
  {
   "cell_type": "markdown",
   "metadata": {},
   "source": [
    "### Function to convert an array to a csv"
   ]
  },
  {
   "cell_type": "code",
   "execution_count": 266,
   "metadata": {},
   "outputs": [],
   "source": [
    "def np2csv(arr):\n",
    "    csv = io.BytesIO()\n",
    "    np.savetxt(csv, arr, delimiter=',', fmt='%g')\n",
    "    return csv.getvalue().decode().rstrip()"
   ]
  },
  {
   "cell_type": "markdown",
   "metadata": {},
   "source": [
    "Next, we'll invoke the endpoint to get predictions."
   ]
  },
  {
   "cell_type": "code",
   "execution_count": 267,
   "metadata": {},
   "outputs": [
    {
     "data": {
      "text/plain": [
       "<matplotlib.axes._subplots.AxesSubplot at 0x7f2ac8772780>"
      ]
     },
     "execution_count": 267,
     "metadata": {},
     "output_type": "execute_result"
    },
    {
     "data": {
      "image/png": "[encoded data removed]",
      "text/plain": [
       "<Figure size 432x288 with 1 Axes>"
      ]
     },
     "metadata": {
      "needs_background": "light"
     },
     "output_type": "display_data"
    }
   ],
   "source": [
    "runtime= boto3.client('runtime.sagemaker')\n",
    "\n",
    "payload = np2csv(test_X)\n",
    "response = runtime.invoke_endpoint(EndpointName=linear_endpoint,\n",
    "                                   ContentType='text/csv',\n",
    "                                   Body=payload)\n",
    "result = json.loads(response['Body'].read().decode())\n",
    "test_pred = np.array([r['score'] for r in result['predictions']])\n",
    "\n",
    "zer = pd.DataFrame(test_pred)\n",
    "zer['GT'] = test_y\n",
    "zer[0][0:100].plot()\n",
    "zer['GT'][0:100].plot()"
   ]
  },
  {
   "cell_type": "code",
   "execution_count": 271,
   "metadata": {
    "scrolled": true
   },
   "outputs": [
    {
     "data": {
      "text/plain": [
       "<matplotlib.axes._subplots.AxesSubplot at 0x7f2ac8ea35c0>"
      ]
     },
     "execution_count": 271,
     "metadata": {},
     "output_type": "execute_result"
    },
    {
     "data": {
      "image/png": "[encoded data removed]",
      "text/plain": [
       "<Figure size 432x288 with 1 Axes>"
      ]
     },
     "metadata": {
      "needs_background": "light"
     },
     "output_type": "display_data"
    }
   ],
   "source": [
    "test = pd.DataFrame(columns=['x', 'y'])\n",
    "\n",
    "test.x = test_y\n",
    "test.y = test_pred\n",
    "\n",
    "test.plot.scatter(x='x',y='y')"
   ]
  },
  {
   "cell_type": "markdown",
   "metadata": {},
   "source": [
    "Let's compare linear learner based mean absolute prediction errors from a baseline prediction which uses majority class to predict every instance."
   ]
  },
  {
   "cell_type": "code",
   "execution_count": 269,
   "metadata": {},
   "outputs": [
    {
     "name": "stdout",
     "output_type": "stream",
     "text": [
      "Test MAE Linear: 0.091\n"
     ]
    }
   ],
   "source": [
    "test_mae_linear = np.mean(np.abs(test_y - test_pred))\n",
    "\n",
    "print(\"Test MAE Linear:\", round(test_mae_linear,3))"
   ]
  },
  {
   "cell_type": "code",
   "execution_count": 270,
   "metadata": {},
   "outputs": [
    {
     "name": "stdout",
     "output_type": "stream",
     "text": [
      "Test MSE: 0.027\n"
     ]
    }
   ],
   "source": [
    "from sklearn.metrics import mean_squared_error\n",
    "\n",
    "mse = mean_squared_error(test_y, test_pred)\n",
    "print(\"Test MSE:\", round(mse,3))"
   ]
  },
  {
   "cell_type": "markdown",
   "metadata": {},
   "source": [
    "---\n",
    "## Extensions\n",
    "\n",
    "- Our linear model does a good job of predicting breast cancer and has an overall accuracy of close to 92%. We can re-run the model with different values of the hyper-parameters, loss functions etc and see if we get improved prediction. Re-running the model with further tweaks to these hyperparameters may provide more accurate out-of-sample predictions.\n",
    "- We also did not do much feature engineering. We can create additional features by considering cross-product/intreaction of multiple features, squaring or raising higher powers of the features to induce non-linear effects, etc. If we expand the features using non-linear terms and interactions, we can then tweak the regulaization parameter to optimize the expanded model and hence generate improved forecasts.\n",
    "- As a further extension, we can use many of non-linear models available through SageMaker such as XGBoost, MXNet etc.\n"
   ]
  }
 ],
 "metadata": {
  "celltoolbar": "Tags",
  "kernelspec": {
   "display_name": "conda_python3",
   "language": "python",
   "name": "conda_python3"
  },
  "language_info": {
   "codemirror_mode": {
    "name": "ipython",
    "version": 3
   },
   "file_extension": ".py",
   "mimetype": "text/x-python",
   "name": "python",
   "nbconvert_exporter": "python",
   "pygments_lexer": "ipython3",
   "version": "3.6.10"
  },
  "notice": "Copyright 2017 Amazon.com, Inc. or its affiliates. All Rights Reserved.  Licensed under the Apache License, Version 2.0 (the License). You may not use this file except in compliance with the License. A copy of the License is located at http://aws.amazon.com/apache2.0/ or in the license file accompanying this file. This file is distributed on an AS IS BASIS, WITHOUT WARRANTIES OR CONDITIONS OF ANY KIND, either express or implied. See the License for the specific language governing permissions and limitations under the License."
 },
 "nbformat": 4,
 "nbformat_minor": 4
}
