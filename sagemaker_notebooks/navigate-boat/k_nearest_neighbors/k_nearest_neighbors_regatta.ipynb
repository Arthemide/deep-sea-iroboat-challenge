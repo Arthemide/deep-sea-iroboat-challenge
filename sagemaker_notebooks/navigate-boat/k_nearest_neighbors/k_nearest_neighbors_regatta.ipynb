{
 "cells": [
  {
   "cell_type": "markdown",
   "metadata": {},
   "source": [
    "# Introduction\n",
    "\n",
    "k-Nearest-Neighbors (kNN) is a simple technique for classification. The idea behind\n",
    "it is that similar data points should have the same class, at least most of the time.\n",
    "This method is very intuitive and has proven itself in many domains including\n",
    "recommendation systems, anomaly detection, image/text classification and more.\n",
    "\n",
    "In what follows we present a detailed example of a multi-class classification objective. The dataset we use contains information collected by the US Geological Survey and the US Forest Service about wilderness areas in northern Colorado. The features are measurements like soil type, elevation, and distance to water, and the labels encode the type of trees - the forest cover type - for each location. The machine learning task is to predict the cover type in a given location using the features. Overall there are seven cover types.\n",
    "\n",
    "The notebook has two sections. In the first, we use Amazon SageMaker's python SDK in order to train a kNN classifier in its simplest setting. We explain the components common to all Amazon SageMaker's algorithms including uploading data to Amazon S3, training a model, and setting up an endpoint for online inference. In the second section we dive deeper into the details of Amazon SageMaker kNN. We explain the different knobs (hyper-parameters) associated with it, and demonstrate how each setting can lead to a somewhat different accuracy and latency at inference time.\n"
   ]
  },
  {
   "cell_type": "markdown",
   "metadata": {
    "collapsed": true
   },
   "source": [
    "# Part 1: Running kNN in 5 minutes\n",
    "\n",
    "## Dataset\n"
   ]
  },
  {
   "cell_type": "code",
   "execution_count": 222,
   "metadata": {
    "scrolled": true
   },
   "outputs": [],
   "source": [
    "import boto3\n",
    "import os\n",
    "\n",
    "\n",
    "def downloadDirectoryFroms3(bucketName, remoteDirectoryName):\n",
    "    s3_resource = boto3.resource('s3')\n",
    "    bucket = s3_resource.Bucket(bucketName) \n",
    "    for obj in bucket.objects.filter(Prefix = remoteDirectoryName):\n",
    "        if not os.path.exists(os.path.dirname(obj.key)):\n",
    "            os.makedirs(os.path.dirname(obj.key))\n",
    "        bucket.download_file(obj.key, obj.key)"
   ]
  },
  {
   "cell_type": "code",
   "execution_count": 223,
   "metadata": {},
   "outputs": [],
   "source": [
    "bucket = 'virtual-regatta'\n",
    "folder = 'logs_players/'\n",
    "\n",
    "downloadDirectoryFroms3(bucket, folder)"
   ]
  },
  {
   "cell_type": "code",
   "execution_count": 224,
   "metadata": {},
   "outputs": [],
   "source": [
    "import pandas as pd\n",
    "from os.path import join\n",
    "\n",
    "def aggregate_players_record(folder) :\n",
    "    df_global = pd.DataFrame(columns=['datetime','boat_speed','boat_angle','wind_speed', 'angle_of_attack', 'lat', 'lon', 'target_angle'])\n",
    "    for file in os.listdir(folder):\n",
    "        df = pd.read_csv(join(folder, file))\n",
    "        df_global = df_global.append(df, ignore_index=True)\n",
    "    df_global.set_index('datetime')\n",
    "    return df_global"
   ]
  },
  {
   "cell_type": "code",
   "execution_count": 225,
   "metadata": {},
   "outputs": [],
   "source": [
    "data = aggregate_players_record(folder)"
   ]
  },
  {
   "cell_type": "markdown",
   "metadata": {},
   "source": [
    "## Pre-Processing the Data\n",
    "Now that we have the raw data, let's process it. \n",
    "We'll first load the data into numpy arrays, and randomly split it into train and test with a 90/10 split."
   ]
  },
  {
   "cell_type": "code",
   "execution_count": 234,
   "metadata": {},
   "outputs": [],
   "source": [
    "def angleFromCoordinate(lat1, long1, lat2, long2):\n",
    "    dLon = (long2 - long1)\n",
    "\n",
    "    y = math.sin(dLon) * math.cos(lat2)\n",
    "    x = math.cos(lat1) * math.sin(lat2) - math.sin(lat1) * math.cos(lat2) * math.cos(dLon)\n",
    "\n",
    "    brng = math.atan2(y, x)\n",
    "\n",
    "    brng = math.degrees(brng)\n",
    "    brng = (brng + 360) % 360\n",
    "    brng = 360 - brng # count degrees clockwise - remove to make counter-clockwise\n",
    "\n",
    "    return brng"
   ]
  },
  {
   "cell_type": "code",
   "execution_count": 240,
   "metadata": {},
   "outputs": [
    {
     "data": {
      "text/html": [
       "<div>\n",
       "<style scoped>\n",
       "    .dataframe tbody tr th:only-of-type {\n",
       "        vertical-align: middle;\n",
       "    }\n",
       "\n",
       "    .dataframe tbody tr th {\n",
       "        vertical-align: top;\n",
       "    }\n",
       "\n",
       "    .dataframe thead th {\n",
       "        text-align: right;\n",
       "    }\n",
       "</style>\n",
       "<table border=\"1\" class=\"dataframe\">\n",
       "  <thead>\n",
       "    <tr style=\"text-align: right;\">\n",
       "      <th></th>\n",
       "      <th>boat_speed</th>\n",
       "      <th>boat_angle</th>\n",
       "      <th>wind_speed</th>\n",
       "      <th>angle_of_attack</th>\n",
       "      <th>lat</th>\n",
       "      <th>lon</th>\n",
       "      <th>target_angle</th>\n",
       "    </tr>\n",
       "  </thead>\n",
       "  <tbody>\n",
       "    <tr>\n",
       "      <th>count</th>\n",
       "      <td>5260.000000</td>\n",
       "      <td>5260.000000</td>\n",
       "      <td>5260.000000</td>\n",
       "      <td>5260.000000</td>\n",
       "      <td>5260.000000</td>\n",
       "      <td>5260.000000</td>\n",
       "      <td>5260.000000</td>\n",
       "    </tr>\n",
       "    <tr>\n",
       "      <th>mean</th>\n",
       "      <td>5.076737</td>\n",
       "      <td>200.333415</td>\n",
       "      <td>7.745233</td>\n",
       "      <td>10.437897</td>\n",
       "      <td>43.987994</td>\n",
       "      <td>7.676934</td>\n",
       "      <td>251.857534</td>\n",
       "    </tr>\n",
       "    <tr>\n",
       "      <th>std</th>\n",
       "      <td>1.994001</td>\n",
       "      <td>113.134655</td>\n",
       "      <td>4.749029</td>\n",
       "      <td>79.002254</td>\n",
       "      <td>2.525618</td>\n",
       "      <td>5.628771</td>\n",
       "      <td>126.729601</td>\n",
       "    </tr>\n",
       "    <tr>\n",
       "      <th>min</th>\n",
       "      <td>0.000000</td>\n",
       "      <td>1.553530</td>\n",
       "      <td>2.000000</td>\n",
       "      <td>-177.061360</td>\n",
       "      <td>42.563000</td>\n",
       "      <td>-7.939762</td>\n",
       "      <td>0.971552</td>\n",
       "    </tr>\n",
       "    <tr>\n",
       "      <th>25%</th>\n",
       "      <td>4.188560</td>\n",
       "      <td>115.947340</td>\n",
       "      <td>5.885670</td>\n",
       "      <td>-45.000400</td>\n",
       "      <td>42.805219</td>\n",
       "      <td>9.399001</td>\n",
       "      <td>115.349592</td>\n",
       "    </tr>\n",
       "    <tr>\n",
       "      <th>50%</th>\n",
       "      <td>4.601700</td>\n",
       "      <td>181.000000</td>\n",
       "      <td>6.280090</td>\n",
       "      <td>44.645750</td>\n",
       "      <td>42.916339</td>\n",
       "      <td>9.845756</td>\n",
       "      <td>322.392998</td>\n",
       "    </tr>\n",
       "    <tr>\n",
       "      <th>75%</th>\n",
       "      <td>5.127760</td>\n",
       "      <td>315.405215</td>\n",
       "      <td>6.760455</td>\n",
       "      <td>45.657610</td>\n",
       "      <td>43.520607</td>\n",
       "      <td>10.038305</td>\n",
       "      <td>343.050776</td>\n",
       "    </tr>\n",
       "    <tr>\n",
       "      <th>max</th>\n",
       "      <td>9.954010</td>\n",
       "      <td>356.916770</td>\n",
       "      <td>21.077130</td>\n",
       "      <td>162.784680</td>\n",
       "      <td>50.832882</td>\n",
       "      <td>10.313076</td>\n",
       "      <td>357.215342</td>\n",
       "    </tr>\n",
       "  </tbody>\n",
       "</table>\n",
       "</div>"
      ],
      "text/plain": [
       "        boat_speed   boat_angle   wind_speed  angle_of_attack          lat  \\\n",
       "count  5260.000000  5260.000000  5260.000000      5260.000000  5260.000000   \n",
       "mean      5.076737   200.333415     7.745233        10.437897    43.987994   \n",
       "std       1.994001   113.134655     4.749029        79.002254     2.525618   \n",
       "min       0.000000     1.553530     2.000000      -177.061360    42.563000   \n",
       "25%       4.188560   115.947340     5.885670       -45.000400    42.805219   \n",
       "50%       4.601700   181.000000     6.280090        44.645750    42.916339   \n",
       "75%       5.127760   315.405215     6.760455        45.657610    43.520607   \n",
       "max       9.954010   356.916770    21.077130       162.784680    50.832882   \n",
       "\n",
       "               lon  target_angle  \n",
       "count  5260.000000   5260.000000  \n",
       "mean      7.676934    251.857534  \n",
       "std       5.628771    126.729601  \n",
       "min      -7.939762      0.971552  \n",
       "25%       9.399001    115.349592  \n",
       "50%       9.845756    322.392998  \n",
       "75%      10.038305    343.050776  \n",
       "max      10.313076    357.215342  "
      ]
     },
     "execution_count": 240,
     "metadata": {},
     "output_type": "execute_result"
    }
   ],
   "source": [
    "data.describe()"
   ]
  },
  {
   "cell_type": "code",
   "execution_count": 239,
   "metadata": {},
   "outputs": [
    {
     "data": {
      "text/html": [
       "<div>\n",
       "<style scoped>\n",
       "    .dataframe tbody tr th:only-of-type {\n",
       "        vertical-align: middle;\n",
       "    }\n",
       "\n",
       "    .dataframe tbody tr th {\n",
       "        vertical-align: top;\n",
       "    }\n",
       "\n",
       "    .dataframe thead th {\n",
       "        text-align: right;\n",
       "    }\n",
       "</style>\n",
       "<table border=\"1\" class=\"dataframe\">\n",
       "  <thead>\n",
       "    <tr style=\"text-align: right;\">\n",
       "      <th></th>\n",
       "      <th>datetime</th>\n",
       "      <th>boat_speed</th>\n",
       "      <th>boat_angle</th>\n",
       "      <th>wind_speed</th>\n",
       "      <th>angle_of_attack</th>\n",
       "      <th>lat</th>\n",
       "      <th>lon</th>\n",
       "      <th>target_angle</th>\n",
       "    </tr>\n",
       "  </thead>\n",
       "  <tbody>\n",
       "    <tr>\n",
       "      <th>0</th>\n",
       "      <td>2020-09-03 13:30:22</td>\n",
       "      <td>4.59649</td>\n",
       "      <td>170.8058</td>\n",
       "      <td>4.94541</td>\n",
       "      <td>123.33377</td>\n",
       "      <td>43.540166</td>\n",
       "      <td>9.288994</td>\n",
       "      <td>343.050776</td>\n",
       "    </tr>\n",
       "    <tr>\n",
       "      <th>1</th>\n",
       "      <td>2020-09-03 13:35:20</td>\n",
       "      <td>4.66457</td>\n",
       "      <td>170.8058</td>\n",
       "      <td>5.02156</td>\n",
       "      <td>122.93140</td>\n",
       "      <td>43.533812</td>\n",
       "      <td>9.290413</td>\n",
       "      <td>343.050776</td>\n",
       "    </tr>\n",
       "    <tr>\n",
       "      <th>2</th>\n",
       "      <td>2020-09-03 13:45:16</td>\n",
       "      <td>4.74133</td>\n",
       "      <td>170.8058</td>\n",
       "      <td>5.10141</td>\n",
       "      <td>123.31155</td>\n",
       "      <td>43.520986</td>\n",
       "      <td>9.293276</td>\n",
       "      <td>343.050776</td>\n",
       "    </tr>\n",
       "    <tr>\n",
       "      <th>3</th>\n",
       "      <td>2020-09-03 13:55:12</td>\n",
       "      <td>4.81348</td>\n",
       "      <td>170.8058</td>\n",
       "      <td>5.17579</td>\n",
       "      <td>123.74926</td>\n",
       "      <td>43.507961</td>\n",
       "      <td>9.296183</td>\n",
       "      <td>343.050776</td>\n",
       "    </tr>\n",
       "    <tr>\n",
       "      <th>4</th>\n",
       "      <td>2020-09-03 14:05:08</td>\n",
       "      <td>4.88091</td>\n",
       "      <td>170.8058</td>\n",
       "      <td>5.24458</td>\n",
       "      <td>124.24321</td>\n",
       "      <td>43.494741</td>\n",
       "      <td>9.299133</td>\n",
       "      <td>343.050776</td>\n",
       "    </tr>\n",
       "  </tbody>\n",
       "</table>\n",
       "</div>"
      ],
      "text/plain": [
       "              datetime  boat_speed  boat_angle  wind_speed  angle_of_attack  \\\n",
       "0  2020-09-03 13:30:22     4.59649    170.8058     4.94541        123.33377   \n",
       "1  2020-09-03 13:35:20     4.66457    170.8058     5.02156        122.93140   \n",
       "2  2020-09-03 13:45:16     4.74133    170.8058     5.10141        123.31155   \n",
       "3  2020-09-03 13:55:12     4.81348    170.8058     5.17579        123.74926   \n",
       "4  2020-09-03 14:05:08     4.88091    170.8058     5.24458        124.24321   \n",
       "\n",
       "         lat       lon  target_angle  \n",
       "0  43.540166  9.288994    343.050776  \n",
       "1  43.533812  9.290413    343.050776  \n",
       "2  43.520986  9.293276    343.050776  \n",
       "3  43.507961  9.296183    343.050776  \n",
       "4  43.494741  9.299133    343.050776  "
      ]
     },
     "execution_count": 239,
     "metadata": {},
     "output_type": "execute_result"
    }
   ],
   "source": [
    "data.head()"
   ]
  },
  {
   "cell_type": "code",
   "execution_count": 236,
   "metadata": {
    "nbpresent": {
     "id": "a58fdf0d-32fb-4690-add3-433cc721773d"
    }
   },
   "outputs": [],
   "source": [
    "import numpy as np\n",
    "from sklearn.preprocessing import StandardScaler\n",
    "\n",
    "data_dir = \"logs_players\"\n",
    "processed_subdir = \"standardized\"\n",
    "\n",
    "#remove target_angle = 360 & remove not needed features (lat/lon)\n",
    "features = ['boat_speed', 'target_angle', 'angle_of_attack', 'wind_speed', 'boat_angle']\n",
    "data_reduced = data[abs(data.target_angle - 360) > 0.1][features]\n",
    "\n",
    "# read raw data\n",
    "raw = data_reduced.values\n",
    "\n",
    "# Convert angles to radians\n",
    "data_reduced['boat_angle'] = data_reduced['boat_angle'] * np.pi / 180\n",
    "data_reduced['target_angle'] = data_reduced['target_angle'] * np.pi / 180\n",
    "\n",
    "data_reduced['cos_boat_angle'] = np.cos(data_reduced['boat_angle'])\n",
    "data_reduced['cos_target_angle'] = np.cos(data_reduced['target_angle'])"
   ]
  },
  {
   "cell_type": "code",
   "execution_count": 235,
   "metadata": {},
   "outputs": [
    {
     "data": {
      "text/plain": [
       "\"\\nscaler = StandardScaler()\\ndata_reduced['scaled_cos_target_angle'] = scaler.fit_transform(np.asarray(data_reduced['cos_target_angle']).reshape(-1,1))\\ndata_reduced['scaled_cos_boat_angle'] = scaler.fit_transform(np.asarray(data_reduced['cos_boat_angle']).reshape(-1,1))\\n\\n\\ndata_reduced['sin_boat_angle'] = np.sin(data_reduced['boat_angle'])\\ndata_reduced['sin_target_angle'] = np.sin(data_reduced['target_angle'])\\n\\ndata_reduced['tan_boat_angle'] = np.tan(data_reduced['boat_angle'])\\ndata_reduced['tan_target_angle'] = np.tan(data_reduced['target_angle'])\\n\""
      ]
     },
     "execution_count": 235,
     "metadata": {},
     "output_type": "execute_result"
    }
   ],
   "source": [
    "'''\n",
    "scaler = StandardScaler()\n",
    "data_reduced['scaled_cos_target_angle'] = scaler.fit_transform(np.asarray(data_reduced['cos_target_angle']).reshape(-1,1))\n",
    "data_reduced['scaled_cos_boat_angle'] = scaler.fit_transform(np.asarray(data_reduced['cos_boat_angle']).reshape(-1,1))\n",
    "\n",
    "\n",
    "data_reduced['sin_boat_angle'] = np.sin(data_reduced['boat_angle'])\n",
    "data_reduced['sin_target_angle'] = np.sin(data_reduced['target_angle'])\n",
    "\n",
    "data_reduced['tan_boat_angle'] = np.tan(data_reduced['boat_angle'])\n",
    "data_reduced['tan_target_angle'] = np.tan(data_reduced['target_angle'])\n",
    "'''"
   ]
  },
  {
   "cell_type": "code",
   "execution_count": 227,
   "metadata": {},
   "outputs": [
    {
     "data": {
      "text/html": [
       "<div>\n",
       "<style scoped>\n",
       "    .dataframe tbody tr th:only-of-type {\n",
       "        vertical-align: middle;\n",
       "    }\n",
       "\n",
       "    .dataframe tbody tr th {\n",
       "        vertical-align: top;\n",
       "    }\n",
       "\n",
       "    .dataframe thead th {\n",
       "        text-align: right;\n",
       "    }\n",
       "</style>\n",
       "<table border=\"1\" class=\"dataframe\">\n",
       "  <thead>\n",
       "    <tr style=\"text-align: right;\">\n",
       "      <th></th>\n",
       "      <th>boat_speed</th>\n",
       "      <th>target_angle</th>\n",
       "      <th>angle_of_attack</th>\n",
       "      <th>wind_speed</th>\n",
       "      <th>boat_angle</th>\n",
       "      <th>cos_boat_angle</th>\n",
       "      <th>cos_target_angle</th>\n",
       "      <th>scaled_cos_target_angle</th>\n",
       "      <th>scaled_cos_boat_angle</th>\n",
       "    </tr>\n",
       "  </thead>\n",
       "  <tbody>\n",
       "    <tr>\n",
       "      <th>count</th>\n",
       "      <td>5260.000000</td>\n",
       "      <td>5260.000000</td>\n",
       "      <td>5260.000000</td>\n",
       "      <td>5260.000000</td>\n",
       "      <td>5260.000000</td>\n",
       "      <td>5260.000000</td>\n",
       "      <td>5260.000000</td>\n",
       "      <td>5.260000e+03</td>\n",
       "      <td>5.260000e+03</td>\n",
       "    </tr>\n",
       "    <tr>\n",
       "      <th>mean</th>\n",
       "      <td>5.076737</td>\n",
       "      <td>4.395743</td>\n",
       "      <td>10.437897</td>\n",
       "      <td>7.745233</td>\n",
       "      <td>3.496478</td>\n",
       "      <td>0.255338</td>\n",
       "      <td>0.624413</td>\n",
       "      <td>-1.944600e-15</td>\n",
       "      <td>8.934551e-17</td>\n",
       "    </tr>\n",
       "    <tr>\n",
       "      <th>std</th>\n",
       "      <td>1.994001</td>\n",
       "      <td>2.211849</td>\n",
       "      <td>79.002254</td>\n",
       "      <td>4.749029</td>\n",
       "      <td>1.974572</td>\n",
       "      <td>0.666955</td>\n",
       "      <td>0.596931</td>\n",
       "      <td>1.000095e+00</td>\n",
       "      <td>1.000095e+00</td>\n",
       "    </tr>\n",
       "    <tr>\n",
       "      <th>min</th>\n",
       "      <td>0.000000</td>\n",
       "      <td>0.016957</td>\n",
       "      <td>-177.061360</td>\n",
       "      <td>2.000000</td>\n",
       "      <td>0.027114</td>\n",
       "      <td>-0.999999</td>\n",
       "      <td>-0.999969</td>\n",
       "      <td>-2.721479e+00</td>\n",
       "      <td>-1.882371e+00</td>\n",
       "    </tr>\n",
       "    <tr>\n",
       "      <th>25%</th>\n",
       "      <td>4.188560</td>\n",
       "      <td>2.013230</td>\n",
       "      <td>-45.000400</td>\n",
       "      <td>5.885670</td>\n",
       "      <td>2.023663</td>\n",
       "      <td>-0.453952</td>\n",
       "      <td>0.452108</td>\n",
       "      <td>-2.886786e-01</td>\n",
       "      <td>-1.063576e+00</td>\n",
       "    </tr>\n",
       "    <tr>\n",
       "      <th>50%</th>\n",
       "      <td>4.601700</td>\n",
       "      <td>5.626819</td>\n",
       "      <td>44.645750</td>\n",
       "      <td>6.280090</td>\n",
       "      <td>3.159046</td>\n",
       "      <td>0.682082</td>\n",
       "      <td>0.936542</td>\n",
       "      <td>5.229387e-01</td>\n",
       "      <td>6.399004e-01</td>\n",
       "    </tr>\n",
       "    <tr>\n",
       "      <th>75%</th>\n",
       "      <td>5.127760</td>\n",
       "      <td>5.987366</td>\n",
       "      <td>45.657610</td>\n",
       "      <td>6.760455</td>\n",
       "      <td>5.504859</td>\n",
       "      <td>0.754843</td>\n",
       "      <td>0.962180</td>\n",
       "      <td>5.658928e-01</td>\n",
       "      <td>7.490064e-01</td>\n",
       "    </tr>\n",
       "    <tr>\n",
       "      <th>max</th>\n",
       "      <td>9.954010</td>\n",
       "      <td>6.234584</td>\n",
       "      <td>162.784680</td>\n",
       "      <td>21.077130</td>\n",
       "      <td>6.229373</td>\n",
       "      <td>0.999632</td>\n",
       "      <td>0.999856</td>\n",
       "      <td>6.290153e-01</td>\n",
       "      <td>1.116066e+00</td>\n",
       "    </tr>\n",
       "  </tbody>\n",
       "</table>\n",
       "</div>"
      ],
      "text/plain": [
       "        boat_speed  target_angle  angle_of_attack   wind_speed   boat_angle  \\\n",
       "count  5260.000000   5260.000000      5260.000000  5260.000000  5260.000000   \n",
       "mean      5.076737      4.395743        10.437897     7.745233     3.496478   \n",
       "std       1.994001      2.211849        79.002254     4.749029     1.974572   \n",
       "min       0.000000      0.016957      -177.061360     2.000000     0.027114   \n",
       "25%       4.188560      2.013230       -45.000400     5.885670     2.023663   \n",
       "50%       4.601700      5.626819        44.645750     6.280090     3.159046   \n",
       "75%       5.127760      5.987366        45.657610     6.760455     5.504859   \n",
       "max       9.954010      6.234584       162.784680    21.077130     6.229373   \n",
       "\n",
       "       cos_boat_angle  cos_target_angle  scaled_cos_target_angle  \\\n",
       "count     5260.000000       5260.000000             5.260000e+03   \n",
       "mean         0.255338          0.624413            -1.944600e-15   \n",
       "std          0.666955          0.596931             1.000095e+00   \n",
       "min         -0.999999         -0.999969            -2.721479e+00   \n",
       "25%         -0.453952          0.452108            -2.886786e-01   \n",
       "50%          0.682082          0.936542             5.229387e-01   \n",
       "75%          0.754843          0.962180             5.658928e-01   \n",
       "max          0.999632          0.999856             6.290153e-01   \n",
       "\n",
       "       scaled_cos_boat_angle  \n",
       "count           5.260000e+03  \n",
       "mean            8.934551e-17  \n",
       "std             1.000095e+00  \n",
       "min            -1.882371e+00  \n",
       "25%            -1.063576e+00  \n",
       "50%             6.399004e-01  \n",
       "75%             7.490064e-01  \n",
       "max             1.116066e+00  "
      ]
     },
     "execution_count": 227,
     "metadata": {},
     "output_type": "execute_result"
    }
   ],
   "source": [
    "data_reduced.describe()"
   ]
  },
  {
   "cell_type": "markdown",
   "metadata": {},
   "source": [
    "## Exploring data"
   ]
  },
  {
   "cell_type": "code",
   "execution_count": 228,
   "metadata": {},
   "outputs": [
    {
     "data": {
      "text/html": [
       "<style  type=\"text/css\" >\n",
       "    #T_e43bbd32_f0e0_11ea_9012_1bd083a9710arow0_col0 {\n",
       "            background-color:  #023858;\n",
       "            color:  #f1f1f1;\n",
       "        }    #T_e43bbd32_f0e0_11ea_9012_1bd083a9710arow0_col1 {\n",
       "            background-color:  #fff7fb;\n",
       "            color:  #000000;\n",
       "        }    #T_e43bbd32_f0e0_11ea_9012_1bd083a9710arow1_col0 {\n",
       "            background-color:  #fff7fb;\n",
       "            color:  #000000;\n",
       "        }    #T_e43bbd32_f0e0_11ea_9012_1bd083a9710arow1_col1 {\n",
       "            background-color:  #023858;\n",
       "            color:  #f1f1f1;\n",
       "        }</style><table id=\"T_e43bbd32_f0e0_11ea_9012_1bd083a9710a\" ><thead>    <tr>        <th class=\"blank level0\" ></th>        <th class=\"col_heading level0 col0\" >target_angle</th>        <th class=\"col_heading level0 col1\" >boat_angle</th>    </tr></thead><tbody>\n",
       "                <tr>\n",
       "                        <th id=\"T_e43bbd32_f0e0_11ea_9012_1bd083a9710alevel0_row0\" class=\"row_heading level0 row0\" >target_angle</th>\n",
       "                        <td id=\"T_e43bbd32_f0e0_11ea_9012_1bd083a9710arow0_col0\" class=\"data row0 col0\" >1.000000</td>\n",
       "                        <td id=\"T_e43bbd32_f0e0_11ea_9012_1bd083a9710arow0_col1\" class=\"data row0 col1\" >0.215525</td>\n",
       "            </tr>\n",
       "            <tr>\n",
       "                        <th id=\"T_e43bbd32_f0e0_11ea_9012_1bd083a9710alevel0_row1\" class=\"row_heading level0 row1\" >boat_angle</th>\n",
       "                        <td id=\"T_e43bbd32_f0e0_11ea_9012_1bd083a9710arow1_col0\" class=\"data row1 col0\" >0.215525</td>\n",
       "                        <td id=\"T_e43bbd32_f0e0_11ea_9012_1bd083a9710arow1_col1\" class=\"data row1 col1\" >1.000000</td>\n",
       "            </tr>\n",
       "    </tbody></table>"
      ],
      "text/plain": [
       "<pandas.io.formats.style.Styler at 0x7f4a4adf4080>"
      ]
     },
     "execution_count": 228,
     "metadata": {},
     "output_type": "execute_result"
    }
   ],
   "source": [
    "corr = data_reduced[['target_angle', 'boat_angle']].corr()\n",
    "corr.style.background_gradient()"
   ]
  },
  {
   "cell_type": "code",
   "execution_count": 229,
   "metadata": {},
   "outputs": [
    {
     "data": {
      "text/html": [
       "<style  type=\"text/css\" >\n",
       "    #T_e5ce9b42_f0e0_11ea_9012_1bd083a9710arow0_col0 {\n",
       "            background-color:  #023858;\n",
       "            color:  #f1f1f1;\n",
       "        }    #T_e5ce9b42_f0e0_11ea_9012_1bd083a9710arow0_col1 {\n",
       "            background-color:  #fff7fb;\n",
       "            color:  #000000;\n",
       "        }    #T_e5ce9b42_f0e0_11ea_9012_1bd083a9710arow1_col0 {\n",
       "            background-color:  #fff7fb;\n",
       "            color:  #000000;\n",
       "        }    #T_e5ce9b42_f0e0_11ea_9012_1bd083a9710arow1_col1 {\n",
       "            background-color:  #023858;\n",
       "            color:  #f1f1f1;\n",
       "        }</style><table id=\"T_e5ce9b42_f0e0_11ea_9012_1bd083a9710a\" ><thead>    <tr>        <th class=\"blank level0\" ></th>        <th class=\"col_heading level0 col0\" >cos_target_angle</th>        <th class=\"col_heading level0 col1\" >cos_boat_angle</th>    </tr></thead><tbody>\n",
       "                <tr>\n",
       "                        <th id=\"T_e5ce9b42_f0e0_11ea_9012_1bd083a9710alevel0_row0\" class=\"row_heading level0 row0\" >cos_target_angle</th>\n",
       "                        <td id=\"T_e5ce9b42_f0e0_11ea_9012_1bd083a9710arow0_col0\" class=\"data row0 col0\" >1.000000</td>\n",
       "                        <td id=\"T_e5ce9b42_f0e0_11ea_9012_1bd083a9710arow0_col1\" class=\"data row0 col1\" >0.394177</td>\n",
       "            </tr>\n",
       "            <tr>\n",
       "                        <th id=\"T_e5ce9b42_f0e0_11ea_9012_1bd083a9710alevel0_row1\" class=\"row_heading level0 row1\" >cos_boat_angle</th>\n",
       "                        <td id=\"T_e5ce9b42_f0e0_11ea_9012_1bd083a9710arow1_col0\" class=\"data row1 col0\" >0.394177</td>\n",
       "                        <td id=\"T_e5ce9b42_f0e0_11ea_9012_1bd083a9710arow1_col1\" class=\"data row1 col1\" >1.000000</td>\n",
       "            </tr>\n",
       "    </tbody></table>"
      ],
      "text/plain": [
       "<pandas.io.formats.style.Styler at 0x7f4a47cbc828>"
      ]
     },
     "execution_count": 229,
     "metadata": {},
     "output_type": "execute_result"
    }
   ],
   "source": [
    "corr = data_reduced[['cos_target_angle', 'cos_boat_angle']].corr()\n",
    "corr.style.background_gradient()"
   ]
  },
  {
   "cell_type": "code",
   "execution_count": 230,
   "metadata": {},
   "outputs": [
    {
     "data": {
      "text/html": [
       "<style  type=\"text/css\" >\n",
       "    #T_e8bbbd80_f0e0_11ea_9012_1bd083a9710arow0_col0 {\n",
       "            background-color:  #023858;\n",
       "            color:  #f1f1f1;\n",
       "        }    #T_e8bbbd80_f0e0_11ea_9012_1bd083a9710arow0_col1 {\n",
       "            background-color:  #fff7fb;\n",
       "            color:  #000000;\n",
       "        }    #T_e8bbbd80_f0e0_11ea_9012_1bd083a9710arow1_col0 {\n",
       "            background-color:  #fff7fb;\n",
       "            color:  #000000;\n",
       "        }    #T_e8bbbd80_f0e0_11ea_9012_1bd083a9710arow1_col1 {\n",
       "            background-color:  #023858;\n",
       "            color:  #f1f1f1;\n",
       "        }</style><table id=\"T_e8bbbd80_f0e0_11ea_9012_1bd083a9710a\" ><thead>    <tr>        <th class=\"blank level0\" ></th>        <th class=\"col_heading level0 col0\" >scaled_cos_target_angle</th>        <th class=\"col_heading level0 col1\" >scaled_cos_boat_angle</th>    </tr></thead><tbody>\n",
       "                <tr>\n",
       "                        <th id=\"T_e8bbbd80_f0e0_11ea_9012_1bd083a9710alevel0_row0\" class=\"row_heading level0 row0\" >scaled_cos_target_angle</th>\n",
       "                        <td id=\"T_e8bbbd80_f0e0_11ea_9012_1bd083a9710arow0_col0\" class=\"data row0 col0\" >1.000000</td>\n",
       "                        <td id=\"T_e8bbbd80_f0e0_11ea_9012_1bd083a9710arow0_col1\" class=\"data row0 col1\" >0.394177</td>\n",
       "            </tr>\n",
       "            <tr>\n",
       "                        <th id=\"T_e8bbbd80_f0e0_11ea_9012_1bd083a9710alevel0_row1\" class=\"row_heading level0 row1\" >scaled_cos_boat_angle</th>\n",
       "                        <td id=\"T_e8bbbd80_f0e0_11ea_9012_1bd083a9710arow1_col0\" class=\"data row1 col0\" >0.394177</td>\n",
       "                        <td id=\"T_e8bbbd80_f0e0_11ea_9012_1bd083a9710arow1_col1\" class=\"data row1 col1\" >1.000000</td>\n",
       "            </tr>\n",
       "    </tbody></table>"
      ],
      "text/plain": [
       "<pandas.io.formats.style.Styler at 0x7f4a47cbc630>"
      ]
     },
     "execution_count": 230,
     "metadata": {},
     "output_type": "execute_result"
    }
   ],
   "source": [
    "corr = data_reduced[['scaled_cos_target_angle', 'scaled_cos_boat_angle']].corr()\n",
    "corr.style.background_gradient()"
   ]
  },
  {
   "cell_type": "code",
   "execution_count": 231,
   "metadata": {},
   "outputs": [
    {
     "data": {
      "text/plain": [
       "<matplotlib.axes._subplots.AxesSubplot at 0x7f4a47ca42e8>"
      ]
     },
     "execution_count": 231,
     "metadata": {},
     "output_type": "execute_result"
    },
    {
     "data": {
      "image/png": "[encoded data removed]",
      "text/plain": [
       "<Figure size 432x288 with 1 Axes>"
      ]
     },
     "metadata": {
      "needs_background": "light"
     },
     "output_type": "display_data"
    }
   ],
   "source": [
    "data_reduced['boat_angle'][:500].plot()\n",
    "data_reduced['target_angle'][:500].plot()"
   ]
  },
  {
   "cell_type": "code",
   "execution_count": 232,
   "metadata": {},
   "outputs": [
    {
     "data": {
      "text/plain": [
       "<matplotlib.axes._subplots.AxesSubplot at 0x7f4a47c5b668>"
      ]
     },
     "execution_count": 232,
     "metadata": {},
     "output_type": "execute_result"
    },
    {
     "data": {
      "image/png": "[encoded data removed]",
      "text/plain": [
       "<Figure size 432x288 with 1 Axes>"
      ]
     },
     "metadata": {
      "needs_background": "light"
     },
     "output_type": "display_data"
    }
   ],
   "source": [
    "data_reduced['cos_boat_angle'][:500].plot()\n",
    "data_reduced['cos_target_angle'][:500].plot()"
   ]
  },
  {
   "cell_type": "code",
   "execution_count": 131,
   "metadata": {},
   "outputs": [],
   "source": [
    "# split into train/test with a 90/10 split\n",
    "np.random.seed(0)\n",
    "np.random.shuffle(raw)\n",
    "train_size = int(0.9 * data_reduced.shape[0])\n",
    "train_features = raw[:train_size, :-1]\n",
    "train_labels = raw[:train_size, -1]\n",
    "test_features = raw[train_size:, :-1]\n",
    "test_labels = raw[train_size:, -1]"
   ]
  },
  {
   "cell_type": "code",
   "execution_count": 118,
   "metadata": {},
   "outputs": [
    {
     "name": "stdout",
     "output_type": "stream",
     "text": [
      "[117.40345 149.81    117.9717  325.64221 120.2211  116.9975  215.21157\n",
      " 138.96348 116.57717 119.5143  170.85789 154.99435 117.2411   79.36435\n",
      " 185.53072 117.8426  190.01521 121.01364 116.8426  153.25451 118.97307\n",
      " 163.0567  117.8426  203.23486 219.63564 162.54669 117.44766 170.9665\n",
      "  87.65343 178.3505  215.21157 116.85581 166.65575 155.      149.2429\n",
      " 174.31897 116.66802  78.      116.82386 189.4854  116.9748  134.02853\n",
      " 118.07695 117.6183  118.9054  325.56758 154.41399 215.21158 164.10329\n",
      " 116.40043 117.55753 183.2358  217.08712 169.      116.44253  79.65385\n",
      " 135.52958 164.12446 178.969   153.02416  79.65384 132.82872 151.08563\n",
      " 116.12131 152.1697   99.08652 116.54576 116.91805 143.07185 116.06545\n",
      " 119.8426   79.97481 235.      115.99283 119.79773 102.9928  116.55248\n",
      " 116.82386  79.65385 153.3289  118.9054  118.34174 173.51768 116.9975\n",
      " 115.39898  92.73147 116.8426   79.69781 131.67989 163.0567   79.95694\n",
      " 178.3505  197.25991 116.60743 185.21985 178.41577 215.27108 119.5143\n",
      " 153.322   154.2814  118.73589 153.89947 215.21157 142.8011  167.\n",
      " 116.80331 157.21667  56.34498  79.56145 117.21602 222.78952 141.9211\n",
      "  79.95694 145.      176.12918 116.36919 152.55589 209.16053 153.25451\n",
      " 116.39704 168.6184  228.1121  146.9882   80.      116.29885 119.94608\n",
      " 195.97424 117.8426   78.01412 159.      151.60903 325.47403 117.12757\n",
      "  87.69636 118.9054  116.63575 116.73092 119.5143  118.9054  120.2211\n",
      " 114.68535 174.      153.33866 116.9748  119.5143  119.73155 152.60509\n",
      " 116.8426  143.26609 207.44898 195.91964 145.      119.68322 115.98413\n",
      " 135.8968   54.58812 116.46341 143.30629 199.46643 114.61667 116.4719\n",
      " 205.71632 116.12763 121.08792 215.21157 116.42728 168.1861  118.9054\n",
      " 167.843   123.      145.80754 168.1861  158.23679 135.2968  226.0692\n",
      " 203.      153.23939 145.40141 157.8225  172.02886 119.2347  116.34213\n",
      " 179.2923  119.8426  116.93225 116.50496 118.9054 ]\n"
     ]
    }
   ],
   "source": [
    "print(test_labels)"
   ]
  },
  {
   "cell_type": "markdown",
   "metadata": {},
   "source": [
    "## Upload to Amazon S3\n",
    "Now, since typically the dataset will be large and located in Amazon S3, let's write the data to Amazon S3 in recordio-protobuf format. We first create an io buffer wrapping the data, next we upload it to Amazon S3. Notice that the choice of bucket and prefix should change for different users and different datasets"
   ]
  },
  {
   "cell_type": "code",
   "execution_count": 119,
   "metadata": {},
   "outputs": [
    {
     "name": "stdout",
     "output_type": "stream",
     "text": [
      "train_features shape =  (1679, 4)\n",
      "train_labels shape =  (1679,)\n"
     ]
    },
    {
     "data": {
      "text/plain": [
       "0"
      ]
     },
     "execution_count": 119,
     "metadata": {},
     "output_type": "execute_result"
    }
   ],
   "source": [
    "import io\n",
    "import sagemaker.amazon.common as smac\n",
    "\n",
    "print('train_features shape = ', train_features.shape)\n",
    "print('train_labels shape = ', train_labels.shape)\n",
    "\n",
    "buf = io.BytesIO()\n",
    "smac.write_numpy_to_dense_tensor(buf, train_features, train_labels)\n",
    "buf.seek(0)"
   ]
  },
  {
   "cell_type": "code",
   "execution_count": 120,
   "metadata": {},
   "outputs": [
    {
     "name": "stdout",
     "output_type": "stream",
     "text": [
      "uploaded training data location: s3://virtual-regatta-ml/knn-model/train/record-data\n"
     ]
    }
   ],
   "source": [
    "import sagemaker\n",
    "\n",
    "bucket_ml = 'virtual-regatta-ml'\n",
    "prefix = 'knn-model'\n",
    "key = 'record-data'\n",
    "\n",
    "boto3.resource('s3').Bucket(bucket_ml).Object(os.path.join(prefix, 'train', key)).upload_fileobj(buf)\n",
    "s3_train_data = 's3://{}/{}/train/{}'.format(bucket_ml, prefix, key)\n",
    "print('uploaded training data location: {}'.format(s3_train_data))\n"
   ]
  },
  {
   "cell_type": "markdown",
   "metadata": {},
   "source": [
    "It is also possible to provide test data. This way we can get an evaluation of the performance of the model from the training logs. In order to use this capability let's upload the test data to Amazon S3 as well"
   ]
  },
  {
   "cell_type": "code",
   "execution_count": 121,
   "metadata": {},
   "outputs": [
    {
     "name": "stdout",
     "output_type": "stream",
     "text": [
      "test_features shape =  (187, 4)\n",
      "test_labels shape =  (187,)\n",
      "uploaded test data location: s3://virtual-regatta-ml/knn-model/test/record-data\n"
     ]
    }
   ],
   "source": [
    "print('test_features shape = ', test_features.shape)\n",
    "print('test_labels shape = ', test_labels.shape)\n",
    "\n",
    "buf = io.BytesIO()\n",
    "smac.write_numpy_to_dense_tensor(buf, test_features, test_labels)\n",
    "buf.seek(0)\n",
    "\n",
    "boto3.resource('s3').Bucket(bucket_ml).Object(os.path.join(prefix, 'test', key)).upload_fileobj(buf)\n",
    "s3_test_data = 's3://{}/{}/test/{}'.format(bucket_ml, prefix, key)\n",
    "print('uploaded test data location: {}'.format(s3_test_data))\n"
   ]
  },
  {
   "cell_type": "markdown",
   "metadata": {},
   "source": [
    "## Training\n",
    "\n",
    "We take a moment to explain at a high level, how Machine Learning training and prediction works in Amazon SageMaker. First, we need to train a model. This is a process that given a labeled dataset and hyper-parameters guiding the training process,  outputs a model. Once the training is done, we set up what is called an **endpoint**. An endpoint is a web service that given a request containing an unlabeled data point, or mini-batch of data points, returns a prediction(s).\n",
    "\n",
    "In Amazon SageMaker the training is done via an object called an **estimator**. When setting up the estimator we specify the location (in Amazon S3) of the training data, the path (again in Amazon S3) to the output directory where the model will be serialized, generic hyper-parameters such as the machine type to use during the training process, and kNN-specific hyper-parameters such as the index type, etc. Once the estimator is initialized, we can call its **fit** method in order to do the actual training.\n",
    "\n",
    "Now that we are ready for training, we start with a convenience function that starts a training job."
   ]
  },
  {
   "cell_type": "code",
   "execution_count": 122,
   "metadata": {},
   "outputs": [],
   "source": [
    "import matplotlib.pyplot as plt\n",
    "\n",
    "from sagemaker import get_execution_role\n",
    "from sagemaker.predictor import csv_serializer, json_deserializer\n",
    "from sagemaker.amazon.amazon_estimator import get_image_uri\n",
    "\n",
    "\n",
    "def trained_estimator_from_hyperparams(s3_train_data, hyperparams, output_path, s3_test_data=None):\n",
    "    \"\"\"\n",
    "    Create an Estimator from the given hyperparams, fit to training data, \n",
    "    and return a deployed predictor\n",
    "    \n",
    "    \"\"\"\n",
    "    # set up the estimator\n",
    "    knn = sagemaker.estimator.Estimator(get_image_uri(boto3.Session().region_name, \"knn\"),\n",
    "        get_execution_role(),\n",
    "        train_instance_count=1,\n",
    "        train_instance_type='ml.m5.large',\n",
    "        output_path=output_path,\n",
    "        sagemaker_session=sagemaker.Session())\n",
    "    knn.set_hyperparameters(**hyperparams)\n",
    "    \n",
    "    # train a model. fit_input contains the locations of the train and test data\n",
    "    fit_input = {'train': s3_train_data}\n",
    "    if s3_test_data is not None:\n",
    "        fit_input['test'] = s3_test_data\n",
    "    knn.fit(fit_input)\n",
    "    return knn"
   ]
  },
  {
   "cell_type": "markdown",
   "metadata": {},
   "source": [
    "Now, we run the actual training job. For now, we stick to default parameters."
   ]
  },
  {
   "cell_type": "code",
   "execution_count": 123,
   "metadata": {
    "scrolled": false
   },
   "outputs": [
    {
     "name": "stderr",
     "output_type": "stream",
     "text": [
      "'get_image_uri' method will be deprecated in favor of 'ImageURIProvider' class in SageMaker Python SDK v2.\n",
      "Parameter image_name will be renamed to image_uri in SageMaker Python SDK v2.\n",
      "'s3_input' class will be renamed to 'TrainingInput' in SageMaker Python SDK v2.\n",
      "'s3_input' class will be renamed to 'TrainingInput' in SageMaker Python SDK v2.\n"
     ]
    },
    {
     "name": "stdout",
     "output_type": "stream",
     "text": [
      "2020-09-04 12:54:17 Starting - Starting the training job...\n",
      "2020-09-04 12:54:19 Starting - Launching requested ML instances......\n",
      "2020-09-04 12:55:44 Starting - Preparing the instances for training......\n",
      "2020-09-04 12:56:43 Downloading - Downloading input data\n",
      "2020-09-04 12:56:43 Training - Downloading the training image......\n",
      "2020-09-04 12:57:44 Uploading - Uploading generated training model\n",
      "2020-09-04 12:57:44 Completed - Training job completed\n",
      "\u001b[34mDocker entrypoint called with argument(s): train\u001b[0m\n",
      "\u001b[34mRunning default environment configuration script\u001b[0m\n",
      "\u001b[34m[09/04/2020 12:57:35 INFO 140709647099712] Reading default configuration from /opt/amazon/lib/python2.7/site-packages/algorithm/resources/default-conf.json: {u'index_metric': u'L2', u'_tuning_objective_metric': u'', u'_num_gpus': u'auto', u'_log_level': u'info', u'feature_dim': u'auto', u'faiss_index_ivf_nlists': u'auto', u'epochs': u'1', u'index_type': u'faiss.Flat', u'_faiss_index_nprobe': u'5', u'_kvstore': u'dist_async', u'_num_kv_servers': u'1', u'mini_batch_size': u'5000'}\u001b[0m\n",
      "\u001b[34m[09/04/2020 12:57:35 INFO 140709647099712] Merging with provided configuration from /opt/ml/input/config/hyperparameters.json: {u'sample_size': u'198', u'feature_dim': u'4', u'predictor_type': u'regressor', u'k': u'5'}\u001b[0m\n",
      "\u001b[34m[09/04/2020 12:57:35 INFO 140709647099712] Final configuration: {u'index_metric': u'L2', u'predictor_type': u'regressor', u'_tuning_objective_metric': u'', u'_num_gpus': u'auto', u'_log_level': u'info', u'feature_dim': u'4', u'faiss_index_ivf_nlists': u'auto', u'sample_size': u'198', u'epochs': u'1', u'index_type': u'faiss.Flat', u'_faiss_index_nprobe': u'5', u'_kvstore': u'dist_async', u'_num_kv_servers': u'1', u'mini_batch_size': u'5000', u'k': u'5'}\u001b[0m\n",
      "\u001b[34m[09/04/2020 12:57:35 WARNING 140709647099712] Loggers have already been setup.\u001b[0m\n",
      "\u001b[34m[09/04/2020 12:57:35 INFO 140709647099712] Launching parameter server for role scheduler\u001b[0m\n",
      "\u001b[34m[09/04/2020 12:57:35 INFO 140709647099712] {'ECS_CONTAINER_METADATA_URI': 'http://169.254.170.2/v3/6414cc51-cc39-4f04-a3df-4c29d11793ea', 'ECS_CONTAINER_METADATA_URI_V4': 'http://169.254.170.2/v4/6414cc51-cc39-4f04-a3df-4c29d11793ea', 'PROTOCOL_BUFFERS_PYTHON_IMPLEMENTATION_VERSION': '2', 'PATH': '/opt/amazon/bin:/usr/local/nvidia/bin:/usr/local/sbin:/usr/local/bin:/usr/sbin:/usr/bin:/sbin:/bin:/opt/amazon/bin:/opt/amazon/bin', 'SAGEMAKER_HTTP_PORT': '8080', 'HOME': '/root', 'PYTHONUNBUFFERED': 'TRUE', 'CANONICAL_ENVROOT': '/opt/amazon', 'LD_LIBRARY_PATH': '/opt/amazon/lib/python2.7/site-packages/cv2/../../../../lib:/usr/local/nvidia/lib64:/opt/amazon/lib', 'LANG': 'en_US.utf8', 'DMLC_INTERFACE': 'eth0', 'SHLVL': '1', 'AWS_REGION': 'eu-west-2', 'SAGEMAKER_METRICS_DIRECTORY': '/opt/ml/output/metrics/sagemaker', 'NVIDIA_VISIBLE_DEVICES': 'void', 'TRAINING_JOB_NAME': 'knn-2020-09-04-12-54-17-477', 'PROTOCOL_BUFFERS_PYTHON_IMPLEMENTATION': 'cpp', 'ENVROOT': '/opt/amazon', 'SAGEMAKER_DATA_PATH': '/opt/ml', 'NVIDIA_DRIVER_CAPABILITIES': 'compute,utility', 'NVIDIA_REQUIRE_CUDA': 'cuda>=9.0', 'OMP_NUM_THREADS': '1', 'HOSTNAME': 'ip-10-0-176-94.eu-west-2.compute.internal', 'AWS_CONTAINER_CREDENTIALS_RELATIVE_URI': '/v2/credentials/25c607c2-ce89-4bc9-be89-0835fe715b72', 'PWD': '/', 'TRAINING_JOB_ARN': 'arn:aws:sagemaker:eu-west-2:281633979087:training-job/knn-2020-09-04-12-54-17-477', 'AWS_EXECUTION_ENV': 'AWS_ECS_EC2'}\u001b[0m\n",
      "\u001b[34m[09/04/2020 12:57:35 INFO 140709647099712] envs={'ECS_CONTAINER_METADATA_URI': 'http://169.254.170.2/v3/6414cc51-cc39-4f04-a3df-4c29d11793ea', 'ECS_CONTAINER_METADATA_URI_V4': 'http://169.254.170.2/v4/6414cc51-cc39-4f04-a3df-4c29d11793ea', 'PROTOCOL_BUFFERS_PYTHON_IMPLEMENTATION_VERSION': '2', 'DMLC_NUM_WORKER': '1', 'DMLC_PS_ROOT_PORT': '9000', 'PATH': '/opt/amazon/bin:/usr/local/nvidia/bin:/usr/local/sbin:/usr/local/bin:/usr/sbin:/usr/bin:/sbin:/bin:/opt/amazon/bin:/opt/amazon/bin', 'SAGEMAKER_HTTP_PORT': '8080', 'HOME': '/root', 'PYTHONUNBUFFERED': 'TRUE', 'CANONICAL_ENVROOT': '/opt/amazon', 'LD_LIBRARY_PATH': '/opt/amazon/lib/python2.7/site-packages/cv2/../../../../lib:/usr/local/nvidia/lib64:/opt/amazon/lib', 'LANG': 'en_US.utf8', 'DMLC_INTERFACE': 'eth0', 'SHLVL': '1', 'DMLC_PS_ROOT_URI': '10.0.176.94', 'AWS_REGION': 'eu-west-2', 'SAGEMAKER_METRICS_DIRECTORY': '/opt/ml/output/metrics/sagemaker', 'NVIDIA_VISIBLE_DEVICES': 'void', 'TRAINING_JOB_NAME': 'knn-2020-09-04-12-54-17-477', 'PROTOCOL_BUFFERS_PYTHON_IMPLEMENTATION': 'cpp', 'ENVROOT': '/opt/amazon', 'SAGEMAKER_DATA_PATH': '/opt/ml', 'NVIDIA_DRIVER_CAPABILITIES': 'compute,utility', 'NVIDIA_REQUIRE_CUDA': 'cuda>=9.0', 'OMP_NUM_THREADS': '1', 'HOSTNAME': 'ip-10-0-176-94.eu-west-2.compute.internal', 'AWS_CONTAINER_CREDENTIALS_RELATIVE_URI': '/v2/credentials/25c607c2-ce89-4bc9-be89-0835fe715b72', 'DMLC_ROLE': 'scheduler', 'PWD': '/', 'DMLC_NUM_SERVER': '1', 'TRAINING_JOB_ARN': 'arn:aws:sagemaker:eu-west-2:281633979087:training-job/knn-2020-09-04-12-54-17-477', 'AWS_EXECUTION_ENV': 'AWS_ECS_EC2'}\u001b[0m\n",
      "\u001b[34m[09/04/2020 12:57:35 INFO 140709647099712] Launching parameter server for role server\u001b[0m\n",
      "\u001b[34m[09/04/2020 12:57:35 INFO 140709647099712] {'ECS_CONTAINER_METADATA_URI': 'http://169.254.170.2/v3/6414cc51-cc39-4f04-a3df-4c29d11793ea', 'ECS_CONTAINER_METADATA_URI_V4': 'http://169.254.170.2/v4/6414cc51-cc39-4f04-a3df-4c29d11793ea', 'PROTOCOL_BUFFERS_PYTHON_IMPLEMENTATION_VERSION': '2', 'PATH': '/opt/amazon/bin:/usr/local/nvidia/bin:/usr/local/sbin:/usr/local/bin:/usr/sbin:/usr/bin:/sbin:/bin:/opt/amazon/bin:/opt/amazon/bin', 'SAGEMAKER_HTTP_PORT': '8080', 'HOME': '/root', 'PYTHONUNBUFFERED': 'TRUE', 'CANONICAL_ENVROOT': '/opt/amazon', 'LD_LIBRARY_PATH': '/opt/amazon/lib/python2.7/site-packages/cv2/../../../../lib:/usr/local/nvidia/lib64:/opt/amazon/lib', 'LANG': 'en_US.utf8', 'DMLC_INTERFACE': 'eth0', 'SHLVL': '1', 'AWS_REGION': 'eu-west-2', 'SAGEMAKER_METRICS_DIRECTORY': '/opt/ml/output/metrics/sagemaker', 'NVIDIA_VISIBLE_DEVICES': 'void', 'TRAINING_JOB_NAME': 'knn-2020-09-04-12-54-17-477', 'PROTOCOL_BUFFERS_PYTHON_IMPLEMENTATION': 'cpp', 'ENVROOT': '/opt/amazon', 'SAGEMAKER_DATA_PATH': '/opt/ml', 'NVIDIA_DRIVER_CAPABILITIES': 'compute,utility', 'NVIDIA_REQUIRE_CUDA': 'cuda>=9.0', 'OMP_NUM_THREADS': '1', 'HOSTNAME': 'ip-10-0-176-94.eu-west-2.compute.internal', 'AWS_CONTAINER_CREDENTIALS_RELATIVE_URI': '/v2/credentials/25c607c2-ce89-4bc9-be89-0835fe715b72', 'PWD': '/', 'TRAINING_JOB_ARN': 'arn:aws:sagemaker:eu-west-2:281633979087:training-job/knn-2020-09-04-12-54-17-477', 'AWS_EXECUTION_ENV': 'AWS_ECS_EC2'}\u001b[0m\n",
      "\u001b[34m[09/04/2020 12:57:35 INFO 140709647099712] envs={'ECS_CONTAINER_METADATA_URI': 'http://169.254.170.2/v3/6414cc51-cc39-4f04-a3df-4c29d11793ea', 'ECS_CONTAINER_METADATA_URI_V4': 'http://169.254.170.2/v4/6414cc51-cc39-4f04-a3df-4c29d11793ea', 'PROTOCOL_BUFFERS_PYTHON_IMPLEMENTATION_VERSION': '2', 'DMLC_NUM_WORKER': '1', 'DMLC_PS_ROOT_PORT': '9000', 'PATH': '/opt/amazon/bin:/usr/local/nvidia/bin:/usr/local/sbin:/usr/local/bin:/usr/sbin:/usr/bin:/sbin:/bin:/opt/amazon/bin:/opt/amazon/bin', 'SAGEMAKER_HTTP_PORT': '8080', 'HOME': '/root', 'PYTHONUNBUFFERED': 'TRUE', 'CANONICAL_ENVROOT': '/opt/amazon', 'LD_LIBRARY_PATH': '/opt/amazon/lib/python2.7/site-packages/cv2/../../../../lib:/usr/local/nvidia/lib64:/opt/amazon/lib', 'LANG': 'en_US.utf8', 'DMLC_INTERFACE': 'eth0', 'SHLVL': '1', 'DMLC_PS_ROOT_URI': '10.0.176.94', 'AWS_REGION': 'eu-west-2', 'SAGEMAKER_METRICS_DIRECTORY': '/opt/ml/output/metrics/sagemaker', 'NVIDIA_VISIBLE_DEVICES': 'void', 'TRAINING_JOB_NAME': 'knn-2020-09-04-12-54-17-477', 'PROTOCOL_BUFFERS_PYTHON_IMPLEMENTATION': 'cpp', 'ENVROOT': '/opt/amazon', 'SAGEMAKER_DATA_PATH': '/opt/ml', 'NVIDIA_DRIVER_CAPABILITIES': 'compute,utility', 'NVIDIA_REQUIRE_CUDA': 'cuda>=9.0', 'OMP_NUM_THREADS': '1', 'HOSTNAME': 'ip-10-0-176-94.eu-west-2.compute.internal', 'AWS_CONTAINER_CREDENTIALS_RELATIVE_URI': '/v2/credentials/25c607c2-ce89-4bc9-be89-0835fe715b72', 'DMLC_ROLE': 'server', 'PWD': '/', 'DMLC_NUM_SERVER': '1', 'TRAINING_JOB_ARN': 'arn:aws:sagemaker:eu-west-2:281633979087:training-job/knn-2020-09-04-12-54-17-477', 'AWS_EXECUTION_ENV': 'AWS_ECS_EC2'}\u001b[0m\n",
      "\u001b[34m[09/04/2020 12:57:35 INFO 140709647099712] Environment: {'ECS_CONTAINER_METADATA_URI': 'http://169.254.170.2/v3/6414cc51-cc39-4f04-a3df-4c29d11793ea', 'ECS_CONTAINER_METADATA_URI_V4': 'http://169.254.170.2/v4/6414cc51-cc39-4f04-a3df-4c29d11793ea', 'PROTOCOL_BUFFERS_PYTHON_IMPLEMENTATION_VERSION': '2', 'DMLC_PS_ROOT_PORT': '9000', 'DMLC_NUM_WORKER': '1', 'SAGEMAKER_HTTP_PORT': '8080', 'PATH': '/opt/amazon/bin:/usr/local/nvidia/bin:/usr/local/sbin:/usr/local/bin:/usr/sbin:/usr/bin:/sbin:/bin:/opt/amazon/bin:/opt/amazon/bin', 'PYTHONUNBUFFERED': 'TRUE', 'CANONICAL_ENVROOT': '/opt/amazon', 'LD_LIBRARY_PATH': '/opt/amazon/lib/python2.7/site-packages/cv2/../../../../lib:/usr/local/nvidia/lib64:/opt/amazon/lib', 'LANG': 'en_US.utf8', 'DMLC_INTERFACE': 'eth0', 'SHLVL': '1', 'DMLC_PS_ROOT_URI': '10.0.176.94', 'AWS_REGION': 'eu-west-2', 'SAGEMAKER_METRICS_DIRECTORY': '/opt/ml/output/metrics/sagemaker', 'NVIDIA_VISIBLE_DEVICES': 'void', 'TRAINING_JOB_NAME': 'knn-2020-09-04-12-54-17-477', 'HOME': '/root', 'PROTOCOL_BUFFERS_PYTHON_IMPLEMENTATION': 'cpp', 'ENVROOT': '/opt/amazon', 'SAGEMAKER_DATA_PATH': '/opt/ml', 'NVIDIA_DRIVER_CAPABILITIES': 'compute,utility', 'NVIDIA_REQUIRE_CUDA': 'cuda>=9.0', 'OMP_NUM_THREADS': '1', 'HOSTNAME': 'ip-10-0-176-94.eu-west-2.compute.internal', 'AWS_CONTAINER_CREDENTIALS_RELATIVE_URI': '/v2/credentials/25c607c2-ce89-4bc9-be89-0835fe715b72', 'DMLC_ROLE': 'worker', 'PWD': '/', 'DMLC_NUM_SERVER': '1', 'TRAINING_JOB_ARN': 'arn:aws:sagemaker:eu-west-2:281633979087:training-job/knn-2020-09-04-12-54-17-477', 'AWS_EXECUTION_ENV': 'AWS_ECS_EC2'}\u001b[0m\n",
      "\u001b[34mProcess 58 is a shell:scheduler.\u001b[0m\n",
      "\u001b[34mProcess 67 is a shell:server.\u001b[0m\n",
      "\u001b[34mProcess 1 is a worker.\u001b[0m\n",
      "\u001b[34m[09/04/2020 12:57:35 INFO 140709647099712] Using default worker.\u001b[0m\n",
      "\u001b[34m[09/04/2020 12:57:35 INFO 140709647099712] Checkpoint loading and saving are disabled.\u001b[0m\n",
      "\u001b[34m[2020-09-04 12:57:35.678] [tensorio] [warning] TensorIO is already initialized; ignoring the initialization routine.\u001b[0m\n",
      "\u001b[34m[09/04/2020 12:57:35 INFO 140709647099712] nvidia-smi took: 0.0251798629761 secs to identify 0 gpus\u001b[0m\n",
      "\u001b[34m[09/04/2020 12:57:35 INFO 140709647099712] Create Store: dist_async\u001b[0m\n",
      "\u001b[34m[09/04/2020 12:57:36 ERROR 140709647099712] nvidia-smi: failed to run (127): /bin/sh: nvidia-smi: command not found\u001b[0m\n",
      "\u001b[34m[09/04/2020 12:57:36 INFO 140709647099712] Using per-worker sample size = 198 (Available virtual memory = 6457397248 bytes, GPU free memory = 0 bytes, number of workers = 1). If an out-of-memory error occurs, choose a larger instance type, use dimension reduction, decrease sample_size, and/or decrease mini_batch_size.\u001b[0m\n",
      "\u001b[34m#metrics {\"Metrics\": {\"Max Batches Seen Between Resets\": {\"count\": 1, \"max\": 0, \"sum\": 0.0, \"min\": 0}, \"Number of Batches Since Last Reset\": {\"count\": 1, \"max\": 0, \"sum\": 0.0, \"min\": 0}, \"Number of Records Since Last Reset\": {\"count\": 1, \"max\": 0, \"sum\": 0.0, \"min\": 0}, \"Total Batches Seen\": {\"count\": 1, \"max\": 0, \"sum\": 0.0, \"min\": 0}, \"Total Records Seen\": {\"count\": 1, \"max\": 0, \"sum\": 0.0, \"min\": 0}, \"Max Records Seen Between Resets\": {\"count\": 1, \"max\": 0, \"sum\": 0.0, \"min\": 0}, \"Reset Count\": {\"count\": 1, \"max\": 0, \"sum\": 0.0, \"min\": 0}}, \"EndTime\": 1599224256.93481, \"Dimensions\": {\"Host\": \"algo-1\", \"Meta\": \"init_train_data_iter\", \"Operation\": \"training\", \"Algorithm\": \"AWS/KNN\"}, \"StartTime\": 1599224256.934751}\n",
      "\u001b[0m\n",
      "\u001b[34m[2020-09-04 12:57:36.935] [tensorio] [info] epoch_stats={\"data_pipeline\": \"/opt/ml/input/data/train\", \"epoch\": 0, \"duration\": 1263, \"num_examples\": 1, \"num_bytes\": 134320}\u001b[0m\n",
      "\u001b[34m[2020-09-04 12:57:36.950] [tensorio] [info] epoch_stats={\"data_pipeline\": \"/opt/ml/input/data/train\", \"epoch\": 1, \"duration\": 14, \"num_examples\": 1, \"num_bytes\": 134320}\u001b[0m\n",
      "\u001b[34m[09/04/2020 12:57:36 INFO 140709647099712] push reservoir to kv... 1 num_workers 0 rank\u001b[0m\n",
      "\u001b[34m[09/04/2020 12:57:36 INFO 140709647099712] ...done (198)\u001b[0m\n",
      "\u001b[34m[09/04/2020 12:57:36 INFO 140709647099712] #progress_metric: host=algo-1, completed 100 % of epochs\u001b[0m\n",
      "\u001b[34m#metrics {\"Metrics\": {\"Max Batches Seen Between Resets\": {\"count\": 1, \"max\": 1, \"sum\": 1.0, \"min\": 1}, \"Number of Batches Since Last Reset\": {\"count\": 1, \"max\": 1, \"sum\": 1.0, \"min\": 1}, \"Number of Records Since Last Reset\": {\"count\": 1, \"max\": 1679, \"sum\": 1679.0, \"min\": 1679}, \"Total Batches Seen\": {\"count\": 1, \"max\": 1, \"sum\": 1.0, \"min\": 1}, \"Total Records Seen\": {\"count\": 1, \"max\": 1679, \"sum\": 1679.0, \"min\": 1679}, \"Max Records Seen Between Resets\": {\"count\": 1, \"max\": 1679, \"sum\": 1679.0, \"min\": 1679}, \"Reset Count\": {\"count\": 1, \"max\": 1, \"sum\": 1.0, \"min\": 1}}, \"EndTime\": 1599224256.9536, \"Dimensions\": {\"Host\": \"algo-1\", \"Meta\": \"training_data_iter\", \"Operation\": \"training\", \"Algorithm\": \"AWS/KNN\", \"epoch\": 0}, \"StartTime\": 1599224256.935245}\n",
      "\u001b[0m\n",
      "\u001b[34m[09/04/2020 12:57:36 INFO 140709647099712] #throughput_metric: host=algo-1, train throughput=90785.5667913 records/second\u001b[0m\n",
      "\u001b[34m[09/04/2020 12:57:36 INFO 140709647099712] pulled row count... worker 0 rows 198\u001b[0m\n",
      "\u001b[34m[09/04/2020 12:57:36 INFO 140709647099712] pulled... worker 0 data (198, 4) labels (198,) nans 0\u001b[0m\n",
      "\u001b[34m[09/04/2020 12:57:36 INFO 140709647099712] calling index.train...\u001b[0m\n",
      "\u001b[34m[09/04/2020 12:57:36 INFO 140709647099712] ...done calling index.train\u001b[0m\n",
      "\u001b[34m[09/04/2020 12:57:36 INFO 140709647099712] calling index.add...\u001b[0m\n",
      "\u001b[34m[09/04/2020 12:57:36 INFO 140709647099712] ...done calling index.add\u001b[0m\n",
      "\u001b[34m#metrics {\"Metrics\": {\"epochs\": {\"count\": 1, \"max\": 1, \"sum\": 1.0, \"min\": 1}, \"model.serialize.time\": {\"count\": 1, \"max\": 1.3110637664794922, \"sum\": 1.3110637664794922, \"min\": 1.3110637664794922}, \"finalize.time\": {\"count\": 1, \"max\": 3.1881332397460938, \"sum\": 3.1881332397460938, \"min\": 3.1881332397460938}, \"initialize.time\": {\"count\": 1, \"max\": 1254.9049854278564, \"sum\": 1254.9049854278564, \"min\": 1254.9049854278564}, \"update.time\": {\"count\": 1, \"max\": 18.098831176757812, \"sum\": 18.098831176757812, \"min\": 18.098831176757812}}, \"EndTime\": 1599224256.958577, \"Dimensions\": {\"Host\": \"algo-1\", \"Operation\": \"training\", \"Algorithm\": \"AWS/KNN\"}, \"StartTime\": 1599224255.671013}\n",
      "\u001b[0m\n",
      "\u001b[34m[2020-09-04 12:57:36.973] [tensorio] [info] epoch_stats={\"data_pipeline\": \"/opt/ml/input/data/test\", \"epoch\": 0, \"duration\": 1294, \"num_examples\": 1, \"num_bytes\": 14960}\u001b[0m\n",
      "\u001b[34m#metrics {\"Metrics\": {\"Max Batches Seen Between Resets\": {\"count\": 1, \"max\": 1, \"sum\": 1.0, \"min\": 1}, \"Number of Batches Since Last Reset\": {\"count\": 1, \"max\": 1, \"sum\": 1.0, \"min\": 1}, \"Number of Records Since Last Reset\": {\"count\": 1, \"max\": 187, \"sum\": 187.0, \"min\": 187}, \"Total Batches Seen\": {\"count\": 1, \"max\": 1, \"sum\": 1.0, \"min\": 1}, \"Total Records Seen\": {\"count\": 1, \"max\": 187, \"sum\": 187.0, \"min\": 187}, \"Max Records Seen Between Resets\": {\"count\": 1, \"max\": 187, \"sum\": 187.0, \"min\": 187}, \"Reset Count\": {\"count\": 1, \"max\": 0, \"sum\": 0.0, \"min\": 0}}, \"EndTime\": 1599224256.973797, \"Dimensions\": {\"Host\": \"algo-1\", \"Meta\": \"test_data_iter\", \"Operation\": \"training\", \"Algorithm\": \"AWS/KNN\"}, \"StartTime\": 1599224256.959179}\n",
      "\u001b[0m\n",
      "\u001b[34m[09/04/2020 12:57:36 INFO 140709647099712] #test_score (algo-1) : ('mse', 331.39146656508296)\u001b[0m\n",
      "\u001b[34m[09/04/2020 12:57:36 INFO 140709647099712] #test_score (algo-1) : ('absolute_loss', 6.14041351703501)\u001b[0m\n",
      "\u001b[34m[09/04/2020 12:57:36 INFO 140709647099712] #quality_metric: host=algo-1, test mse <loss>=331.391466565\u001b[0m\n",
      "\u001b[34m[09/04/2020 12:57:36 INFO 140709647099712] #quality_metric: host=algo-1, test absolute_loss <loss>=6.14041351704\u001b[0m\n",
      "\u001b[34m#metrics {\"Metrics\": {\"totaltime\": {\"count\": 1, \"max\": 1968.2989120483398, \"sum\": 1968.2989120483398, \"min\": 1968.2989120483398}, \"setuptime\": {\"count\": 1, \"max\": 31.488895416259766, \"sum\": 31.488895416259766, \"min\": 31.488895416259766}}, \"EndTime\": 1599224256.975232, \"Dimensions\": {\"Host\": \"algo-1\", \"Operation\": \"training\", \"Algorithm\": \"AWS/KNN\"}, \"StartTime\": 1599224256.958647}\n",
      "\u001b[0m\n"
     ]
    }
   ],
   "source": [
    "#https://docs.aws.amazon.com/sagemaker/latest/dg/kNN_hyperparameters.html\n",
    "hyperparams = {\n",
    "    'feature_dim': 4,\n",
    "    'k': 5,\n",
    "    'sample_size': 198,\n",
    "    'predictor_type': 'regressor'\n",
    "#     'index_type': 'faiss.IVFPQ',\n",
    "#     'index_metric': 'L2',\n",
    "#     'faiss_index_ivf_nlists': 500, \n",
    "#     'faiss_index_pq_m': '8'\n",
    "}\n",
    "output_path = 's3://' + bucket_ml + '/' + prefix + '/model/output'\n",
    "knn_estimator = trained_estimator_from_hyperparams(s3_train_data, hyperparams, output_path, \n",
    "                                                   s3_test_data=s3_test_data)"
   ]
  },
  {
   "cell_type": "markdown",
   "metadata": {},
   "source": [
    "Notice that we mentioned a test set in the training job. When a test set is provided the training job doesn't just produce a model but also applies it to the test set and reports the accuracy. In the logs you can view the accuracy of the model on the test set."
   ]
  },
  {
   "cell_type": "markdown",
   "metadata": {},
   "source": [
    "## Setting up the endpoint\n",
    "\n",
    "Now that we have a trained model, we are ready to run inference. The **knn_estimator** object above contains all the information we need for hosting the model. Below we provide a convenience function that given an estimator, sets up and endpoint that hosts the model. Other than the estimator object, we provide it with a name (string) for the estimator, and an **instance_type**. The **instance_type** is the machine type that will host the model. It is not restricted in any way by the parameter settings of the training job."
   ]
  },
  {
   "cell_type": "code",
   "execution_count": 16,
   "metadata": {},
   "outputs": [],
   "source": [
    "def predictor_from_estimator(knn_estimator, estimator_name, instance_type, endpoint_name=None): \n",
    "    knn_predictor = knn_estimator.deploy(initial_instance_count=1, instance_type=instance_type,\n",
    "                                        endpoint_name=endpoint_name)\n",
    "    knn_predictor.content_type = 'text/csv'\n",
    "    knn_predictor.serializer = csv_serializer\n",
    "    knn_predictor.deserializer = json_deserializer\n",
    "    return knn_predictor"
   ]
  },
  {
   "cell_type": "code",
   "execution_count": 17,
   "metadata": {},
   "outputs": [
    {
     "name": "stderr",
     "output_type": "stream",
     "text": [
      "Parameter image will be renamed to image_uri in SageMaker Python SDK v2.\n"
     ]
    },
    {
     "name": "stdout",
     "output_type": "stream",
     "text": [
      "setting up the endpoint..\n",
      "---------------!"
     ]
    }
   ],
   "source": [
    "import time\n",
    "\n",
    "instance_type = 'ml.t2.xlarge'\n",
    "model_name = 'knn_%s'% instance_type\n",
    "endpoint_name = 'knn-ml-t2-xlarge-%s'% (str(time.time()).replace('.','-'))\n",
    "print('setting up the endpoint..')\n",
    "predictor = predictor_from_estimator(knn_estimator, model_name, instance_type, endpoint_name=endpoint_name)"
   ]
  },
  {
   "cell_type": "markdown",
   "metadata": {},
   "source": [
    "## Inference\n",
    "\n",
    "Now that we have our predictor, let's use it on our test dataset. The following code runs on the test dataset, computes the accuracy and the average latency. It splits up the data into 100 batches, each of size roughly 500. Then, each batch is given to the inference service to obtain predictions. Once we have all predictions, we compute their accuracy given the true labels of the test set.\n"
   ]
  },
  {
   "cell_type": "code",
   "execution_count": 29,
   "metadata": {},
   "outputs": [
    {
     "name": "stdout",
     "output_type": "stream",
     "text": [
      "data split into 56 batches, of size 1.\n",
      "[[  9.87829    250.92549235  94.97628     20.21069   ]]\n",
      "{'predictions': [{'predicted_label': 117.59088287353515}]}\n",
      "[[  9.81741    249.48454788  94.0488      20.05669   ]]\n",
      "{'predictions': [{'predicted_label': 119.46772003173828}]}\n",
      "[[  9.79072    249.96764367  93.33773     20.13849   ]]\n",
      "{'predictions': [{'predicted_label': 118.90540313720703}]}\n",
      "[[  9.87659 360.       94.99323  20.18641]]\n",
      "{'predictions': [{'predicted_label': 116.94645843505859}]}\n",
      "[[  9.87925    251.01417344  95.02422     20.1989    ]]\n",
      "{'predictions': [{'predicted_label': 117.37079772949218}]}\n",
      "[[ 9.75283 90.      92.33026 20.26776]]\n",
      "{'predictions': [{'predicted_label': 118.33194122314453}]}\n",
      "[[  9.86529    249.87048296  94.9918      20.07865   ]]\n",
      "{'predictions': [{'predicted_label': 119.34877166748046}]}\n",
      "[[  9.88555 360.       94.9918   20.27305]]\n",
      "{'predictions': [{'predicted_label': 116.74986114501954}]}\n",
      "[[  9.88007   251.0268859  94.9918     20.22047  ]]\n",
      "{'predictions': [{'predicted_label': 117.37079772949218}]}\n",
      "[[  9.89335 360.       95.02422  20.33359]]\n",
      "{'predictions': [{'predicted_label': 116.74986114501954}]}\n",
      "[[  9.84223    249.29428141  95.05171     19.83835   ]]\n",
      "{'predictions': [{'predicted_label': 119.98280181884766}]}\n",
      "[[  9.87837    251.06411112  94.99323     20.20349   ]]\n",
      "{'predictions': [{'predicted_label': 117.25053253173829}]}\n",
      "[[  9.88542    251.23789649  94.99323     20.27103   ]]\n",
      "{'predictions': [{'predicted_label': 116.56284790039062}]}\n",
      "[[  9.87342    250.65020638  95.02422     20.14314   ]]\n",
      "{'predictions': [{'predicted_label': 117.76216430664063}]}\n",
      "[[  9.74849 360.       92.10252  20.34862]]\n",
      "{'predictions': [{'predicted_label': 117.88243865966797}]}\n",
      "[[  9.86879    261.98782976  94.39979     20.39884   ]]\n",
      "{'predictions': [{'predicted_label': 116.84259796142578}]}\n",
      "[[  9.61948    250.44286863  88.99323     20.85801   ]]\n",
      "{'predictions': [{'predicted_label': 115.88399047851563}]}\n",
      "[[  9.78007    249.39819146  93.1332      20.13133   ]]\n",
      "{'predictions': [{'predicted_label': 119.14896087646484}]}\n",
      "[[  9.88108    251.49996665  94.97628     20.23753   ]]\n",
      "{'predictions': [{'predicted_label': 116.73332977294922}]}\n",
      "[[  9.87016    249.71012467  95.89266     19.79038   ]]\n",
      "{'predictions': [{'predicted_label': 119.211572265625}]}\n",
      "[[  9.86955   250.5658062  95.00183    20.11501  ]]\n",
      "{'predictions': [{'predicted_label': 118.22710266113282}]}\n",
      "[[  9.73605    252.51561654  91.02422     20.87298   ]]\n",
      "{'predictions': [{'predicted_label': 114.39388275146484}]}\n",
      "[[  9.53964    249.62460098  87.85149     20.66838   ]]\n",
      "{'predictions': [{'predicted_label': 116.53837585449219}]}\n",
      "[[  9.8468     249.68792391  94.97628     19.91066   ]]\n",
      "{'predictions': [{'predicted_label': 119.5790512084961}]}\n",
      "[[  9.88252    251.07391603  95.35177     20.10169   ]]\n",
      "{'predictions': [{'predicted_label': 117.48388061523437}]}\n",
      "[[  9.84036   249.3383267  95.00183    19.83918  ]]\n",
      "{'predictions': [{'predicted_label': 119.98280181884766}]}\n",
      "[[  9.89099 270.       94.9918   20.32514]]\n",
      "{'predictions': [{'predicted_label': 116.66573028564453}]}\n",
      "[[  9.75151    249.11859256  92.41075     20.20737   ]]\n",
      "{'predictions': [{'predicted_label': 119.51429748535156}]}\n",
      "[[  9.87708 360.       95.00183  20.1872 ]]\n",
      "{'predictions': [{'predicted_label': 116.96234741210938}]}\n",
      "[[  9.7821     186.64924138  92.97292     20.23892   ]]\n",
      "{'predictions': [{'predicted_label': 118.00802612304688}]}\n",
      "[[  9.9063     251.62569257  95.35177     20.31951   ]]\n",
      "{'predictions': [{'predicted_label': 116.45706481933594}]}\n",
      "[[  9.90264    251.28650741  94.9918      20.43694   ]]\n",
      "{'predictions': [{'predicted_label': 116.40467071533203}]}\n",
      "[[  9.79277    249.63225356  93.62844     20.01156   ]]\n",
      "{'predictions': [{'predicted_label': 119.09284210205078}]}\n",
      "[[  9.83705    250.67948122  93.97628     20.2931    ]]\n",
      "{'predictions': [{'predicted_label': 117.76065979003906}]}\n",
      "[[  9.86953    250.84224501  94.97628     20.12665   ]]\n",
      "{'predictions': [{'predicted_label': 117.66084594726563}]}\n",
      "[[  9.87562    261.98782976  94.65212     20.34101   ]]\n",
      "{'predictions': [{'predicted_label': 116.84259796142578}]}\n",
      "[[  9.87749    251.43530442  95.02422     20.18209   ]]\n",
      "{'predictions': [{'predicted_label': 116.8463638305664}]}\n",
      "[[  9.77133    249.50550589  93.07035     20.06986   ]]\n",
      "{'predictions': [{'predicted_label': 119.14896087646484}]}\n",
      "[[  9.78593 360.       93.02757  20.2511 ]]\n",
      "{'predictions': [{'predicted_label': 117.88243865966797}]}\n",
      "[[  9.86748    250.35979006  94.99323     20.09905   ]]\n",
      "{'predictions': [{'predicted_label': 118.13045654296874}]}\n",
      "[[  9.52809    249.55116188  87.65404     20.67003   ]]\n",
      "{'predictions': [{'predicted_label': 116.53837585449219}]}\n",
      "[[  9.86596    250.79094659  95.02422     20.0719    ]]\n",
      "{'predictions': [{'predicted_label': 117.66084594726563}]}\n",
      "[[  9.46939    248.35879963  86.80511     20.49895   ]]\n",
      "{'predictions': [{'predicted_label': 116.96830444335937}]}\n",
      "[[  9.88623    251.45700093  94.99323     20.27882   ]]\n",
      "{'predictions': [{'predicted_label': 116.71880950927735}]}\n",
      "[[  9.87488    251.33280458  94.9918      20.17066   ]]\n",
      "{'predictions': [{'predicted_label': 117.14876251220703}]}\n",
      "[[  9.78768 270.       92.99252  20.28911]]\n",
      "{'predictions': [{'predicted_label': 116.66573028564453}]}\n",
      "[[  9.88188    251.16731981  94.99323     20.23711   ]]\n",
      "{'predictions': [{'predicted_label': 116.80918579101562}]}\n",
      "[[  9.8847     251.27496471  95.35177     20.1216    ]]\n",
      "{'predictions': [{'predicted_label': 116.76247863769531}]}\n",
      "[[  9.8405     261.98782976  94.24785     20.19189   ]]\n",
      "{'predictions': [{'predicted_label': 116.84259796142578}]}\n",
      "[[  9.89541    251.40422765  95.02422     20.35329   ]]\n",
      "{'predictions': [{'predicted_label': 116.39723663330078}]}\n",
      "[[  9.89618    251.61083571  95.35177     20.22679   ]]\n",
      "{'predictions': [{'predicted_label': 116.45706481933594}]}\n",
      "[[  9.88623 360.       94.99323  20.27882]]\n",
      "{'predictions': [{'predicted_label': 116.74986114501954}]}\n",
      "[[  9.51766    261.98782976  87.29649     20.86821   ]]\n",
      "{'predictions': [{'predicted_label': 116.9772216796875}]}\n",
      "[[  9.90093 360.       95.00183  20.41571]]\n",
      "{'predictions': [{'predicted_label': 116.74986114501954}]}\n",
      "[[  9.86244    251.16327646  94.47241     20.29971   ]]\n",
      "{'predictions': [{'predicted_label': 116.79482421875}]}\n",
      "[[  9.78416    249.78957299  93.13774     20.17309   ]]\n",
      "{'predictions': [{'predicted_label': 119.02718200683594}]}\n",
      "[117.59088287 119.46772003 118.90540314 116.94645844 117.37079773\n",
      " 118.33194122 119.34877167 116.74986115 117.37079773 116.74986115\n",
      " 119.98280182 117.25053253 116.5628479  117.76216431 117.88243866\n",
      " 116.84259796 115.88399048 119.14896088 116.73332977 119.21157227\n",
      " 118.22710266 114.39388275 116.53837585 119.57905121 117.48388062\n",
      " 119.98280182 116.66573029 119.51429749 116.96234741 118.00802612\n",
      " 116.45706482 116.40467072 119.0928421  117.76065979 117.66084595\n",
      " 116.84259796 116.84636383 119.14896088 117.88243866 118.13045654\n",
      " 116.53837585 117.66084595 116.96830444 116.71880951 117.14876251\n",
      " 116.66573029 116.80918579 116.76247864 116.84259796 116.39723663\n",
      " 116.45706482 116.74986115 116.97722168 116.74986115 116.79482422\n",
      " 119.02718201]\n",
      "[117.19418 119.8426  118.9054  116.96207 117.04199 119.5143  118.74408\n",
      " 116.57717 116.97522 116.50457 120.2211  116.95583 116.61257 117.62861\n",
      " 119.5143  116.8426  115.31102 119.8426  116.80331 119.76456 117.75207\n",
      " 113.36257 116.9975  119.73155 117.69083 120.32752 116.36681 119.5143\n",
      " 116.94505 118.9054  116.13316 116.19332 119.5143  117.50609 117.96729\n",
      " 116.8426  116.98835 119.5143  118.9054  118.09592 117.2411  118.11699\n",
      " 118.85938 116.68176 117.14972 118.9054  116.7635  117.35492 117.8426\n",
      " 116.54576 116.4254  116.68176 116.9748  116.29885 116.9975  118.9054 ]\n",
      "time required for predicting 56 data point: 0.56 seconds\n",
      "mse of model: 0.385110\n"
     ]
    }
   ],
   "source": [
    "from sklearn.metrics import mean_squared_error\n",
    "\n",
    "batches = np.array_split(test_features, 56)\n",
    "print('data split into 56 batches, of size %d.' % batches[0].shape[0])\n",
    "\n",
    "# obtain an np array with the predictions for the entire test set\n",
    "start_time = time.time()\n",
    "predictions = []\n",
    "for batch in batches:\n",
    "    result = predictor.predict(batch)\n",
    "    cur_predictions = np.array([result['predictions'][i]['predicted_label'] for i in range(len(result['predictions']))])\n",
    "    predictions.append(cur_predictions)\n",
    "predictions = np.concatenate(predictions)\n",
    "run_time = time.time() - start_time\n",
    "\n",
    "mse = mean_squared_error(predictions, test_labels)\n",
    "print('time required for predicting %d data point: %.2f seconds' % (test_size, run_time))\n",
    "print('mse of model: %f' % (mse) )"
   ]
  },
  {
   "cell_type": "markdown",
   "metadata": {},
   "source": [
    "## Deleting the endpoint\n",
    "\n",
    "We're now done with the example except a final clean-up act. By setting up the endpoint we started a machine in the cloud and as long as it's not deleted the machine is still up and we are paying for it. Once the endpoint is no longer necessary, we delete it. The following code does exactly that."
   ]
  },
  {
   "cell_type": "code",
   "execution_count": 57,
   "metadata": {},
   "outputs": [
    {
     "name": "stdout",
     "output_type": "stream",
     "text": [
      "Already deleted: knn-ml-t2-xlarge-1599059338-23387\n"
     ]
    }
   ],
   "source": [
    "def delete_endpoint(predictor):\n",
    "    try:\n",
    "        boto3.client('sagemaker').delete_endpoint(EndpointName=predictor.endpoint)\n",
    "        print('Deleted {}'.format(predictor.endpoint))\n",
    "    except:\n",
    "        print('Already deleted: {}'.format(predictor.endpoint))\n",
    "\n",
    "delete_endpoint(predictor)\n",
    "            "
   ]
  },
  {
   "cell_type": "markdown",
   "metadata": {},
   "source": [
    "# Part 2: Deep dive, Tuning kNN \n",
    "\n",
    "Now that we managed to run a simple example we move to a more advanced one. We keep the objective of classifying the covtype data set but now see how to explore the different options of the kNN algorithm. In what follows we will review different solvers for the kNN problem, different instance types for hosting the model, and a verbose prediction option that allows tuning the k value of the model after training"
   ]
  },
  {
   "cell_type": "markdown",
   "metadata": {},
   "source": [
    "## Train and Predict in Amazon SageMaker\n",
    "\n",
    "Below we copy, for convenience the function we set for training an estimator. The function has an optional value of the location of a test set. If one is given, the training job will apply the model on a test set and report the accuracy in the logs. This way, it is possible to obtain the quality of a model without setting up an endpoint and applying it to a test set. Though the function accepts hyper-parameters for the training job, we mention two hyper-parameters that we fixed inside the function.\n",
    "* **train_instance_count**: This is the number of machines used for the training process. For large datasets we may want to use multiple machines. In our case the entire dataset is rather small (~100MB) so we use only a single machine.\n",
    "* **train_instance_type**: This is the machine type used for training. We use the recommended type for training of 'ml.m5.2xlarge'. In cases where we have a large test set, it may be preferable to use a GPU machine or a CPU compute optimized machine such 'ml.c5.2xlarge' as the compute resource required for running inference on the test set may be considerable.\n"
   ]
  },
  {
   "cell_type": "code",
   "execution_count": 101,
   "metadata": {},
   "outputs": [],
   "source": [
    "import matplotlib.pyplot as plt\n",
    "\n",
    "import sagemaker\n",
    "from sagemaker import get_execution_role\n",
    "from sagemaker.predictor import csv_serializer, json_deserializer\n",
    "from sagemaker.amazon.amazon_estimator import get_image_uri\n",
    "\n",
    "\n",
    "def trained_estimator_from_hyperparams(s3_train_data, hyperparams, output_path, s3_test_data=None):\n",
    "    \"\"\"\n",
    "    Create an Estimator from the given hyperparams, fit to training data, \n",
    "    and return a deployed predictor\n",
    "    \n",
    "    \"\"\"\n",
    "\n",
    "    # set up the estimator\n",
    "    knn = sagemaker.estimator.Estimator(get_image_uri(boto3.Session().region_name, \"knn\"),\n",
    "        get_execution_role(),\n",
    "        train_instance_count=1,\n",
    "        train_instance_type='ml.m5.large',\n",
    "        output_path=output_path,\n",
    "        sagemaker_session=sagemaker.Session())\n",
    "    knn.set_hyperparameters(**hyperparams)\n",
    "    \n",
    "    # train a model. fit_input contains the locations of the train and test data\n",
    "    fit_input = {'train': s3_train_data}\n",
    "    if s3_test_data is not None:\n",
    "        fit_input['test'] = s3_test_data\n",
    "    knn.fit(fit_input)\n",
    "    return knn"
   ]
  },
  {
   "cell_type": "markdown",
   "metadata": {},
   "source": [
    "The function above returns the estimator object after running the **fit** method. The object contains all the information needed to set up an endpoint. The function below gets as input a fitted estimator and uses it to set up an endpoint. An important parameter this function receives is **instance_type**. The endpoint can be set on any machine type, regardless of the one used in training. \n",
    "\n",
    "In kNN, inference can be somewhat slow as it involves computing the distance from the given feature vector to all data points. For that reason, one might want to set up a compute optimized endpoint either on CPU (c5.xlarge) or GPU (p2.xlarge). In what follows we will set endpoints for both machine types and compare their performances."
   ]
  },
  {
   "cell_type": "code",
   "execution_count": 102,
   "metadata": {},
   "outputs": [],
   "source": [
    "def predictor_from_hyperparams(knn_estimator, estimator_name, instance_type, endpoint_name=None): \n",
    "    knn_predictor = knn_estimator.deploy(initial_instance_count=1, instance_type=instance_type,\n",
    "                                        endpoint_name=endpoint_name)\n",
    "    knn_predictor.content_type = 'text/csv'\n",
    "    knn_predictor.serializer = csv_serializer\n",
    "    knn_predictor.deserializer = json_deserializer\n",
    "    return knn_predictor"
   ]
  },
  {
   "cell_type": "markdown",
   "metadata": {},
   "source": [
    "## Launching the Training Jobs\n",
    "\n",
    "We're now ready to launch the training jobs. We'll train two different models, based on two different [FAISS indexes](TODO: point to our hyperparameter documentation). One will have a **IndexFlatL2** index, meaning it will find the nearest neighbors with a brute force approach. The other will use an **IndexIVFPQ** index that both uses a cell-probe method to avoid computing all the distances, and a product quantization method that improves the run-time of each distance calculation. For both classifiers, we use the L2 distance. It's also possible to use cosine distance but we do not explore that option here. Intuitively, the first index is accurate but may suffer from larger latencies / slower throughput. The second index is faster but may give less accurate responses, resulting in a lower accuracy/F1 score. \n",
    "\n",
    "We stop to mention an important parameter for Amazon SageMaker kNN, the **sample_size**. This parameter determines how many points from the data set should be used for building the model. Using all the data points is tempting and definitely can't hurt the quality of the outputs but is often either infeasible or simply too costly. Moreover, it can often be unnecessary in the sense that you may get the same accuracy with 200K points as you would with 2M points. In that case, there is simply no need to build a model with 2M points. In this example we use a sample of 200K points out of the potential ~450K in the training set."
   ]
  },
  {
   "cell_type": "code",
   "execution_count": 103,
   "metadata": {
    "scrolled": true
   },
   "outputs": [
    {
     "name": "stderr",
     "output_type": "stream",
     "text": [
      "'get_image_uri' method will be deprecated in favor of 'ImageURIProvider' class in SageMaker Python SDK v2.\n",
      "Parameter image_name will be renamed to image_uri in SageMaker Python SDK v2.\n",
      "'s3_input' class will be renamed to 'TrainingInput' in SageMaker Python SDK v2.\n",
      "'s3_input' class will be renamed to 'TrainingInput' in SageMaker Python SDK v2.\n"
     ]
    },
    {
     "name": "stdout",
     "output_type": "stream",
     "text": [
      "2020-09-03 09:12:15 Starting - Starting the training job...\n",
      "2020-09-03 09:12:19 Starting - Launching requested ML instances......\n",
      "2020-09-03 09:13:26 Starting - Preparing the instances for training...\n",
      "2020-09-03 09:14:05 Downloading - Downloading input data...\n",
      "2020-09-03 09:14:40 Training - Downloading the training image..\u001b[34mDocker entrypoint called with argument(s): train\u001b[0m\n",
      "\u001b[34mRunning default environment configuration script\u001b[0m\n",
      "\u001b[34m[09/03/2020 09:14:56 INFO 139818897364800] Reading default configuration from /opt/amazon/lib/python2.7/site-packages/algorithm/resources/default-conf.json: {u'index_metric': u'L2', u'_tuning_objective_metric': u'', u'_num_gpus': u'auto', u'_log_level': u'info', u'feature_dim': u'auto', u'faiss_index_ivf_nlists': u'auto', u'epochs': u'1', u'index_type': u'faiss.Flat', u'_faiss_index_nprobe': u'5', u'_kvstore': u'dist_async', u'_num_kv_servers': u'1', u'mini_batch_size': u'5000'}\u001b[0m\n",
      "\u001b[34m[09/03/2020 09:14:56 INFO 139818897364800] Merging with provided configuration from /opt/ml/input/config/hyperparameters.json: {u'sample_size': u'561', u'feature_dim': u'4', u'predictor_type': u'regressor', u'k': u'3'}\u001b[0m\n",
      "\u001b[34m[09/03/2020 09:14:56 INFO 139818897364800] Final configuration: {u'index_metric': u'L2', u'predictor_type': u'regressor', u'_tuning_objective_metric': u'', u'_num_gpus': u'auto', u'_log_level': u'info', u'feature_dim': u'4', u'faiss_index_ivf_nlists': u'auto', u'sample_size': u'561', u'epochs': u'1', u'index_type': u'faiss.Flat', u'_faiss_index_nprobe': u'5', u'_kvstore': u'dist_async', u'_num_kv_servers': u'1', u'mini_batch_size': u'5000', u'k': u'3'}\u001b[0m\n",
      "\u001b[34m[09/03/2020 09:14:56 WARNING 139818897364800] Loggers have already been setup.\u001b[0m\n",
      "\u001b[34m[09/03/2020 09:14:56 INFO 139818897364800] Launching parameter server for role scheduler\u001b[0m\n",
      "\u001b[34m[09/03/2020 09:14:56 INFO 139818897364800] {'ECS_CONTAINER_METADATA_URI': 'http://169.254.170.2/v3/aa782749-bc96-4474-9bb3-bfa4f41c2162', 'ECS_CONTAINER_METADATA_URI_V4': 'http://169.254.170.2/v4/aa782749-bc96-4474-9bb3-bfa4f41c2162', 'PROTOCOL_BUFFERS_PYTHON_IMPLEMENTATION_VERSION': '2', 'PATH': '/opt/amazon/bin:/usr/local/nvidia/bin:/usr/local/sbin:/usr/local/bin:/usr/sbin:/usr/bin:/sbin:/bin:/opt/amazon/bin:/opt/amazon/bin', 'SAGEMAKER_HTTP_PORT': '8080', 'HOME': '/root', 'PYTHONUNBUFFERED': 'TRUE', 'CANONICAL_ENVROOT': '/opt/amazon', 'LD_LIBRARY_PATH': '/opt/amazon/lib/python2.7/site-packages/cv2/../../../../lib:/usr/local/nvidia/lib64:/opt/amazon/lib', 'LANG': 'en_US.utf8', 'DMLC_INTERFACE': 'eth0', 'SHLVL': '1', 'AWS_REGION': 'eu-west-2', 'SAGEMAKER_METRICS_DIRECTORY': '/opt/ml/output/metrics/sagemaker', 'NVIDIA_VISIBLE_DEVICES': 'void', 'TRAINING_JOB_NAME': 'knn-2020-09-03-09-12-14-847', 'PROTOCOL_BUFFERS_PYTHON_IMPLEMENTATION': 'cpp', 'ENVROOT': '/opt/amazon', 'SAGEMAKER_DATA_PATH': '/opt/ml', 'NVIDIA_DRIVER_CAPABILITIES': 'compute,utility', 'NVIDIA_REQUIRE_CUDA': 'cuda>=9.0', 'OMP_NUM_THREADS': '1', 'HOSTNAME': 'ip-10-0-176-82.eu-west-2.compute.internal', 'AWS_CONTAINER_CREDENTIALS_RELATIVE_URI': '/v2/credentials/f3cb01b1-4704-42bc-b801-20dd9c9dddd1', 'PWD': '/', 'TRAINING_JOB_ARN': 'arn:aws:sagemaker:eu-west-2:281633979087:training-job/knn-2020-09-03-09-12-14-847', 'AWS_EXECUTION_ENV': 'AWS_ECS_EC2'}\u001b[0m\n",
      "\u001b[34m[09/03/2020 09:14:56 INFO 139818897364800] envs={'ECS_CONTAINER_METADATA_URI': 'http://169.254.170.2/v3/aa782749-bc96-4474-9bb3-bfa4f41c2162', 'ECS_CONTAINER_METADATA_URI_V4': 'http://169.254.170.2/v4/aa782749-bc96-4474-9bb3-bfa4f41c2162', 'PROTOCOL_BUFFERS_PYTHON_IMPLEMENTATION_VERSION': '2', 'DMLC_NUM_WORKER': '1', 'DMLC_PS_ROOT_PORT': '9000', 'PATH': '/opt/amazon/bin:/usr/local/nvidia/bin:/usr/local/sbin:/usr/local/bin:/usr/sbin:/usr/bin:/sbin:/bin:/opt/amazon/bin:/opt/amazon/bin', 'SAGEMAKER_HTTP_PORT': '8080', 'HOME': '/root', 'PYTHONUNBUFFERED': 'TRUE', 'CANONICAL_ENVROOT': '/opt/amazon', 'LD_LIBRARY_PATH': '/opt/amazon/lib/python2.7/site-packages/cv2/../../../../lib:/usr/local/nvidia/lib64:/opt/amazon/lib', 'LANG': 'en_US.utf8', 'DMLC_INTERFACE': 'eth0', 'SHLVL': '1', 'DMLC_PS_ROOT_URI': '10.0.176.82', 'AWS_REGION': 'eu-west-2', 'SAGEMAKER_METRICS_DIRECTORY': '/opt/ml/output/metrics/sagemaker', 'NVIDIA_VISIBLE_DEVICES': 'void', 'TRAINING_JOB_NAME': 'knn-2020-09-03-09-12-14-847', 'PROTOCOL_BUFFERS_PYTHON_IMPLEMENTATION': 'cpp', 'ENVROOT': '/opt/amazon', 'SAGEMAKER_DATA_PATH': '/opt/ml', 'NVIDIA_DRIVER_CAPABILITIES': 'compute,utility', 'NVIDIA_REQUIRE_CUDA': 'cuda>=9.0', 'OMP_NUM_THREADS': '1', 'HOSTNAME': 'ip-10-0-176-82.eu-west-2.compute.internal', 'AWS_CONTAINER_CREDENTIALS_RELATIVE_URI': '/v2/credentials/f3cb01b1-4704-42bc-b801-20dd9c9dddd1', 'DMLC_ROLE': 'scheduler', 'PWD': '/', 'DMLC_NUM_SERVER': '1', 'TRAINING_JOB_ARN': 'arn:aws:sagemaker:eu-west-2:281633979087:training-job/knn-2020-09-03-09-12-14-847', 'AWS_EXECUTION_ENV': 'AWS_ECS_EC2'}\u001b[0m\n",
      "\u001b[34m[09/03/2020 09:14:56 INFO 139818897364800] Launching parameter server for role server\u001b[0m\n",
      "\u001b[34m[09/03/2020 09:14:56 INFO 139818897364800] {'ECS_CONTAINER_METADATA_URI': 'http://169.254.170.2/v3/aa782749-bc96-4474-9bb3-bfa4f41c2162', 'ECS_CONTAINER_METADATA_URI_V4': 'http://169.254.170.2/v4/aa782749-bc96-4474-9bb3-bfa4f41c2162', 'PROTOCOL_BUFFERS_PYTHON_IMPLEMENTATION_VERSION': '2', 'PATH': '/opt/amazon/bin:/usr/local/nvidia/bin:/usr/local/sbin:/usr/local/bin:/usr/sbin:/usr/bin:/sbin:/bin:/opt/amazon/bin:/opt/amazon/bin', 'SAGEMAKER_HTTP_PORT': '8080', 'HOME': '/root', 'PYTHONUNBUFFERED': 'TRUE', 'CANONICAL_ENVROOT': '/opt/amazon', 'LD_LIBRARY_PATH': '/opt/amazon/lib/python2.7/site-packages/cv2/../../../../lib:/usr/local/nvidia/lib64:/opt/amazon/lib', 'LANG': 'en_US.utf8', 'DMLC_INTERFACE': 'eth0', 'SHLVL': '1', 'AWS_REGION': 'eu-west-2', 'SAGEMAKER_METRICS_DIRECTORY': '/opt/ml/output/metrics/sagemaker', 'NVIDIA_VISIBLE_DEVICES': 'void', 'TRAINING_JOB_NAME': 'knn-2020-09-03-09-12-14-847', 'PROTOCOL_BUFFERS_PYTHON_IMPLEMENTATION': 'cpp', 'ENVROOT': '/opt/amazon', 'SAGEMAKER_DATA_PATH': '/opt/ml', 'NVIDIA_DRIVER_CAPABILITIES': 'compute,utility', 'NVIDIA_REQUIRE_CUDA': 'cuda>=9.0', 'OMP_NUM_THREADS': '1', 'HOSTNAME': 'ip-10-0-176-82.eu-west-2.compute.internal', 'AWS_CONTAINER_CREDENTIALS_RELATIVE_URI': '/v2/credentials/f3cb01b1-4704-42bc-b801-20dd9c9dddd1', 'PWD': '/', 'TRAINING_JOB_ARN': 'arn:aws:sagemaker:eu-west-2:281633979087:training-job/knn-2020-09-03-09-12-14-847', 'AWS_EXECUTION_ENV': 'AWS_ECS_EC2'}\u001b[0m\n",
      "\u001b[34m[09/03/2020 09:14:56 INFO 139818897364800] envs={'ECS_CONTAINER_METADATA_URI': 'http://169.254.170.2/v3/aa782749-bc96-4474-9bb3-bfa4f41c2162', 'ECS_CONTAINER_METADATA_URI_V4': 'http://169.254.170.2/v4/aa782749-bc96-4474-9bb3-bfa4f41c2162', 'PROTOCOL_BUFFERS_PYTHON_IMPLEMENTATION_VERSION': '2', 'DMLC_NUM_WORKER': '1', 'DMLC_PS_ROOT_PORT': '9000', 'PATH': '/opt/amazon/bin:/usr/local/nvidia/bin:/usr/local/sbin:/usr/local/bin:/usr/sbin:/usr/bin:/sbin:/bin:/opt/amazon/bin:/opt/amazon/bin', 'SAGEMAKER_HTTP_PORT': '8080', 'HOME': '/root', 'PYTHONUNBUFFERED': 'TRUE', 'CANONICAL_ENVROOT': '/opt/amazon', 'LD_LIBRARY_PATH': '/opt/amazon/lib/python2.7/site-packages/cv2/../../../../lib:/usr/local/nvidia/lib64:/opt/amazon/lib', 'LANG': 'en_US.utf8', 'DMLC_INTERFACE': 'eth0', 'SHLVL': '1', 'DMLC_PS_ROOT_URI': '10.0.176.82', 'AWS_REGION': 'eu-west-2', 'SAGEMAKER_METRICS_DIRECTORY': '/opt/ml/output/metrics/sagemaker', 'NVIDIA_VISIBLE_DEVICES': 'void', 'TRAINING_JOB_NAME': 'knn-2020-09-03-09-12-14-847', 'PROTOCOL_BUFFERS_PYTHON_IMPLEMENTATION': 'cpp', 'ENVROOT': '/opt/amazon', 'SAGEMAKER_DATA_PATH': '/opt/ml', 'NVIDIA_DRIVER_CAPABILITIES': 'compute,utility', 'NVIDIA_REQUIRE_CUDA': 'cuda>=9.0', 'OMP_NUM_THREADS': '1', 'HOSTNAME': 'ip-10-0-176-82.eu-west-2.compute.internal', 'AWS_CONTAINER_CREDENTIALS_RELATIVE_URI': '/v2/credentials/f3cb01b1-4704-42bc-b801-20dd9c9dddd1', 'DMLC_ROLE': 'server', 'PWD': '/', 'DMLC_NUM_SERVER': '1', 'TRAINING_JOB_ARN': 'arn:aws:sagemaker:eu-west-2:281633979087:training-job/knn-2020-09-03-09-12-14-847', 'AWS_EXECUTION_ENV': 'AWS_ECS_EC2'}\u001b[0m\n",
      "\u001b[34m[09/03/2020 09:14:56 INFO 139818897364800] Environment: {'ECS_CONTAINER_METADATA_URI': 'http://169.254.170.2/v3/aa782749-bc96-4474-9bb3-bfa4f41c2162', 'ECS_CONTAINER_METADATA_URI_V4': 'http://169.254.170.2/v4/aa782749-bc96-4474-9bb3-bfa4f41c2162', 'PROTOCOL_BUFFERS_PYTHON_IMPLEMENTATION_VERSION': '2', 'DMLC_PS_ROOT_PORT': '9000', 'DMLC_NUM_WORKER': '1', 'SAGEMAKER_HTTP_PORT': '8080', 'PATH': '/opt/amazon/bin:/usr/local/nvidia/bin:/usr/local/sbin:/usr/local/bin:/usr/sbin:/usr/bin:/sbin:/bin:/opt/amazon/bin:/opt/amazon/bin', 'PYTHONUNBUFFERED': 'TRUE', 'CANONICAL_ENVROOT': '/opt/amazon', 'LD_LIBRARY_PATH': '/opt/amazon/lib/python2.7/site-packages/cv2/../../../../lib:/usr/local/nvidia/lib64:/opt/amazon/lib', 'LANG': 'en_US.utf8', 'DMLC_INTERFACE': 'eth0', 'SHLVL': '1', 'DMLC_PS_ROOT_URI': '10.0.176.82', 'AWS_REGION': 'eu-west-2', 'SAGEMAKER_METRICS_DIRECTORY': '/opt/ml/output/metrics/sagemaker', 'NVIDIA_VISIBLE_DEVICES': 'void', 'TRAINING_JOB_NAME': 'knn-2020-09-03-09-12-14-847', 'HOME': '/root', 'PROTOCOL_BUFFERS_PYTHON_IMPLEMENTATION': 'cpp', 'ENVROOT': '/opt/amazon', 'SAGEMAKER_DATA_PATH': '/opt/ml', 'NVIDIA_DRIVER_CAPABILITIES': 'compute,utility', 'NVIDIA_REQUIRE_CUDA': 'cuda>=9.0', 'OMP_NUM_THREADS': '1', 'HOSTNAME': 'ip-10-0-176-82.eu-west-2.compute.internal', 'AWS_CONTAINER_CREDENTIALS_RELATIVE_URI': '/v2/credentials/f3cb01b1-4704-42bc-b801-20dd9c9dddd1', 'DMLC_ROLE': 'worker', 'PWD': '/', 'DMLC_NUM_SERVER': '1', 'TRAINING_JOB_ARN': 'arn:aws:sagemaker:eu-west-2:281633979087:training-job/knn-2020-09-03-09-12-14-847', 'AWS_EXECUTION_ENV': 'AWS_ECS_EC2'}\u001b[0m\n",
      "\u001b[34mProcess 58 is a shell:scheduler.\u001b[0m\n",
      "\u001b[34mProcess 67 is a shell:server.\u001b[0m\n",
      "\u001b[34mProcess 1 is a worker.\u001b[0m\n",
      "\u001b[34m[09/03/2020 09:14:56 INFO 139818897364800] Using default worker.\u001b[0m\n",
      "\u001b[34m[09/03/2020 09:14:57 INFO 139818897364800] Checkpoint loading and saving are disabled.\u001b[0m\n",
      "\u001b[34m[2020-09-03 09:14:57.369] [tensorio] [warning] TensorIO is already initialized; ignoring the initialization routine.\u001b[0m\n",
      "\u001b[34m[09/03/2020 09:14:57 INFO 139818897364800] nvidia-smi took: 0.0251519680023 secs to identify 0 gpus\u001b[0m\n",
      "\u001b[34m[09/03/2020 09:14:57 INFO 139818897364800] Create Store: dist_async\u001b[0m\n",
      "\u001b[34m[09/03/2020 09:14:58 ERROR 139818897364800] nvidia-smi: failed to run (127): /bin/sh: nvidia-smi: command not found\u001b[0m\n",
      "\u001b[34m[09/03/2020 09:14:58 INFO 139818897364800] Using per-worker sample size = 561 (Available virtual memory = 6456012800 bytes, GPU free memory = 0 bytes, number of workers = 1). If an out-of-memory error occurs, choose a larger instance type, use dimension reduction, decrease sample_size, and/or decrease mini_batch_size.\u001b[0m\n",
      "\u001b[34m#metrics {\"Metrics\": {\"Max Batches Seen Between Resets\": {\"count\": 1, \"max\": 0, \"sum\": 0.0, \"min\": 0}, \"Number of Batches Since Last Reset\": {\"count\": 1, \"max\": 0, \"sum\": 0.0, \"min\": 0}, \"Number of Records Since Last Reset\": {\"count\": 1, \"max\": 0, \"sum\": 0.0, \"min\": 0}, \"Total Batches Seen\": {\"count\": 1, \"max\": 0, \"sum\": 0.0, \"min\": 0}, \"Total Records Seen\": {\"count\": 1, \"max\": 0, \"sum\": 0.0, \"min\": 0}, \"Max Records Seen Between Resets\": {\"count\": 1, \"max\": 0, \"sum\": 0.0, \"min\": 0}, \"Reset Count\": {\"count\": 1, \"max\": 0, \"sum\": 0.0, \"min\": 0}}, \"EndTime\": 1599124498.475978, \"Dimensions\": {\"Host\": \"algo-1\", \"Meta\": \"init_train_data_iter\", \"Operation\": \"training\", \"Algorithm\": \"AWS/KNN\"}, \"StartTime\": 1599124498.475935}\n",
      "\u001b[0m\n",
      "\u001b[34m[2020-09-03 09:14:58.476] [tensorio] [info] epoch_stats={\"data_pipeline\": \"/opt/ml/input/data/train\", \"epoch\": 0, \"duration\": 1109, \"num_examples\": 1, \"num_bytes\": 39680}\u001b[0m\n",
      "\u001b[34m[2020-09-03 09:14:58.489] [tensorio] [info] epoch_stats={\"data_pipeline\": \"/opt/ml/input/data/train\", \"epoch\": 1, \"duration\": 13, \"num_examples\": 1, \"num_bytes\": 39680}\u001b[0m\n",
      "\u001b[34m[09/03/2020 09:14:58 INFO 139818897364800] push reservoir to kv... 1 num_workers 0 rank\u001b[0m\n",
      "\u001b[34m[09/03/2020 09:14:58 INFO 139818897364800] ...done (496)\u001b[0m\n",
      "\u001b[34m[09/03/2020 09:14:58 INFO 139818897364800] #progress_metric: host=algo-1, completed 100 % of epochs\u001b[0m\n",
      "\u001b[34m#metrics {\"Metrics\": {\"Max Batches Seen Between Resets\": {\"count\": 1, \"max\": 1, \"sum\": 1.0, \"min\": 1}, \"Number of Batches Since Last Reset\": {\"count\": 1, \"max\": 1, \"sum\": 1.0, \"min\": 1}, \"Number of Records Since Last Reset\": {\"count\": 1, \"max\": 496, \"sum\": 496.0, \"min\": 496}, \"Total Batches Seen\": {\"count\": 1, \"max\": 1, \"sum\": 1.0, \"min\": 1}, \"Total Records Seen\": {\"count\": 1, \"max\": 496, \"sum\": 496.0, \"min\": 496}, \"Max Records Seen Between Resets\": {\"count\": 1, \"max\": 496, \"sum\": 496.0, \"min\": 496}, \"Reset Count\": {\"count\": 1, \"max\": 1, \"sum\": 1.0, \"min\": 1}}, \"EndTime\": 1599124498.491382, \"Dimensions\": {\"Host\": \"algo-1\", \"Meta\": \"training_data_iter\", \"Operation\": \"training\", \"Algorithm\": \"AWS/KNN\", \"epoch\": 0}, \"StartTime\": 1599124498.476399}\n",
      "\u001b[0m\n",
      "\u001b[34m[09/03/2020 09:14:58 INFO 139818897364800] #throughput_metric: host=algo-1, train throughput=32800.0312805 records/second\u001b[0m\n",
      "\u001b[34m[09/03/2020 09:14:58 INFO 139818897364800] pulled row count... worker 0 rows 496\u001b[0m\n",
      "\u001b[34m[09/03/2020 09:14:58 INFO 139818897364800] pulled... worker 0 data (496, 4) labels (496,) nans 0\u001b[0m\n",
      "\u001b[34m[09/03/2020 09:14:58 INFO 139818897364800] calling index.train...\u001b[0m\n",
      "\u001b[34m[09/03/2020 09:14:58 INFO 139818897364800] ...done calling index.train\u001b[0m\n",
      "\u001b[34m[09/03/2020 09:14:58 INFO 139818897364800] calling index.add...\u001b[0m\n",
      "\u001b[34m[09/03/2020 09:14:58 INFO 139818897364800] ...done calling index.add\u001b[0m\n",
      "\u001b[34m#metrics {\"Metrics\": {\"epochs\": {\"count\": 1, \"max\": 1, \"sum\": 1.0, \"min\": 1}, \"model.serialize.time\": {\"count\": 1, \"max\": 1.4781951904296875, \"sum\": 1.4781951904296875, \"min\": 1.4781951904296875}, \"finalize.time\": {\"count\": 1, \"max\": 3.6611557006835938, \"sum\": 3.6611557006835938, \"min\": 3.6611557006835938}, \"initialize.time\": {\"count\": 1, \"max\": 1105.6108474731445, \"sum\": 1105.6108474731445, \"min\": 1105.6108474731445}, \"update.time\": {\"count\": 1, \"max\": 14.764070510864258, \"sum\": 14.764070510864258, \"min\": 14.764070510864258}}, \"EndTime\": 1599124498.496851, \"Dimensions\": {\"Host\": \"algo-1\", \"Operation\": \"training\", \"Algorithm\": \"AWS/KNN\"}, \"StartTime\": 1599124497.365936}\n",
      "\u001b[0m\n",
      "\u001b[34m[2020-09-03 09:14:58.535] [tensorio] [info] epoch_stats={\"data_pipeline\": \"/opt/ml/input/data/test\", \"epoch\": 0, \"duration\": 1165, \"num_examples\": 1, \"num_bytes\": 4480}\u001b[0m\n",
      "\u001b[34m#metrics {\"Metrics\": {\"Max Batches Seen Between Resets\": {\"count\": 1, \"max\": 1, \"sum\": 1.0, \"min\": 1}, \"Number of Batches Since Last Reset\": {\"count\": 1, \"max\": 1, \"sum\": 1.0, \"min\": 1}, \"Number of Records Since Last Reset\": {\"count\": 1, \"max\": 56, \"sum\": 56.0, \"min\": 56}, \"Total Batches Seen\": {\"count\": 1, \"max\": 1, \"sum\": 1.0, \"min\": 1}, \"Total Records Seen\": {\"count\": 1, \"max\": 56, \"sum\": 56.0, \"min\": 56}, \"Max Records Seen Between Resets\": {\"count\": 1, \"max\": 56, \"sum\": 56.0, \"min\": 56}, \"Reset Count\": {\"count\": 1, \"max\": 0, \"sum\": 0.0, \"min\": 0}}, \"EndTime\": 1599124498.535581, \"Dimensions\": {\"Host\": \"algo-1\", \"Meta\": \"test_data_iter\", \"Operation\": \"training\", \"Algorithm\": \"AWS/KNN\"}, \"StartTime\": 1599124498.497429}\n",
      "\u001b[0m\n",
      "\u001b[34m[09/03/2020 09:14:58 INFO 139818897364800] #test_score (algo-1) : ('mse', 0.15007478356864398)\u001b[0m\n",
      "\u001b[34m[09/03/2020 09:14:58 INFO 139818897364800] #test_score (algo-1) : ('absolute_loss', 0.22916096777053138)\u001b[0m\n",
      "\u001b[34m[09/03/2020 09:14:58 INFO 139818897364800] #quality_metric: host=algo-1, test mse <loss>=0.150074783569\u001b[0m\n",
      "\u001b[34m[09/03/2020 09:14:58 INFO 139818897364800] #quality_metric: host=algo-1, test absolute_loss <loss>=0.229160967771\u001b[0m\n",
      "\u001b[34m#metrics {\"Metrics\": {\"totaltime\": {\"count\": 1, \"max\": 1893.1300640106201, \"sum\": 1893.1300640106201, \"min\": 1893.1300640106201}, \"setuptime\": {\"count\": 1, \"max\": 31.497955322265625, \"sum\": 31.497955322265625, \"min\": 31.497955322265625}}, \"EndTime\": 1599124498.537019, \"Dimensions\": {\"Host\": \"algo-1\", \"Operation\": \"training\", \"Algorithm\": \"AWS/KNN\"}, \"StartTime\": 1599124498.49692}\n",
      "\u001b[0m\n"
     ]
    },
    {
     "name": "stdout",
     "output_type": "stream",
     "text": [
      "\n",
      "2020-09-03 09:15:06 Uploading - Uploading generated training model\n",
      "2020-09-03 09:15:06 Completed - Training job completed\n"
     ]
    }
   ],
   "source": [
    "hyperparams_flat_k_small = {\n",
    "    'feature_dim': 4,\n",
    "    'k': 3,\n",
    "    'sample_size': 561,\n",
    "    'predictor_type': 'regressor' #default index_type : faiss.Flat\n",
    "    # NOTE: The default distance is L2 and index is Flat, so we don't list them here\n",
    "}\n",
    "output_path_k_small = 's3://' + bucket_ml + '/' + prefix + '/k_small/output'\n",
    "knn_estimator_k_small = trained_estimator_from_hyperparams(s3_train_data, hyperparams_flat_k_small, output_path_k_small, \n",
    "                                                           s3_test_data=s3_test_data)"
   ]
  },
  {
   "cell_type": "code",
   "execution_count": 104,
   "metadata": {},
   "outputs": [
    {
     "name": "stderr",
     "output_type": "stream",
     "text": [
      "'get_image_uri' method will be deprecated in favor of 'ImageURIProvider' class in SageMaker Python SDK v2.\n",
      "Parameter image_name will be renamed to image_uri in SageMaker Python SDK v2.\n",
      "'s3_input' class will be renamed to 'TrainingInput' in SageMaker Python SDK v2.\n",
      "'s3_input' class will be renamed to 'TrainingInput' in SageMaker Python SDK v2.\n"
     ]
    },
    {
     "name": "stdout",
     "output_type": "stream",
     "text": [
      "2020-09-03 09:15:26 Starting - Starting the training job...\n",
      "2020-09-03 09:15:28 Starting - Launching requested ML instances......\n",
      "2020-09-03 09:16:43 Starting - Preparing the instances for training...\n",
      "2020-09-03 09:17:24 Downloading - Downloading input data......\n",
      "2020-09-03 09:18:26 Training - Training image download completed. Training in progress.\n",
      "2020-09-03 09:18:26 Uploading - Uploading generated training model\n",
      "2020-09-03 09:18:26 Completed - Training job completed\n",
      "\u001b[34mDocker entrypoint called with argument(s): train\u001b[0m\n",
      "\u001b[34mRunning default environment configuration script\u001b[0m\n",
      "\u001b[34m[09/03/2020 09:18:16 INFO 139648994539328] Reading default configuration from /opt/amazon/lib/python2.7/site-packages/algorithm/resources/default-conf.json: {u'index_metric': u'L2', u'_tuning_objective_metric': u'', u'_num_gpus': u'auto', u'_log_level': u'info', u'feature_dim': u'auto', u'faiss_index_ivf_nlists': u'auto', u'epochs': u'1', u'index_type': u'faiss.Flat', u'_faiss_index_nprobe': u'5', u'_kvstore': u'dist_async', u'_num_kv_servers': u'1', u'mini_batch_size': u'5000'}\u001b[0m\n",
      "\u001b[34m[09/03/2020 09:18:16 INFO 139648994539328] Merging with provided configuration from /opt/ml/input/config/hyperparameters.json: {u'sample_size': u'561', u'feature_dim': u'4', u'predictor_type': u'regressor', u'k': u'10'}\u001b[0m\n",
      "\u001b[34m[09/03/2020 09:18:16 INFO 139648994539328] Final configuration: {u'index_metric': u'L2', u'predictor_type': u'regressor', u'_tuning_objective_metric': u'', u'_num_gpus': u'auto', u'_log_level': u'info', u'feature_dim': u'4', u'faiss_index_ivf_nlists': u'auto', u'sample_size': u'561', u'epochs': u'1', u'index_type': u'faiss.Flat', u'_faiss_index_nprobe': u'5', u'_kvstore': u'dist_async', u'_num_kv_servers': u'1', u'mini_batch_size': u'5000', u'k': u'10'}\u001b[0m\n",
      "\u001b[34m[09/03/2020 09:18:16 WARNING 139648994539328] Loggers have already been setup.\u001b[0m\n",
      "\u001b[34m[09/03/2020 09:18:16 INFO 139648994539328] Launching parameter server for role scheduler\u001b[0m\n",
      "\u001b[34m[09/03/2020 09:18:16 INFO 139648994539328] {'ECS_CONTAINER_METADATA_URI': 'http://169.254.170.2/v3/98ec9ce5-23e9-42c2-898f-19a28e563a5a', 'ECS_CONTAINER_METADATA_URI_V4': 'http://169.254.170.2/v4/98ec9ce5-23e9-42c2-898f-19a28e563a5a', 'PROTOCOL_BUFFERS_PYTHON_IMPLEMENTATION_VERSION': '2', 'PATH': '/opt/amazon/bin:/usr/local/nvidia/bin:/usr/local/sbin:/usr/local/bin:/usr/sbin:/usr/bin:/sbin:/bin:/opt/amazon/bin:/opt/amazon/bin', 'SAGEMAKER_HTTP_PORT': '8080', 'HOME': '/root', 'PYTHONUNBUFFERED': 'TRUE', 'CANONICAL_ENVROOT': '/opt/amazon', 'LD_LIBRARY_PATH': '/opt/amazon/lib/python2.7/site-packages/cv2/../../../../lib:/usr/local/nvidia/lib64:/opt/amazon/lib', 'LANG': 'en_US.utf8', 'DMLC_INTERFACE': 'eth0', 'SHLVL': '1', 'AWS_REGION': 'eu-west-2', 'SAGEMAKER_METRICS_DIRECTORY': '/opt/ml/output/metrics/sagemaker', 'NVIDIA_VISIBLE_DEVICES': 'void', 'TRAINING_JOB_NAME': 'knn-2020-09-03-09-15-26-689', 'PROTOCOL_BUFFERS_PYTHON_IMPLEMENTATION': 'cpp', 'ENVROOT': '/opt/amazon', 'SAGEMAKER_DATA_PATH': '/opt/ml', 'NVIDIA_DRIVER_CAPABILITIES': 'compute,utility', 'NVIDIA_REQUIRE_CUDA': 'cuda>=9.0', 'OMP_NUM_THREADS': '1', 'HOSTNAME': 'ip-10-0-66-91.eu-west-2.compute.internal', 'AWS_CONTAINER_CREDENTIALS_RELATIVE_URI': '/v2/credentials/f06dbddd-85a9-4cda-8b3a-c9086c2c13b5', 'PWD': '/', 'TRAINING_JOB_ARN': 'arn:aws:sagemaker:eu-west-2:281633979087:training-job/knn-2020-09-03-09-15-26-689', 'AWS_EXECUTION_ENV': 'AWS_ECS_EC2'}\u001b[0m\n",
      "\u001b[34m[09/03/2020 09:18:17 INFO 139648994539328] envs={'ECS_CONTAINER_METADATA_URI': 'http://169.254.170.2/v3/98ec9ce5-23e9-42c2-898f-19a28e563a5a', 'ECS_CONTAINER_METADATA_URI_V4': 'http://169.254.170.2/v4/98ec9ce5-23e9-42c2-898f-19a28e563a5a', 'PROTOCOL_BUFFERS_PYTHON_IMPLEMENTATION_VERSION': '2', 'DMLC_NUM_WORKER': '1', 'DMLC_PS_ROOT_PORT': '9000', 'PATH': '/opt/amazon/bin:/usr/local/nvidia/bin:/usr/local/sbin:/usr/local/bin:/usr/sbin:/usr/bin:/sbin:/bin:/opt/amazon/bin:/opt/amazon/bin', 'SAGEMAKER_HTTP_PORT': '8080', 'HOME': '/root', 'PYTHONUNBUFFERED': 'TRUE', 'CANONICAL_ENVROOT': '/opt/amazon', 'LD_LIBRARY_PATH': '/opt/amazon/lib/python2.7/site-packages/cv2/../../../../lib:/usr/local/nvidia/lib64:/opt/amazon/lib', 'LANG': 'en_US.utf8', 'DMLC_INTERFACE': 'eth0', 'SHLVL': '1', 'DMLC_PS_ROOT_URI': '10.0.66.91', 'AWS_REGION': 'eu-west-2', 'SAGEMAKER_METRICS_DIRECTORY': '/opt/ml/output/metrics/sagemaker', 'NVIDIA_VISIBLE_DEVICES': 'void', 'TRAINING_JOB_NAME': 'knn-2020-09-03-09-15-26-689', 'PROTOCOL_BUFFERS_PYTHON_IMPLEMENTATION': 'cpp', 'ENVROOT': '/opt/amazon', 'SAGEMAKER_DATA_PATH': '/opt/ml', 'NVIDIA_DRIVER_CAPABILITIES': 'compute,utility', 'NVIDIA_REQUIRE_CUDA': 'cuda>=9.0', 'OMP_NUM_THREADS': '1', 'HOSTNAME': 'ip-10-0-66-91.eu-west-2.compute.internal', 'AWS_CONTAINER_CREDENTIALS_RELATIVE_URI': '/v2/credentials/f06dbddd-85a9-4cda-8b3a-c9086c2c13b5', 'DMLC_ROLE': 'scheduler', 'PWD': '/', 'DMLC_NUM_SERVER': '1', 'TRAINING_JOB_ARN': 'arn:aws:sagemaker:eu-west-2:281633979087:training-job/knn-2020-09-03-09-15-26-689', 'AWS_EXECUTION_ENV': 'AWS_ECS_EC2'}\u001b[0m\n",
      "\u001b[34m[09/03/2020 09:18:17 INFO 139648994539328] Launching parameter server for role server\u001b[0m\n",
      "\u001b[34m[09/03/2020 09:18:17 INFO 139648994539328] {'ECS_CONTAINER_METADATA_URI': 'http://169.254.170.2/v3/98ec9ce5-23e9-42c2-898f-19a28e563a5a', 'ECS_CONTAINER_METADATA_URI_V4': 'http://169.254.170.2/v4/98ec9ce5-23e9-42c2-898f-19a28e563a5a', 'PROTOCOL_BUFFERS_PYTHON_IMPLEMENTATION_VERSION': '2', 'PATH': '/opt/amazon/bin:/usr/local/nvidia/bin:/usr/local/sbin:/usr/local/bin:/usr/sbin:/usr/bin:/sbin:/bin:/opt/amazon/bin:/opt/amazon/bin', 'SAGEMAKER_HTTP_PORT': '8080', 'HOME': '/root', 'PYTHONUNBUFFERED': 'TRUE', 'CANONICAL_ENVROOT': '/opt/amazon', 'LD_LIBRARY_PATH': '/opt/amazon/lib/python2.7/site-packages/cv2/../../../../lib:/usr/local/nvidia/lib64:/opt/amazon/lib', 'LANG': 'en_US.utf8', 'DMLC_INTERFACE': 'eth0', 'SHLVL': '1', 'AWS_REGION': 'eu-west-2', 'SAGEMAKER_METRICS_DIRECTORY': '/opt/ml/output/metrics/sagemaker', 'NVIDIA_VISIBLE_DEVICES': 'void', 'TRAINING_JOB_NAME': 'knn-2020-09-03-09-15-26-689', 'PROTOCOL_BUFFERS_PYTHON_IMPLEMENTATION': 'cpp', 'ENVROOT': '/opt/amazon', 'SAGEMAKER_DATA_PATH': '/opt/ml', 'NVIDIA_DRIVER_CAPABILITIES': 'compute,utility', 'NVIDIA_REQUIRE_CUDA': 'cuda>=9.0', 'OMP_NUM_THREADS': '1', 'HOSTNAME': 'ip-10-0-66-91.eu-west-2.compute.internal', 'AWS_CONTAINER_CREDENTIALS_RELATIVE_URI': '/v2/credentials/f06dbddd-85a9-4cda-8b3a-c9086c2c13b5', 'PWD': '/', 'TRAINING_JOB_ARN': 'arn:aws:sagemaker:eu-west-2:281633979087:training-job/knn-2020-09-03-09-15-26-689', 'AWS_EXECUTION_ENV': 'AWS_ECS_EC2'}\u001b[0m\n",
      "\u001b[34m[09/03/2020 09:18:17 INFO 139648994539328] envs={'ECS_CONTAINER_METADATA_URI': 'http://169.254.170.2/v3/98ec9ce5-23e9-42c2-898f-19a28e563a5a', 'ECS_CONTAINER_METADATA_URI_V4': 'http://169.254.170.2/v4/98ec9ce5-23e9-42c2-898f-19a28e563a5a', 'PROTOCOL_BUFFERS_PYTHON_IMPLEMENTATION_VERSION': '2', 'DMLC_NUM_WORKER': '1', 'DMLC_PS_ROOT_PORT': '9000', 'PATH': '/opt/amazon/bin:/usr/local/nvidia/bin:/usr/local/sbin:/usr/local/bin:/usr/sbin:/usr/bin:/sbin:/bin:/opt/amazon/bin:/opt/amazon/bin', 'SAGEMAKER_HTTP_PORT': '8080', 'HOME': '/root', 'PYTHONUNBUFFERED': 'TRUE', 'CANONICAL_ENVROOT': '/opt/amazon', 'LD_LIBRARY_PATH': '/opt/amazon/lib/python2.7/site-packages/cv2/../../../../lib:/usr/local/nvidia/lib64:/opt/amazon/lib', 'LANG': 'en_US.utf8', 'DMLC_INTERFACE': 'eth0', 'SHLVL': '1', 'DMLC_PS_ROOT_URI': '10.0.66.91', 'AWS_REGION': 'eu-west-2', 'SAGEMAKER_METRICS_DIRECTORY': '/opt/ml/output/metrics/sagemaker', 'NVIDIA_VISIBLE_DEVICES': 'void', 'TRAINING_JOB_NAME': 'knn-2020-09-03-09-15-26-689', 'PROTOCOL_BUFFERS_PYTHON_IMPLEMENTATION': 'cpp', 'ENVROOT': '/opt/amazon', 'SAGEMAKER_DATA_PATH': '/opt/ml', 'NVIDIA_DRIVER_CAPABILITIES': 'compute,utility', 'NVIDIA_REQUIRE_CUDA': 'cuda>=9.0', 'OMP_NUM_THREADS': '1', 'HOSTNAME': 'ip-10-0-66-91.eu-west-2.compute.internal', 'AWS_CONTAINER_CREDENTIALS_RELATIVE_URI': '/v2/credentials/f06dbddd-85a9-4cda-8b3a-c9086c2c13b5', 'DMLC_ROLE': 'server', 'PWD': '/', 'DMLC_NUM_SERVER': '1', 'TRAINING_JOB_ARN': 'arn:aws:sagemaker:eu-west-2:281633979087:training-job/knn-2020-09-03-09-15-26-689', 'AWS_EXECUTION_ENV': 'AWS_ECS_EC2'}\u001b[0m\n",
      "\u001b[34m[09/03/2020 09:18:17 INFO 139648994539328] Environment: {'ECS_CONTAINER_METADATA_URI': 'http://169.254.170.2/v3/98ec9ce5-23e9-42c2-898f-19a28e563a5a', 'ECS_CONTAINER_METADATA_URI_V4': 'http://169.254.170.2/v4/98ec9ce5-23e9-42c2-898f-19a28e563a5a', 'PROTOCOL_BUFFERS_PYTHON_IMPLEMENTATION_VERSION': '2', 'DMLC_PS_ROOT_PORT': '9000', 'DMLC_NUM_WORKER': '1', 'SAGEMAKER_HTTP_PORT': '8080', 'PATH': '/opt/amazon/bin:/usr/local/nvidia/bin:/usr/local/sbin:/usr/local/bin:/usr/sbin:/usr/bin:/sbin:/bin:/opt/amazon/bin:/opt/amazon/bin', 'PYTHONUNBUFFERED': 'TRUE', 'CANONICAL_ENVROOT': '/opt/amazon', 'LD_LIBRARY_PATH': '/opt/amazon/lib/python2.7/site-packages/cv2/../../../../lib:/usr/local/nvidia/lib64:/opt/amazon/lib', 'LANG': 'en_US.utf8', 'DMLC_INTERFACE': 'eth0', 'SHLVL': '1', 'DMLC_PS_ROOT_URI': '10.0.66.91', 'AWS_REGION': 'eu-west-2', 'SAGEMAKER_METRICS_DIRECTORY': '/opt/ml/output/metrics/sagemaker', 'NVIDIA_VISIBLE_DEVICES': 'void', 'TRAINING_JOB_NAME': 'knn-2020-09-03-09-15-26-689', 'HOME': '/root', 'PROTOCOL_BUFFERS_PYTHON_IMPLEMENTATION': 'cpp', 'ENVROOT': '/opt/amazon', 'SAGEMAKER_DATA_PATH': '/opt/ml', 'NVIDIA_DRIVER_CAPABILITIES': 'compute,utility', 'NVIDIA_REQUIRE_CUDA': 'cuda>=9.0', 'OMP_NUM_THREADS': '1', 'HOSTNAME': 'ip-10-0-66-91.eu-west-2.compute.internal', 'AWS_CONTAINER_CREDENTIALS_RELATIVE_URI': '/v2/credentials/f06dbddd-85a9-4cda-8b3a-c9086c2c13b5', 'DMLC_ROLE': 'worker', 'PWD': '/', 'DMLC_NUM_SERVER': '1', 'TRAINING_JOB_ARN': 'arn:aws:sagemaker:eu-west-2:281633979087:training-job/knn-2020-09-03-09-15-26-689', 'AWS_EXECUTION_ENV': 'AWS_ECS_EC2'}\u001b[0m\n",
      "\u001b[34mProcess 59 is a shell:scheduler.\u001b[0m\n",
      "\u001b[34mProcess 68 is a shell:server.\u001b[0m\n",
      "\u001b[34mProcess 1 is a worker.\u001b[0m\n",
      "\u001b[34m[09/03/2020 09:18:17 INFO 139648994539328] Using default worker.\u001b[0m\n",
      "\u001b[34m[09/03/2020 09:18:17 INFO 139648994539328] Checkpoint loading and saving are disabled.\u001b[0m\n",
      "\u001b[34m[2020-09-03 09:18:17.802] [tensorio] [warning] TensorIO is already initialized; ignoring the initialization routine.\u001b[0m\n",
      "\u001b[34m[09/03/2020 09:18:17 INFO 139648994539328] nvidia-smi took: 0.0251398086548 secs to identify 0 gpus\u001b[0m\n",
      "\u001b[34m[09/03/2020 09:18:17 INFO 139648994539328] Create Store: dist_async\u001b[0m\n",
      "\u001b[34m[09/03/2020 09:18:18 ERROR 139648994539328] nvidia-smi: failed to run (127): /bin/sh: nvidia-smi: command not found\u001b[0m\n",
      "\u001b[34m[09/03/2020 09:18:18 INFO 139648994539328] Using per-worker sample size = 561 (Available virtual memory = 6541250560 bytes, GPU free memory = 0 bytes, number of workers = 1). If an out-of-memory error occurs, choose a larger instance type, use dimension reduction, decrease sample_size, and/or decrease mini_batch_size.\u001b[0m\n",
      "\u001b[34m#metrics {\"Metrics\": {\"Max Batches Seen Between Resets\": {\"count\": 1, \"max\": 0, \"sum\": 0.0, \"min\": 0}, \"Number of Batches Since Last Reset\": {\"count\": 1, \"max\": 0, \"sum\": 0.0, \"min\": 0}, \"Number of Records Since Last Reset\": {\"count\": 1, \"max\": 0, \"sum\": 0.0, \"min\": 0}, \"Total Batches Seen\": {\"count\": 1, \"max\": 0, \"sum\": 0.0, \"min\": 0}, \"Total Records Seen\": {\"count\": 1, \"max\": 0, \"sum\": 0.0, \"min\": 0}, \"Max Records Seen Between Resets\": {\"count\": 1, \"max\": 0, \"sum\": 0.0, \"min\": 0}, \"Reset Count\": {\"count\": 1, \"max\": 0, \"sum\": 0.0, \"min\": 0}}, \"EndTime\": 1599124698.726186, \"Dimensions\": {\"Host\": \"algo-1\", \"Meta\": \"init_train_data_iter\", \"Operation\": \"training\", \"Algorithm\": \"AWS/KNN\"}, \"StartTime\": 1599124698.726144}\n",
      "\u001b[0m\n",
      "\u001b[34m[2020-09-03 09:18:18.726] [tensorio] [info] epoch_stats={\"data_pipeline\": \"/opt/ml/input/data/train\", \"epoch\": 0, \"duration\": 936, \"num_examples\": 1, \"num_bytes\": 39680}\u001b[0m\n",
      "\u001b[34m[2020-09-03 09:18:18.738] [tensorio] [info] epoch_stats={\"data_pipeline\": \"/opt/ml/input/data/train\", \"epoch\": 1, \"duration\": 11, \"num_examples\": 1, \"num_bytes\": 39680}\u001b[0m\n",
      "\u001b[34m[09/03/2020 09:18:18 INFO 139648994539328] push reservoir to kv... 1 num_workers 0 rank\u001b[0m\n",
      "\u001b[34m[09/03/2020 09:18:18 INFO 139648994539328] ...done (496)\u001b[0m\n",
      "\u001b[34m[09/03/2020 09:18:18 INFO 139648994539328] #progress_metric: host=algo-1, completed 100 % of epochs\u001b[0m\n",
      "\u001b[34m#metrics {\"Metrics\": {\"Max Batches Seen Between Resets\": {\"count\": 1, \"max\": 1, \"sum\": 1.0, \"min\": 1}, \"Number of Batches Since Last Reset\": {\"count\": 1, \"max\": 1, \"sum\": 1.0, \"min\": 1}, \"Number of Records Since Last Reset\": {\"count\": 1, \"max\": 496, \"sum\": 496.0, \"min\": 496}, \"Total Batches Seen\": {\"count\": 1, \"max\": 1, \"sum\": 1.0, \"min\": 1}, \"Total Records Seen\": {\"count\": 1, \"max\": 496, \"sum\": 496.0, \"min\": 496}, \"Max Records Seen Between Resets\": {\"count\": 1, \"max\": 496, \"sum\": 496.0, \"min\": 496}, \"Reset Count\": {\"count\": 1, \"max\": 1, \"sum\": 1.0, \"min\": 1}}, \"EndTime\": 1599124698.740417, \"Dimensions\": {\"Host\": \"algo-1\", \"Meta\": \"training_data_iter\", \"Operation\": \"training\", \"Algorithm\": \"AWS/KNN\", \"epoch\": 0}, \"StartTime\": 1599124698.726764}\n",
      "\u001b[0m\n",
      "\u001b[34m[09/03/2020 09:18:18 INFO 139648994539328] #throughput_metric: host=algo-1, train throughput=35887.0930481 records/second\u001b[0m\n",
      "\u001b[34m[09/03/2020 09:18:18 INFO 139648994539328] pulled row count... worker 0 rows 496\u001b[0m\n",
      "\u001b[34m[09/03/2020 09:18:18 INFO 139648994539328] pulled... worker 0 data (496, 4) labels (496,) nans 0\u001b[0m\n",
      "\u001b[34m[09/03/2020 09:18:18 INFO 139648994539328] calling index.train...\u001b[0m\n",
      "\u001b[34m[09/03/2020 09:18:18 INFO 139648994539328] ...done calling index.train\u001b[0m\n",
      "\u001b[34m[09/03/2020 09:18:18 INFO 139648994539328] calling index.add...\u001b[0m\n",
      "\u001b[34m[09/03/2020 09:18:18 INFO 139648994539328] ...done calling index.add\u001b[0m\n",
      "\u001b[34m#metrics {\"Metrics\": {\"epochs\": {\"count\": 1, \"max\": 1, \"sum\": 1.0, \"min\": 1}, \"model.serialize.time\": {\"count\": 1, \"max\": 1.6460418701171875, \"sum\": 1.6460418701171875, \"min\": 1.6460418701171875}, \"finalize.time\": {\"count\": 1, \"max\": 3.4568309783935547, \"sum\": 3.4568309783935547, \"min\": 3.4568309783935547}, \"initialize.time\": {\"count\": 1, \"max\": 913.193941116333, \"sum\": 913.193941116333, \"min\": 913.193941116333}, \"update.time\": {\"count\": 1, \"max\": 13.438940048217773, \"sum\": 13.438940048217773, \"min\": 13.438940048217773}}, \"EndTime\": 1599124698.746036, \"Dimensions\": {\"Host\": \"algo-1\", \"Operation\": \"training\", \"Algorithm\": \"AWS/KNN\"}, \"StartTime\": 1599124697.788458}\n",
      "\u001b[0m\n",
      "\u001b[34m[2020-09-03 09:18:18.780] [tensorio] [info] epoch_stats={\"data_pipeline\": \"/opt/ml/input/data/test\", \"epoch\": 0, \"duration\": 977, \"num_examples\": 1, \"num_bytes\": 4480}\u001b[0m\n",
      "\u001b[34m#metrics {\"Metrics\": {\"Max Batches Seen Between Resets\": {\"count\": 1, \"max\": 1, \"sum\": 1.0, \"min\": 1}, \"Number of Batches Since Last Reset\": {\"count\": 1, \"max\": 1, \"sum\": 1.0, \"min\": 1}, \"Number of Records Since Last Reset\": {\"count\": 1, \"max\": 56, \"sum\": 56.0, \"min\": 56}, \"Total Batches Seen\": {\"count\": 1, \"max\": 1, \"sum\": 1.0, \"min\": 1}, \"Total Records Seen\": {\"count\": 1, \"max\": 56, \"sum\": 56.0, \"min\": 56}, \"Max Records Seen Between Resets\": {\"count\": 1, \"max\": 56, \"sum\": 56.0, \"min\": 56}, \"Reset Count\": {\"count\": 1, \"max\": 0, \"sum\": 0.0, \"min\": 0}}, \"EndTime\": 1599124698.780301, \"Dimensions\": {\"Host\": \"algo-1\", \"Meta\": \"test_data_iter\", \"Operation\": \"training\", \"Algorithm\": \"AWS/KNN\"}, \"StartTime\": 1599124698.746621}\n",
      "\u001b[0m\n",
      "\u001b[34m[09/03/2020 09:18:18 INFO 139648994539328] #test_score (algo-1) : ('mse', 0.24749676315596997)\u001b[0m\n",
      "\u001b[34m[09/03/2020 09:18:18 INFO 139648994539328] #test_score (algo-1) : ('absolute_loss', 0.3001983693804081)\u001b[0m\n",
      "\u001b[34m[09/03/2020 09:18:18 INFO 139648994539328] #quality_metric: host=algo-1, test mse <loss>=0.247496763156\u001b[0m\n",
      "\u001b[34m[09/03/2020 09:18:18 INFO 139648994539328] #quality_metric: host=algo-1, test absolute_loss <loss>=0.30019836938\u001b[0m\n",
      "\u001b[34m#metrics {\"Metrics\": {\"totaltime\": {\"count\": 1, \"max\": 1798.910140991211, \"sum\": 1798.910140991211, \"min\": 1798.910140991211}, \"setuptime\": {\"count\": 1, \"max\": 29.903173446655273, \"sum\": 29.903173446655273, \"min\": 29.903173446655273}}, \"EndTime\": 1599124698.781771, \"Dimensions\": {\"Host\": \"algo-1\", \"Operation\": \"training\", \"Algorithm\": \"AWS/KNN\"}, \"StartTime\": 1599124698.746106}\n",
      "\u001b[0m\n"
     ]
    }
   ],
   "source": [
    "hyperparams_k_large = {\n",
    "    'feature_dim': 4,\n",
    "    'k': 10,\n",
    "    'sample_size': 561 ,\n",
    "    'predictor_type': 'regressor' \n",
    "}\n",
    "output_path_k_large = 's3://' + bucket_ml + '/' + prefix + '/k_large/output'\n",
    "knn_estimator_k_large = trained_estimator_from_hyperparams(s3_train_data, hyperparams_k_large, \n",
    "                                                                 output_path_k_large, s3_test_data=s3_test_data)"
   ]
  },
  {
   "cell_type": "code",
   "execution_count": 106,
   "metadata": {
    "scrolled": true
   },
   "outputs": [
    {
     "name": "stderr",
     "output_type": "stream",
     "text": [
      "'get_image_uri' method will be deprecated in favor of 'ImageURIProvider' class in SageMaker Python SDK v2.\n",
      "Parameter image_name will be renamed to image_uri in SageMaker Python SDK v2.\n",
      "'s3_input' class will be renamed to 'TrainingInput' in SageMaker Python SDK v2.\n",
      "'s3_input' class will be renamed to 'TrainingInput' in SageMaker Python SDK v2.\n"
     ]
    },
    {
     "name": "stdout",
     "output_type": "stream",
     "text": [
      "2020-09-03 09:22:54 Starting - Starting the training job...\n",
      "2020-09-03 09:22:57 Starting - Launching requested ML instances......\n",
      "2020-09-03 09:24:05 Starting - Preparing the instances for training...\n",
      "2020-09-03 09:24:42 Downloading - Downloading input data...\n",
      "2020-09-03 09:25:10 Training - Downloading the training image..\u001b[34mDocker entrypoint called with argument(s): train\u001b[0m\n",
      "\u001b[34mRunning default environment configuration script\u001b[0m\n",
      "\u001b[34m[09/03/2020 09:25:36 INFO 140570955810624] Reading default configuration from /opt/amazon/lib/python2.7/site-packages/algorithm/resources/default-conf.json: {u'index_metric': u'L2', u'_tuning_objective_metric': u'', u'_num_gpus': u'auto', u'_log_level': u'info', u'feature_dim': u'auto', u'faiss_index_ivf_nlists': u'auto', u'epochs': u'1', u'index_type': u'faiss.Flat', u'_faiss_index_nprobe': u'5', u'_kvstore': u'dist_async', u'_num_kv_servers': u'1', u'mini_batch_size': u'5000'}\u001b[0m\n",
      "\u001b[34m[09/03/2020 09:25:36 INFO 140570955810624] Merging with provided configuration from /opt/ml/input/config/hyperparameters.json: {u'index_metric': u'L2', u'predictor_type': u'regressor', u'index_type': u'faiss.IVFPQ', u'k': u'10', u'sample_size': u'561', u'feature_dim': u'4', u'faiss_index_pq_m': u'8'}\u001b[0m\n",
      "\u001b[34m[09/03/2020 09:25:36 INFO 140570955810624] Final configuration: {u'index_metric': u'L2', u'predictor_type': u'regressor', u'_tuning_objective_metric': u'', u'_num_gpus': u'auto', u'_log_level': u'info', u'feature_dim': u'4', u'faiss_index_ivf_nlists': u'auto', u'sample_size': u'561', u'epochs': u'1', u'index_type': u'faiss.IVFPQ', u'_faiss_index_nprobe': u'5', u'faiss_index_pq_m': u'8', u'_kvstore': u'dist_async', u'_num_kv_servers': u'1', u'mini_batch_size': u'5000', u'k': u'10'}\u001b[0m\n",
      "\u001b[34m[09/03/2020 09:25:36 WARNING 140570955810624] Loggers have already been setup.\u001b[0m\n",
      "\u001b[34m[09/03/2020 09:25:36 INFO 140570955810624] Launching parameter server for role scheduler\u001b[0m\n",
      "\u001b[34m[09/03/2020 09:25:36 INFO 140570955810624] {'ECS_CONTAINER_METADATA_URI': 'http://169.254.170.2/v3/af326122-d7d6-45ae-b12a-aa117aceb88f', 'ECS_CONTAINER_METADATA_URI_V4': 'http://169.254.170.2/v4/af326122-d7d6-45ae-b12a-aa117aceb88f', 'PROTOCOL_BUFFERS_PYTHON_IMPLEMENTATION_VERSION': '2', 'PATH': '/opt/amazon/bin:/usr/local/nvidia/bin:/usr/local/sbin:/usr/local/bin:/usr/sbin:/usr/bin:/sbin:/bin:/opt/amazon/bin:/opt/amazon/bin', 'SAGEMAKER_HTTP_PORT': '8080', 'HOME': '/root', 'PYTHONUNBUFFERED': 'TRUE', 'CANONICAL_ENVROOT': '/opt/amazon', 'LD_LIBRARY_PATH': '/opt/amazon/lib/python2.7/site-packages/cv2/../../../../lib:/usr/local/nvidia/lib64:/opt/amazon/lib', 'LANG': 'en_US.utf8', 'DMLC_INTERFACE': 'eth0', 'SHLVL': '1', 'AWS_REGION': 'eu-west-2', 'SAGEMAKER_METRICS_DIRECTORY': '/opt/ml/output/metrics/sagemaker', 'NVIDIA_VISIBLE_DEVICES': 'void', 'TRAINING_JOB_NAME': 'knn-2020-09-03-09-22-54-280', 'PROTOCOL_BUFFERS_PYTHON_IMPLEMENTATION': 'cpp', 'ENVROOT': '/opt/amazon', 'SAGEMAKER_DATA_PATH': '/opt/ml', 'NVIDIA_DRIVER_CAPABILITIES': 'compute,utility', 'NVIDIA_REQUIRE_CUDA': 'cuda>=9.0', 'OMP_NUM_THREADS': '1', 'HOSTNAME': 'ip-10-0-172-236.eu-west-2.compute.internal', 'AWS_CONTAINER_CREDENTIALS_RELATIVE_URI': '/v2/credentials/fb5c2c6d-5f42-4ff4-b4df-0dcc3c6709ee', 'PWD': '/', 'TRAINING_JOB_ARN': 'arn:aws:sagemaker:eu-west-2:281633979087:training-job/knn-2020-09-03-09-22-54-280', 'AWS_EXECUTION_ENV': 'AWS_ECS_EC2'}\u001b[0m\n",
      "\u001b[34m[09/03/2020 09:25:36 INFO 140570955810624] envs={'ECS_CONTAINER_METADATA_URI': 'http://169.254.170.2/v3/af326122-d7d6-45ae-b12a-aa117aceb88f', 'ECS_CONTAINER_METADATA_URI_V4': 'http://169.254.170.2/v4/af326122-d7d6-45ae-b12a-aa117aceb88f', 'PROTOCOL_BUFFERS_PYTHON_IMPLEMENTATION_VERSION': '2', 'DMLC_NUM_WORKER': '1', 'DMLC_PS_ROOT_PORT': '9000', 'PATH': '/opt/amazon/bin:/usr/local/nvidia/bin:/usr/local/sbin:/usr/local/bin:/usr/sbin:/usr/bin:/sbin:/bin:/opt/amazon/bin:/opt/amazon/bin', 'SAGEMAKER_HTTP_PORT': '8080', 'HOME': '/root', 'PYTHONUNBUFFERED': 'TRUE', 'CANONICAL_ENVROOT': '/opt/amazon', 'LD_LIBRARY_PATH': '/opt/amazon/lib/python2.7/site-packages/cv2/../../../../lib:/usr/local/nvidia/lib64:/opt/amazon/lib', 'LANG': 'en_US.utf8', 'DMLC_INTERFACE': 'eth0', 'SHLVL': '1', 'DMLC_PS_ROOT_URI': '10.0.172.236', 'AWS_REGION': 'eu-west-2', 'SAGEMAKER_METRICS_DIRECTORY': '/opt/ml/output/metrics/sagemaker', 'NVIDIA_VISIBLE_DEVICES': 'void', 'TRAINING_JOB_NAME': 'knn-2020-09-03-09-22-54-280', 'PROTOCOL_BUFFERS_PYTHON_IMPLEMENTATION': 'cpp', 'ENVROOT': '/opt/amazon', 'SAGEMAKER_DATA_PATH': '/opt/ml', 'NVIDIA_DRIVER_CAPABILITIES': 'compute,utility', 'NVIDIA_REQUIRE_CUDA': 'cuda>=9.0', 'OMP_NUM_THREADS': '1', 'HOSTNAME': 'ip-10-0-172-236.eu-west-2.compute.internal', 'AWS_CONTAINER_CREDENTIALS_RELATIVE_URI': '/v2/credentials/fb5c2c6d-5f42-4ff4-b4df-0dcc3c6709ee', 'DMLC_ROLE': 'scheduler', 'PWD': '/', 'DMLC_NUM_SERVER': '1', 'TRAINING_JOB_ARN': 'arn:aws:sagemaker:eu-west-2:281633979087:training-job/knn-2020-09-03-09-22-54-280', 'AWS_EXECUTION_ENV': 'AWS_ECS_EC2'}\u001b[0m\n",
      "\u001b[34m[09/03/2020 09:25:36 INFO 140570955810624] Launching parameter server for role server\u001b[0m\n",
      "\u001b[34m[09/03/2020 09:25:36 INFO 140570955810624] {'ECS_CONTAINER_METADATA_URI': 'http://169.254.170.2/v3/af326122-d7d6-45ae-b12a-aa117aceb88f', 'ECS_CONTAINER_METADATA_URI_V4': 'http://169.254.170.2/v4/af326122-d7d6-45ae-b12a-aa117aceb88f', 'PROTOCOL_BUFFERS_PYTHON_IMPLEMENTATION_VERSION': '2', 'PATH': '/opt/amazon/bin:/usr/local/nvidia/bin:/usr/local/sbin:/usr/local/bin:/usr/sbin:/usr/bin:/sbin:/bin:/opt/amazon/bin:/opt/amazon/bin', 'SAGEMAKER_HTTP_PORT': '8080', 'HOME': '/root', 'PYTHONUNBUFFERED': 'TRUE', 'CANONICAL_ENVROOT': '/opt/amazon', 'LD_LIBRARY_PATH': '/opt/amazon/lib/python2.7/site-packages/cv2/../../../../lib:/usr/local/nvidia/lib64:/opt/amazon/lib', 'LANG': 'en_US.utf8', 'DMLC_INTERFACE': 'eth0', 'SHLVL': '1', 'AWS_REGION': 'eu-west-2', 'SAGEMAKER_METRICS_DIRECTORY': '/opt/ml/output/metrics/sagemaker', 'NVIDIA_VISIBLE_DEVICES': 'void', 'TRAINING_JOB_NAME': 'knn-2020-09-03-09-22-54-280', 'PROTOCOL_BUFFERS_PYTHON_IMPLEMENTATION': 'cpp', 'ENVROOT': '/opt/amazon', 'SAGEMAKER_DATA_PATH': '/opt/ml', 'NVIDIA_DRIVER_CAPABILITIES': 'compute,utility', 'NVIDIA_REQUIRE_CUDA': 'cuda>=9.0', 'OMP_NUM_THREADS': '1', 'HOSTNAME': 'ip-10-0-172-236.eu-west-2.compute.internal', 'AWS_CONTAINER_CREDENTIALS_RELATIVE_URI': '/v2/credentials/fb5c2c6d-5f42-4ff4-b4df-0dcc3c6709ee', 'PWD': '/', 'TRAINING_JOB_ARN': 'arn:aws:sagemaker:eu-west-2:281633979087:training-job/knn-2020-09-03-09-22-54-280', 'AWS_EXECUTION_ENV': 'AWS_ECS_EC2'}\u001b[0m\n",
      "\u001b[34m[09/03/2020 09:25:36 INFO 140570955810624] envs={'ECS_CONTAINER_METADATA_URI': 'http://169.254.170.2/v3/af326122-d7d6-45ae-b12a-aa117aceb88f', 'ECS_CONTAINER_METADATA_URI_V4': 'http://169.254.170.2/v4/af326122-d7d6-45ae-b12a-aa117aceb88f', 'PROTOCOL_BUFFERS_PYTHON_IMPLEMENTATION_VERSION': '2', 'DMLC_NUM_WORKER': '1', 'DMLC_PS_ROOT_PORT': '9000', 'PATH': '/opt/amazon/bin:/usr/local/nvidia/bin:/usr/local/sbin:/usr/local/bin:/usr/sbin:/usr/bin:/sbin:/bin:/opt/amazon/bin:/opt/amazon/bin', 'SAGEMAKER_HTTP_PORT': '8080', 'HOME': '/root', 'PYTHONUNBUFFERED': 'TRUE', 'CANONICAL_ENVROOT': '/opt/amazon', 'LD_LIBRARY_PATH': '/opt/amazon/lib/python2.7/site-packages/cv2/../../../../lib:/usr/local/nvidia/lib64:/opt/amazon/lib', 'LANG': 'en_US.utf8', 'DMLC_INTERFACE': 'eth0', 'SHLVL': '1', 'DMLC_PS_ROOT_URI': '10.0.172.236', 'AWS_REGION': 'eu-west-2', 'SAGEMAKER_METRICS_DIRECTORY': '/opt/ml/output/metrics/sagemaker', 'NVIDIA_VISIBLE_DEVICES': 'void', 'TRAINING_JOB_NAME': 'knn-2020-09-03-09-22-54-280', 'PROTOCOL_BUFFERS_PYTHON_IMPLEMENTATION': 'cpp', 'ENVROOT': '/opt/amazon', 'SAGEMAKER_DATA_PATH': '/opt/ml', 'NVIDIA_DRIVER_CAPABILITIES': 'compute,utility', 'NVIDIA_REQUIRE_CUDA': 'cuda>=9.0', 'OMP_NUM_THREADS': '1', 'HOSTNAME': 'ip-10-0-172-236.eu-west-2.compute.internal', 'AWS_CONTAINER_CREDENTIALS_RELATIVE_URI': '/v2/credentials/fb5c2c6d-5f42-4ff4-b4df-0dcc3c6709ee', 'DMLC_ROLE': 'server', 'PWD': '/', 'DMLC_NUM_SERVER': '1', 'TRAINING_JOB_ARN': 'arn:aws:sagemaker:eu-west-2:281633979087:training-job/knn-2020-09-03-09-22-54-280', 'AWS_EXECUTION_ENV': 'AWS_ECS_EC2'}\u001b[0m\n",
      "\u001b[34m[09/03/2020 09:25:36 INFO 140570955810624] Environment: {'ECS_CONTAINER_METADATA_URI': 'http://169.254.170.2/v3/af326122-d7d6-45ae-b12a-aa117aceb88f', 'ECS_CONTAINER_METADATA_URI_V4': 'http://169.254.170.2/v4/af326122-d7d6-45ae-b12a-aa117aceb88f', 'PROTOCOL_BUFFERS_PYTHON_IMPLEMENTATION_VERSION': '2', 'DMLC_PS_ROOT_PORT': '9000', 'DMLC_NUM_WORKER': '1', 'SAGEMAKER_HTTP_PORT': '8080', 'PATH': '/opt/amazon/bin:/usr/local/nvidia/bin:/usr/local/sbin:/usr/local/bin:/usr/sbin:/usr/bin:/sbin:/bin:/opt/amazon/bin:/opt/amazon/bin', 'PYTHONUNBUFFERED': 'TRUE', 'CANONICAL_ENVROOT': '/opt/amazon', 'LD_LIBRARY_PATH': '/opt/amazon/lib/python2.7/site-packages/cv2/../../../../lib:/usr/local/nvidia/lib64:/opt/amazon/lib', 'LANG': 'en_US.utf8', 'DMLC_INTERFACE': 'eth0', 'SHLVL': '1', 'DMLC_PS_ROOT_URI': '10.0.172.236', 'AWS_REGION': 'eu-west-2', 'SAGEMAKER_METRICS_DIRECTORY': '/opt/ml/output/metrics/sagemaker', 'NVIDIA_VISIBLE_DEVICES': 'void', 'TRAINING_JOB_NAME': 'knn-2020-09-03-09-22-54-280', 'HOME': '/root', 'PROTOCOL_BUFFERS_PYTHON_IMPLEMENTATION': 'cpp', 'ENVROOT': '/opt/amazon', 'SAGEMAKER_DATA_PATH': '/opt/ml', 'NVIDIA_DRIVER_CAPABILITIES': 'compute,utility', 'NVIDIA_REQUIRE_CUDA': 'cuda>=9.0', 'OMP_NUM_THREADS': '1', 'HOSTNAME': 'ip-10-0-172-236.eu-west-2.compute.internal', 'AWS_CONTAINER_CREDENTIALS_RELATIVE_URI': '/v2/credentials/fb5c2c6d-5f42-4ff4-b4df-0dcc3c6709ee', 'DMLC_ROLE': 'worker', 'PWD': '/', 'DMLC_NUM_SERVER': '1', 'TRAINING_JOB_ARN': 'arn:aws:sagemaker:eu-west-2:281633979087:training-job/knn-2020-09-03-09-22-54-280', 'AWS_EXECUTION_ENV': 'AWS_ECS_EC2'}\u001b[0m\n",
      "\u001b[34mProcess 59 is a shell:scheduler.\u001b[0m\n",
      "\u001b[34mProcess 68 is a shell:server.\u001b[0m\n",
      "\u001b[34mProcess 1 is a worker.\u001b[0m\n",
      "\u001b[34m[09/03/2020 09:25:36 INFO 140570955810624] Using default worker.\u001b[0m\n",
      "\u001b[34m[09/03/2020 09:25:37 INFO 140570955810624] Checkpoint loading and saving are disabled.\u001b[0m\n",
      "\u001b[34m[2020-09-03 09:25:37.240] [tensorio] [warning] TensorIO is already initialized; ignoring the initialization routine.\u001b[0m\n",
      "\u001b[34m[09/03/2020 09:25:37 INFO 140570955810624] nvidia-smi took: 0.025160074234 secs to identify 0 gpus\u001b[0m\n",
      "\u001b[34m[09/03/2020 09:25:37 INFO 140570955810624] Create Store: dist_async\u001b[0m\n",
      "\u001b[34m[09/03/2020 09:25:38 ERROR 140570955810624] nvidia-smi: failed to run (127): /bin/sh: nvidia-smi: command not found\u001b[0m\n",
      "\u001b[34m[09/03/2020 09:25:38 INFO 140570955810624] Using per-worker sample size = 561 (Available virtual memory = 6437330944 bytes, GPU free memory = 0 bytes, number of workers = 1). If an out-of-memory error occurs, choose a larger instance type, use dimension reduction, decrease sample_size, and/or decrease mini_batch_size.\u001b[0m\n",
      "\u001b[34m#metrics {\"Metrics\": {\"Max Batches Seen Between Resets\": {\"count\": 1, \"max\": 0, \"sum\": 0.0, \"min\": 0}, \"Number of Batches Since Last Reset\": {\"count\": 1, \"max\": 0, \"sum\": 0.0, \"min\": 0}, \"Number of Records Since Last Reset\": {\"count\": 1, \"max\": 0, \"sum\": 0.0, \"min\": 0}, \"Total Batches Seen\": {\"count\": 1, \"max\": 0, \"sum\": 0.0, \"min\": 0}, \"Total Records Seen\": {\"count\": 1, \"max\": 0, \"sum\": 0.0, \"min\": 0}, \"Max Records Seen Between Resets\": {\"count\": 1, \"max\": 0, \"sum\": 0.0, \"min\": 0}, \"Reset Count\": {\"count\": 1, \"max\": 0, \"sum\": 0.0, \"min\": 0}}, \"EndTime\": 1599125138.36737, \"Dimensions\": {\"Host\": \"algo-1\", \"Meta\": \"init_train_data_iter\", \"Operation\": \"training\", \"Algorithm\": \"AWS/KNN\"}, \"StartTime\": 1599125138.367328}\n",
      "\u001b[0m\n",
      "\u001b[34m[2020-09-03 09:25:38.367] [tensorio] [info] epoch_stats={\"data_pipeline\": \"/opt/ml/input/data/train\", \"epoch\": 0, \"duration\": 1141, \"num_examples\": 1, \"num_bytes\": 39680}\u001b[0m\n",
      "\u001b[34m[2020-09-03 09:25:38.379] [tensorio] [info] epoch_stats={\"data_pipeline\": \"/opt/ml/input/data/train\", \"epoch\": 1, \"duration\": 11, \"num_examples\": 1, \"num_bytes\": 39680}\u001b[0m\n",
      "\u001b[34m[09/03/2020 09:25:38 INFO 140570955810624] push reservoir to kv... 1 num_workers 0 rank\u001b[0m\n",
      "\u001b[34m[09/03/2020 09:25:38 INFO 140570955810624] ...done (496)\u001b[0m\n",
      "\u001b[34m[09/03/2020 09:25:38 INFO 140570955810624] #progress_metric: host=algo-1, completed 100 % of epochs\u001b[0m\n",
      "\u001b[34m#metrics {\"Metrics\": {\"Max Batches Seen Between Resets\": {\"count\": 1, \"max\": 1, \"sum\": 1.0, \"min\": 1}, \"Number of Batches Since Last Reset\": {\"count\": 1, \"max\": 1, \"sum\": 1.0, \"min\": 1}, \"Number of Records Since Last Reset\": {\"count\": 1, \"max\": 496, \"sum\": 496.0, \"min\": 496}, \"Total Batches Seen\": {\"count\": 1, \"max\": 1, \"sum\": 1.0, \"min\": 1}, \"Total Records Seen\": {\"count\": 1, \"max\": 496, \"sum\": 496.0, \"min\": 496}, \"Max Records Seen Between Resets\": {\"count\": 1, \"max\": 496, \"sum\": 496.0, \"min\": 496}, \"Reset Count\": {\"count\": 1, \"max\": 1, \"sum\": 1.0, \"min\": 1}}, \"EndTime\": 1599125138.381532, \"Dimensions\": {\"Host\": \"algo-1\", \"Meta\": \"training_data_iter\", \"Operation\": \"training\", \"Algorithm\": \"AWS/KNN\", \"epoch\": 0}, \"StartTime\": 1599125138.367889}\n",
      "\u001b[0m\n",
      "\u001b[34m[09/03/2020 09:25:38 INFO 140570955810624] #throughput_metric: host=algo-1, train throughput=35507.3354497 records/second\u001b[0m\n",
      "\u001b[34m[09/03/2020 09:25:38 INFO 140570955810624] pulled row count... worker 0 rows 496\u001b[0m\n",
      "\u001b[34m[09/03/2020 09:25:38 INFO 140570955810624] pulled... worker 0 data (496, 8) labels (496,) nans 0\u001b[0m\n",
      "\u001b[34m[09/03/2020 09:25:38 INFO 140570955810624] calling index.train...\u001b[0m\n",
      "\u001b[34mWARNING clustering 496 points to 24 centroids: please provide at least 936 training points\u001b[0m\n",
      "\u001b[34mWARNING clustering 496 points to 256 centroids: please provide at least 9984 training points\u001b[0m\n",
      "\u001b[34mWARNING clustering 496 points to 256 centroids: please provide at least 9984 training points\u001b[0m\n",
      "\u001b[34mWARNING clustering 496 points to 256 centroids: please provide at least 9984 training points\u001b[0m\n",
      "\u001b[34mWARNING clustering 496 points to 256 centroids: please provide at least 9984 training points\u001b[0m\n",
      "\u001b[34mWARNING clustering 496 points to 256 centroids: please provide at least 9984 training points\u001b[0m\n",
      "\u001b[34mWARNING clustering 496 points to 256 centroids: please provide at least 9984 training points\u001b[0m\n",
      "\u001b[34mWARNING clustering 496 points to 256 centroids: please provide at least 9984 training points\u001b[0m\n",
      "\u001b[34mWARNING clustering 496 points to 256 centroids: please provide at least 9984 training points\u001b[0m\n"
     ]
    },
    {
     "name": "stdout",
     "output_type": "stream",
     "text": [
      "\n",
      "2020-09-03 09:25:33 Training - Training image download completed. Training in progress.\n",
      "2020-09-03 09:26:22 Uploading - Uploading generated training model\n",
      "2020-09-03 09:26:22 Completed - Training job completed\n",
      "\u001b[34m[09/03/2020 09:26:10 INFO 140570955810624] ...done calling index.train\u001b[0m\n",
      "\u001b[34m[09/03/2020 09:26:10 INFO 140570955810624] calling index.add...\u001b[0m\n",
      "\u001b[34m[09/03/2020 09:26:10 INFO 140570955810624] ...done calling index.add\u001b[0m\n",
      "\u001b[34m#metrics {\"Metrics\": {\"epochs\": {\"count\": 1, \"max\": 1, \"sum\": 1.0, \"min\": 1}, \"model.serialize.time\": {\"count\": 1, \"max\": 1.1990070343017578, \"sum\": 1.1990070343017578, \"min\": 1.1990070343017578}, \"finalize.time\": {\"count\": 1, \"max\": 31685.132026672363, \"sum\": 31685.132026672363, \"min\": 31685.132026672363}, \"initialize.time\": {\"count\": 1, \"max\": 1112.3700141906738, \"sum\": 1112.3700141906738, \"min\": 1112.3700141906738}, \"update.time\": {\"count\": 1, \"max\": 13.283014297485352, \"sum\": 13.283014297485352, \"min\": 13.283014297485352}}, \"EndTime\": 1599125170.068543, \"Dimensions\": {\"Host\": \"algo-1\", \"Operation\": \"training\", \"Algorithm\": \"AWS/KNN\"}, \"StartTime\": 1599125137.220604}\n",
      "\u001b[0m\n",
      "\u001b[34m[2020-09-03 09:26:10.074] [tensorio] [info] epoch_stats={\"data_pipeline\": \"/opt/ml/input/data/test\", \"epoch\": 0, \"duration\": 32833, \"num_examples\": 1, \"num_bytes\": 4480}\u001b[0m\n",
      "\u001b[34m#metrics {\"Metrics\": {\"Max Batches Seen Between Resets\": {\"count\": 1, \"max\": 1, \"sum\": 1.0, \"min\": 1}, \"Number of Batches Since Last Reset\": {\"count\": 1, \"max\": 1, \"sum\": 1.0, \"min\": 1}, \"Number of Records Since Last Reset\": {\"count\": 1, \"max\": 56, \"sum\": 56.0, \"min\": 56}, \"Total Batches Seen\": {\"count\": 1, \"max\": 1, \"sum\": 1.0, \"min\": 1}, \"Total Records Seen\": {\"count\": 1, \"max\": 56, \"sum\": 56.0, \"min\": 56}, \"Max Records Seen Between Resets\": {\"count\": 1, \"max\": 56, \"sum\": 56.0, \"min\": 56}, \"Reset Count\": {\"count\": 1, \"max\": 0, \"sum\": 0.0, \"min\": 0}}, \"EndTime\": 1599125170.074949, \"Dimensions\": {\"Host\": \"algo-1\", \"Meta\": \"test_data_iter\", \"Operation\": \"training\", \"Algorithm\": \"AWS/KNN\"}, \"StartTime\": 1599125170.069131}\n",
      "\u001b[0m\n",
      "\u001b[34m[09/03/2020 09:26:10 INFO 140570955810624] #test_score (algo-1) : ('mse', 0.24185531100218566)\u001b[0m\n",
      "\u001b[34m[09/03/2020 09:26:10 INFO 140570955810624] #test_score (algo-1) : ('absolute_loss', 0.28837805988856885)\u001b[0m\n",
      "\u001b[34m[09/03/2020 09:26:10 INFO 140570955810624] #quality_metric: host=algo-1, test mse <loss>=0.241855311002\u001b[0m\n",
      "\u001b[34m[09/03/2020 09:26:10 INFO 140570955810624] #quality_metric: host=algo-1, test absolute_loss <loss>=0.288378059889\u001b[0m\n",
      "\u001b[34m#metrics {\"Metrics\": {\"totaltime\": {\"count\": 1, \"max\": 33565.37199020386, \"sum\": 33565.37199020386, \"min\": 33565.37199020386}, \"setuptime\": {\"count\": 1, \"max\": 31.291961669921875, \"sum\": 31.291961669921875, \"min\": 31.291961669921875}}, \"EndTime\": 1599125170.076195, \"Dimensions\": {\"Host\": \"algo-1\", \"Operation\": \"training\", \"Algorithm\": \"AWS/KNN\"}, \"StartTime\": 1599125170.068626}\n",
      "\u001b[0m\n"
     ]
    }
   ],
   "source": [
    "hyperparams_ivfpq_l2 = {\n",
    "    'feature_dim': 4,\n",
    "    'k': 10,\n",
    "    'sample_size': 561,\n",
    "    'predictor_type': 'regressor',\n",
    "    'index_type': 'faiss.IVFPQ',\n",
    "    'index_metric': 'L2',\n",
    "    'faiss_index_pq_m': '8'\n",
    "    # number of distinct quantizers. In our case dim=54, so every quantizer will code up to 7 numbers.\n",
    "    # Each block of (up to) 7 numbers will be coded into a single byte.\n",
    "}\n",
    "output_path_ivfpq_l2 = 's3://' + bucket_ml + '/' + prefix + '/ivfpq_l2/output'\n",
    "knn_estimator_ivfpq_l2 = trained_estimator_from_hyperparams(s3_train_data, hyperparams_ivfpq_l2, output_path_ivfpq_l2, \n",
    "                                                           s3_test_data=s3_test_data)"
   ]
  },
  {
   "cell_type": "code",
   "execution_count": 105,
   "metadata": {},
   "outputs": [
    {
     "name": "stderr",
     "output_type": "stream",
     "text": [
      "'get_image_uri' method will be deprecated in favor of 'ImageURIProvider' class in SageMaker Python SDK v2.\n",
      "Parameter image_name will be renamed to image_uri in SageMaker Python SDK v2.\n",
      "'s3_input' class will be renamed to 'TrainingInput' in SageMaker Python SDK v2.\n",
      "'s3_input' class will be renamed to 'TrainingInput' in SageMaker Python SDK v2.\n"
     ]
    },
    {
     "name": "stdout",
     "output_type": "stream",
     "text": [
      "2020-09-03 09:18:38 Starting - Starting the training job...\n",
      "2020-09-03 09:18:41 Starting - Launching requested ML instances......\n",
      "2020-09-03 09:19:56 Starting - Preparing the instances for training...\n",
      "2020-09-03 09:20:38 Downloading - Downloading input data......\n",
      "2020-09-03 09:21:30 Training - Training image download completed. Training in progress.\u001b[34mDocker entrypoint called with argument(s): train\u001b[0m\n",
      "\u001b[34mRunning default environment configuration script\u001b[0m\n",
      "\u001b[34m[09/03/2020 09:21:33 INFO 140489631573824] Reading default configuration from /opt/amazon/lib/python2.7/site-packages/algorithm/resources/default-conf.json: {u'index_metric': u'L2', u'_tuning_objective_metric': u'', u'_num_gpus': u'auto', u'_log_level': u'info', u'feature_dim': u'auto', u'faiss_index_ivf_nlists': u'auto', u'epochs': u'1', u'index_type': u'faiss.Flat', u'_faiss_index_nprobe': u'5', u'_kvstore': u'dist_async', u'_num_kv_servers': u'1', u'mini_batch_size': u'5000'}\u001b[0m\n",
      "\u001b[34m[09/03/2020 09:21:33 INFO 140489631573824] Merging with provided configuration from /opt/ml/input/config/hyperparameters.json: {u'index_metric': u'L2', u'predictor_type': u'classifier', u'index_type': u'faiss.IVFPQ', u'k': u'2', u'sample_size': u'561', u'feature_dim': u'4', u'faiss_index_pq_m': u'8'}\u001b[0m\n",
      "\u001b[34m[09/03/2020 09:21:33 INFO 140489631573824] Final configuration: {u'index_metric': u'L2', u'predictor_type': u'classifier', u'_tuning_objective_metric': u'', u'_num_gpus': u'auto', u'_log_level': u'info', u'feature_dim': u'4', u'faiss_index_ivf_nlists': u'auto', u'sample_size': u'561', u'epochs': u'1', u'index_type': u'faiss.IVFPQ', u'_faiss_index_nprobe': u'5', u'faiss_index_pq_m': u'8', u'_kvstore': u'dist_async', u'_num_kv_servers': u'1', u'mini_batch_size': u'5000', u'k': u'2'}\u001b[0m\n",
      "\u001b[34m[09/03/2020 09:21:33 WARNING 140489631573824] Loggers have already been setup.\u001b[0m\n",
      "\u001b[34m[09/03/2020 09:21:33 INFO 140489631573824] Launching parameter server for role scheduler\u001b[0m\n",
      "\u001b[34m[09/03/2020 09:21:33 INFO 140489631573824] {'ECS_CONTAINER_METADATA_URI': 'http://169.254.170.2/v3/fb1a7177-a190-4a45-bd79-55a5c07d8b6c', 'ECS_CONTAINER_METADATA_URI_V4': 'http://169.254.170.2/v4/fb1a7177-a190-4a45-bd79-55a5c07d8b6c', 'PROTOCOL_BUFFERS_PYTHON_IMPLEMENTATION_VERSION': '2', 'PATH': '/opt/amazon/bin:/usr/local/nvidia/bin:/usr/local/sbin:/usr/local/bin:/usr/sbin:/usr/bin:/sbin:/bin:/opt/amazon/bin:/opt/amazon/bin', 'SAGEMAKER_HTTP_PORT': '8080', 'HOME': '/root', 'PYTHONUNBUFFERED': 'TRUE', 'CANONICAL_ENVROOT': '/opt/amazon', 'LD_LIBRARY_PATH': '/opt/amazon/lib/python2.7/site-packages/cv2/../../../../lib:/usr/local/nvidia/lib64:/opt/amazon/lib', 'LANG': 'en_US.utf8', 'DMLC_INTERFACE': 'eth0', 'SHLVL': '1', 'AWS_REGION': 'eu-west-2', 'SAGEMAKER_METRICS_DIRECTORY': '/opt/ml/output/metrics/sagemaker', 'NVIDIA_VISIBLE_DEVICES': 'void', 'TRAINING_JOB_NAME': 'knn-2020-09-03-09-18-38-297', 'PROTOCOL_BUFFERS_PYTHON_IMPLEMENTATION': 'cpp', 'ENVROOT': '/opt/amazon', 'SAGEMAKER_DATA_PATH': '/opt/ml', 'NVIDIA_DRIVER_CAPABILITIES': 'compute,utility', 'NVIDIA_REQUIRE_CUDA': 'cuda>=9.0', 'OMP_NUM_THREADS': '1', 'HOSTNAME': 'ip-10-0-69-126.eu-west-2.compute.internal', 'AWS_CONTAINER_CREDENTIALS_RELATIVE_URI': '/v2/credentials/e4252ca5-2579-4477-a59a-a5fad28a60d6', 'PWD': '/', 'TRAINING_JOB_ARN': 'arn:aws:sagemaker:eu-west-2:281633979087:training-job/knn-2020-09-03-09-18-38-297', 'AWS_EXECUTION_ENV': 'AWS_ECS_EC2'}\u001b[0m\n",
      "\u001b[34m[09/03/2020 09:21:33 INFO 140489631573824] envs={'ECS_CONTAINER_METADATA_URI': 'http://169.254.170.2/v3/fb1a7177-a190-4a45-bd79-55a5c07d8b6c', 'ECS_CONTAINER_METADATA_URI_V4': 'http://169.254.170.2/v4/fb1a7177-a190-4a45-bd79-55a5c07d8b6c', 'PROTOCOL_BUFFERS_PYTHON_IMPLEMENTATION_VERSION': '2', 'DMLC_NUM_WORKER': '1', 'DMLC_PS_ROOT_PORT': '9000', 'PATH': '/opt/amazon/bin:/usr/local/nvidia/bin:/usr/local/sbin:/usr/local/bin:/usr/sbin:/usr/bin:/sbin:/bin:/opt/amazon/bin:/opt/amazon/bin', 'SAGEMAKER_HTTP_PORT': '8080', 'HOME': '/root', 'PYTHONUNBUFFERED': 'TRUE', 'CANONICAL_ENVROOT': '/opt/amazon', 'LD_LIBRARY_PATH': '/opt/amazon/lib/python2.7/site-packages/cv2/../../../../lib:/usr/local/nvidia/lib64:/opt/amazon/lib', 'LANG': 'en_US.utf8', 'DMLC_INTERFACE': 'eth0', 'SHLVL': '1', 'DMLC_PS_ROOT_URI': '10.0.69.126', 'AWS_REGION': 'eu-west-2', 'SAGEMAKER_METRICS_DIRECTORY': '/opt/ml/output/metrics/sagemaker', 'NVIDIA_VISIBLE_DEVICES': 'void', 'TRAINING_JOB_NAME': 'knn-2020-09-03-09-18-38-297', 'PROTOCOL_BUFFERS_PYTHON_IMPLEMENTATION': 'cpp', 'ENVROOT': '/opt/amazon', 'SAGEMAKER_DATA_PATH': '/opt/ml', 'NVIDIA_DRIVER_CAPABILITIES': 'compute,utility', 'NVIDIA_REQUIRE_CUDA': 'cuda>=9.0', 'OMP_NUM_THREADS': '1', 'HOSTNAME': 'ip-10-0-69-126.eu-west-2.compute.internal', 'AWS_CONTAINER_CREDENTIALS_RELATIVE_URI': '/v2/credentials/e4252ca5-2579-4477-a59a-a5fad28a60d6', 'DMLC_ROLE': 'scheduler', 'PWD': '/', 'DMLC_NUM_SERVER': '1', 'TRAINING_JOB_ARN': 'arn:aws:sagemaker:eu-west-2:281633979087:training-job/knn-2020-09-03-09-18-38-297', 'AWS_EXECUTION_ENV': 'AWS_ECS_EC2'}\u001b[0m\n",
      "\u001b[34m[09/03/2020 09:21:33 INFO 140489631573824] Launching parameter server for role server\u001b[0m\n",
      "\u001b[34m[09/03/2020 09:21:33 INFO 140489631573824] {'ECS_CONTAINER_METADATA_URI': 'http://169.254.170.2/v3/fb1a7177-a190-4a45-bd79-55a5c07d8b6c', 'ECS_CONTAINER_METADATA_URI_V4': 'http://169.254.170.2/v4/fb1a7177-a190-4a45-bd79-55a5c07d8b6c', 'PROTOCOL_BUFFERS_PYTHON_IMPLEMENTATION_VERSION': '2', 'PATH': '/opt/amazon/bin:/usr/local/nvidia/bin:/usr/local/sbin:/usr/local/bin:/usr/sbin:/usr/bin:/sbin:/bin:/opt/amazon/bin:/opt/amazon/bin', 'SAGEMAKER_HTTP_PORT': '8080', 'HOME': '/root', 'PYTHONUNBUFFERED': 'TRUE', 'CANONICAL_ENVROOT': '/opt/amazon', 'LD_LIBRARY_PATH': '/opt/amazon/lib/python2.7/site-packages/cv2/../../../../lib:/usr/local/nvidia/lib64:/opt/amazon/lib', 'LANG': 'en_US.utf8', 'DMLC_INTERFACE': 'eth0', 'SHLVL': '1', 'AWS_REGION': 'eu-west-2', 'SAGEMAKER_METRICS_DIRECTORY': '/opt/ml/output/metrics/sagemaker', 'NVIDIA_VISIBLE_DEVICES': 'void', 'TRAINING_JOB_NAME': 'knn-2020-09-03-09-18-38-297', 'PROTOCOL_BUFFERS_PYTHON_IMPLEMENTATION': 'cpp', 'ENVROOT': '/opt/amazon', 'SAGEMAKER_DATA_PATH': '/opt/ml', 'NVIDIA_DRIVER_CAPABILITIES': 'compute,utility', 'NVIDIA_REQUIRE_CUDA': 'cuda>=9.0', 'OMP_NUM_THREADS': '1', 'HOSTNAME': 'ip-10-0-69-126.eu-west-2.compute.internal', 'AWS_CONTAINER_CREDENTIALS_RELATIVE_URI': '/v2/credentials/e4252ca5-2579-4477-a59a-a5fad28a60d6', 'PWD': '/', 'TRAINING_JOB_ARN': 'arn:aws:sagemaker:eu-west-2:281633979087:training-job/knn-2020-09-03-09-18-38-297', 'AWS_EXECUTION_ENV': 'AWS_ECS_EC2'}\u001b[0m\n",
      "\u001b[34m[09/03/2020 09:21:33 INFO 140489631573824] envs={'ECS_CONTAINER_METADATA_URI': 'http://169.254.170.2/v3/fb1a7177-a190-4a45-bd79-55a5c07d8b6c', 'ECS_CONTAINER_METADATA_URI_V4': 'http://169.254.170.2/v4/fb1a7177-a190-4a45-bd79-55a5c07d8b6c', 'PROTOCOL_BUFFERS_PYTHON_IMPLEMENTATION_VERSION': '2', 'DMLC_NUM_WORKER': '1', 'DMLC_PS_ROOT_PORT': '9000', 'PATH': '/opt/amazon/bin:/usr/local/nvidia/bin:/usr/local/sbin:/usr/local/bin:/usr/sbin:/usr/bin:/sbin:/bin:/opt/amazon/bin:/opt/amazon/bin', 'SAGEMAKER_HTTP_PORT': '8080', 'HOME': '/root', 'PYTHONUNBUFFERED': 'TRUE', 'CANONICAL_ENVROOT': '/opt/amazon', 'LD_LIBRARY_PATH': '/opt/amazon/lib/python2.7/site-packages/cv2/../../../../lib:/usr/local/nvidia/lib64:/opt/amazon/lib', 'LANG': 'en_US.utf8', 'DMLC_INTERFACE': 'eth0', 'SHLVL': '1', 'DMLC_PS_ROOT_URI': '10.0.69.126', 'AWS_REGION': 'eu-west-2', 'SAGEMAKER_METRICS_DIRECTORY': '/opt/ml/output/metrics/sagemaker', 'NVIDIA_VISIBLE_DEVICES': 'void', 'TRAINING_JOB_NAME': 'knn-2020-09-03-09-18-38-297', 'PROTOCOL_BUFFERS_PYTHON_IMPLEMENTATION': 'cpp', 'ENVROOT': '/opt/amazon', 'SAGEMAKER_DATA_PATH': '/opt/ml', 'NVIDIA_DRIVER_CAPABILITIES': 'compute,utility', 'NVIDIA_REQUIRE_CUDA': 'cuda>=9.0', 'OMP_NUM_THREADS': '1', 'HOSTNAME': 'ip-10-0-69-126.eu-west-2.compute.internal', 'AWS_CONTAINER_CREDENTIALS_RELATIVE_URI': '/v2/credentials/e4252ca5-2579-4477-a59a-a5fad28a60d6', 'DMLC_ROLE': 'server', 'PWD': '/', 'DMLC_NUM_SERVER': '1', 'TRAINING_JOB_ARN': 'arn:aws:sagemaker:eu-west-2:281633979087:training-job/knn-2020-09-03-09-18-38-297', 'AWS_EXECUTION_ENV': 'AWS_ECS_EC2'}\u001b[0m\n",
      "\u001b[34m[09/03/2020 09:21:33 INFO 140489631573824] Environment: {'ECS_CONTAINER_METADATA_URI': 'http://169.254.170.2/v3/fb1a7177-a190-4a45-bd79-55a5c07d8b6c', 'ECS_CONTAINER_METADATA_URI_V4': 'http://169.254.170.2/v4/fb1a7177-a190-4a45-bd79-55a5c07d8b6c', 'PROTOCOL_BUFFERS_PYTHON_IMPLEMENTATION_VERSION': '2', 'DMLC_PS_ROOT_PORT': '9000', 'DMLC_NUM_WORKER': '1', 'SAGEMAKER_HTTP_PORT': '8080', 'PATH': '/opt/amazon/bin:/usr/local/nvidia/bin:/usr/local/sbin:/usr/local/bin:/usr/sbin:/usr/bin:/sbin:/bin:/opt/amazon/bin:/opt/amazon/bin', 'PYTHONUNBUFFERED': 'TRUE', 'CANONICAL_ENVROOT': '/opt/amazon', 'LD_LIBRARY_PATH': '/opt/amazon/lib/python2.7/site-packages/cv2/../../../../lib:/usr/local/nvidia/lib64:/opt/amazon/lib', 'LANG': 'en_US.utf8', 'DMLC_INTERFACE': 'eth0', 'SHLVL': '1', 'DMLC_PS_ROOT_URI': '10.0.69.126', 'AWS_REGION': 'eu-west-2', 'SAGEMAKER_METRICS_DIRECTORY': '/opt/ml/output/metrics/sagemaker', 'NVIDIA_VISIBLE_DEVICES': 'void', 'TRAINING_JOB_NAME': 'knn-2020-09-03-09-18-38-297', 'HOME': '/root', 'PROTOCOL_BUFFERS_PYTHON_IMPLEMENTATION': 'cpp', 'ENVROOT': '/opt/amazon', 'SAGEMAKER_DATA_PATH': '/opt/ml', 'NVIDIA_DRIVER_CAPABILITIES': 'compute,utility', 'NVIDIA_REQUIRE_CUDA': 'cuda>=9.0', 'OMP_NUM_THREADS': '1', 'HOSTNAME': 'ip-10-0-69-126.eu-west-2.compute.internal', 'AWS_CONTAINER_CREDENTIALS_RELATIVE_URI': '/v2/credentials/e4252ca5-2579-4477-a59a-a5fad28a60d6', 'DMLC_ROLE': 'worker', 'PWD': '/', 'DMLC_NUM_SERVER': '1', 'TRAINING_JOB_ARN': 'arn:aws:sagemaker:eu-west-2:281633979087:training-job/knn-2020-09-03-09-18-38-297', 'AWS_EXECUTION_ENV': 'AWS_ECS_EC2'}\u001b[0m\n",
      "\u001b[34mProcess 59 is a shell:scheduler.\u001b[0m\n",
      "\u001b[34mProcess 68 is a shell:server.\u001b[0m\n",
      "\u001b[34mProcess 1 is a worker.\u001b[0m\n",
      "\u001b[34m[09/03/2020 09:21:33 INFO 140489631573824] Using default worker.\u001b[0m\n",
      "\u001b[34m[09/03/2020 09:21:34 INFO 140489631573824] Checkpoint loading and saving are disabled.\u001b[0m\n",
      "\u001b[34m[2020-09-03 09:21:34.125] [tensorio] [warning] TensorIO is already initialized; ignoring the initialization routine.\u001b[0m\n",
      "\u001b[34m[09/03/2020 09:21:34 INFO 140489631573824] nvidia-smi took: 0.0251560211182 secs to identify 0 gpus\u001b[0m\n",
      "\u001b[34m[09/03/2020 09:21:34 INFO 140489631573824] Create Store: dist_async\u001b[0m\n",
      "\u001b[34m[09/03/2020 09:21:34 ERROR 140489631573824] nvidia-smi: failed to run (127): /bin/sh: nvidia-smi: command not found\u001b[0m\n",
      "\u001b[34m[09/03/2020 09:21:34 INFO 140489631573824] Using per-worker sample size = 561 (Available virtual memory = 6528094208 bytes, GPU free memory = 0 bytes, number of workers = 1). If an out-of-memory error occurs, choose a larger instance type, use dimension reduction, decrease sample_size, and/or decrease mini_batch_size.\u001b[0m\n",
      "\u001b[34m#metrics {\"Metrics\": {\"Max Batches Seen Between Resets\": {\"count\": 1, \"max\": 0, \"sum\": 0.0, \"min\": 0}, \"Number of Batches Since Last Reset\": {\"count\": 1, \"max\": 0, \"sum\": 0.0, \"min\": 0}, \"Number of Records Since Last Reset\": {\"count\": 1, \"max\": 0, \"sum\": 0.0, \"min\": 0}, \"Total Batches Seen\": {\"count\": 1, \"max\": 0, \"sum\": 0.0, \"min\": 0}, \"Total Records Seen\": {\"count\": 1, \"max\": 0, \"sum\": 0.0, \"min\": 0}, \"Max Records Seen Between Resets\": {\"count\": 1, \"max\": 0, \"sum\": 0.0, \"min\": 0}, \"Reset Count\": {\"count\": 1, \"max\": 0, \"sum\": 0.0, \"min\": 0}}, \"EndTime\": 1599124895.187745, \"Dimensions\": {\"Host\": \"algo-1\", \"Meta\": \"init_train_data_iter\", \"Operation\": \"training\", \"Algorithm\": \"AWS/KNN\"}, \"StartTime\": 1599124895.187702}\n",
      "\u001b[0m\n",
      "\u001b[34m[2020-09-03 09:21:35.188] [tensorio] [info] epoch_stats={\"data_pipeline\": \"/opt/ml/input/data/train\", \"epoch\": 0, \"duration\": 1074, \"num_examples\": 1, \"num_bytes\": 39680}\u001b[0m\n",
      "\u001b[34m[2020-09-03 09:21:35.199] [tensorio] [info] epoch_stats={\"data_pipeline\": \"/opt/ml/input/data/train\", \"epoch\": 1, \"duration\": 11, \"num_examples\": 1, \"num_bytes\": 39680}\u001b[0m\n",
      "\u001b[34m[09/03/2020 09:21:35 INFO 140489631573824] push reservoir to kv... 1 num_workers 0 rank\u001b[0m\n",
      "\u001b[34m[09/03/2020 09:21:35 INFO 140489631573824] ...done (496)\u001b[0m\n",
      "\u001b[34m[09/03/2020 09:21:35 INFO 140489631573824] #progress_metric: host=algo-1, completed 100 % of epochs\u001b[0m\n",
      "\u001b[34m#metrics {\"Metrics\": {\"Max Batches Seen Between Resets\": {\"count\": 1, \"max\": 1, \"sum\": 1.0, \"min\": 1}, \"Number of Batches Since Last Reset\": {\"count\": 1, \"max\": 1, \"sum\": 1.0, \"min\": 1}, \"Number of Records Since Last Reset\": {\"count\": 1, \"max\": 496, \"sum\": 496.0, \"min\": 496}, \"Total Batches Seen\": {\"count\": 1, \"max\": 1, \"sum\": 1.0, \"min\": 1}, \"Total Records Seen\": {\"count\": 1, \"max\": 496, \"sum\": 496.0, \"min\": 496}, \"Max Records Seen Between Resets\": {\"count\": 1, \"max\": 496, \"sum\": 496.0, \"min\": 496}, \"Reset Count\": {\"count\": 1, \"max\": 1, \"sum\": 1.0, \"min\": 1}}, \"EndTime\": 1599124895.201782, \"Dimensions\": {\"Host\": \"algo-1\", \"Meta\": \"training_data_iter\", \"Operation\": \"training\", \"Algorithm\": \"AWS/KNN\", \"epoch\": 0}, \"StartTime\": 1599124895.188393}\n",
      "\u001b[0m\n",
      "\u001b[34m[09/03/2020 09:21:35 INFO 140489631573824] #throughput_metric: host=algo-1, train throughput=36699.9750203 records/second\u001b[0m\n",
      "\u001b[34m[09/03/2020 09:21:35 INFO 140489631573824] pulled row count... worker 0 rows 496\u001b[0m\n",
      "\u001b[34m[09/03/2020 09:21:35 INFO 140489631573824] pulled... worker 0 data (496, 8) labels (496,) nans 0\u001b[0m\n",
      "\u001b[34m[09/03/2020 09:21:35 INFO 140489631573824] calling index.train...\u001b[0m\n",
      "\u001b[34mWARNING clustering 496 points to 24 centroids: please provide at least 936 training points\u001b[0m\n",
      "\u001b[34mWARNING clustering 496 points to 256 centroids: please provide at least 9984 training points\u001b[0m\n",
      "\u001b[34mWARNING clustering 496 points to 256 centroids: please provide at least 9984 training points\u001b[0m\n",
      "\u001b[34mWARNING clustering 496 points to 256 centroids: please provide at least 9984 training points\u001b[0m\n",
      "\u001b[34mWARNING clustering 496 points to 256 centroids: please provide at least 9984 training points\u001b[0m\n",
      "\u001b[34mWARNING clustering 496 points to 256 centroids: please provide at least 9984 training points\u001b[0m\n",
      "\u001b[34mWARNING clustering 496 points to 256 centroids: please provide at least 9984 training points\u001b[0m\n",
      "\u001b[34mWARNING clustering 496 points to 256 centroids: please provide at least 9984 training points\u001b[0m\n",
      "\u001b[34mWARNING clustering 496 points to 256 centroids: please provide at least 9984 training points\u001b[0m\n"
     ]
    },
    {
     "name": "stdout",
     "output_type": "stream",
     "text": [
      "\n",
      "2020-09-03 09:22:12 Uploading - Uploading generated training model\u001b[34m[09/03/2020 09:22:06 INFO 140489631573824] ...done calling index.train\u001b[0m\n",
      "\u001b[34m[09/03/2020 09:22:06 INFO 140489631573824] calling index.add...\u001b[0m\n",
      "\u001b[34m[09/03/2020 09:22:06 INFO 140489631573824] ...done calling index.add\u001b[0m\n",
      "\u001b[34m#metrics {\"Metrics\": {\"epochs\": {\"count\": 1, \"max\": 1, \"sum\": 1.0, \"min\": 1}, \"model.serialize.time\": {\"count\": 1, \"max\": 1.3358592987060547, \"sum\": 1.3358592987060547, \"min\": 1.3358592987060547}, \"finalize.time\": {\"count\": 1, \"max\": 31690.518140792847, \"sum\": 31690.518140792847, \"min\": 31690.518140792847}, \"initialize.time\": {\"count\": 1, \"max\": 1051.4838695526123, \"sum\": 1051.4838695526123, \"min\": 1051.4838695526123}, \"update.time\": {\"count\": 1, \"max\": 13.087034225463867, \"sum\": 13.087034225463867, \"min\": 13.087034225463867}}, \"EndTime\": 1599124926.894102, \"Dimensions\": {\"Host\": \"algo-1\", \"Operation\": \"training\", \"Algorithm\": \"AWS/KNN\"}, \"StartTime\": 1599124894.112786}\n",
      "\u001b[0m\n",
      "\u001b[34m[2020-09-03 09:22:06.910] [tensorio] [info] epoch_stats={\"data_pipeline\": \"/opt/ml/input/data/test\", \"epoch\": 0, \"duration\": 32784, \"num_examples\": 1, \"num_bytes\": 4480}\u001b[0m\n",
      "\u001b[34m#metrics {\"Metrics\": {\"Max Batches Seen Between Resets\": {\"count\": 1, \"max\": 1, \"sum\": 1.0, \"min\": 1}, \"Number of Batches Since Last Reset\": {\"count\": 1, \"max\": 1, \"sum\": 1.0, \"min\": 1}, \"Number of Records Since Last Reset\": {\"count\": 1, \"max\": 56, \"sum\": 56.0, \"min\": 56}, \"Total Batches Seen\": {\"count\": 1, \"max\": 1, \"sum\": 1.0, \"min\": 1}, \"Total Records Seen\": {\"count\": 1, \"max\": 56, \"sum\": 56.0, \"min\": 56}, \"Max Records Seen Between Resets\": {\"count\": 1, \"max\": 56, \"sum\": 56.0, \"min\": 56}, \"Reset Count\": {\"count\": 1, \"max\": 0, \"sum\": 0.0, \"min\": 0}}, \"EndTime\": 1599124927.333164, \"Dimensions\": {\"Host\": \"algo-1\", \"Meta\": \"test_data_iter\", \"Operation\": \"training\", \"Algorithm\": \"AWS/KNN\"}, \"StartTime\": 1599124926.895095}\n",
      "\u001b[0m\n",
      "\u001b[34m[09/03/2020 09:22:07 INFO 140489631573824] #test_score (algo-1) : ('accuracy', 0.0)\u001b[0m\n",
      "\u001b[34m[09/03/2020 09:22:07 INFO 140489631573824] #test_score (algo-1) : ('macro_f_1.000', nan)\u001b[0m\n",
      "\u001b[34m[09/03/2020 09:22:07 INFO 140489631573824] #quality_metric: host=algo-1, test accuracy <score>=0.0\u001b[0m\n",
      "\u001b[34m[09/03/2020 09:22:07 INFO 140489631573824] #quality_metric: host=algo-1, test macro_f_1.000 <score>=nan\u001b[0m\n",
      "\u001b[34m#metrics {\"Metrics\": {\"totaltime\": {\"count\": 1, \"max\": 34018.101930618286, \"sum\": 34018.101930618286, \"min\": 34018.101930618286}, \"setuptime\": {\"count\": 1, \"max\": 33.56599807739258, \"sum\": 33.56599807739258, \"min\": 33.56599807739258}}, \"EndTime\": 1599124927.33458, \"Dimensions\": {\"Host\": \"algo-1\", \"Operation\": \"training\", \"Algorithm\": \"AWS/KNN\"}, \"StartTime\": 1599124926.894473}\n",
      "\u001b[0m\n",
      "\n",
      "2020-09-03 09:22:19 Completed - Training job completed\n"
     ]
    }
   ],
   "source": [
    "hyperparams_ivfpq_l2_small = {\n",
    "    'feature_dim': 4,\n",
    "    'k': 2,\n",
    "    'sample_size': 561,\n",
    "    'predictor_type': 'classifier',\n",
    "    'index_type': 'faiss.IVFPQ',\n",
    "    'index_metric': 'L2',\n",
    "    'faiss_index_pq_m': '8'\n",
    "}\n",
    "output_path_ivfpq_l2_small = 's3://' + bucket_ml + '/' + prefix + '/ivfpq_l2_large/output'\n",
    "knn_estimator_ivfpq_l2_small = trained_estimator_from_hyperparams(s3_train_data, hyperparams_ivfpq_l2_small, \n",
    "                                                                  output_path_ivfpq_l2_small, s3_test_data=s3_test_data)"
   ]
  },
  {
   "cell_type": "markdown",
   "metadata": {},
   "source": [
    "## Evaluation\n",
    "\n",
    "Before we set up the endpoints we take a moment to discuss ways of using them. The typical way of using an endpoint is the following: We feed it an input point and recieve a prediction. For kNN we additionally support another verbose API allowing for a more detailed response. With that API, instead of recieving only a prediction we recieve an ordered list of the labels corresponding to the nearest neighbors, along with their distances. \n",
    "\n",
    "A manual inspection of this list allows us to perform multiple tasks:\n",
    "* Tune k: By taking a majority vote over a prefix of the list we obtain the prediction for multiple values of k\n",
    "* Ranking / multi-label: Sometimes, we do not wish to predict a single class rather output a ranking of possible classes. An example for this would be image tagging where the labels are tags and the input vectors represent images.\n",
    "\n",
    "In what follows we focus on tuning k with this API. We begin with an **evaluate** function that measures both the output quality and latency of an endpoint. The code below contains this function along with auxiliary functions used by it. For reporting the quality we use the verbose API to obtain the predictions for multiple k values. For the latency we use the non-verbose API."
   ]
  },
  {
   "cell_type": "code",
   "execution_count": 109,
   "metadata": {},
   "outputs": [],
   "source": [
    "from scipy import stats\n",
    "import matplotlib.pyplot as plt\n",
    "from sklearn.metrics import f1_score, accuracy_score\n",
    "import time\n",
    "\n",
    "def scores_for_ks(test_labels, knn_labels, ks):\n",
    "    f1_weight = []\n",
    "    f1_macro = []\n",
    "    f1_micro = []\n",
    "    acc = []\n",
    "    for k in ks:\n",
    "        pred_k = stats.mode(knn_labels[:,:k], axis=1)[0].reshape((-1,))\n",
    "        f1_weight.append(f1_score(test_labels, pred_k, average='weighted'))\n",
    "        f1_macro.append(f1_score(test_labels, pred_k, average='macro'))\n",
    "        f1_micro.append(f1_score(test_labels, pred_k, average='micro'))\n",
    "        acc.append(accuracy_score(test_labels, pred_k))\n",
    "    return {'f1_weight': f1_weight, 'f1_macro': f1_macro, 'f1_micro': f1_micro, 'accuracy': acc, }\n",
    "\n",
    "def plot_prediction_quality(scores, ks):\n",
    "    colors = ['r-', 'b-', 'g-','y-'][:len(scores)]\n",
    "    for (k,v), color in zip(scores.items(), colors):\n",
    "        plt.plot(ks, v, color, label=k)\n",
    "    plt.legend()\n",
    "    plt.xlabel('k')\n",
    "    plt.ylabel('prediction quality')\n",
    "    plt.show()\n",
    "\n",
    "def evaluate_quality(predictor, test_features, test_labels, model_name, verbose=True, num_batches=63):\n",
    "    \"\"\"\n",
    "    Evaluate quality metrics of a model on a test set. \n",
    "    \"\"\"\n",
    "    # tune the predictor to provide the verbose response\n",
    "    predictor.accept = 'application/json; verbose=true'\n",
    "    \n",
    "    # split the test data set into num_batches batches and evaluate using prediction endpoint. \n",
    "    print('running prediction (quality)...')\n",
    "    batches = np.array_split(test_features, num_batches)\n",
    "    knn_labels = []\n",
    "    for batch in batches:\n",
    "        if len(batch) > 0:\n",
    "            pred_result = predictor.predict(batch)\n",
    "            cur_knn_labels = np.array([pred_result['predictions'][i]['labels'] for i in range(len(pred_result['predictions']))])\n",
    "            knn_labels.append(cur_knn_labels)\n",
    "    knn_labels = np.concatenate(knn_labels)\n",
    "    print('running prediction (quality)... done')\n",
    "\n",
    "    # figure out different k values\n",
    "    top_k = knn_labels.shape[1]\n",
    "    ks = range(1, top_k+1)\n",
    "    \n",
    "    # compute scores for the quality of the model for each value of k\n",
    "    print('computing scores for all values of k... ')\n",
    "    quality_scores = scores_for_ks(test_labels, knn_labels, ks)\n",
    "    print('computing scores for all values of k... done')\n",
    "    if verbose:\n",
    "        plot_prediction_quality(quality_scores, ks)\n",
    "    \n",
    "    return quality_scores\n",
    "\n",
    "def evaluate_latency(predictor, test_features, test_labels, model_name, verbose=True, num_batches=63):\n",
    "    \"\"\"\n",
    "    Evaluate the run-time of a model on a test set.\n",
    "    \"\"\"\n",
    "    # tune the predictor to provide the non-verbose response\n",
    "    predictor.accept = 'application/json'\n",
    "    \n",
    "    # latency for large batches:\n",
    "    # split the test data set into num_batches batches and evaluate the latencies of the calls to endpoint. \n",
    "    print('running prediction (latency)...')\n",
    "    batches = np.array_split(test_features, num_batches)\n",
    "    test_preds = []\n",
    "    latency_sum = 0\n",
    "    for batch in batches:\n",
    "        start = time.time()\n",
    "        pred_batch = predictor.predict(batch)\n",
    "        latency_sum += time.time() - start\n",
    "    latency_mean = latency_sum / float(num_batches)\n",
    "    avg_batch_size = test_features.shape[0] / num_batches\n",
    "    \n",
    "    # estimate the latency for a batch of size 1\n",
    "    latencies = []\n",
    "    attempts = 2000\n",
    "    for i in range(attempts):\n",
    "        start = time.time()\n",
    "        pred_batch = predictor.predict(test_features[i].reshape((1,-1)))\n",
    "        latencies.append(time.time() - start)\n",
    "\n",
    "    latencies = sorted(latencies)\n",
    "    latency1_mean = sum(latencies) / float(attempts)\n",
    "    latency1_p90 = latencies[int(attempts*0.9)]\n",
    "    latency1_p99 = latencies[int(attempts*0.99)]\n",
    "    print('running prediction (latency)... done')\n",
    "    \n",
    "    if verbose:\n",
    "        print(\"{:<11} {:.3f}\".format('Latency (ms, batch size %d):' % avg_batch_size, latency_mean * 1000))\n",
    "        print(\"{:<11} {:.3f}\".format('Latency (ms) mean for single item:', latency1_mean * 1000))\n",
    "        print(\"{:<11} {:.3f}\".format('Latency (ms) p90 for single item:', latency1_p90 * 1000))\n",
    "        print(\"{:<11} {:.3f}\".format('Latency (ms) p99 for single item:', latency1_p99 * 1000))\n",
    "        \n",
    "    return {'Latency': latency_mean, 'Latency1_mean': latency1_mean, 'Latency1_p90': latency1_p90, \n",
    "            'Latency1_p99': latency1_p99}\n",
    "\n",
    "def evaluate(predictor, test_features, test_labels, model_name, verbose=True, num_batches=100):\n",
    "    eval_result_q = evaluate_quality(pred, test_features, test_labels, model_name=model_name, verbose=verbose, num_batches=num_batches)\n",
    "    eval_result_l = evaluate_latency(pred, test_features, test_labels, model_name=model_name, verbose=verbose, num_batches=num_batches)\n",
    "    return dict(list(eval_result_q.items()) + list(eval_result_l.items()))\n",
    "    \n",
    "    "
   ]
  },
  {
   "cell_type": "markdown",
   "metadata": {},
   "source": [
    "We are now ready to set up the endpoints. The following code will set up 4 endpoints, one for every option of cpu/gpu machine and Flat/IVFPQ index. For a gpu machine we use *ml.p2.xlarge* and for cpu we use *ml.c5.xlarge*. For cases where latency is not an issue, or the dataset is very small, we recommend using *ml.m4.xlarge* machines, as they are cheaper than the machines mentioned above. For the purpose of these notebook, we restrict our attention to compute optimized machines as we are also optimizing for latency. After setting an endpoint we evaluate it and then delete it. If you requires to keep using an endpoint, do not delete it until you are done with it."
   ]
  },
  {
   "cell_type": "code",
   "execution_count": 110,
   "metadata": {},
   "outputs": [
    {
     "name": "stderr",
     "output_type": "stream",
     "text": [
      "Parameter image will be renamed to image_uri in SageMaker Python SDK v2.\n"
     ]
    },
    {
     "name": "stdout",
     "output_type": "stream",
     "text": [
      "\n",
      "setting up endpoint for instance_type=ml.t2.xlarge, index_type=k_small\n"
     ]
    },
    {
     "name": "stderr",
     "output_type": "stream",
     "text": [
      "Using already existing model: knn-2020-09-03-09-12-14-847\n"
     ]
    },
    {
     "name": "stdout",
     "output_type": "stream",
     "text": [
      "---------------!\n",
      "running prediction (quality)...\n",
      "running prediction (quality)... done\n",
      "computing scores for all values of k... \n"
     ]
    },
    {
     "ename": "ValueError",
     "evalue": "continuous is not supported",
     "output_type": "error",
     "traceback": [
      "\u001b[0;31m---------------------------------------------------------------------------\u001b[0m",
      "\u001b[0;31mValueError\u001b[0m                                Traceback (most recent call last)",
      "\u001b[0;32m<ipython-input-110-a446c35242bf>\u001b[0m in \u001b[0;36m<module>\u001b[0;34m\u001b[0m\n\u001b[1;32m     17\u001b[0m         \u001b[0mpred\u001b[0m \u001b[0;34m=\u001b[0m \u001b[0mpredictor_from_hyperparams\u001b[0m\u001b[0;34m(\u001b[0m\u001b[0mestimator\u001b[0m\u001b[0;34m,\u001b[0m \u001b[0mindex\u001b[0m\u001b[0;34m,\u001b[0m \u001b[0minstance_type\u001b[0m\u001b[0;34m,\u001b[0m \u001b[0mendpoint_name\u001b[0m\u001b[0;34m=\u001b[0m\u001b[0mendpoint_name\u001b[0m\u001b[0;34m)\u001b[0m\u001b[0;34m\u001b[0m\u001b[0;34m\u001b[0m\u001b[0m\n\u001b[1;32m     18\u001b[0m         \u001b[0mprint\u001b[0m\u001b[0;34m(\u001b[0m\u001b[0;34m''\u001b[0m\u001b[0;34m)\u001b[0m\u001b[0;34m\u001b[0m\u001b[0;34m\u001b[0m\u001b[0m\n\u001b[0;32m---> 19\u001b[0;31m         \u001b[0meval_result\u001b[0m \u001b[0;34m=\u001b[0m \u001b[0mevaluate\u001b[0m\u001b[0;34m(\u001b[0m\u001b[0mpred\u001b[0m\u001b[0;34m,\u001b[0m \u001b[0mtest_features\u001b[0m\u001b[0;34m,\u001b[0m \u001b[0mtest_labels\u001b[0m\u001b[0;34m,\u001b[0m \u001b[0mmodel_name\u001b[0m\u001b[0;34m=\u001b[0m\u001b[0mmodel_name\u001b[0m\u001b[0;34m,\u001b[0m \u001b[0mverbose\u001b[0m\u001b[0;34m=\u001b[0m\u001b[0;32mTrue\u001b[0m\u001b[0;34m)\u001b[0m\u001b[0;34m\u001b[0m\u001b[0;34m\u001b[0m\u001b[0m\n\u001b[0m\u001b[1;32m     20\u001b[0m         \u001b[0meval_result\u001b[0m\u001b[0;34m[\u001b[0m\u001b[0;34m'instance'\u001b[0m\u001b[0;34m]\u001b[0m \u001b[0;34m=\u001b[0m \u001b[0minstance_type\u001b[0m\u001b[0;34m\u001b[0m\u001b[0;34m\u001b[0m\u001b[0m\n\u001b[1;32m     21\u001b[0m         \u001b[0meval_result\u001b[0m\u001b[0;34m[\u001b[0m\u001b[0;34m'index'\u001b[0m\u001b[0;34m]\u001b[0m \u001b[0;34m=\u001b[0m \u001b[0mindex\u001b[0m\u001b[0;34m\u001b[0m\u001b[0;34m\u001b[0m\u001b[0m\n",
      "\u001b[0;32m<ipython-input-109-3045275fd211>\u001b[0m in \u001b[0;36mevaluate\u001b[0;34m(predictor, test_features, test_labels, model_name, verbose, num_batches)\u001b[0m\n\u001b[1;32m    102\u001b[0m \u001b[0;34m\u001b[0m\u001b[0m\n\u001b[1;32m    103\u001b[0m \u001b[0;32mdef\u001b[0m \u001b[0mevaluate\u001b[0m\u001b[0;34m(\u001b[0m\u001b[0mpredictor\u001b[0m\u001b[0;34m,\u001b[0m \u001b[0mtest_features\u001b[0m\u001b[0;34m,\u001b[0m \u001b[0mtest_labels\u001b[0m\u001b[0;34m,\u001b[0m \u001b[0mmodel_name\u001b[0m\u001b[0;34m,\u001b[0m \u001b[0mverbose\u001b[0m\u001b[0;34m=\u001b[0m\u001b[0;32mTrue\u001b[0m\u001b[0;34m,\u001b[0m \u001b[0mnum_batches\u001b[0m\u001b[0;34m=\u001b[0m\u001b[0;36m100\u001b[0m\u001b[0;34m)\u001b[0m\u001b[0;34m:\u001b[0m\u001b[0;34m\u001b[0m\u001b[0;34m\u001b[0m\u001b[0m\n\u001b[0;32m--> 104\u001b[0;31m     \u001b[0meval_result_q\u001b[0m \u001b[0;34m=\u001b[0m \u001b[0mevaluate_quality\u001b[0m\u001b[0;34m(\u001b[0m\u001b[0mpred\u001b[0m\u001b[0;34m,\u001b[0m \u001b[0mtest_features\u001b[0m\u001b[0;34m,\u001b[0m \u001b[0mtest_labels\u001b[0m\u001b[0;34m,\u001b[0m \u001b[0mmodel_name\u001b[0m\u001b[0;34m=\u001b[0m\u001b[0mmodel_name\u001b[0m\u001b[0;34m,\u001b[0m \u001b[0mverbose\u001b[0m\u001b[0;34m=\u001b[0m\u001b[0mverbose\u001b[0m\u001b[0;34m,\u001b[0m \u001b[0mnum_batches\u001b[0m\u001b[0;34m=\u001b[0m\u001b[0mnum_batches\u001b[0m\u001b[0;34m)\u001b[0m\u001b[0;34m\u001b[0m\u001b[0;34m\u001b[0m\u001b[0m\n\u001b[0m\u001b[1;32m    105\u001b[0m     \u001b[0meval_result_l\u001b[0m \u001b[0;34m=\u001b[0m \u001b[0mevaluate_latency\u001b[0m\u001b[0;34m(\u001b[0m\u001b[0mpred\u001b[0m\u001b[0;34m,\u001b[0m \u001b[0mtest_features\u001b[0m\u001b[0;34m,\u001b[0m \u001b[0mtest_labels\u001b[0m\u001b[0;34m,\u001b[0m \u001b[0mmodel_name\u001b[0m\u001b[0;34m=\u001b[0m\u001b[0mmodel_name\u001b[0m\u001b[0;34m,\u001b[0m \u001b[0mverbose\u001b[0m\u001b[0;34m=\u001b[0m\u001b[0mverbose\u001b[0m\u001b[0;34m,\u001b[0m \u001b[0mnum_batches\u001b[0m\u001b[0;34m=\u001b[0m\u001b[0mnum_batches\u001b[0m\u001b[0;34m)\u001b[0m\u001b[0;34m\u001b[0m\u001b[0;34m\u001b[0m\u001b[0m\n\u001b[1;32m    106\u001b[0m     \u001b[0;32mreturn\u001b[0m \u001b[0mdict\u001b[0m\u001b[0;34m(\u001b[0m\u001b[0mlist\u001b[0m\u001b[0;34m(\u001b[0m\u001b[0meval_result_q\u001b[0m\u001b[0;34m.\u001b[0m\u001b[0mitems\u001b[0m\u001b[0;34m(\u001b[0m\u001b[0;34m)\u001b[0m\u001b[0;34m)\u001b[0m \u001b[0;34m+\u001b[0m \u001b[0mlist\u001b[0m\u001b[0;34m(\u001b[0m\u001b[0meval_result_l\u001b[0m\u001b[0;34m.\u001b[0m\u001b[0mitems\u001b[0m\u001b[0;34m(\u001b[0m\u001b[0;34m)\u001b[0m\u001b[0;34m)\u001b[0m\u001b[0;34m)\u001b[0m\u001b[0;34m\u001b[0m\u001b[0;34m\u001b[0m\u001b[0m\n",
      "\u001b[0;32m<ipython-input-109-3045275fd211>\u001b[0m in \u001b[0;36mevaluate_quality\u001b[0;34m(predictor, test_features, test_labels, model_name, verbose, num_batches)\u001b[0m\n\u001b[1;32m     51\u001b[0m     \u001b[0;31m# compute scores for the quality of the model for each value of k\u001b[0m\u001b[0;34m\u001b[0m\u001b[0;34m\u001b[0m\u001b[0;34m\u001b[0m\u001b[0m\n\u001b[1;32m     52\u001b[0m     \u001b[0mprint\u001b[0m\u001b[0;34m(\u001b[0m\u001b[0;34m'computing scores for all values of k... '\u001b[0m\u001b[0;34m)\u001b[0m\u001b[0;34m\u001b[0m\u001b[0;34m\u001b[0m\u001b[0m\n\u001b[0;32m---> 53\u001b[0;31m     \u001b[0mquality_scores\u001b[0m \u001b[0;34m=\u001b[0m \u001b[0mscores_for_ks\u001b[0m\u001b[0;34m(\u001b[0m\u001b[0mtest_labels\u001b[0m\u001b[0;34m,\u001b[0m \u001b[0mknn_labels\u001b[0m\u001b[0;34m,\u001b[0m \u001b[0mks\u001b[0m\u001b[0;34m)\u001b[0m\u001b[0;34m\u001b[0m\u001b[0;34m\u001b[0m\u001b[0m\n\u001b[0m\u001b[1;32m     54\u001b[0m     \u001b[0mprint\u001b[0m\u001b[0;34m(\u001b[0m\u001b[0;34m'computing scores for all values of k... done'\u001b[0m\u001b[0;34m)\u001b[0m\u001b[0;34m\u001b[0m\u001b[0;34m\u001b[0m\u001b[0m\n\u001b[1;32m     55\u001b[0m     \u001b[0;32mif\u001b[0m \u001b[0mverbose\u001b[0m\u001b[0;34m:\u001b[0m\u001b[0;34m\u001b[0m\u001b[0;34m\u001b[0m\u001b[0m\n",
      "\u001b[0;32m<ipython-input-109-3045275fd211>\u001b[0m in \u001b[0;36mscores_for_ks\u001b[0;34m(test_labels, knn_labels, ks)\u001b[0m\n\u001b[1;32m     11\u001b[0m     \u001b[0;32mfor\u001b[0m \u001b[0mk\u001b[0m \u001b[0;32min\u001b[0m \u001b[0mks\u001b[0m\u001b[0;34m:\u001b[0m\u001b[0;34m\u001b[0m\u001b[0;34m\u001b[0m\u001b[0m\n\u001b[1;32m     12\u001b[0m         \u001b[0mpred_k\u001b[0m \u001b[0;34m=\u001b[0m \u001b[0mstats\u001b[0m\u001b[0;34m.\u001b[0m\u001b[0mmode\u001b[0m\u001b[0;34m(\u001b[0m\u001b[0mknn_labels\u001b[0m\u001b[0;34m[\u001b[0m\u001b[0;34m:\u001b[0m\u001b[0;34m,\u001b[0m\u001b[0;34m:\u001b[0m\u001b[0mk\u001b[0m\u001b[0;34m]\u001b[0m\u001b[0;34m,\u001b[0m \u001b[0maxis\u001b[0m\u001b[0;34m=\u001b[0m\u001b[0;36m1\u001b[0m\u001b[0;34m)\u001b[0m\u001b[0;34m[\u001b[0m\u001b[0;36m0\u001b[0m\u001b[0;34m]\u001b[0m\u001b[0;34m.\u001b[0m\u001b[0mreshape\u001b[0m\u001b[0;34m(\u001b[0m\u001b[0;34m(\u001b[0m\u001b[0;34m-\u001b[0m\u001b[0;36m1\u001b[0m\u001b[0;34m,\u001b[0m\u001b[0;34m)\u001b[0m\u001b[0;34m)\u001b[0m\u001b[0;34m\u001b[0m\u001b[0;34m\u001b[0m\u001b[0m\n\u001b[0;32m---> 13\u001b[0;31m         \u001b[0mf1_weight\u001b[0m\u001b[0;34m.\u001b[0m\u001b[0mappend\u001b[0m\u001b[0;34m(\u001b[0m\u001b[0mf1_score\u001b[0m\u001b[0;34m(\u001b[0m\u001b[0mtest_labels\u001b[0m\u001b[0;34m,\u001b[0m \u001b[0mpred_k\u001b[0m\u001b[0;34m,\u001b[0m \u001b[0maverage\u001b[0m\u001b[0;34m=\u001b[0m\u001b[0;34m'weighted'\u001b[0m\u001b[0;34m)\u001b[0m\u001b[0;34m)\u001b[0m\u001b[0;34m\u001b[0m\u001b[0;34m\u001b[0m\u001b[0m\n\u001b[0m\u001b[1;32m     14\u001b[0m         \u001b[0mf1_macro\u001b[0m\u001b[0;34m.\u001b[0m\u001b[0mappend\u001b[0m\u001b[0;34m(\u001b[0m\u001b[0mf1_score\u001b[0m\u001b[0;34m(\u001b[0m\u001b[0mtest_labels\u001b[0m\u001b[0;34m,\u001b[0m \u001b[0mpred_k\u001b[0m\u001b[0;34m,\u001b[0m \u001b[0maverage\u001b[0m\u001b[0;34m=\u001b[0m\u001b[0;34m'macro'\u001b[0m\u001b[0;34m)\u001b[0m\u001b[0;34m)\u001b[0m\u001b[0;34m\u001b[0m\u001b[0;34m\u001b[0m\u001b[0m\n\u001b[1;32m     15\u001b[0m         \u001b[0mf1_micro\u001b[0m\u001b[0;34m.\u001b[0m\u001b[0mappend\u001b[0m\u001b[0;34m(\u001b[0m\u001b[0mf1_score\u001b[0m\u001b[0;34m(\u001b[0m\u001b[0mtest_labels\u001b[0m\u001b[0;34m,\u001b[0m \u001b[0mpred_k\u001b[0m\u001b[0;34m,\u001b[0m \u001b[0maverage\u001b[0m\u001b[0;34m=\u001b[0m\u001b[0;34m'micro'\u001b[0m\u001b[0;34m)\u001b[0m\u001b[0;34m)\u001b[0m\u001b[0;34m\u001b[0m\u001b[0;34m\u001b[0m\u001b[0m\n",
      "\u001b[0;32m~/anaconda3/envs/python3/lib/python3.6/site-packages/sklearn/utils/validation.py\u001b[0m in \u001b[0;36minner_f\u001b[0;34m(*args, **kwargs)\u001b[0m\n\u001b[1;32m     71\u001b[0m                           FutureWarning)\n\u001b[1;32m     72\u001b[0m         \u001b[0mkwargs\u001b[0m\u001b[0;34m.\u001b[0m\u001b[0mupdate\u001b[0m\u001b[0;34m(\u001b[0m\u001b[0;34m{\u001b[0m\u001b[0mk\u001b[0m\u001b[0;34m:\u001b[0m \u001b[0marg\u001b[0m \u001b[0;32mfor\u001b[0m \u001b[0mk\u001b[0m\u001b[0;34m,\u001b[0m \u001b[0marg\u001b[0m \u001b[0;32min\u001b[0m \u001b[0mzip\u001b[0m\u001b[0;34m(\u001b[0m\u001b[0msig\u001b[0m\u001b[0;34m.\u001b[0m\u001b[0mparameters\u001b[0m\u001b[0;34m,\u001b[0m \u001b[0margs\u001b[0m\u001b[0;34m)\u001b[0m\u001b[0;34m}\u001b[0m\u001b[0;34m)\u001b[0m\u001b[0;34m\u001b[0m\u001b[0;34m\u001b[0m\u001b[0m\n\u001b[0;32m---> 73\u001b[0;31m         \u001b[0;32mreturn\u001b[0m \u001b[0mf\u001b[0m\u001b[0;34m(\u001b[0m\u001b[0;34m**\u001b[0m\u001b[0mkwargs\u001b[0m\u001b[0;34m)\u001b[0m\u001b[0;34m\u001b[0m\u001b[0;34m\u001b[0m\u001b[0m\n\u001b[0m\u001b[1;32m     74\u001b[0m     \u001b[0;32mreturn\u001b[0m \u001b[0minner_f\u001b[0m\u001b[0;34m\u001b[0m\u001b[0;34m\u001b[0m\u001b[0m\n\u001b[1;32m     75\u001b[0m \u001b[0;34m\u001b[0m\u001b[0m\n",
      "\u001b[0;32m~/anaconda3/envs/python3/lib/python3.6/site-packages/sklearn/metrics/_classification.py\u001b[0m in \u001b[0;36mf1_score\u001b[0;34m(y_true, y_pred, labels, pos_label, average, sample_weight, zero_division)\u001b[0m\n\u001b[1;32m   1045\u001b[0m                        \u001b[0mpos_label\u001b[0m\u001b[0;34m=\u001b[0m\u001b[0mpos_label\u001b[0m\u001b[0;34m,\u001b[0m \u001b[0maverage\u001b[0m\u001b[0;34m=\u001b[0m\u001b[0maverage\u001b[0m\u001b[0;34m,\u001b[0m\u001b[0;34m\u001b[0m\u001b[0;34m\u001b[0m\u001b[0m\n\u001b[1;32m   1046\u001b[0m                        \u001b[0msample_weight\u001b[0m\u001b[0;34m=\u001b[0m\u001b[0msample_weight\u001b[0m\u001b[0;34m,\u001b[0m\u001b[0;34m\u001b[0m\u001b[0;34m\u001b[0m\u001b[0m\n\u001b[0;32m-> 1047\u001b[0;31m                        zero_division=zero_division)\n\u001b[0m\u001b[1;32m   1048\u001b[0m \u001b[0;34m\u001b[0m\u001b[0m\n\u001b[1;32m   1049\u001b[0m \u001b[0;34m\u001b[0m\u001b[0m\n",
      "\u001b[0;32m~/anaconda3/envs/python3/lib/python3.6/site-packages/sklearn/utils/validation.py\u001b[0m in \u001b[0;36minner_f\u001b[0;34m(*args, **kwargs)\u001b[0m\n\u001b[1;32m     71\u001b[0m                           FutureWarning)\n\u001b[1;32m     72\u001b[0m         \u001b[0mkwargs\u001b[0m\u001b[0;34m.\u001b[0m\u001b[0mupdate\u001b[0m\u001b[0;34m(\u001b[0m\u001b[0;34m{\u001b[0m\u001b[0mk\u001b[0m\u001b[0;34m:\u001b[0m \u001b[0marg\u001b[0m \u001b[0;32mfor\u001b[0m \u001b[0mk\u001b[0m\u001b[0;34m,\u001b[0m \u001b[0marg\u001b[0m \u001b[0;32min\u001b[0m \u001b[0mzip\u001b[0m\u001b[0;34m(\u001b[0m\u001b[0msig\u001b[0m\u001b[0;34m.\u001b[0m\u001b[0mparameters\u001b[0m\u001b[0;34m,\u001b[0m \u001b[0margs\u001b[0m\u001b[0;34m)\u001b[0m\u001b[0;34m}\u001b[0m\u001b[0;34m)\u001b[0m\u001b[0;34m\u001b[0m\u001b[0;34m\u001b[0m\u001b[0m\n\u001b[0;32m---> 73\u001b[0;31m         \u001b[0;32mreturn\u001b[0m \u001b[0mf\u001b[0m\u001b[0;34m(\u001b[0m\u001b[0;34m**\u001b[0m\u001b[0mkwargs\u001b[0m\u001b[0;34m)\u001b[0m\u001b[0;34m\u001b[0m\u001b[0;34m\u001b[0m\u001b[0m\n\u001b[0m\u001b[1;32m     74\u001b[0m     \u001b[0;32mreturn\u001b[0m \u001b[0minner_f\u001b[0m\u001b[0;34m\u001b[0m\u001b[0;34m\u001b[0m\u001b[0m\n\u001b[1;32m     75\u001b[0m \u001b[0;34m\u001b[0m\u001b[0m\n",
      "\u001b[0;32m~/anaconda3/envs/python3/lib/python3.6/site-packages/sklearn/metrics/_classification.py\u001b[0m in \u001b[0;36mfbeta_score\u001b[0;34m(y_true, y_pred, beta, labels, pos_label, average, sample_weight, zero_division)\u001b[0m\n\u001b[1;32m   1173\u001b[0m                                                  \u001b[0mwarn_for\u001b[0m\u001b[0;34m=\u001b[0m\u001b[0;34m(\u001b[0m\u001b[0;34m'f-score'\u001b[0m\u001b[0;34m,\u001b[0m\u001b[0;34m)\u001b[0m\u001b[0;34m,\u001b[0m\u001b[0;34m\u001b[0m\u001b[0;34m\u001b[0m\u001b[0m\n\u001b[1;32m   1174\u001b[0m                                                  \u001b[0msample_weight\u001b[0m\u001b[0;34m=\u001b[0m\u001b[0msample_weight\u001b[0m\u001b[0;34m,\u001b[0m\u001b[0;34m\u001b[0m\u001b[0;34m\u001b[0m\u001b[0m\n\u001b[0;32m-> 1175\u001b[0;31m                                                  zero_division=zero_division)\n\u001b[0m\u001b[1;32m   1176\u001b[0m     \u001b[0;32mreturn\u001b[0m \u001b[0mf\u001b[0m\u001b[0;34m\u001b[0m\u001b[0;34m\u001b[0m\u001b[0m\n\u001b[1;32m   1177\u001b[0m \u001b[0;34m\u001b[0m\u001b[0m\n",
      "\u001b[0;32m~/anaconda3/envs/python3/lib/python3.6/site-packages/sklearn/utils/validation.py\u001b[0m in \u001b[0;36minner_f\u001b[0;34m(*args, **kwargs)\u001b[0m\n\u001b[1;32m     71\u001b[0m                           FutureWarning)\n\u001b[1;32m     72\u001b[0m         \u001b[0mkwargs\u001b[0m\u001b[0;34m.\u001b[0m\u001b[0mupdate\u001b[0m\u001b[0;34m(\u001b[0m\u001b[0;34m{\u001b[0m\u001b[0mk\u001b[0m\u001b[0;34m:\u001b[0m \u001b[0marg\u001b[0m \u001b[0;32mfor\u001b[0m \u001b[0mk\u001b[0m\u001b[0;34m,\u001b[0m \u001b[0marg\u001b[0m \u001b[0;32min\u001b[0m \u001b[0mzip\u001b[0m\u001b[0;34m(\u001b[0m\u001b[0msig\u001b[0m\u001b[0;34m.\u001b[0m\u001b[0mparameters\u001b[0m\u001b[0;34m,\u001b[0m \u001b[0margs\u001b[0m\u001b[0;34m)\u001b[0m\u001b[0;34m}\u001b[0m\u001b[0;34m)\u001b[0m\u001b[0;34m\u001b[0m\u001b[0;34m\u001b[0m\u001b[0m\n\u001b[0;32m---> 73\u001b[0;31m         \u001b[0;32mreturn\u001b[0m \u001b[0mf\u001b[0m\u001b[0;34m(\u001b[0m\u001b[0;34m**\u001b[0m\u001b[0mkwargs\u001b[0m\u001b[0;34m)\u001b[0m\u001b[0;34m\u001b[0m\u001b[0;34m\u001b[0m\u001b[0m\n\u001b[0m\u001b[1;32m     74\u001b[0m     \u001b[0;32mreturn\u001b[0m \u001b[0minner_f\u001b[0m\u001b[0;34m\u001b[0m\u001b[0;34m\u001b[0m\u001b[0m\n\u001b[1;32m     75\u001b[0m \u001b[0;34m\u001b[0m\u001b[0m\n",
      "\u001b[0;32m~/anaconda3/envs/python3/lib/python3.6/site-packages/sklearn/metrics/_classification.py\u001b[0m in \u001b[0;36mprecision_recall_fscore_support\u001b[0;34m(y_true, y_pred, beta, labels, pos_label, average, warn_for, sample_weight, zero_division)\u001b[0m\n\u001b[1;32m   1432\u001b[0m         \u001b[0;32mraise\u001b[0m \u001b[0mValueError\u001b[0m\u001b[0;34m(\u001b[0m\u001b[0;34m\"beta should be >=0 in the F-beta score\"\u001b[0m\u001b[0;34m)\u001b[0m\u001b[0;34m\u001b[0m\u001b[0;34m\u001b[0m\u001b[0m\n\u001b[1;32m   1433\u001b[0m     labels = _check_set_wise_labels(y_true, y_pred, average, labels,\n\u001b[0;32m-> 1434\u001b[0;31m                                     pos_label)\n\u001b[0m\u001b[1;32m   1435\u001b[0m \u001b[0;34m\u001b[0m\u001b[0m\n\u001b[1;32m   1436\u001b[0m     \u001b[0;31m# Calculate tp_sum, pred_sum, true_sum ###\u001b[0m\u001b[0;34m\u001b[0m\u001b[0;34m\u001b[0m\u001b[0;34m\u001b[0m\u001b[0m\n",
      "\u001b[0;32m~/anaconda3/envs/python3/lib/python3.6/site-packages/sklearn/metrics/_classification.py\u001b[0m in \u001b[0;36m_check_set_wise_labels\u001b[0;34m(y_true, y_pred, average, labels, pos_label)\u001b[0m\n\u001b[1;32m   1248\u001b[0m                          str(average_options))\n\u001b[1;32m   1249\u001b[0m \u001b[0;34m\u001b[0m\u001b[0m\n\u001b[0;32m-> 1250\u001b[0;31m     \u001b[0my_type\u001b[0m\u001b[0;34m,\u001b[0m \u001b[0my_true\u001b[0m\u001b[0;34m,\u001b[0m \u001b[0my_pred\u001b[0m \u001b[0;34m=\u001b[0m \u001b[0m_check_targets\u001b[0m\u001b[0;34m(\u001b[0m\u001b[0my_true\u001b[0m\u001b[0;34m,\u001b[0m \u001b[0my_pred\u001b[0m\u001b[0;34m)\u001b[0m\u001b[0;34m\u001b[0m\u001b[0;34m\u001b[0m\u001b[0m\n\u001b[0m\u001b[1;32m   1251\u001b[0m     \u001b[0mpresent_labels\u001b[0m \u001b[0;34m=\u001b[0m \u001b[0munique_labels\u001b[0m\u001b[0;34m(\u001b[0m\u001b[0my_true\u001b[0m\u001b[0;34m,\u001b[0m \u001b[0my_pred\u001b[0m\u001b[0;34m)\u001b[0m\u001b[0;34m\u001b[0m\u001b[0;34m\u001b[0m\u001b[0m\n\u001b[1;32m   1252\u001b[0m     \u001b[0;32mif\u001b[0m \u001b[0maverage\u001b[0m \u001b[0;34m==\u001b[0m \u001b[0;34m'binary'\u001b[0m\u001b[0;34m:\u001b[0m\u001b[0;34m\u001b[0m\u001b[0;34m\u001b[0m\u001b[0m\n",
      "\u001b[0;32m~/anaconda3/envs/python3/lib/python3.6/site-packages/sklearn/metrics/_classification.py\u001b[0m in \u001b[0;36m_check_targets\u001b[0;34m(y_true, y_pred)\u001b[0m\n\u001b[1;32m     96\u001b[0m     \u001b[0;31m# No metrics support \"multiclass-multioutput\" format\u001b[0m\u001b[0;34m\u001b[0m\u001b[0;34m\u001b[0m\u001b[0;34m\u001b[0m\u001b[0m\n\u001b[1;32m     97\u001b[0m     \u001b[0;32mif\u001b[0m \u001b[0;34m(\u001b[0m\u001b[0my_type\u001b[0m \u001b[0;32mnot\u001b[0m \u001b[0;32min\u001b[0m \u001b[0;34m[\u001b[0m\u001b[0;34m\"binary\"\u001b[0m\u001b[0;34m,\u001b[0m \u001b[0;34m\"multiclass\"\u001b[0m\u001b[0;34m,\u001b[0m \u001b[0;34m\"multilabel-indicator\"\u001b[0m\u001b[0;34m]\u001b[0m\u001b[0;34m)\u001b[0m\u001b[0;34m:\u001b[0m\u001b[0;34m\u001b[0m\u001b[0;34m\u001b[0m\u001b[0m\n\u001b[0;32m---> 98\u001b[0;31m         \u001b[0;32mraise\u001b[0m \u001b[0mValueError\u001b[0m\u001b[0;34m(\u001b[0m\u001b[0;34m\"{0} is not supported\"\u001b[0m\u001b[0;34m.\u001b[0m\u001b[0mformat\u001b[0m\u001b[0;34m(\u001b[0m\u001b[0my_type\u001b[0m\u001b[0;34m)\u001b[0m\u001b[0;34m)\u001b[0m\u001b[0;34m\u001b[0m\u001b[0;34m\u001b[0m\u001b[0m\n\u001b[0m\u001b[1;32m     99\u001b[0m \u001b[0;34m\u001b[0m\u001b[0m\n\u001b[1;32m    100\u001b[0m     \u001b[0;32mif\u001b[0m \u001b[0my_type\u001b[0m \u001b[0;32min\u001b[0m \u001b[0;34m[\u001b[0m\u001b[0;34m\"binary\"\u001b[0m\u001b[0;34m,\u001b[0m \u001b[0;34m\"multiclass\"\u001b[0m\u001b[0;34m]\u001b[0m\u001b[0;34m:\u001b[0m\u001b[0;34m\u001b[0m\u001b[0;34m\u001b[0m\u001b[0m\n",
      "\u001b[0;31mValueError\u001b[0m: continuous is not supported"
     ]
    }
   ],
   "source": [
    "import time\n",
    "\n",
    "instance_types = ['ml.t2.xlarge', 'ml.c5.large']\n",
    "index2estimator = {'k_small': knn_estimator_k_small, 'k_large': knn_estimator_k_large,\n",
    "                  'ivfpq_l2': knn_estimator_ivfpq_l2, 'ivfpq_l2_small': knn_estimator_ivfpq_l2_small}\n",
    "\n",
    "eval_results = {}\n",
    "\n",
    "for index in index2estimator:\n",
    "    estimator = index2estimator[index]\n",
    "    eval_results[index] = {}\n",
    "    for instance_type in instance_types:\n",
    "        model_name = 'knn_%s_%s'%(index, instance_type)\n",
    "        endpoint_name = 'knn-latency-%s-%s-%s'%(index.replace('_','-'), instance_type.replace('.','-'),\n",
    "                                               str(time.time()).replace('.','-'))\n",
    "        print('\\nsetting up endpoint for instance_type=%s, index_type=%s' %(instance_type, index))\n",
    "        pred = predictor_from_hyperparams(estimator, index, instance_type, endpoint_name=endpoint_name)\n",
    "        print('')\n",
    "        eval_result = evaluate(pred, test_features, test_labels, model_name=model_name, verbose=True)        \n",
    "        eval_result['instance'] = instance_type \n",
    "        eval_result['index'] = index \n",
    "        eval_results[index][instance_type] = eval_result\n",
    "        delete_endpoint(pred)"
   ]
  },
  {
   "cell_type": "markdown",
   "metadata": {},
   "source": [
    "Looking at the plots it seems that the performance is best for small values of k. Let's view some values in a table to get a clear comparison. Below is a table with rows representing the models and columns, the different measurements. We highlight for every model any accuracy score that is at most 0.25% (relative) away from the maximum accuracy among the different values of k"
   ]
  },
  {
   "cell_type": "code",
   "execution_count": null,
   "metadata": {},
   "outputs": [],
   "source": [
    "import pandas as pd\n",
    "\n",
    "k_range = range(1, 13)\n",
    "df_index = []\n",
    "data = []\n",
    "columns_lat = ['latency1K', 'latency1_mean', 'latency1_p90', 'latency1_p99']\n",
    "columns_acc = ['acc_%d' % k for k in k_range]\n",
    "columns = columns_lat + columns_acc\n",
    "\n",
    "for index, index_res in eval_results.items():\n",
    "    for instance, res in index_res.items():\n",
    "        # for sample size?\n",
    "        df_index.append(index+'_'+instance)\n",
    "        latencies = np.array([res['Latency'], res['Latency1_mean'], res['Latency1_p90'], res['Latency1_p99']])\n",
    "        row = np.concatenate([latencies*10,\n",
    "                             res['accuracy'][k_range[0] - 1:k_range[-1] ]])\n",
    "        row *= 100\n",
    "        data.append(row)\n",
    "\n",
    "df = pd.DataFrame(index=df_index, data=data, columns=columns)\n",
    "df_acc = df[columns_acc]\n",
    "df_lat = df[columns_lat]\n",
    "\n",
    "def highlight_apx_max(row):\n",
    "    '''\n",
    "    highlight the aproximate best (max or min) in a Series yellow.\n",
    "    '''\n",
    "    max_val = row.max()\n",
    "    colors = ['background-color: yellow' if cur_val >= max_val * 0.9975 else '' for cur_val in row]\n",
    "        \n",
    "    return colors\n",
    "\n",
    "df_acc.round(decimals=1).style.apply(highlight_apx_max, axis=1)"
   ]
  },
  {
   "cell_type": "markdown",
   "metadata": {},
   "source": [
    "Let's review the latencies. We'll highlight the latencies that are much worse (20% more) than the median value"
   ]
  },
  {
   "cell_type": "code",
   "execution_count": null,
   "metadata": {},
   "outputs": [],
   "source": [
    "def highlight_far_from_min(row):\n",
    "    '''\n",
    "    highlight the aproximate best (max or min) in a Series yellow.\n",
    "    '''\n",
    "    med_val = row.median()\n",
    "    colors = ['background-color: red' if cur_val >= med_val * 1.2 else '' for cur_val in row]\n",
    "        \n",
    "    return colors\n",
    "\n",
    "df_lat.round(decimals=1).style.apply(highlight_far_from_min, axis=0)"
   ]
  },
  {
   "cell_type": "markdown",
   "metadata": {},
   "source": [
    "#### Accuracy\n",
    "\n",
    "For optimizing accuracy, the results show that for some of the models, k=1 yields the best results. We may want to play it safe and choose a larger value for k. The reason is that if the data slightly changes over time, the results associated with small values of k tend to change faster than those of larger values of k. A reasonable compromise could be choosing k=5. Not surprisingly, the accuracy becomes better if we choose a larger training set and if we use a brute-force index. This leads to 97% accuracy. For comparison, a linear model trained on the covtype dataset achieves roughly 72% accuracy. This is a pretty solid demonstration of the power of the kNN classifier.\n",
    "If we are willing to get slightly less accurate results but at higher speed, we could choose either a large dataset with an approximate index **IVFPQ_l2_large_XX**, or a smaller sample size **flat_l2_ml_XX**. Both achieve roughly 93%-95% precision, yet have much more favorable latency scores.\n",
    "\n",
    "\n",
    "#### Latency\n",
    "\n",
    "We can see a single-query mean latency of under 10ms in most setting and under 20ms in the remaining. Some of this can likely be attributed to typical system overheads, so results may become better over time. One exception is for **flat_l2_large_ml.c5.xlarge**, where we pay for using an exact solution on a large dataset by having a latency of about 25ms. There is much more variance in the latency for a batch of roughly 1K points as the relative overhead there is lower. There, the slowest yet most accurate model requires roughly 360ms to return an answer while for the approximate versions we get over X5 speedup. If one would like to have the best accuracy but reduce latency, another option is to use a GPU machine. **flat_l2_large_ml.p2.xlarge** enjoys the best accuracy while keeping the latency for 1K points at less than 90ms and singe-query p90 latency at 14.2ms. The downside is the dollar cost, since a *ml.p2.xlarge* machine is more expensive than a *ml.c5.xlarge* machine. \n"
   ]
  },
  {
   "cell_type": "markdown",
   "metadata": {},
   "source": [
    "## Concluding Remarks\n",
    "\n",
    "We've seen how to both train and host an inference endpoint for kNN. We've shown the ease of tuning a kNN algorithm and how to experiment with the different parameters, both those required at training and at inference. The experiment on the covtype dataset demonstrates the power of the simple procedure of kNN, especially when considering the final accuracy score of 96.8%, say, compared to linear model that achieves 72.8% accuracy. We explored the tradeoffs between an approximate index, subsampling the data, and using high vs low cost machines. The answer is case dependent and should fit the needs of the particular setup. "
   ]
  }
 ],
 "metadata": {
  "kernelspec": {
   "display_name": "conda_python3",
   "language": "python",
   "name": "conda_python3"
  },
  "language_info": {
   "codemirror_mode": {
    "name": "ipython",
    "version": 3
   },
   "file_extension": ".py",
   "mimetype": "text/x-python",
   "name": "python",
   "nbconvert_exporter": "python",
   "pygments_lexer": "ipython3",
   "version": "3.6.10"
  },
  "notice": "Copyright 2018 Amazon.com, Inc. or its affiliates. All Rights Reserved. Licensed under the Apache License, Version 2.0 (the \"License\"). You may not use this file except in compliance with the License. A copy of the License is located at http://aws.amazon.com/apache2.0/ or in the \"license\" file accompanying this file. This file is distributed on an \"AS IS\" BASIS, WITHOUT WARRANTIES OR CONDITIONS OF ANY KIND, either express or implied. See the License for the specific language governing permissions and limitations under the License."
 },
 "nbformat": 4,
 "nbformat_minor": 2
}
