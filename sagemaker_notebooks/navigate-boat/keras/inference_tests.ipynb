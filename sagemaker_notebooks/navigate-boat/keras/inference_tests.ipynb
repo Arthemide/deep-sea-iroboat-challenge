{
 "cells": [
  {
   "cell_type": "markdown",
   "metadata": {},
   "source": [
    "## Required imports and config"
   ]
  },
  {
   "cell_type": "code",
   "execution_count": 1,
   "metadata": {},
   "outputs": [],
   "source": [
    "import math\n",
    "import pandas as pd\n",
    "import numpy as np\n",
    "import json\n",
    "import io\n",
    "import boto3\n",
    "\n",
    "from matplotlib import pyplot as plt\n",
    "from scipy.stats import gaussian_kde"
   ]
  },
  {
   "cell_type": "code",
   "execution_count": 2,
   "metadata": {},
   "outputs": [],
   "source": [
    "ENDPOINT_COS_KERAS = 'VR-keras-cos-endpoint-2020-10-15-15-27'\n",
    "ENDPOINT_SIN_KERAS = 'VR-keras-sin-endpoint-2020-10-16-07-41'\n",
    "ENDPOINT_COS_LINEAR ='VR-cos-regression-endpoint-202009251406'\n",
    "ENDPOINT_SIN_LINEAR  = 'VR-sin-regression-endpoint-202009251406'"
   ]
  },
  {
   "cell_type": "markdown",
   "metadata": {},
   "source": [
    "## Load data and sample a few random values for testing"
   ]
  },
  {
   "cell_type": "code",
   "execution_count": 3,
   "metadata": {},
   "outputs": [],
   "source": [
    "data = pd.read_csv('../all-in-one.csv')\n",
    "\n",
    "data['cos_attack_angle'] = data['angle_of_attack'].apply(lambda x: np.cos(np.deg2rad(x)))\n",
    "data['sin_attack_angle'] = data['angle_of_attack'].apply(lambda x: np.sin(np.deg2rad(x)))\n",
    "data.drop(columns=['angle_of_attack'], inplace=True)\n",
    "data = data[['boat_speed','cos_attack_angle', 'sin_attack_angle', 'wind_speed','cos_target_angle', 'sin_target_angle', 'sin_boat_angle', 'cos_boat_angle']]"
   ]
  },
  {
   "cell_type": "code",
   "execution_count": 4,
   "metadata": {},
   "outputs": [
    {
     "name": "stdout",
     "output_type": "stream",
     "text": [
      "3690\n"
     ]
    }
   ],
   "source": [
    "data_cos = data.drop(columns=['sin_boat_angle'])\n",
    "data_sin = data.drop(columns=['cos_boat_angle'])\n",
    "\n",
    "print(len(data_cos))"
   ]
  },
  {
   "cell_type": "code",
   "execution_count": 5,
   "metadata": {},
   "outputs": [
    {
     "name": "stdout",
     "output_type": "stream",
     "text": [
      "(3690, 6)\n"
     ]
    }
   ],
   "source": [
    "# modify the next two lines in order to sample fewer rows\n",
    "sample_size = len(data_cos)\n",
    "data_test_cos = data_cos.sample(sample_size)\n",
    "data_test_sin = data_sin.sample(sample_size)\n",
    "\n",
    "\n",
    "test_cos_X = data_test_cos.drop(columns=['cos_boat_angle']).to_numpy()\n",
    "test_cos_y = data_test_cos['cos_boat_angle'].to_numpy()\n",
    "\n",
    "test_sin_X = data_test_sin.drop(columns=['sin_boat_angle']).to_numpy()\n",
    "test_sin_y = data_test_sin['sin_boat_angle'].to_numpy()\n",
    "\n",
    "print(test_cos_X.shape)"
   ]
  },
  {
   "cell_type": "markdown",
   "metadata": {},
   "source": [
    "## Retrieve predictions from nonlinear keras endpoints"
   ]
  },
  {
   "cell_type": "code",
   "execution_count": 6,
   "metadata": {},
   "outputs": [],
   "source": [
    "import json\n",
    "\n",
    "runtime = boto3.client('runtime.sagemaker')\n",
    "\n",
    "payload_cos = json.dumps(test_cos_X.tolist())\n",
    "response_cos = runtime.invoke_endpoint(EndpointName=ENDPOINT_COS_KERAS,\n",
    "                                   Body=payload_cos)\n",
    "result_cos = json.loads(response_cos['Body'].read().decode())\n",
    "test_pred_cos = np.array([r for r in result_cos['outputs']['score']['floatVal']])\n",
    "\n",
    "\n",
    "payload_sin = json.dumps(test_sin_X.tolist())\n",
    "response_sin = runtime.invoke_endpoint(EndpointName=ENDPOINT_SIN_KERAS,\n",
    "                                   Body=payload_sin)\n",
    "result_sin = json.loads(response_sin['Body'].read().decode())\n",
    "test_pred_sin = np.array([r for r in result_sin['outputs']['score']['floatVal']])"
   ]
  },
  {
   "cell_type": "code",
   "execution_count": 7,
   "metadata": {},
   "outputs": [
    {
     "name": "stdout",
     "output_type": "stream",
     "text": [
      "[-0.36063331  0.14050257 -0.90403181 -0.95693284]\n",
      "[-0.92012382  0.90870035  0.90861404  0.90855014]\n"
     ]
    }
   ],
   "source": [
    "print(test_pred_cos[:4])\n",
    "print(test_pred_sin[:4])"
   ]
  },
  {
   "cell_type": "markdown",
   "metadata": {},
   "source": [
    "## Retrieve predictions from linear regression endpoints"
   ]
  },
  {
   "cell_type": "code",
   "execution_count": 8,
   "metadata": {},
   "outputs": [],
   "source": [
    "data = pd.read_csv('../all-in-one.csv')\n",
    "\n",
    "# The column to predict has to be in last position\n",
    "data_linear = data[['boat_speed','angle_of_attack','wind_speed','cos_target_angle', 'sin_target_angle', 'cos_boat_angle', 'sin_boat_angle']]\n",
    "test_linear_cos_X = data_linear.iloc[:,:-2].to_numpy()\n",
    "test_linear_sin_X = data_linear.iloc[:,:-2].to_numpy()\n",
    "\n",
    "test_linear_cos_y = data_linear.iloc[:,-2].to_numpy()\n",
    "test_linear_sin_y = data_linear.iloc[:,-1].to_numpy()"
   ]
  },
  {
   "cell_type": "code",
   "execution_count": 9,
   "metadata": {},
   "outputs": [],
   "source": [
    "def np2csv(arr):\n",
    "    csv = io.BytesIO()\n",
    "    np.savetxt(csv, arr, delimiter=',', fmt='%g')\n",
    "    return csv.getvalue().decode().rstrip()"
   ]
  },
  {
   "cell_type": "code",
   "execution_count": 10,
   "metadata": {},
   "outputs": [],
   "source": [
    "payload_cos_linear = np2csv(test_linear_cos_X)\n",
    "response = runtime.invoke_endpoint(EndpointName=ENDPOINT_COS_LINEAR,\n",
    "                                   ContentType='text/csv',\n",
    "                                   Body=payload_cos_linear)\n",
    "result = json.loads(response['Body'].read().decode())\n",
    "test_pred_cos_linear = np.array([r['score'] for r in result['predictions']])"
   ]
  },
  {
   "cell_type": "code",
   "execution_count": 11,
   "metadata": {},
   "outputs": [],
   "source": [
    "payload_sin_linear = np2csv(test_linear_sin_X)\n",
    "response = runtime.invoke_endpoint(EndpointName=ENDPOINT_COS_LINEAR,\n",
    "                                   ContentType='text/csv',\n",
    "                                   Body=payload_sin_linear)\n",
    "result = json.loads(response['Body'].read().decode())\n",
    "test_pred_sin_linear = np.array([r['score'] for r in result['predictions']])"
   ]
  },
  {
   "cell_type": "markdown",
   "metadata": {},
   "source": [
    "## Cap all predictions to be between -1 and 1"
   ]
  },
  {
   "cell_type": "code",
   "execution_count": 12,
   "metadata": {},
   "outputs": [],
   "source": [
    "test_pred_cos = [cos_val if -1 <= cos_val <= 1 else 2 * int( cos_val > 1) - 1 for cos_val in test_pred_cos]\n",
    "test_pred_sin = [sin_val if -1 <= sin_val <= 1 else 2 * int( sin_val > 1) - 1 for sin_val in test_pred_sin]\n",
    "\n",
    "test_pred_cos_linear = [cos_val if -1 <= cos_val <= 1 else 2 * int( cos_val > 1) - 1 for cos_val in test_pred_cos_linear]\n",
    "test_pred_sin_linear = [cos_val if -1 <= cos_val <= 1 else 2 * int( cos_val > 1) - 1 for cos_val in test_pred_sin_linear]"
   ]
  },
  {
   "cell_type": "code",
   "execution_count": 13,
   "metadata": {},
   "outputs": [
    {
     "name": "stdout",
     "output_type": "stream",
     "text": [
      "Cosine test MSE: 0.0102, \n",
      "\n",
      "Sine test MSE: 0.0044, \n",
      "\n"
     ]
    }
   ],
   "source": [
    "from sklearn.metrics import mean_squared_error\n",
    "\n",
    "mse_cos = mean_squared_error(test_cos_y, test_pred_cos)\n",
    "print(f\"Cosine test MSE: {round(mse_cos,4)}, \\n\")\n",
    "\n",
    "mse_sin = mean_squared_error(test_sin_y, test_pred_sin)\n",
    "print(f\"Sine test MSE: {round(mse_sin,4)}, \\n\")\n"
   ]
  },
  {
   "cell_type": "markdown",
   "metadata": {},
   "source": [
    "## Measure the accuracy on the actual angle values"
   ]
  },
  {
   "cell_type": "code",
   "execution_count": 14,
   "metadata": {},
   "outputs": [],
   "source": [
    "pred_angles_keras = np.array([\n",
    "    round(math.degrees(math.acos(cos_val)),2)\n",
    "    if sin_val > 0 else round(360 - math.degrees(math.acos(cos_val)),2)\n",
    "    for sin_val, cos_val in zip(test_pred_sin, test_pred_cos)])\n",
    "actual_angles_keras = np.array([\n",
    "    round(math.degrees(math.acos(cos_val)),2)\n",
    "    if sin_val > 0 else round(360 - math.degrees(math.acos(cos_val)),2)\n",
    "    for sin_val, cos_val in zip(test_sin_y, test_cos_y)])\n",
    "\n",
    "pred_angles_linear = np.array([\n",
    "    round(math.degrees(math.acos(cos_val)),2)\n",
    "    if sin_val > 0 else round(360 - math.degrees(math.acos(cos_val)),2)\n",
    "    for sin_val, cos_val in zip(test_pred_sin_linear, test_pred_cos_linear)])\n",
    "actual_angles_linear = np.array([\n",
    "    round(math.degrees(math.acos(cos_val)),2)\n",
    "    if sin_val > 0 else round(360 - math.degrees(math.acos(cos_val)),2)\n",
    "    for sin_val, cos_val in zip(test_linear_sin_y, test_linear_cos_y)])"
   ]
  },
  {
   "cell_type": "code",
   "execution_count": 15,
   "metadata": {},
   "outputs": [],
   "source": [
    "deg_error_threshold = 15\n",
    "absolute_error_keras = np.absolute(pred_angles_keras - actual_angles_keras)\n",
    "\n",
    "abs_error_keras = [(e, i) for i, e in enumerate(absolute_error_keras)]\n",
    "abs_error_keras.sort()\n",
    "\n",
    "num_above_threshold = sum(1 for e, i in abs_error_keras if e > deg_error_threshold)\n",
    "num_below_threshold = sample_size - num_above_threshold\n"
   ]
  },
  {
   "cell_type": "markdown",
   "metadata": {},
   "source": [
    "## Results for Keras models"
   ]
  },
  {
   "cell_type": "code",
   "execution_count": 16,
   "metadata": {},
   "outputs": [
    {
     "name": "stdout",
     "output_type": "stream",
     "text": [
      "Total data points tested: 3690\n",
      "Number of data points with angle error more than 15 degrees: 226\n",
      "Number of data points with angle error less than 15 degrees: 3464\n"
     ]
    }
   ],
   "source": [
    "print(f'Total data points tested: {len(absolute_error_keras)}')\n",
    "print(f'Number of data points with angle error more than {deg_error_threshold} degrees: {num_above_threshold}')\n",
    "print(f'Number of data points with angle error less than {deg_error_threshold} degrees: {num_below_threshold}')"
   ]
  },
  {
   "cell_type": "code",
   "execution_count": 17,
   "metadata": {},
   "outputs": [
    {
     "data": {
      "image/png": "[encoded data removed]",
      "text/plain": [
       "<Figure size 1080x360 with 1 Axes>"
      ]
     },
     "metadata": {
      "needs_background": "light"
     },
     "output_type": "display_data"
    }
   ],
   "source": [
    "density = gaussian_kde(absolute_error_keras)\n",
    "xs = np.linspace(0,360,50)\n",
    "plt.figure(figsize=(15,5))\n",
    "plt.plot(xs,density(xs))\n",
    "plt.locator_params(axis='y', nbins=20)\n",
    "plt.locator_params(axis='x', nbins=30)\n",
    "plt.title('Density plot of absolute angle errors for Keras models')\n",
    "plt.show()"
   ]
  },
  {
   "cell_type": "markdown",
   "metadata": {},
   "source": [
    "## Results for linear models"
   ]
  },
  {
   "cell_type": "code",
   "execution_count": 18,
   "metadata": {},
   "outputs": [
    {
     "name": "stdout",
     "output_type": "stream",
     "text": [
      "Total data points tested: 3690\n",
      "Number of data points with angle error more than 15 degrees: 2268\n",
      "Number of data points with angle error less than 15 degrees: 1422\n"
     ]
    }
   ],
   "source": [
    "absolute_error_linear = np.absolute(pred_angles_linear - actual_angles_linear)\n",
    "abs_error_linear = [(e, i) for i, e in enumerate(absolute_error_linear)]\n",
    "abs_error_linear.sort()\n",
    "\n",
    "num_above_threshold = sum(1 for e, i in abs_error_linear if e > deg_error_threshold)\n",
    "num_below_threshold = sample_size - num_above_threshold\n",
    "\n",
    "print(f'Total data points tested: {len(absolute_error_linear)}')\n",
    "print(f'Number of data points with angle error more than {deg_error_threshold} degrees: {num_above_threshold}')\n",
    "print(f'Number of data points with angle error less than {deg_error_threshold} degrees: {num_below_threshold}')"
   ]
  },
  {
   "cell_type": "code",
   "execution_count": 19,
   "metadata": {},
   "outputs": [
    {
     "data": {
      "image/png": "[encoded data removed]",
      "text/plain": [
       "<Figure size 1080x360 with 1 Axes>"
      ]
     },
     "metadata": {
      "needs_background": "light"
     },
     "output_type": "display_data"
    }
   ],
   "source": [
    "density = gaussian_kde(absolute_error_linear)\n",
    "xs = np.linspace(0,360,50)\n",
    "plt.figure(figsize=(15,5))\n",
    "plt.plot(xs,density(xs))\n",
    "plt.locator_params(axis='y', nbins=20)\n",
    "plt.locator_params(axis='x', nbins=30)\n",
    "plt.title('Density plot of absolute angle errors for Linear models')\n",
    "plt.show()"
   ]
  },
  {
   "cell_type": "code",
   "execution_count": null,
   "metadata": {},
   "outputs": [],
   "source": []
  }
 ],
 "metadata": {
  "kernelspec": {
   "display_name": "conda_tensorflow_p36",
   "language": "python",
   "name": "conda_tensorflow_p36"
  },
  "language_info": {
   "codemirror_mode": {
    "name": "ipython",
    "version": 3
   },
   "file_extension": ".py",
   "mimetype": "text/x-python",
   "name": "python",
   "nbconvert_exporter": "python",
   "pygments_lexer": "ipython3",
   "version": "3.6.10"
  }
 },
 "nbformat": 4,
 "nbformat_minor": 4
}
