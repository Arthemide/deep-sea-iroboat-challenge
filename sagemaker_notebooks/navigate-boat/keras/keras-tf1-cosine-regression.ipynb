{
 "cells": [
  {
   "cell_type": "markdown",
   "metadata": {},
   "source": [
    "## Contents:\n",
    "* [General overview](#general-overview)\n",
    "* [Imports and config](#import-config)\n",
    "* [Data inpsection and preparation](#data-prep)\n",
    "* [Model training](#model-creation)\n",
    "* [Model evaluation](#model-evaluation)\n",
    "* [Create endpoint from model](#endpoint)"
   ]
  },
  {
   "cell_type": "markdown",
   "metadata": {},
   "source": [
    "## General overview <a class=\"anchor\" id=\"general-overview\"></a>"
   ]
  },
  {
   "cell_type": "markdown",
   "metadata": {},
   "source": [
    "Our goal is to create an ML model that can predict with high accuracy the angle at which a boat should be heading, given metadata features such as boat speed, wind speed, attack angle and target angle. Rather than performing a regression to predict the angle directly, we will instead create two models for predicting the cosine and sine, respectively. This notebook is concerned with predicting the cosine of boat's angle.\n",
    "\n",
    "As a counter-candidate model for linear regression, we will create a (non-linear) regression model using Keras. In addition to this, we will use cosine and sine of the angles involved as features, rather than the angles themselves.\n",
    "\n",
    "**Important findings** after running the experiments below:\n",
    "1. Minimizing MSE is a better strategy than minimizing MAE;\n",
    "2. Non-linear regression outperforms linear regression;\n",
    "3. Wider models outperform deeper models. This is not immediately obvious, but seems to be the case in regression tasks involving other well-known datasets, see for example [here](https://machinelearningmastery.com/regression-tutorial-keras-deep-learning-library-python/)\n",
    "4. The best model is either 2-hidden layers of sizes (256, 128) OR 2-hidden layers of sizes (512, 256)."
   ]
  },
  {
   "cell_type": "markdown",
   "metadata": {},
   "source": [
    "## Basic imports <a class=\"anchor\" id=\"import-config\"></a>"
   ]
  },
  {
   "cell_type": "code",
   "execution_count": 1,
   "metadata": {},
   "outputs": [],
   "source": [
    "import pandas as pd\n",
    "import numpy as np\n",
    "import io\n",
    "import time\n",
    "import json\n",
    "import sagemaker.amazon.common as smac\n",
    "import os\n",
    "import boto3\n",
    "import re\n",
    "import sagemaker\n",
    "from os.path import join\n",
    "from sklearn.model_selection import train_test_split"
   ]
  },
  {
   "cell_type": "markdown",
   "metadata": {},
   "source": [
    "## Setup the config"
   ]
  },
  {
   "cell_type": "code",
   "execution_count": 2,
   "metadata": {},
   "outputs": [],
   "source": [
    "ROLE = sagemaker.get_execution_role()\n",
    "REGION = boto3.Session().region_name\n",
    "\n",
    "# S3 bucket for saving code and model artifacts.\n",
    "# Feel free to specify a different bucket and prefix\n",
    "\n",
    "BUCKET = 'virtual-regatta-ml'\n",
    "PREFIX = 'non_linear_keras_cosine' # place to upload training files within the bucket\n",
    "TEST_NAME = 'default'\n",
    "ENDPOINT_NAME = 'VR-keras-cos-endpoint-' + time.strftime(\"%Y-%m-%d-%H-%M\", time.gmtime())\n",
    "INSTANCE_TYPE = 'ml.t2.medium'\n",
    "                                                            "
   ]
  },
  {
   "cell_type": "markdown",
   "metadata": {},
   "source": [
    "## Load the data <a class=\"anchor\" id=\"data-prep\"></a>"
   ]
  },
  {
   "cell_type": "code",
   "execution_count": 3,
   "metadata": {},
   "outputs": [
    {
     "name": "stdout",
     "output_type": "stream",
     "text": [
      "   boat_speed  wind_speed  cos_attack_angle  sin_attack_angle  \\\n",
      "0     7.73236     9.43467         -0.829038         -0.559193   \n",
      "1     7.78952     9.59005         -0.819152         -0.573576   \n",
      "2     7.81913     9.66396         -0.819152         -0.573576   \n",
      "3     7.81658     9.65759         -0.819152         -0.573576   \n",
      "4     7.84463     9.72758         -0.819152         -0.573576   \n",
      "\n",
      "   cos_target_angle  sin_target_angle  cos_boat_angle  \n",
      "0         -0.829038         -0.559193       -0.866025  \n",
      "1         -0.819152         -0.573576       -0.857167  \n",
      "2         -0.809017         -0.587785       -0.857167  \n",
      "3         -0.798636         -0.601815       -0.848048  \n",
      "4         -0.777146         -0.629320       -0.848048  \n"
     ]
    }
   ],
   "source": [
    "df_reordered = pd.read_csv('../data-pre-processing/cosine_data.csv')\n",
    "\n",
    "print(df_reordered.head())"
   ]
  },
  {
   "cell_type": "code",
   "execution_count": 4,
   "metadata": {},
   "outputs": [
    {
     "data": {
      "text/html": [
       "<style  type=\"text/css\" >\n",
       "    #T_7a6d6358_17ad_11eb_a32c_df293051760erow0_col0 {\n",
       "            background-color:  #023858;\n",
       "            color:  #f1f1f1;\n",
       "        }    #T_7a6d6358_17ad_11eb_a32c_df293051760erow0_col1 {\n",
       "            background-color:  #0567a2;\n",
       "            color:  #f1f1f1;\n",
       "        }    #T_7a6d6358_17ad_11eb_a32c_df293051760erow0_col2 {\n",
       "            background-color:  #c9cee4;\n",
       "            color:  #000000;\n",
       "        }    #T_7a6d6358_17ad_11eb_a32c_df293051760erow0_col3 {\n",
       "            background-color:  #f3edf5;\n",
       "            color:  #000000;\n",
       "        }    #T_7a6d6358_17ad_11eb_a32c_df293051760erow0_col4 {\n",
       "            background-color:  #d5d5e8;\n",
       "            color:  #000000;\n",
       "        }    #T_7a6d6358_17ad_11eb_a32c_df293051760erow0_col5 {\n",
       "            background-color:  #e7e3f0;\n",
       "            color:  #000000;\n",
       "        }    #T_7a6d6358_17ad_11eb_a32c_df293051760erow0_col6 {\n",
       "            background-color:  #cacee5;\n",
       "            color:  #000000;\n",
       "        }    #T_7a6d6358_17ad_11eb_a32c_df293051760erow1_col0 {\n",
       "            background-color:  #04649e;\n",
       "            color:  #f1f1f1;\n",
       "        }    #T_7a6d6358_17ad_11eb_a32c_df293051760erow1_col1 {\n",
       "            background-color:  #023858;\n",
       "            color:  #f1f1f1;\n",
       "        }    #T_7a6d6358_17ad_11eb_a32c_df293051760erow1_col2 {\n",
       "            background-color:  #b8c6e0;\n",
       "            color:  #000000;\n",
       "        }    #T_7a6d6358_17ad_11eb_a32c_df293051760erow1_col3 {\n",
       "            background-color:  #e9e5f1;\n",
       "            color:  #000000;\n",
       "        }    #T_7a6d6358_17ad_11eb_a32c_df293051760erow1_col4 {\n",
       "            background-color:  #6ba5cd;\n",
       "            color:  #000000;\n",
       "        }    #T_7a6d6358_17ad_11eb_a32c_df293051760erow1_col5 {\n",
       "            background-color:  #dedcec;\n",
       "            color:  #000000;\n",
       "        }    #T_7a6d6358_17ad_11eb_a32c_df293051760erow1_col6 {\n",
       "            background-color:  #62a2cb;\n",
       "            color:  #000000;\n",
       "        }    #T_7a6d6358_17ad_11eb_a32c_df293051760erow2_col0 {\n",
       "            background-color:  #c1cae2;\n",
       "            color:  #000000;\n",
       "        }    #T_7a6d6358_17ad_11eb_a32c_df293051760erow2_col1 {\n",
       "            background-color:  #c0c9e2;\n",
       "            color:  #000000;\n",
       "        }    #T_7a6d6358_17ad_11eb_a32c_df293051760erow2_col2 {\n",
       "            background-color:  #023858;\n",
       "            color:  #f1f1f1;\n",
       "        }    #T_7a6d6358_17ad_11eb_a32c_df293051760erow2_col3 {\n",
       "            background-color:  #cccfe5;\n",
       "            color:  #000000;\n",
       "        }    #T_7a6d6358_17ad_11eb_a32c_df293051760erow2_col4 {\n",
       "            background-color:  #d2d2e7;\n",
       "            color:  #000000;\n",
       "        }    #T_7a6d6358_17ad_11eb_a32c_df293051760erow2_col5 {\n",
       "            background-color:  #fff7fb;\n",
       "            color:  #000000;\n",
       "        }    #T_7a6d6358_17ad_11eb_a32c_df293051760erow2_col6 {\n",
       "            background-color:  #eae6f1;\n",
       "            color:  #000000;\n",
       "        }    #T_7a6d6358_17ad_11eb_a32c_df293051760erow3_col0 {\n",
       "            background-color:  #fff7fb;\n",
       "            color:  #000000;\n",
       "        }    #T_7a6d6358_17ad_11eb_a32c_df293051760erow3_col1 {\n",
       "            background-color:  #fff7fb;\n",
       "            color:  #000000;\n",
       "        }    #T_7a6d6358_17ad_11eb_a32c_df293051760erow3_col2 {\n",
       "            background-color:  #e1dfed;\n",
       "            color:  #000000;\n",
       "        }    #T_7a6d6358_17ad_11eb_a32c_df293051760erow3_col3 {\n",
       "            background-color:  #023858;\n",
       "            color:  #f1f1f1;\n",
       "        }    #T_7a6d6358_17ad_11eb_a32c_df293051760erow3_col4 {\n",
       "            background-color:  #fff7fb;\n",
       "            color:  #000000;\n",
       "        }    #T_7a6d6358_17ad_11eb_a32c_df293051760erow3_col5 {\n",
       "            background-color:  #67a4cc;\n",
       "            color:  #000000;\n",
       "        }    #T_7a6d6358_17ad_11eb_a32c_df293051760erow3_col6 {\n",
       "            background-color:  #fff7fb;\n",
       "            color:  #000000;\n",
       "        }    #T_7a6d6358_17ad_11eb_a32c_df293051760erow4_col0 {\n",
       "            background-color:  #cdd0e5;\n",
       "            color:  #000000;\n",
       "        }    #T_7a6d6358_17ad_11eb_a32c_df293051760erow4_col1 {\n",
       "            background-color:  #71a8ce;\n",
       "            color:  #000000;\n",
       "        }    #T_7a6d6358_17ad_11eb_a32c_df293051760erow4_col2 {\n",
       "            background-color:  #ced0e6;\n",
       "            color:  #000000;\n",
       "        }    #T_7a6d6358_17ad_11eb_a32c_df293051760erow4_col3 {\n",
       "            background-color:  #eee8f3;\n",
       "            color:  #000000;\n",
       "        }    #T_7a6d6358_17ad_11eb_a32c_df293051760erow4_col4 {\n",
       "            background-color:  #023858;\n",
       "            color:  #f1f1f1;\n",
       "        }    #T_7a6d6358_17ad_11eb_a32c_df293051760erow4_col5 {\n",
       "            background-color:  #ede8f3;\n",
       "            color:  #000000;\n",
       "        }    #T_7a6d6358_17ad_11eb_a32c_df293051760erow4_col6 {\n",
       "            background-color:  #1b7eb7;\n",
       "            color:  #000000;\n",
       "        }    #T_7a6d6358_17ad_11eb_a32c_df293051760erow5_col0 {\n",
       "            background-color:  #e2dfee;\n",
       "            color:  #000000;\n",
       "        }    #T_7a6d6358_17ad_11eb_a32c_df293051760erow5_col1 {\n",
       "            background-color:  #e5e1ef;\n",
       "            color:  #000000;\n",
       "        }    #T_7a6d6358_17ad_11eb_a32c_df293051760erow5_col2 {\n",
       "            background-color:  #fff7fb;\n",
       "            color:  #000000;\n",
       "        }    #T_7a6d6358_17ad_11eb_a32c_df293051760erow5_col3 {\n",
       "            background-color:  #4e9ac6;\n",
       "            color:  #000000;\n",
       "        }    #T_7a6d6358_17ad_11eb_a32c_df293051760erow5_col4 {\n",
       "            background-color:  #efe9f3;\n",
       "            color:  #000000;\n",
       "        }    #T_7a6d6358_17ad_11eb_a32c_df293051760erow5_col5 {\n",
       "            background-color:  #023858;\n",
       "            color:  #f1f1f1;\n",
       "        }    #T_7a6d6358_17ad_11eb_a32c_df293051760erow5_col6 {\n",
       "            background-color:  #c6cce3;\n",
       "            color:  #000000;\n",
       "        }    #T_7a6d6358_17ad_11eb_a32c_df293051760erow6_col0 {\n",
       "            background-color:  #dad9ea;\n",
       "            color:  #000000;\n",
       "        }    #T_7a6d6358_17ad_11eb_a32c_df293051760erow6_col1 {\n",
       "            background-color:  #83afd3;\n",
       "            color:  #000000;\n",
       "        }    #T_7a6d6358_17ad_11eb_a32c_df293051760erow6_col2 {\n",
       "            background-color:  #faf3f9;\n",
       "            color:  #000000;\n",
       "        }    #T_7a6d6358_17ad_11eb_a32c_df293051760erow6_col3 {\n",
       "            background-color:  #fff7fb;\n",
       "            color:  #000000;\n",
       "        }    #T_7a6d6358_17ad_11eb_a32c_df293051760erow6_col4 {\n",
       "            background-color:  #2a88bc;\n",
       "            color:  #000000;\n",
       "        }    #T_7a6d6358_17ad_11eb_a32c_df293051760erow6_col5 {\n",
       "            background-color:  #dddbec;\n",
       "            color:  #000000;\n",
       "        }    #T_7a6d6358_17ad_11eb_a32c_df293051760erow6_col6 {\n",
       "            background-color:  #023858;\n",
       "            color:  #f1f1f1;\n",
       "        }</style><table id=\"T_7a6d6358_17ad_11eb_a32c_df293051760e\" ><thead>    <tr>        <th class=\"blank level0\" ></th>        <th class=\"col_heading level0 col0\" >boat_speed</th>        <th class=\"col_heading level0 col1\" >wind_speed</th>        <th class=\"col_heading level0 col2\" >cos_attack_angle</th>        <th class=\"col_heading level0 col3\" >sin_attack_angle</th>        <th class=\"col_heading level0 col4\" >cos_target_angle</th>        <th class=\"col_heading level0 col5\" >sin_target_angle</th>        <th class=\"col_heading level0 col6\" >cos_boat_angle</th>    </tr></thead><tbody>\n",
       "                <tr>\n",
       "                        <th id=\"T_7a6d6358_17ad_11eb_a32c_df293051760elevel0_row0\" class=\"row_heading level0 row0\" >boat_speed</th>\n",
       "                        <td id=\"T_7a6d6358_17ad_11eb_a32c_df293051760erow0_col0\" class=\"data row0 col0\" >1.000000</td>\n",
       "                        <td id=\"T_7a6d6358_17ad_11eb_a32c_df293051760erow0_col1\" class=\"data row0 col1\" >0.783904</td>\n",
       "                        <td id=\"T_7a6d6358_17ad_11eb_a32c_df293051760erow0_col2\" class=\"data row0 col2\" >0.184568</td>\n",
       "                        <td id=\"T_7a6d6358_17ad_11eb_a32c_df293051760erow0_col3\" class=\"data row0 col3\" >-0.153520</td>\n",
       "                        <td id=\"T_7a6d6358_17ad_11eb_a32c_df293051760erow0_col4\" class=\"data row0 col4\" >0.146106</td>\n",
       "                        <td id=\"T_7a6d6358_17ad_11eb_a32c_df293051760erow0_col5\" class=\"data row0 col5\" >0.042199</td>\n",
       "                        <td id=\"T_7a6d6358_17ad_11eb_a32c_df293051760erow0_col6\" class=\"data row0 col6\" >0.082309</td>\n",
       "            </tr>\n",
       "            <tr>\n",
       "                        <th id=\"T_7a6d6358_17ad_11eb_a32c_df293051760elevel0_row1\" class=\"row_heading level0 row1\" >wind_speed</th>\n",
       "                        <td id=\"T_7a6d6358_17ad_11eb_a32c_df293051760erow1_col0\" class=\"data row1 col0\" >0.783904</td>\n",
       "                        <td id=\"T_7a6d6358_17ad_11eb_a32c_df293051760erow1_col1\" class=\"data row1 col1\" >1.000000</td>\n",
       "                        <td id=\"T_7a6d6358_17ad_11eb_a32c_df293051760erow1_col2\" class=\"data row1 col2\" >0.242784</td>\n",
       "                        <td id=\"T_7a6d6358_17ad_11eb_a32c_df293051760erow1_col3\" class=\"data row1 col3\" >-0.077306</td>\n",
       "                        <td id=\"T_7a6d6358_17ad_11eb_a32c_df293051760erow1_col4\" class=\"data row1 col4\" >0.468160</td>\n",
       "                        <td id=\"T_7a6d6358_17ad_11eb_a32c_df293051760erow1_col5\" class=\"data row1 col5\" >0.093278</td>\n",
       "                        <td id=\"T_7a6d6358_17ad_11eb_a32c_df293051760erow1_col6\" class=\"data row1 col6\" >0.420151</td>\n",
       "            </tr>\n",
       "            <tr>\n",
       "                        <th id=\"T_7a6d6358_17ad_11eb_a32c_df293051760elevel0_row2\" class=\"row_heading level0 row2\" >cos_attack_angle</th>\n",
       "                        <td id=\"T_7a6d6358_17ad_11eb_a32c_df293051760erow2_col0\" class=\"data row2 col0\" >0.184568</td>\n",
       "                        <td id=\"T_7a6d6358_17ad_11eb_a32c_df293051760erow2_col1\" class=\"data row2 col1\" >0.242784</td>\n",
       "                        <td id=\"T_7a6d6358_17ad_11eb_a32c_df293051760erow2_col2\" class=\"data row2 col2\" >1.000000</td>\n",
       "                        <td id=\"T_7a6d6358_17ad_11eb_a32c_df293051760erow2_col3\" class=\"data row2 col3\" >0.076631</td>\n",
       "                        <td id=\"T_7a6d6358_17ad_11eb_a32c_df293051760erow2_col4\" class=\"data row2 col4\" >0.164696</td>\n",
       "                        <td id=\"T_7a6d6358_17ad_11eb_a32c_df293051760erow2_col5\" class=\"data row2 col5\" >-0.119752</td>\n",
       "                        <td id=\"T_7a6d6358_17ad_11eb_a32c_df293051760erow2_col6\" class=\"data row2 col6\" >-0.083329</td>\n",
       "            </tr>\n",
       "            <tr>\n",
       "                        <th id=\"T_7a6d6358_17ad_11eb_a32c_df293051760elevel0_row3\" class=\"row_heading level0 row3\" >sin_attack_angle</th>\n",
       "                        <td id=\"T_7a6d6358_17ad_11eb_a32c_df293051760erow3_col0\" class=\"data row3 col0\" >-0.153520</td>\n",
       "                        <td id=\"T_7a6d6358_17ad_11eb_a32c_df293051760erow3_col1\" class=\"data row3 col1\" >-0.077306</td>\n",
       "                        <td id=\"T_7a6d6358_17ad_11eb_a32c_df293051760erow3_col2\" class=\"data row3 col2\" >0.076631</td>\n",
       "                        <td id=\"T_7a6d6358_17ad_11eb_a32c_df293051760erow3_col3\" class=\"data row3 col3\" >1.000000</td>\n",
       "                        <td id=\"T_7a6d6358_17ad_11eb_a32c_df293051760erow3_col4\" class=\"data row3 col4\" >-0.106529</td>\n",
       "                        <td id=\"T_7a6d6358_17ad_11eb_a32c_df293051760erow3_col5\" class=\"data row3 col5\" >0.468217</td>\n",
       "                        <td id=\"T_7a6d6358_17ad_11eb_a32c_df293051760erow3_col6\" class=\"data row3 col6\" >-0.253014</td>\n",
       "            </tr>\n",
       "            <tr>\n",
       "                        <th id=\"T_7a6d6358_17ad_11eb_a32c_df293051760elevel0_row4\" class=\"row_heading level0 row4\" >cos_target_angle</th>\n",
       "                        <td id=\"T_7a6d6358_17ad_11eb_a32c_df293051760erow4_col0\" class=\"data row4 col0\" >0.146106</td>\n",
       "                        <td id=\"T_7a6d6358_17ad_11eb_a32c_df293051760erow4_col1\" class=\"data row4 col1\" >0.468160</td>\n",
       "                        <td id=\"T_7a6d6358_17ad_11eb_a32c_df293051760erow4_col2\" class=\"data row4 col2\" >0.164696</td>\n",
       "                        <td id=\"T_7a6d6358_17ad_11eb_a32c_df293051760erow4_col3\" class=\"data row4 col3\" >-0.106529</td>\n",
       "                        <td id=\"T_7a6d6358_17ad_11eb_a32c_df293051760erow4_col4\" class=\"data row4 col4\" >1.000000</td>\n",
       "                        <td id=\"T_7a6d6358_17ad_11eb_a32c_df293051760erow4_col5\" class=\"data row4 col5\" >0.014174</td>\n",
       "                        <td id=\"T_7a6d6358_17ad_11eb_a32c_df293051760erow4_col6\" class=\"data row4 col6\" >0.617330</td>\n",
       "            </tr>\n",
       "            <tr>\n",
       "                        <th id=\"T_7a6d6358_17ad_11eb_a32c_df293051760elevel0_row5\" class=\"row_heading level0 row5\" >sin_target_angle</th>\n",
       "                        <td id=\"T_7a6d6358_17ad_11eb_a32c_df293051760erow5_col0\" class=\"data row5 col0\" >0.042199</td>\n",
       "                        <td id=\"T_7a6d6358_17ad_11eb_a32c_df293051760erow5_col1\" class=\"data row5 col1\" >0.093278</td>\n",
       "                        <td id=\"T_7a6d6358_17ad_11eb_a32c_df293051760erow5_col2\" class=\"data row5 col2\" >-0.119752</td>\n",
       "                        <td id=\"T_7a6d6358_17ad_11eb_a32c_df293051760erow5_col3\" class=\"data row5 col3\" >0.468217</td>\n",
       "                        <td id=\"T_7a6d6358_17ad_11eb_a32c_df293051760erow5_col4\" class=\"data row5 col4\" >0.014174</td>\n",
       "                        <td id=\"T_7a6d6358_17ad_11eb_a32c_df293051760erow5_col5\" class=\"data row5 col5\" >1.000000</td>\n",
       "                        <td id=\"T_7a6d6358_17ad_11eb_a32c_df293051760erow5_col6\" class=\"data row5 col6\" >0.096497</td>\n",
       "            </tr>\n",
       "            <tr>\n",
       "                        <th id=\"T_7a6d6358_17ad_11eb_a32c_df293051760elevel0_row6\" class=\"row_heading level0 row6\" >cos_boat_angle</th>\n",
       "                        <td id=\"T_7a6d6358_17ad_11eb_a32c_df293051760erow6_col0\" class=\"data row6 col0\" >0.082309</td>\n",
       "                        <td id=\"T_7a6d6358_17ad_11eb_a32c_df293051760erow6_col1\" class=\"data row6 col1\" >0.420151</td>\n",
       "                        <td id=\"T_7a6d6358_17ad_11eb_a32c_df293051760erow6_col2\" class=\"data row6 col2\" >-0.083329</td>\n",
       "                        <td id=\"T_7a6d6358_17ad_11eb_a32c_df293051760erow6_col3\" class=\"data row6 col3\" >-0.253014</td>\n",
       "                        <td id=\"T_7a6d6358_17ad_11eb_a32c_df293051760erow6_col4\" class=\"data row6 col4\" >0.617330</td>\n",
       "                        <td id=\"T_7a6d6358_17ad_11eb_a32c_df293051760erow6_col5\" class=\"data row6 col5\" >0.096497</td>\n",
       "                        <td id=\"T_7a6d6358_17ad_11eb_a32c_df293051760erow6_col6\" class=\"data row6 col6\" >1.000000</td>\n",
       "            </tr>\n",
       "    </tbody></table>"
      ],
      "text/plain": [
       "<pandas.io.formats.style.Styler at 0x7f47082eac50>"
      ]
     },
     "execution_count": 4,
     "metadata": {},
     "output_type": "execute_result"
    }
   ],
   "source": [
    "corr = df_reordered.corr()\n",
    "corr.style.background_gradient()"
   ]
  },
  {
   "cell_type": "code",
   "execution_count": 5,
   "metadata": {},
   "outputs": [
    {
     "data": {
      "text/html": [
       "<div>\n",
       "<style scoped>\n",
       "    .dataframe tbody tr th:only-of-type {\n",
       "        vertical-align: middle;\n",
       "    }\n",
       "\n",
       "    .dataframe tbody tr th {\n",
       "        vertical-align: top;\n",
       "    }\n",
       "\n",
       "    .dataframe thead th {\n",
       "        text-align: right;\n",
       "    }\n",
       "</style>\n",
       "<table border=\"1\" class=\"dataframe\">\n",
       "  <thead>\n",
       "    <tr style=\"text-align: right;\">\n",
       "      <th></th>\n",
       "      <th>boat_speed</th>\n",
       "      <th>wind_speed</th>\n",
       "      <th>cos_attack_angle</th>\n",
       "      <th>sin_attack_angle</th>\n",
       "      <th>cos_target_angle</th>\n",
       "      <th>sin_target_angle</th>\n",
       "      <th>cos_boat_angle</th>\n",
       "    </tr>\n",
       "  </thead>\n",
       "  <tbody>\n",
       "    <tr>\n",
       "      <th>count</th>\n",
       "      <td>5992.000000</td>\n",
       "      <td>5992.000000</td>\n",
       "      <td>5992.000000</td>\n",
       "      <td>5992.000000</td>\n",
       "      <td>5992.000000</td>\n",
       "      <td>5992.000000</td>\n",
       "      <td>5992.000000</td>\n",
       "    </tr>\n",
       "    <tr>\n",
       "      <th>mean</th>\n",
       "      <td>5.857816</td>\n",
       "      <td>7.479423</td>\n",
       "      <td>0.163345</td>\n",
       "      <td>-0.145440</td>\n",
       "      <td>-0.046726</td>\n",
       "      <td>-0.342797</td>\n",
       "      <td>-0.144953</td>\n",
       "    </tr>\n",
       "    <tr>\n",
       "      <th>std</th>\n",
       "      <td>2.798221</td>\n",
       "      <td>4.672615</td>\n",
       "      <td>0.782194</td>\n",
       "      <td>0.583521</td>\n",
       "      <td>0.636874</td>\n",
       "      <td>0.689090</td>\n",
       "      <td>0.718187</td>\n",
       "    </tr>\n",
       "    <tr>\n",
       "      <th>min</th>\n",
       "      <td>0.000000</td>\n",
       "      <td>2.000000</td>\n",
       "      <td>-1.000000</td>\n",
       "      <td>-0.999848</td>\n",
       "      <td>-1.000000</td>\n",
       "      <td>-1.000000</td>\n",
       "      <td>-1.000000</td>\n",
       "    </tr>\n",
       "    <tr>\n",
       "      <th>25%</th>\n",
       "      <td>3.887192</td>\n",
       "      <td>4.251947</td>\n",
       "      <td>-0.707107</td>\n",
       "      <td>-0.681998</td>\n",
       "      <td>-0.573576</td>\n",
       "      <td>-0.974370</td>\n",
       "      <td>-0.777146</td>\n",
       "    </tr>\n",
       "    <tr>\n",
       "      <th>50%</th>\n",
       "      <td>5.073445</td>\n",
       "      <td>5.993845</td>\n",
       "      <td>0.642788</td>\n",
       "      <td>-0.241922</td>\n",
       "      <td>-0.104528</td>\n",
       "      <td>-0.587785</td>\n",
       "      <td>-0.484810</td>\n",
       "    </tr>\n",
       "    <tr>\n",
       "      <th>75%</th>\n",
       "      <td>7.475152</td>\n",
       "      <td>9.402362</td>\n",
       "      <td>0.866025</td>\n",
       "      <td>0.500000</td>\n",
       "      <td>0.374607</td>\n",
       "      <td>0.190809</td>\n",
       "      <td>0.573576</td>\n",
       "    </tr>\n",
       "    <tr>\n",
       "      <th>max</th>\n",
       "      <td>15.157860</td>\n",
       "      <td>21.077130</td>\n",
       "      <td>1.000000</td>\n",
       "      <td>1.000000</td>\n",
       "      <td>0.999848</td>\n",
       "      <td>1.000000</td>\n",
       "      <td>1.000000</td>\n",
       "    </tr>\n",
       "  </tbody>\n",
       "</table>\n",
       "</div>"
      ],
      "text/plain": [
       "        boat_speed   wind_speed  cos_attack_angle  sin_attack_angle  \\\n",
       "count  5992.000000  5992.000000       5992.000000       5992.000000   \n",
       "mean      5.857816     7.479423          0.163345         -0.145440   \n",
       "std       2.798221     4.672615          0.782194          0.583521   \n",
       "min       0.000000     2.000000         -1.000000         -0.999848   \n",
       "25%       3.887192     4.251947         -0.707107         -0.681998   \n",
       "50%       5.073445     5.993845          0.642788         -0.241922   \n",
       "75%       7.475152     9.402362          0.866025          0.500000   \n",
       "max      15.157860    21.077130          1.000000          1.000000   \n",
       "\n",
       "       cos_target_angle  sin_target_angle  cos_boat_angle  \n",
       "count       5992.000000       5992.000000     5992.000000  \n",
       "mean          -0.046726         -0.342797       -0.144953  \n",
       "std            0.636874          0.689090        0.718187  \n",
       "min           -1.000000         -1.000000       -1.000000  \n",
       "25%           -0.573576         -0.974370       -0.777146  \n",
       "50%           -0.104528         -0.587785       -0.484810  \n",
       "75%            0.374607          0.190809        0.573576  \n",
       "max            0.999848          1.000000        1.000000  "
      ]
     },
     "execution_count": 5,
     "metadata": {},
     "output_type": "execute_result"
    }
   ],
   "source": [
    "df_reordered.describe()"
   ]
  },
  {
   "cell_type": "markdown",
   "metadata": {},
   "source": [
    "## Create train-val-test split"
   ]
  },
  {
   "cell_type": "code",
   "execution_count": 6,
   "metadata": {},
   "outputs": [],
   "source": [
    "def save_train_and_validation_data_to_s3(data) :\n",
    "    test_col = 'cos_boat_angle'\n",
    "    y_data = data[test_col]\n",
    "    X_data = data.drop(columns=[test_col])\n",
    "    X_data = X_data.to_numpy()\n",
    "    y_data = y_data.to_numpy()\n",
    "    \n",
    "    # 70% training, 15% validation, 15% testing split\n",
    "    train_X, test_X, train_y, test_y = train_test_split(X_data, y_data, train_size=0.7, random_state=42)\n",
    "    \n",
    "    val_X, test_X, val_y, test_y = train_test_split(test_X, test_y, train_size=0.5, random_state=41)\n",
    "\n",
    "    train_file = 'non_linear_train.data'\n",
    "\n",
    "    f = io.BytesIO()\n",
    "    smac.write_numpy_to_dense_tensor(f, train_X.astype('float32'), train_y.astype('float32'))\n",
    "    f.seek(0)\n",
    "    boto3.Session().resource('s3').Bucket(BUCKET).Object(os.path.join(PREFIX, TEST_NAME, 'train', train_file)).upload_fileobj(f)\n",
    "    validation_file = 'non_linear_validation.data'\n",
    "    \n",
    "    f = io.BytesIO()\n",
    "    smac.write_numpy_to_dense_tensor(f, val_X.astype('float32'), val_y.astype('float32'))\n",
    "    f.seek(0)\n",
    "    boto3.Session().resource('s3').Bucket(BUCKET).Object(os.path.join(PREFIX, TEST_NAME,'validation', validation_file)).upload_fileobj(f)\n",
    "    return train_X, train_y, val_X, val_y, test_X, test_y"
   ]
  },
  {
   "cell_type": "markdown",
   "metadata": {},
   "source": [
    "## Create a non-linear regression model using keras <a class=\"anchor\" id=\"model-creation\"></a>"
   ]
  },
  {
   "cell_type": "code",
   "execution_count": 7,
   "metadata": {},
   "outputs": [
    {
     "name": "stderr",
     "output_type": "stream",
     "text": [
      "Using TensorFlow backend.\n"
     ]
    },
    {
     "name": "stdout",
     "output_type": "stream",
     "text": [
      "WARNING:tensorflow:From /home/ec2-user/anaconda3/envs/tensorflow_p36/lib/python3.6/site-packages/tensorflow_core/__init__.py:1473: The name tf.estimator.inputs is deprecated. Please use tf.compat.v1.estimator.inputs instead.\n",
      "\n"
     ]
    }
   ],
   "source": [
    "from keras.models import Sequential\n",
    "from keras.layers import Dense\n",
    "from keras.layers import Dropout\n",
    "\n",
    "\n",
    "# Build the model\n",
    "def wide_keras_model(size_1, size_2):\n",
    "    model = Sequential()\n",
    "    model.add(Dense(size_1, input_dim=6, kernel_initializer='normal', bias_initializer='normal', activation='relu', name='hidden_1'))\n",
    "    model.add(Dropout(0.5, seed=42))\n",
    "    model.add(Dense(size_2, kernel_initializer='normal', bias_initializer='normal', activation='relu', name='hidden_2'))\n",
    "    model.add(Dropout(0.5, seed=42))\n",
    "    model.add(Dense(1, kernel_initializer='normal', bias_initializer='normal', activation='linear'))\n",
    "\n",
    "    # Compile the model\n",
    "    model.compile(loss=\"mean_squared_error\",\n",
    "                  optimizer='adam')\n",
    "    return model"
   ]
  },
  {
   "cell_type": "code",
   "execution_count": 8,
   "metadata": {},
   "outputs": [
    {
     "name": "stdout",
     "output_type": "stream",
     "text": [
      "Number of examples in training data: 4194\n",
      "Number of examples in validation data: 899\n",
      "Number of examples in test data: 899\n"
     ]
    }
   ],
   "source": [
    "train_X, train_y, val_X, val_y, test_X, test_y = save_train_and_validation_data_to_s3(df_reordered)\n",
    "train_y = np.expand_dims(train_y, axis=1)\n",
    "val_y = np.expand_dims(val_y, axis=1)\n",
    "test_y = np.expand_dims(test_y, axis=1)\n",
    "print(f'Number of examples in training data: {len(train_y)}')\n",
    "print(f'Number of examples in validation data: {len(val_y)}')\n",
    "print(f'Number of examples in test data: {len(test_y)}')"
   ]
  },
  {
   "cell_type": "markdown",
   "metadata": {},
   "source": [
    "### Use a manual grid search for best architecture using Validation data and EarlyStopping"
   ]
  },
  {
   "cell_type": "code",
   "execution_count": 9,
   "metadata": {},
   "outputs": [
    {
     "name": "stdout",
     "output_type": "stream",
     "text": [
      "WARNING:tensorflow:From /home/ec2-user/anaconda3/envs/tensorflow_p36/lib/python3.6/site-packages/keras/backend/tensorflow_backend.py:74: The name tf.get_default_graph is deprecated. Please use tf.compat.v1.get_default_graph instead.\n",
      "\n",
      "WARNING:tensorflow:From /home/ec2-user/anaconda3/envs/tensorflow_p36/lib/python3.6/site-packages/keras/backend/tensorflow_backend.py:517: The name tf.placeholder is deprecated. Please use tf.compat.v1.placeholder instead.\n",
      "\n",
      "WARNING:tensorflow:From /home/ec2-user/anaconda3/envs/tensorflow_p36/lib/python3.6/site-packages/keras/backend/tensorflow_backend.py:4115: The name tf.random_normal is deprecated. Please use tf.random.normal instead.\n",
      "\n",
      "WARNING:tensorflow:From /home/ec2-user/anaconda3/envs/tensorflow_p36/lib/python3.6/site-packages/keras/backend/tensorflow_backend.py:133: The name tf.placeholder_with_default is deprecated. Please use tf.compat.v1.placeholder_with_default instead.\n",
      "\n",
      "WARNING:tensorflow:From /home/ec2-user/anaconda3/envs/tensorflow_p36/lib/python3.6/site-packages/keras/backend/tensorflow_backend.py:3445: calling dropout (from tensorflow.python.ops.nn_ops) with keep_prob is deprecated and will be removed in a future version.\n",
      "Instructions for updating:\n",
      "Please use `rate` instead of `keep_prob`. Rate should be set to `rate = 1 - keep_prob`.\n",
      "WARNING:tensorflow:From /home/ec2-user/anaconda3/envs/tensorflow_p36/lib/python3.6/site-packages/keras/optimizers.py:790: The name tf.train.Optimizer is deprecated. Please use tf.compat.v1.train.Optimizer instead.\n",
      "\n",
      "WARNING:tensorflow:From /home/ec2-user/anaconda3/envs/tensorflow_p36/lib/python3.6/site-packages/keras/backend/tensorflow_backend.py:986: The name tf.assign_add is deprecated. Please use tf.compat.v1.assign_add instead.\n",
      "\n",
      "WARNING:tensorflow:From /home/ec2-user/anaconda3/envs/tensorflow_p36/lib/python3.6/site-packages/keras/backend/tensorflow_backend.py:973: The name tf.assign is deprecated. Please use tf.compat.v1.assign instead.\n",
      "\n",
      "WARNING:tensorflow:From /home/ec2-user/anaconda3/envs/tensorflow_p36/lib/python3.6/site-packages/keras/backend/tensorflow_backend.py:2741: The name tf.Session is deprecated. Please use tf.compat.v1.Session instead.\n",
      "\n",
      "WARNING:tensorflow:From /home/ec2-user/anaconda3/envs/tensorflow_p36/lib/python3.6/site-packages/keras/backend/tensorflow_backend.py:174: The name tf.get_default_session is deprecated. Please use tf.compat.v1.get_default_session instead.\n",
      "\n",
      "WARNING:tensorflow:From /home/ec2-user/anaconda3/envs/tensorflow_p36/lib/python3.6/site-packages/keras/backend/tensorflow_backend.py:184: The name tf.ConfigProto is deprecated. Please use tf.compat.v1.ConfigProto instead.\n",
      "\n",
      "WARNING:tensorflow:From /home/ec2-user/anaconda3/envs/tensorflow_p36/lib/python3.6/site-packages/keras/backend/tensorflow_backend.py:190: The name tf.global_variables is deprecated. Please use tf.compat.v1.global_variables instead.\n",
      "\n",
      "WARNING:tensorflow:From /home/ec2-user/anaconda3/envs/tensorflow_p36/lib/python3.6/site-packages/keras/backend/tensorflow_backend.py:199: The name tf.is_variable_initialized is deprecated. Please use tf.compat.v1.is_variable_initialized instead.\n",
      "\n",
      "WARNING:tensorflow:From /home/ec2-user/anaconda3/envs/tensorflow_p36/lib/python3.6/site-packages/keras/backend/tensorflow_backend.py:206: The name tf.variables_initializer is deprecated. Please use tf.compat.v1.variables_initializer instead.\n",
      "\n",
      "Scores for hidden layer sizes 64 and 32:\n",
      "training MSE:0.0843\n",
      "validationMSE:0.0895\n",
      "\n",
      "\n",
      "Scores for hidden layer sizes 128 and 64:\n",
      "training MSE:0.0640\n",
      "validationMSE:0.0710\n",
      "\n",
      "\n",
      "Scores for hidden layer sizes 256 and 128:\n",
      "training MSE:0.0387\n",
      "validationMSE:0.0470\n",
      "\n",
      "\n",
      "Scores for hidden layer sizes 512 and 256:\n",
      "training MSE:0.0331\n",
      "validationMSE:0.0464\n",
      "\n",
      "\n",
      "Scores for hidden layer sizes 1024 and 512:\n",
      "training MSE:0.0318\n",
      "validationMSE:0.0445\n",
      "\n",
      "\n",
      "Scores for hidden layer sizes 2048 and 1024:\n",
      "training MSE:0.0325\n",
      "validationMSE:0.0474\n",
      "\n",
      "\n"
     ]
    }
   ],
   "source": [
    "from keras.callbacks import EarlyStopping\n",
    "hidden_layer_sizes = [(64, 32), (128, 64), (256, 128), (512, 256), (1024, 512), (2048, 1024)]\n",
    "models = []\n",
    "scores = []\n",
    "callback = EarlyStopping(\n",
    "    monitor='val_loss',\n",
    "    patience=15, \n",
    "    restore_best_weights=True,\n",
    "    verbose=0)\n",
    "\n",
    "for i, (size_1, size_2) in enumerate(hidden_layer_sizes):\n",
    "    models.append(wide_keras_model(size_1, size_2))\n",
    "    models[i].fit(\n",
    "        train_X,\n",
    "        train_y,\n",
    "        epochs=200,\n",
    "        batch_size=16,\n",
    "        verbose=0,\n",
    "        validation_data=(val_X, val_y),\n",
    "        callbacks=[callback])\n",
    "    training_score = models[i].evaluate(train_X, train_y, verbose=0)\n",
    "    val_score = models[i].evaluate(val_X, val_y, verbose=0)\n",
    "    scores.append(val_score)\n",
    "    print(f'Scores for hidden layer sizes {size_1} and {size_2}:')\n",
    "    print(f'training MSE:{training_score:.4f}')\n",
    "    print(f'validationMSE:{val_score:.4f}')\n",
    "    print('\\n')"
   ]
  },
  {
   "cell_type": "markdown",
   "metadata": {},
   "source": [
    "## Evaluate best model on test data <a class=\"anchor\" id=\"model-evaluation\"></a>"
   ]
  },
  {
   "cell_type": "code",
   "execution_count": 10,
   "metadata": {},
   "outputs": [
    {
     "name": "stdout",
     "output_type": "stream",
     "text": [
      "_________________________________________________________________\n",
      "Layer (type)                 Output Shape              Param #   \n",
      "=================================================================\n",
      "hidden_1 (Dense)             (None, 1024)              7168      \n",
      "_________________________________________________________________\n",
      "dropout_9 (Dropout)          (None, 1024)              0         \n",
      "_________________________________________________________________\n",
      "hidden_2 (Dense)             (None, 512)               524800    \n",
      "_________________________________________________________________\n",
      "dropout_10 (Dropout)         (None, 512)               0         \n",
      "_________________________________________________________________\n",
      "dense_5 (Dense)              (None, 1)                 513       \n",
      "=================================================================\n",
      "Total params: 532,481\n",
      "Trainable params: 532,481\n",
      "Non-trainable params: 0\n",
      "_________________________________________________________________\n",
      "Best performing model is of sizes (1024, 512) for hidden layers\n",
      "Best model MSE on the test set: 0.0359\n"
     ]
    }
   ],
   "source": [
    "best_idx = np.argmin(scores)\n",
    "best_sizes = hidden_layer_sizes[best_idx]\n",
    "best_model = models[best_idx]\n",
    "best_model.summary()\n",
    "test_score = best_model.evaluate(test_X, test_y, verbose=0)\n",
    "print(f'Best performing model is of sizes {best_sizes} for hidden layers')\n",
    "print(f'Best model MSE on the test set: {test_score:.4f}')"
   ]
  },
  {
   "cell_type": "code",
   "execution_count": 11,
   "metadata": {
    "scrolled": true
   },
   "outputs": [
    {
     "data": {
      "image/png": "[encoded data removed]",
      "text/plain": [
       "<Figure size 1080x360 with 1 Axes>"
      ]
     },
     "metadata": {
      "needs_background": "light"
     },
     "output_type": "display_data"
    }
   ],
   "source": [
    "from matplotlib import pyplot as plt\n",
    "\n",
    "plt.figure(figsize=(15,5))\n",
    "plt.plot(best_model.history.history['loss'], label='train')\n",
    "plt.plot(best_model.history.history['val_loss'], label='validation')\n",
    "plt.legend()\n",
    "plt.show()"
   ]
  },
  {
   "cell_type": "markdown",
   "metadata": {},
   "source": [
    "### Sanity check using different library"
   ]
  },
  {
   "cell_type": "code",
   "execution_count": 12,
   "metadata": {},
   "outputs": [
    {
     "name": "stdout",
     "output_type": "stream",
     "text": [
      "TEST MAE: 0.1172\n",
      "Test MSE: 0.0359, \n",
      "\n",
      "Top highest absolute value errors on test data: \n",
      " ['1.54: (0.550, -0.99)', '1.039: (-0.308, 0.731)', '1.037: (-0.306, 0.731)', '1.012: (0.031, -0.982)', '0.922: (-0.422, 0.5)', '0.91: (-0.893, 0.017)', '0.887: (0.611, -0.276)', '0.817: (0.018, -0.799)', '0.765: (-0.660, 0.105)', '0.688: (0.078, 0.766)'] \n",
      "\n",
      "Top lowest absolute value errors on test data: \n",
      " ['0.001: (-0.999, -1.0)', '0.001: (0.908, 0.906)', '0.001: (0.424, 0.423)', '0.001: (-0.514, -0.515)', '0.001: (-0.708, -0.707)', '0.001: (-0.732, -0.731)', '0.001: (0.719, 0.719)', '0.001: (-0.798, -0.799)', '0.001: (0.906, 0.906)', '0.0: (0.899, 0.899)']\n"
     ]
    }
   ],
   "source": [
    "from sklearn.metrics import mean_squared_error\n",
    "from scipy.stats import gaussian_kde\n",
    "\n",
    "test_pred = best_model.predict(test_X)\n",
    "absolute_error = np.squeeze(np.absolute(test_pred - test_y))\n",
    "print(f'TEST MAE: {np.mean(absolute_error):.4f}')\n",
    "mse = mean_squared_error(test_y, test_pred)\n",
    "print(f\"Test MSE: {round(mse,4)}, \\n\")\n",
    "\n",
    "abs_error = [(-e, i) for i, e in enumerate(absolute_error)]\n",
    "abs_error.sort()\n",
    "highest_errors = [\n",
    "    f'{round(-e,3)}: ({test_pred[i][0]:.3f}, {round(test_y[i][0], 3)})' for e, i in abs_error]\n",
    "print(f'Top highest absolute value errors on test data: \\n {highest_errors[:10]} \\n')\n",
    "print(f'Top lowest absolute value errors on test data: \\n {highest_errors[-10:]}')\n"
   ]
  },
  {
   "cell_type": "code",
   "execution_count": 13,
   "metadata": {},
   "outputs": [
    {
     "data": {
      "image/png": "[encoded data removed]",
      "text/plain": [
       "<Figure size 1080x360 with 1 Axes>"
      ]
     },
     "metadata": {
      "needs_background": "light"
     },
     "output_type": "display_data"
    }
   ],
   "source": [
    "density = gaussian_kde(absolute_error)\n",
    "xs = np.linspace(0,1,50)\n",
    "plt.figure(figsize=(15,5))\n",
    "plt.plot(xs,density(xs))\n",
    "plt.locator_params(axis='y', nbins=20)\n",
    "plt.locator_params(axis='x', nbins=30)\n",
    "plt.title('Density plot of absolute error')\n",
    "plt.show()"
   ]
  },
  {
   "cell_type": "code",
   "execution_count": 14,
   "metadata": {},
   "outputs": [
    {
     "name": "stdout",
     "output_type": "stream",
     "text": [
      "[[3.57303, 4.66792, -0.7313537016191705, 0.6819983600624986, -0.8910065241883678, 0.4539904997395469], [6.3666599999999995, 10.05333, 0.5000000000000001, -0.8660254037844386, 0.9702957262759964, 0.2419218955996677]]\n"
     ]
    }
   ],
   "source": [
    "print(test_X.tolist()[:2])"
   ]
  },
  {
   "cell_type": "code",
   "execution_count": 15,
   "metadata": {},
   "outputs": [
    {
     "ename": "AssertionError",
     "evalue": "",
     "output_type": "error",
     "traceback": [
      "\u001b[0;31m---------------------------------------------------------------------------\u001b[0m",
      "\u001b[0;31mAssertionError\u001b[0m                            Traceback (most recent call last)",
      "\u001b[0;32m<ipython-input-15-4c7c53d85d33>\u001b[0m in \u001b[0;36m<module>\u001b[0;34m\u001b[0m\n\u001b[1;32m      1\u001b[0m \u001b[0;31m# stop here when running all cells to avoid creating endpoints unnecessarily\u001b[0m\u001b[0;34m\u001b[0m\u001b[0;34m\u001b[0m\u001b[0;34m\u001b[0m\u001b[0m\n\u001b[0;32m----> 2\u001b[0;31m \u001b[0;32massert\u001b[0m \u001b[0;32mFalse\u001b[0m\u001b[0;34m\u001b[0m\u001b[0;34m\u001b[0m\u001b[0m\n\u001b[0m",
      "\u001b[0;31mAssertionError\u001b[0m: "
     ]
    }
   ],
   "source": [
    "# stop here when running all cells to avoid creating endpoints unnecessarily\n",
    "assert False"
   ]
  },
  {
   "cell_type": "markdown",
   "metadata": {},
   "source": [
    "## Save best model and create an endpoint from it <a class=\"anchor\" id=\"endpoint\"></a>"
   ]
  },
  {
   "cell_type": "code",
   "execution_count": null,
   "metadata": {},
   "outputs": [],
   "source": [
    "best_model.save_weights('keras_cosine_model/best_model_weights.h5')\n",
    "model_json = best_model.to_json()\n",
    "with open(\"keras_cosine_model/best_model.json\", \"w\") as json_file:\n",
    "    json_file.write(model_json)"
   ]
  },
  {
   "cell_type": "code",
   "execution_count": null,
   "metadata": {},
   "outputs": [],
   "source": [
    "import keras\n",
    "from keras.models import model_from_json"
   ]
  },
  {
   "cell_type": "code",
   "execution_count": null,
   "metadata": {},
   "outputs": [],
   "source": [
    "json_file = open('keras_cosine_model/best_model.json', 'r')\n",
    "loaded_model_json = json_file.read()\n",
    "loaded_model = model_from_json(loaded_model_json)\n",
    "loaded_model.load_weights('keras_cosine_model/best_model_weights.h5')\n",
    "json_file.close()"
   ]
  },
  {
   "cell_type": "code",
   "execution_count": null,
   "metadata": {},
   "outputs": [],
   "source": [
    "!rm -rf export"
   ]
  },
  {
   "cell_type": "code",
   "execution_count": null,
   "metadata": {},
   "outputs": [],
   "source": [
    "from tensorflow.python.saved_model import builder\n",
    "from tensorflow.python.saved_model.signature_def_utils import predict_signature_def\n",
    "from tensorflow.python.saved_model import tag_constants\n",
    "\n",
    "version_number = '1'\n",
    "export_dir = 'export/Servo/' + version_number\n",
    "builder = builder.SavedModelBuilder(export_dir)\n",
    "signature = predict_signature_def(\n",
    "    inputs={\"inputs\": loaded_model.input}, outputs={\"score\": loaded_model.output})\n",
    "\n",
    "from keras import backend as K\n",
    "with K.get_session() as sess:\n",
    "    builder.add_meta_graph_and_variables(\n",
    "        sess=sess, tags=[tag_constants.SERVING], signature_def_map={\"serving_default\": signature})\n",
    "    builder.save()"
   ]
  },
  {
   "cell_type": "code",
   "execution_count": null,
   "metadata": {},
   "outputs": [],
   "source": [
    "import tarfile\n",
    "\n",
    "with tarfile.open('keras-cosine-model.tar.gz', mode='w:gz') as archive:\n",
    "    archive.add('export', recursive=True)\n",
    "\n",
    "sagemaker_session = sagemaker.Session()\n",
    "inputs = sagemaker_session.upload_data(path='keras-cosine-model.tar.gz', bucket=BUCKET, key_prefix='keras_cosine_model')"
   ]
  },
  {
   "cell_type": "code",
   "execution_count": null,
   "metadata": {},
   "outputs": [],
   "source": [
    "!touch train.py\n",
    "\n",
    "from sagemaker.tensorflow.model import TensorFlowModel\n",
    "sagemaker_model = TensorFlowModel(model_data = 's3://' + BUCKET + '/keras_cosine_model/keras-cosine-model.tar.gz',\n",
    "                                  role = ROLE,\n",
    "                                  framework_version = '1.12',\n",
    "                                  entry_point = 'train.py')"
   ]
  },
  {
   "cell_type": "code",
   "execution_count": null,
   "metadata": {},
   "outputs": [],
   "source": [
    "%%time\n",
    "predictor = sagemaker_model.deploy(\n",
    "    endpoint_name = ENDPOINT_NAME,\n",
    "    initial_instance_count=1,\n",
    "    instance_type=INSTANCE_TYPE)"
   ]
  },
  {
   "cell_type": "markdown",
   "metadata": {},
   "source": [
    "### Call the endpoint"
   ]
  },
  {
   "cell_type": "code",
   "execution_count": null,
   "metadata": {
    "scrolled": true
   },
   "outputs": [],
   "source": [
    "import json\n",
    "\n",
    "runtime = boto3.client('runtime.sagemaker')\n",
    "payload = json.dumps(test_X.tolist())\n",
    "response = runtime.invoke_endpoint(EndpointName=ENDPOINT_NAME,\n",
    "                                   Body=payload)\n",
    "result = json.loads(response['Body'].read().decode())\n",
    "test_pred = np.array([r for r in result['outputs']['score']['floatVal']])"
   ]
  },
  {
   "cell_type": "markdown",
   "metadata": {},
   "source": [
    "## Sanity check evaluating the endpoint on test data again"
   ]
  },
  {
   "cell_type": "code",
   "execution_count": null,
   "metadata": {},
   "outputs": [],
   "source": [
    "absolute_error = np.absolute(test_pred - np.squeeze(test_y))\n",
    "print(f'TEST MAE: {np.mean(absolute_error):.4f}')\n",
    "mse = mean_squared_error(test_y, test_pred)\n",
    "print(f\"Test MSE: {round(mse,4)}, \\n\")"
   ]
  },
  {
   "cell_type": "code",
   "execution_count": null,
   "metadata": {},
   "outputs": [],
   "source": []
  }
 ],
 "metadata": {
  "kernelspec": {
   "display_name": "conda_tensorflow_p36",
   "language": "python",
   "name": "conda_tensorflow_p36"
  },
  "language_info": {
   "codemirror_mode": {
    "name": "ipython",
    "version": 3
   },
   "file_extension": ".py",
   "mimetype": "text/x-python",
   "name": "python",
   "nbconvert_exporter": "python",
   "pygments_lexer": "ipython3",
   "version": "3.6.10"
  }
 },
 "nbformat": 4,
 "nbformat_minor": 4
}
