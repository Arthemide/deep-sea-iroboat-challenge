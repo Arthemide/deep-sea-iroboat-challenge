{
 "cells": [
  {
   "cell_type": "markdown",
   "metadata": {},
   "source": [
    "## Contents:\n",
    "* [General overview](#general-overview)\n",
    "* [Imports and config](#import-config)\n",
    "* [Data inpsection and preparation](#data-prep)\n",
    "* [Model training](#model-creation)\n",
    "* [Model evaluation](#model-evaluation)\n",
    "* [Create endpoint from model](#endpoint)"
   ]
  },
  {
   "cell_type": "markdown",
   "metadata": {},
   "source": [
    "## General overview <a class=\"anchor\" id=\"general-overview\"></a>"
   ]
  },
  {
   "cell_type": "markdown",
   "metadata": {},
   "source": [
    "Our goal is to create an ML model that can predict with high accuracy the angle at which a boat should be heading, given metadata features such as boat speed, wind speed, attack angle and target angle. Rather than performing a regression to predict the angle directly, we will instead create two models for predicting the cosine and sine, respectively. This notebook is concerned with predicting the cosine of boat's angle.\n",
    "\n",
    "As a counter-candidate model for linear regression, we will create a (non-linear) regression model using Keras. In addition to this, we will use cosine and sine of the angles involved as features, rather than the angles themselves.\n",
    "\n",
    "**Important findings** after running the experiments below:\n",
    "1. Minimizing MSE is a better strategy than minimizing MAE;\n",
    "2. Non-linear regression outperforms linear regression;\n",
    "3. Wider models outperform deeper models. This is not immediately obvious, but seems to be the case in regression tasks involving other well-known datasets, see for example [here](https://machinelearningmastery.com/regression-tutorial-keras-deep-learning-library-python/)\n",
    "4. The best model is either 2-hidden layers of sizes (256, 128) OR 2-hidden layers of sizes (512, 256)."
   ]
  },
  {
   "cell_type": "markdown",
   "metadata": {},
   "source": [
    "## Basic imports <a class=\"anchor\" id=\"import-config\"></a>"
   ]
  },
  {
   "cell_type": "code",
   "execution_count": 1,
   "metadata": {},
   "outputs": [],
   "source": [
    "import pandas as pd\n",
    "import numpy as np\n",
    "import io\n",
    "import time\n",
    "import json\n",
    "import sagemaker.amazon.common as smac\n",
    "import os\n",
    "import boto3\n",
    "import re\n",
    "import sagemaker\n",
    "from os.path import join\n",
    "from sklearn.model_selection import train_test_split"
   ]
  },
  {
   "cell_type": "markdown",
   "metadata": {},
   "source": [
    "## Setup the config"
   ]
  },
  {
   "cell_type": "code",
   "execution_count": 2,
   "metadata": {},
   "outputs": [],
   "source": [
    "ROLE = sagemaker.get_execution_role()\n",
    "REGION = boto3.Session().region_name\n",
    "\n",
    "# S3 bucket for saving code and model artifacts.\n",
    "# Feel free to specify a different bucket and prefix\n",
    "\n",
    "BUCKET = 'virtual-regatta-ml'\n",
    "PREFIX = 'non_linear_keras_sine' # place to upload training files within the bucket\n",
    "TEST_NAME = 'default'\n",
    "ENDPOINT_NAME = 'VR-keras-sin-endpoint-' + time.strftime(\"%Y-%m-%d-%H-%M\", time.gmtime())\n",
    "INSTANCE_TYPE = 'ml.t2.medium'\n",
    "                                                            "
   ]
  },
  {
   "cell_type": "markdown",
   "metadata": {},
   "source": [
    "## Load the data <a class=\"anchor\" id=\"data-prep\"></a>"
   ]
  },
  {
   "cell_type": "code",
   "execution_count": 3,
   "metadata": {},
   "outputs": [
    {
     "name": "stdout",
     "output_type": "stream",
     "text": [
      "   boat_speed  cos_attack_angle  sin_attack_angle  wind_speed  \\\n",
      "0     7.73236         -0.558392         -0.829577     9.43467   \n",
      "1     7.73236         -0.558392         -0.829577     9.43467   \n",
      "2     7.78952         -0.572786         -0.819705     9.59005   \n",
      "3     7.81913         -0.572786         -0.819705     9.66396   \n",
      "4     7.81658         -0.572786         -0.819705     9.65759   \n",
      "\n",
      "   cos_target_angle  sin_target_angle  sin_boat_angle  \n",
      "0         -0.554636         -0.832093       -0.867056  \n",
      "1         -0.564295         -0.825573       -0.867056  \n",
      "2         -0.577277         -0.816548       -0.858796  \n",
      "3         -0.592192         -0.805797       -0.853061  \n",
      "4         -0.607512         -0.794311       -0.850423  \n"
     ]
    }
   ],
   "source": [
    "data = pd.read_csv('../all-in-one.csv')\n",
    "# This column will be predicted using a classifier\n",
    "data['cos_attack_angle'] = data['angle_of_attack'].apply(lambda x: np.cos(np.deg2rad(x)))\n",
    "data['sin_attack_angle'] = data['angle_of_attack'].apply(lambda x: np.sin(np.deg2rad(x)))\n",
    "data = data.drop(columns=['cos_boat_angle','angle_of_attack'])\n",
    "\n",
    "# The column to predict has to be in last position\n",
    "df_reordered = data[['boat_speed','cos_attack_angle', 'sin_attack_angle', 'wind_speed','cos_target_angle', 'sin_target_angle', 'sin_boat_angle']]\n",
    "\n",
    "print(df_reordered.head())\n"
   ]
  },
  {
   "cell_type": "code",
   "execution_count": 4,
   "metadata": {},
   "outputs": [
    {
     "name": "stdout",
     "output_type": "stream",
     "text": [
      "Total duplicate rows based on ['boat_speed', 'cos_attack_angle', 'sin_attack_angle', 'wind_speed', 'sin_boat_angle']: 379\n"
     ]
    },
    {
     "data": {
      "text/html": [
       "<div>\n",
       "<style scoped>\n",
       "    .dataframe tbody tr th:only-of-type {\n",
       "        vertical-align: middle;\n",
       "    }\n",
       "\n",
       "    .dataframe tbody tr th {\n",
       "        vertical-align: top;\n",
       "    }\n",
       "\n",
       "    .dataframe thead th {\n",
       "        text-align: right;\n",
       "    }\n",
       "</style>\n",
       "<table border=\"1\" class=\"dataframe\">\n",
       "  <thead>\n",
       "    <tr style=\"text-align: right;\">\n",
       "      <th></th>\n",
       "      <th>boat_speed</th>\n",
       "      <th>cos_attack_angle</th>\n",
       "      <th>sin_attack_angle</th>\n",
       "      <th>wind_speed</th>\n",
       "      <th>cos_target_angle</th>\n",
       "      <th>sin_target_angle</th>\n",
       "      <th>sin_boat_angle</th>\n",
       "    </tr>\n",
       "  </thead>\n",
       "  <tbody>\n",
       "    <tr>\n",
       "      <th>0</th>\n",
       "      <td>7.73236</td>\n",
       "      <td>-0.558392</td>\n",
       "      <td>-0.829577</td>\n",
       "      <td>9.43467</td>\n",
       "      <td>-0.554636</td>\n",
       "      <td>-0.832093</td>\n",
       "      <td>-0.867056</td>\n",
       "    </tr>\n",
       "    <tr>\n",
       "      <th>1</th>\n",
       "      <td>7.73236</td>\n",
       "      <td>-0.558392</td>\n",
       "      <td>-0.829577</td>\n",
       "      <td>9.43467</td>\n",
       "      <td>-0.564295</td>\n",
       "      <td>-0.825573</td>\n",
       "      <td>-0.867056</td>\n",
       "    </tr>\n",
       "    <tr>\n",
       "      <th>53</th>\n",
       "      <td>7.67317</td>\n",
       "      <td>-0.481758</td>\n",
       "      <td>-0.876304</td>\n",
       "      <td>9.45885</td>\n",
       "      <td>-0.599954</td>\n",
       "      <td>-0.800035</td>\n",
       "      <td>-0.824675</td>\n",
       "    </tr>\n",
       "    <tr>\n",
       "      <th>54</th>\n",
       "      <td>7.67317</td>\n",
       "      <td>-0.481758</td>\n",
       "      <td>-0.876304</td>\n",
       "      <td>9.45885</td>\n",
       "      <td>-0.611783</td>\n",
       "      <td>-0.791026</td>\n",
       "      <td>-0.824675</td>\n",
       "    </tr>\n",
       "    <tr>\n",
       "      <th>159</th>\n",
       "      <td>4.99455</td>\n",
       "      <td>0.677019</td>\n",
       "      <td>-0.735966</td>\n",
       "      <td>3.36962</td>\n",
       "      <td>0.246974</td>\n",
       "      <td>-0.969022</td>\n",
       "      <td>-0.956533</td>\n",
       "    </tr>\n",
       "    <tr>\n",
       "      <th>160</th>\n",
       "      <td>4.99455</td>\n",
       "      <td>0.677019</td>\n",
       "      <td>-0.735966</td>\n",
       "      <td>3.36962</td>\n",
       "      <td>0.248787</td>\n",
       "      <td>-0.968558</td>\n",
       "      <td>-0.956533</td>\n",
       "    </tr>\n",
       "    <tr>\n",
       "      <th>182</th>\n",
       "      <td>6.71103</td>\n",
       "      <td>-0.094576</td>\n",
       "      <td>-0.995518</td>\n",
       "      <td>3.61274</td>\n",
       "      <td>-0.201650</td>\n",
       "      <td>-0.979458</td>\n",
       "      <td>-0.954190</td>\n",
       "    </tr>\n",
       "    <tr>\n",
       "      <th>183</th>\n",
       "      <td>6.71103</td>\n",
       "      <td>-0.094576</td>\n",
       "      <td>-0.995518</td>\n",
       "      <td>3.61274</td>\n",
       "      <td>-0.199921</td>\n",
       "      <td>-0.979812</td>\n",
       "      <td>-0.954190</td>\n",
       "    </tr>\n",
       "    <tr>\n",
       "      <th>194</th>\n",
       "      <td>5.73604</td>\n",
       "      <td>-0.765839</td>\n",
       "      <td>-0.643032</td>\n",
       "      <td>4.55132</td>\n",
       "      <td>-0.500285</td>\n",
       "      <td>-0.865861</td>\n",
       "      <td>-0.953384</td>\n",
       "    </tr>\n",
       "    <tr>\n",
       "      <th>195</th>\n",
       "      <td>5.73604</td>\n",
       "      <td>-0.765839</td>\n",
       "      <td>-0.643032</td>\n",
       "      <td>4.55132</td>\n",
       "      <td>-0.502534</td>\n",
       "      <td>-0.864557</td>\n",
       "      <td>-0.953384</td>\n",
       "    </tr>\n",
       "  </tbody>\n",
       "</table>\n",
       "</div>"
      ],
      "text/plain": [
       "     boat_speed  cos_attack_angle  sin_attack_angle  wind_speed  \\\n",
       "0       7.73236         -0.558392         -0.829577     9.43467   \n",
       "1       7.73236         -0.558392         -0.829577     9.43467   \n",
       "53      7.67317         -0.481758         -0.876304     9.45885   \n",
       "54      7.67317         -0.481758         -0.876304     9.45885   \n",
       "159     4.99455          0.677019         -0.735966     3.36962   \n",
       "160     4.99455          0.677019         -0.735966     3.36962   \n",
       "182     6.71103         -0.094576         -0.995518     3.61274   \n",
       "183     6.71103         -0.094576         -0.995518     3.61274   \n",
       "194     5.73604         -0.765839         -0.643032     4.55132   \n",
       "195     5.73604         -0.765839         -0.643032     4.55132   \n",
       "\n",
       "     cos_target_angle  sin_target_angle  sin_boat_angle  \n",
       "0           -0.554636         -0.832093       -0.867056  \n",
       "1           -0.564295         -0.825573       -0.867056  \n",
       "53          -0.599954         -0.800035       -0.824675  \n",
       "54          -0.611783         -0.791026       -0.824675  \n",
       "159          0.246974         -0.969022       -0.956533  \n",
       "160          0.248787         -0.968558       -0.956533  \n",
       "182         -0.201650         -0.979458       -0.954190  \n",
       "183         -0.199921         -0.979812       -0.954190  \n",
       "194         -0.500285         -0.865861       -0.953384  \n",
       "195         -0.502534         -0.864557       -0.953384  "
      ]
     },
     "execution_count": 4,
     "metadata": {},
     "output_type": "execute_result"
    }
   ],
   "source": [
    "dup_columns_check = ['boat_speed', 'cos_attack_angle', 'sin_attack_angle', 'wind_speed', 'sin_boat_angle']\n",
    "dup_boat_angle = df_reordered[df_reordered.duplicated(dup_columns_check, keep=False)]\n",
    "print(f'Total duplicate rows based on {dup_columns_check}: {len(dup_boat_angle)}')\n",
    "dup_boat_angle.head(10)"
   ]
  },
  {
   "cell_type": "code",
   "execution_count": 5,
   "metadata": {},
   "outputs": [
    {
     "data": {
      "text/html": [
       "<style  type=\"text/css\" >\n",
       "    #T_0c18e9e0_0f83_11eb_bf3c_491b0a769e75row0_col0 {\n",
       "            background-color:  #023858;\n",
       "            color:  #f1f1f1;\n",
       "        }    #T_0c18e9e0_0f83_11eb_bf3c_491b0a769e75row0_col1 {\n",
       "            background-color:  #f7f0f7;\n",
       "            color:  #000000;\n",
       "        }    #T_0c18e9e0_0f83_11eb_bf3c_491b0a769e75row0_col2 {\n",
       "            background-color:  #a8bedc;\n",
       "            color:  #000000;\n",
       "        }    #T_0c18e9e0_0f83_11eb_bf3c_491b0a769e75row0_col3 {\n",
       "            background-color:  #056dab;\n",
       "            color:  #f1f1f1;\n",
       "        }    #T_0c18e9e0_0f83_11eb_bf3c_491b0a769e75row0_col4 {\n",
       "            background-color:  #fff7fb;\n",
       "            color:  #000000;\n",
       "        }    #T_0c18e9e0_0f83_11eb_bf3c_491b0a769e75row0_col5 {\n",
       "            background-color:  #c4cbe3;\n",
       "            color:  #000000;\n",
       "        }    #T_0c18e9e0_0f83_11eb_bf3c_491b0a769e75row0_col6 {\n",
       "            background-color:  #c8cde4;\n",
       "            color:  #000000;\n",
       "        }    #T_0c18e9e0_0f83_11eb_bf3c_491b0a769e75row1_col0 {\n",
       "            background-color:  #fff7fb;\n",
       "            color:  #000000;\n",
       "        }    #T_0c18e9e0_0f83_11eb_bf3c_491b0a769e75row1_col1 {\n",
       "            background-color:  #023858;\n",
       "            color:  #f1f1f1;\n",
       "        }    #T_0c18e9e0_0f83_11eb_bf3c_491b0a769e75row1_col2 {\n",
       "            background-color:  #fff7fb;\n",
       "            color:  #000000;\n",
       "        }    #T_0c18e9e0_0f83_11eb_bf3c_491b0a769e75row1_col3 {\n",
       "            background-color:  #fff7fb;\n",
       "            color:  #000000;\n",
       "        }    #T_0c18e9e0_0f83_11eb_bf3c_491b0a769e75row1_col4 {\n",
       "            background-color:  #1077b4;\n",
       "            color:  #f1f1f1;\n",
       "        }    #T_0c18e9e0_0f83_11eb_bf3c_491b0a769e75row1_col5 {\n",
       "            background-color:  #fff7fb;\n",
       "            color:  #000000;\n",
       "        }    #T_0c18e9e0_0f83_11eb_bf3c_491b0a769e75row1_col6 {\n",
       "            background-color:  #fff7fb;\n",
       "            color:  #000000;\n",
       "        }    #T_0c18e9e0_0f83_11eb_bf3c_491b0a769e75row2_col0 {\n",
       "            background-color:  #83afd3;\n",
       "            color:  #000000;\n",
       "        }    #T_0c18e9e0_0f83_11eb_bf3c_491b0a769e75row2_col1 {\n",
       "            background-color:  #dcdaeb;\n",
       "            color:  #000000;\n",
       "        }    #T_0c18e9e0_0f83_11eb_bf3c_491b0a769e75row2_col2 {\n",
       "            background-color:  #023858;\n",
       "            color:  #f1f1f1;\n",
       "        }    #T_0c18e9e0_0f83_11eb_bf3c_491b0a769e75row2_col3 {\n",
       "            background-color:  #6fa7ce;\n",
       "            color:  #000000;\n",
       "        }    #T_0c18e9e0_0f83_11eb_bf3c_491b0a769e75row2_col4 {\n",
       "            background-color:  #e1dfed;\n",
       "            color:  #000000;\n",
       "        }    #T_0c18e9e0_0f83_11eb_bf3c_491b0a769e75row2_col5 {\n",
       "            background-color:  #abbfdc;\n",
       "            color:  #000000;\n",
       "        }    #T_0c18e9e0_0f83_11eb_bf3c_491b0a769e75row2_col6 {\n",
       "            background-color:  #afc1dd;\n",
       "            color:  #000000;\n",
       "        }    #T_0c18e9e0_0f83_11eb_bf3c_491b0a769e75row3_col0 {\n",
       "            background-color:  #0569a5;\n",
       "            color:  #f1f1f1;\n",
       "        }    #T_0c18e9e0_0f83_11eb_bf3c_491b0a769e75row3_col1 {\n",
       "            background-color:  #eae6f1;\n",
       "            color:  #000000;\n",
       "        }    #T_0c18e9e0_0f83_11eb_bf3c_491b0a769e75row3_col2 {\n",
       "            background-color:  #80aed2;\n",
       "            color:  #000000;\n",
       "        }    #T_0c18e9e0_0f83_11eb_bf3c_491b0a769e75row3_col3 {\n",
       "            background-color:  #023858;\n",
       "            color:  #f1f1f1;\n",
       "        }    #T_0c18e9e0_0f83_11eb_bf3c_491b0a769e75row3_col4 {\n",
       "            background-color:  #f2ecf5;\n",
       "            color:  #000000;\n",
       "        }    #T_0c18e9e0_0f83_11eb_bf3c_491b0a769e75row3_col5 {\n",
       "            background-color:  #2c89bd;\n",
       "            color:  #000000;\n",
       "        }    #T_0c18e9e0_0f83_11eb_bf3c_491b0a769e75row3_col6 {\n",
       "            background-color:  #3790c0;\n",
       "            color:  #000000;\n",
       "        }    #T_0c18e9e0_0f83_11eb_bf3c_491b0a769e75row4_col0 {\n",
       "            background-color:  #f9f2f8;\n",
       "            color:  #000000;\n",
       "        }    #T_0c18e9e0_0f83_11eb_bf3c_491b0a769e75row4_col1 {\n",
       "            background-color:  #0771b1;\n",
       "            color:  #f1f1f1;\n",
       "        }    #T_0c18e9e0_0f83_11eb_bf3c_491b0a769e75row4_col2 {\n",
       "            background-color:  #f5eff6;\n",
       "            color:  #000000;\n",
       "        }    #T_0c18e9e0_0f83_11eb_bf3c_491b0a769e75row4_col3 {\n",
       "            background-color:  #f9f2f8;\n",
       "            color:  #000000;\n",
       "        }    #T_0c18e9e0_0f83_11eb_bf3c_491b0a769e75row4_col4 {\n",
       "            background-color:  #023858;\n",
       "            color:  #f1f1f1;\n",
       "        }    #T_0c18e9e0_0f83_11eb_bf3c_491b0a769e75row4_col5 {\n",
       "            background-color:  #e3e0ee;\n",
       "            color:  #000000;\n",
       "        }    #T_0c18e9e0_0f83_11eb_bf3c_491b0a769e75row4_col6 {\n",
       "            background-color:  #e2dfee;\n",
       "            color:  #000000;\n",
       "        }    #T_0c18e9e0_0f83_11eb_bf3c_491b0a769e75row5_col0 {\n",
       "            background-color:  #cdd0e5;\n",
       "            color:  #000000;\n",
       "        }    #T_0c18e9e0_0f83_11eb_bf3c_491b0a769e75row5_col1 {\n",
       "            background-color:  #fdf5fa;\n",
       "            color:  #000000;\n",
       "        }    #T_0c18e9e0_0f83_11eb_bf3c_491b0a769e75row5_col2 {\n",
       "            background-color:  #d8d7e9;\n",
       "            color:  #000000;\n",
       "        }    #T_0c18e9e0_0f83_11eb_bf3c_491b0a769e75row5_col3 {\n",
       "            background-color:  #4094c3;\n",
       "            color:  #000000;\n",
       "        }    #T_0c18e9e0_0f83_11eb_bf3c_491b0a769e75row5_col4 {\n",
       "            background-color:  #f0eaf4;\n",
       "            color:  #000000;\n",
       "        }    #T_0c18e9e0_0f83_11eb_bf3c_491b0a769e75row5_col5 {\n",
       "            background-color:  #023858;\n",
       "            color:  #f1f1f1;\n",
       "        }    #T_0c18e9e0_0f83_11eb_bf3c_491b0a769e75row5_col6 {\n",
       "            background-color:  #023b5d;\n",
       "            color:  #f1f1f1;\n",
       "        }    #T_0c18e9e0_0f83_11eb_bf3c_491b0a769e75row6_col0 {\n",
       "            background-color:  #d3d4e7;\n",
       "            color:  #000000;\n",
       "        }    #T_0c18e9e0_0f83_11eb_bf3c_491b0a769e75row6_col1 {\n",
       "            background-color:  #fff7fb;\n",
       "            color:  #000000;\n",
       "        }    #T_0c18e9e0_0f83_11eb_bf3c_491b0a769e75row6_col2 {\n",
       "            background-color:  #dedcec;\n",
       "            color:  #000000;\n",
       "        }    #T_0c18e9e0_0f83_11eb_bf3c_491b0a769e75row6_col3 {\n",
       "            background-color:  #569dc8;\n",
       "            color:  #000000;\n",
       "        }    #T_0c18e9e0_0f83_11eb_bf3c_491b0a769e75row6_col4 {\n",
       "            background-color:  #f2ecf5;\n",
       "            color:  #000000;\n",
       "        }    #T_0c18e9e0_0f83_11eb_bf3c_491b0a769e75row6_col5 {\n",
       "            background-color:  #023b5d;\n",
       "            color:  #f1f1f1;\n",
       "        }    #T_0c18e9e0_0f83_11eb_bf3c_491b0a769e75row6_col6 {\n",
       "            background-color:  #023858;\n",
       "            color:  #f1f1f1;\n",
       "        }</style><table id=\"T_0c18e9e0_0f83_11eb_bf3c_491b0a769e75\" ><thead>    <tr>        <th class=\"blank level0\" ></th>        <th class=\"col_heading level0 col0\" >boat_speed</th>        <th class=\"col_heading level0 col1\" >cos_attack_angle</th>        <th class=\"col_heading level0 col2\" >sin_attack_angle</th>        <th class=\"col_heading level0 col3\" >wind_speed</th>        <th class=\"col_heading level0 col4\" >cos_target_angle</th>        <th class=\"col_heading level0 col5\" >sin_target_angle</th>        <th class=\"col_heading level0 col6\" >sin_boat_angle</th>    </tr></thead><tbody>\n",
       "                <tr>\n",
       "                        <th id=\"T_0c18e9e0_0f83_11eb_bf3c_491b0a769e75level0_row0\" class=\"row_heading level0 row0\" >boat_speed</th>\n",
       "                        <td id=\"T_0c18e9e0_0f83_11eb_bf3c_491b0a769e75row0_col0\" class=\"data row0 col0\" >1.000000</td>\n",
       "                        <td id=\"T_0c18e9e0_0f83_11eb_bf3c_491b0a769e75row0_col1\" class=\"data row0 col1\" >-0.169869</td>\n",
       "                        <td id=\"T_0c18e9e0_0f83_11eb_bf3c_491b0a769e75row0_col2\" class=\"data row0 col2\" >0.372060</td>\n",
       "                        <td id=\"T_0c18e9e0_0f83_11eb_bf3c_491b0a769e75row0_col3\" class=\"data row0 col3\" >0.749770</td>\n",
       "                        <td id=\"T_0c18e9e0_0f83_11eb_bf3c_491b0a769e75row0_col4\" class=\"data row0 col4\" >-0.124149</td>\n",
       "                        <td id=\"T_0c18e9e0_0f83_11eb_bf3c_491b0a769e75row0_col5\" class=\"data row0 col5\" >0.132518</td>\n",
       "                        <td id=\"T_0c18e9e0_0f83_11eb_bf3c_491b0a769e75row0_col6\" class=\"data row0 col6\" >0.104913</td>\n",
       "            </tr>\n",
       "            <tr>\n",
       "                        <th id=\"T_0c18e9e0_0f83_11eb_bf3c_491b0a769e75level0_row1\" class=\"row_heading level0 row1\" >cos_attack_angle</th>\n",
       "                        <td id=\"T_0c18e9e0_0f83_11eb_bf3c_491b0a769e75row1_col0\" class=\"data row1 col0\" >-0.169869</td>\n",
       "                        <td id=\"T_0c18e9e0_0f83_11eb_bf3c_491b0a769e75row1_col1\" class=\"data row1 col1\" >1.000000</td>\n",
       "                        <td id=\"T_0c18e9e0_0f83_11eb_bf3c_491b0a769e75row1_col2\" class=\"data row1 col2\" >0.006623</td>\n",
       "                        <td id=\"T_0c18e9e0_0f83_11eb_bf3c_491b0a769e75row1_col3\" class=\"data row1 col3\" >-0.068656</td>\n",
       "                        <td id=\"T_0c18e9e0_0f83_11eb_bf3c_491b0a769e75row1_col4\" class=\"data row1 col4\" >0.684405</td>\n",
       "                        <td id=\"T_0c18e9e0_0f83_11eb_bf3c_491b0a769e75row1_col5\" class=\"data row1 col5\" >-0.215598</td>\n",
       "                        <td id=\"T_0c18e9e0_0f83_11eb_bf3c_491b0a769e75row1_col6\" class=\"data row1 col6\" >-0.236987</td>\n",
       "            </tr>\n",
       "            <tr>\n",
       "                        <th id=\"T_0c18e9e0_0f83_11eb_bf3c_491b0a769e75level0_row2\" class=\"row_heading level0 row2\" >sin_attack_angle</th>\n",
       "                        <td id=\"T_0c18e9e0_0f83_11eb_bf3c_491b0a769e75row2_col0\" class=\"data row2 col0\" >0.372060</td>\n",
       "                        <td id=\"T_0c18e9e0_0f83_11eb_bf3c_491b0a769e75row2_col1\" class=\"data row2 col1\" >0.006623</td>\n",
       "                        <td id=\"T_0c18e9e0_0f83_11eb_bf3c_491b0a769e75row2_col2\" class=\"data row2 col2\" >1.000000</td>\n",
       "                        <td id=\"T_0c18e9e0_0f83_11eb_bf3c_491b0a769e75row2_col3\" class=\"data row2 col3\" >0.474577</td>\n",
       "                        <td id=\"T_0c18e9e0_0f83_11eb_bf3c_491b0a769e75row2_col4\" class=\"data row2 col4\" >0.070566</td>\n",
       "                        <td id=\"T_0c18e9e0_0f83_11eb_bf3c_491b0a769e75row2_col5\" class=\"data row2 col5\" >0.223785</td>\n",
       "                        <td id=\"T_0c18e9e0_0f83_11eb_bf3c_491b0a769e75row2_col6\" class=\"data row2 col6\" >0.193376</td>\n",
       "            </tr>\n",
       "            <tr>\n",
       "                        <th id=\"T_0c18e9e0_0f83_11eb_bf3c_491b0a769e75level0_row3\" class=\"row_heading level0 row3\" >wind_speed</th>\n",
       "                        <td id=\"T_0c18e9e0_0f83_11eb_bf3c_491b0a769e75row3_col0\" class=\"data row3 col0\" >0.749770</td>\n",
       "                        <td id=\"T_0c18e9e0_0f83_11eb_bf3c_491b0a769e75row3_col1\" class=\"data row3 col1\" >-0.068656</td>\n",
       "                        <td id=\"T_0c18e9e0_0f83_11eb_bf3c_491b0a769e75row3_col2\" class=\"data row3 col2\" >0.474577</td>\n",
       "                        <td id=\"T_0c18e9e0_0f83_11eb_bf3c_491b0a769e75row3_col3\" class=\"data row3 col3\" >1.000000</td>\n",
       "                        <td id=\"T_0c18e9e0_0f83_11eb_bf3c_491b0a769e75row3_col4\" class=\"data row3 col4\" >-0.024937</td>\n",
       "                        <td id=\"T_0c18e9e0_0f83_11eb_bf3c_491b0a769e75row3_col5\" class=\"data row3 col5\" >0.574937</td>\n",
       "                        <td id=\"T_0c18e9e0_0f83_11eb_bf3c_491b0a769e75row3_col6\" class=\"data row3 col6\" >0.531334</td>\n",
       "            </tr>\n",
       "            <tr>\n",
       "                        <th id=\"T_0c18e9e0_0f83_11eb_bf3c_491b0a769e75level0_row4\" class=\"row_heading level0 row4\" >cos_target_angle</th>\n",
       "                        <td id=\"T_0c18e9e0_0f83_11eb_bf3c_491b0a769e75row4_col0\" class=\"data row4 col0\" >-0.124149</td>\n",
       "                        <td id=\"T_0c18e9e0_0f83_11eb_bf3c_491b0a769e75row4_col1\" class=\"data row4 col1\" >0.684405</td>\n",
       "                        <td id=\"T_0c18e9e0_0f83_11eb_bf3c_491b0a769e75row4_col2\" class=\"data row4 col2\" >0.070566</td>\n",
       "                        <td id=\"T_0c18e9e0_0f83_11eb_bf3c_491b0a769e75row4_col3\" class=\"data row4 col3\" >-0.024937</td>\n",
       "                        <td id=\"T_0c18e9e0_0f83_11eb_bf3c_491b0a769e75row4_col4\" class=\"data row4 col4\" >1.000000</td>\n",
       "                        <td id=\"T_0c18e9e0_0f83_11eb_bf3c_491b0a769e75row4_col5\" class=\"data row4 col5\" >-0.012991</td>\n",
       "                        <td id=\"T_0c18e9e0_0f83_11eb_bf3c_491b0a769e75row4_col6\" class=\"data row4 col6\" >-0.028158</td>\n",
       "            </tr>\n",
       "            <tr>\n",
       "                        <th id=\"T_0c18e9e0_0f83_11eb_bf3c_491b0a769e75level0_row5\" class=\"row_heading level0 row5\" >sin_target_angle</th>\n",
       "                        <td id=\"T_0c18e9e0_0f83_11eb_bf3c_491b0a769e75row5_col0\" class=\"data row5 col0\" >0.132518</td>\n",
       "                        <td id=\"T_0c18e9e0_0f83_11eb_bf3c_491b0a769e75row5_col1\" class=\"data row5 col1\" >-0.215598</td>\n",
       "                        <td id=\"T_0c18e9e0_0f83_11eb_bf3c_491b0a769e75row5_col2\" class=\"data row5 col2\" >0.223785</td>\n",
       "                        <td id=\"T_0c18e9e0_0f83_11eb_bf3c_491b0a769e75row5_col3\" class=\"data row5 col3\" >0.574937</td>\n",
       "                        <td id=\"T_0c18e9e0_0f83_11eb_bf3c_491b0a769e75row5_col4\" class=\"data row5 col4\" >-0.012991</td>\n",
       "                        <td id=\"T_0c18e9e0_0f83_11eb_bf3c_491b0a769e75row5_col5\" class=\"data row5 col5\" >1.000000</td>\n",
       "                        <td id=\"T_0c18e9e0_0f83_11eb_bf3c_491b0a769e75row5_col6\" class=\"data row5 col6\" >0.983153</td>\n",
       "            </tr>\n",
       "            <tr>\n",
       "                        <th id=\"T_0c18e9e0_0f83_11eb_bf3c_491b0a769e75level0_row6\" class=\"row_heading level0 row6\" >sin_boat_angle</th>\n",
       "                        <td id=\"T_0c18e9e0_0f83_11eb_bf3c_491b0a769e75row6_col0\" class=\"data row6 col0\" >0.104913</td>\n",
       "                        <td id=\"T_0c18e9e0_0f83_11eb_bf3c_491b0a769e75row6_col1\" class=\"data row6 col1\" >-0.236987</td>\n",
       "                        <td id=\"T_0c18e9e0_0f83_11eb_bf3c_491b0a769e75row6_col2\" class=\"data row6 col2\" >0.193376</td>\n",
       "                        <td id=\"T_0c18e9e0_0f83_11eb_bf3c_491b0a769e75row6_col3\" class=\"data row6 col3\" >0.531334</td>\n",
       "                        <td id=\"T_0c18e9e0_0f83_11eb_bf3c_491b0a769e75row6_col4\" class=\"data row6 col4\" >-0.028158</td>\n",
       "                        <td id=\"T_0c18e9e0_0f83_11eb_bf3c_491b0a769e75row6_col5\" class=\"data row6 col5\" >0.983153</td>\n",
       "                        <td id=\"T_0c18e9e0_0f83_11eb_bf3c_491b0a769e75row6_col6\" class=\"data row6 col6\" >1.000000</td>\n",
       "            </tr>\n",
       "    </tbody></table>"
      ],
      "text/plain": [
       "<pandas.io.formats.style.Styler at 0x7f022d485e80>"
      ]
     },
     "execution_count": 5,
     "metadata": {},
     "output_type": "execute_result"
    }
   ],
   "source": [
    "corr = df_reordered.corr()\n",
    "corr.style.background_gradient()"
   ]
  },
  {
   "cell_type": "code",
   "execution_count": 6,
   "metadata": {},
   "outputs": [],
   "source": [
    "df_reordered = df_reordered.drop_duplicates(subset=dup_columns_check)"
   ]
  },
  {
   "cell_type": "code",
   "execution_count": 7,
   "metadata": {},
   "outputs": [
    {
     "data": {
      "text/html": [
       "<div>\n",
       "<style scoped>\n",
       "    .dataframe tbody tr th:only-of-type {\n",
       "        vertical-align: middle;\n",
       "    }\n",
       "\n",
       "    .dataframe tbody tr th {\n",
       "        vertical-align: top;\n",
       "    }\n",
       "\n",
       "    .dataframe thead th {\n",
       "        text-align: right;\n",
       "    }\n",
       "</style>\n",
       "<table border=\"1\" class=\"dataframe\">\n",
       "  <thead>\n",
       "    <tr style=\"text-align: right;\">\n",
       "      <th></th>\n",
       "      <th>boat_speed</th>\n",
       "      <th>cos_attack_angle</th>\n",
       "      <th>sin_attack_angle</th>\n",
       "      <th>wind_speed</th>\n",
       "      <th>cos_target_angle</th>\n",
       "      <th>sin_target_angle</th>\n",
       "      <th>sin_boat_angle</th>\n",
       "    </tr>\n",
       "  </thead>\n",
       "  <tbody>\n",
       "    <tr>\n",
       "      <th>count</th>\n",
       "      <td>3436.000000</td>\n",
       "      <td>3436.000000</td>\n",
       "      <td>3436.000000</td>\n",
       "      <td>3436.000000</td>\n",
       "      <td>3436.000000</td>\n",
       "      <td>3436.000000</td>\n",
       "      <td>3436.000000</td>\n",
       "    </tr>\n",
       "    <tr>\n",
       "      <th>mean</th>\n",
       "      <td>6.435845</td>\n",
       "      <td>-0.198043</td>\n",
       "      <td>0.058539</td>\n",
       "      <td>8.401832</td>\n",
       "      <td>-0.244525</td>\n",
       "      <td>-0.068352</td>\n",
       "      <td>-0.071900</td>\n",
       "    </tr>\n",
       "    <tr>\n",
       "      <th>std</th>\n",
       "      <td>2.747382</td>\n",
       "      <td>0.559119</td>\n",
       "      <td>0.803129</td>\n",
       "      <td>5.182322</td>\n",
       "      <td>0.619872</td>\n",
       "      <td>0.742675</td>\n",
       "      <td>0.751131</td>\n",
       "    </tr>\n",
       "    <tr>\n",
       "      <th>min</th>\n",
       "      <td>0.000000</td>\n",
       "      <td>-0.999884</td>\n",
       "      <td>-1.000000</td>\n",
       "      <td>2.000000</td>\n",
       "      <td>-1.000000</td>\n",
       "      <td>-0.999996</td>\n",
       "      <td>-0.999999</td>\n",
       "    </tr>\n",
       "    <tr>\n",
       "      <th>25%</th>\n",
       "      <td>4.396755</td>\n",
       "      <td>-0.701373</td>\n",
       "      <td>-0.762417</td>\n",
       "      <td>4.625820</td>\n",
       "      <td>-0.849687</td>\n",
       "      <td>-0.793188</td>\n",
       "      <td>-0.769946</td>\n",
       "    </tr>\n",
       "    <tr>\n",
       "      <th>50%</th>\n",
       "      <td>5.818855</td>\n",
       "      <td>-0.302591</td>\n",
       "      <td>0.514912</td>\n",
       "      <td>6.735055</td>\n",
       "      <td>-0.311420</td>\n",
       "      <td>-0.267974</td>\n",
       "      <td>-0.303275</td>\n",
       "    </tr>\n",
       "    <tr>\n",
       "      <th>75%</th>\n",
       "      <td>7.868065</td>\n",
       "      <td>0.200625</td>\n",
       "      <td>0.817129</td>\n",
       "      <td>9.959260</td>\n",
       "      <td>0.193021</td>\n",
       "      <td>0.824016</td>\n",
       "      <td>0.867396</td>\n",
       "    </tr>\n",
       "    <tr>\n",
       "      <th>max</th>\n",
       "      <td>14.291300</td>\n",
       "      <td>0.999766</td>\n",
       "      <td>1.000000</td>\n",
       "      <td>21.077130</td>\n",
       "      <td>0.999749</td>\n",
       "      <td>0.999990</td>\n",
       "      <td>1.000000</td>\n",
       "    </tr>\n",
       "  </tbody>\n",
       "</table>\n",
       "</div>"
      ],
      "text/plain": [
       "        boat_speed  cos_attack_angle  sin_attack_angle   wind_speed  \\\n",
       "count  3436.000000       3436.000000       3436.000000  3436.000000   \n",
       "mean      6.435845         -0.198043          0.058539     8.401832   \n",
       "std       2.747382          0.559119          0.803129     5.182322   \n",
       "min       0.000000         -0.999884         -1.000000     2.000000   \n",
       "25%       4.396755         -0.701373         -0.762417     4.625820   \n",
       "50%       5.818855         -0.302591          0.514912     6.735055   \n",
       "75%       7.868065          0.200625          0.817129     9.959260   \n",
       "max      14.291300          0.999766          1.000000    21.077130   \n",
       "\n",
       "       cos_target_angle  sin_target_angle  sin_boat_angle  \n",
       "count       3436.000000       3436.000000     3436.000000  \n",
       "mean          -0.244525         -0.068352       -0.071900  \n",
       "std            0.619872          0.742675        0.751131  \n",
       "min           -1.000000         -0.999996       -0.999999  \n",
       "25%           -0.849687         -0.793188       -0.769946  \n",
       "50%           -0.311420         -0.267974       -0.303275  \n",
       "75%            0.193021          0.824016        0.867396  \n",
       "max            0.999749          0.999990        1.000000  "
      ]
     },
     "execution_count": 7,
     "metadata": {},
     "output_type": "execute_result"
    }
   ],
   "source": [
    "df_reordered.describe()"
   ]
  },
  {
   "cell_type": "markdown",
   "metadata": {},
   "source": [
    "## Create train-val-test split"
   ]
  },
  {
   "cell_type": "code",
   "execution_count": 8,
   "metadata": {},
   "outputs": [],
   "source": [
    "def save_train_and_validation_data_to_s3(data) :\n",
    "    test_col = 'sin_boat_angle'\n",
    "    y_data = data[test_col]\n",
    "    X_data = data.drop(columns=[test_col])\n",
    "    X_data = X_data.to_numpy()\n",
    "    y_data = y_data.to_numpy()\n",
    "    \n",
    "    # 70% training, 15% validation, 15% testing split\n",
    "    train_X, test_X, train_y, test_y = train_test_split(X_data, y_data, train_size=0.7, random_state=42)\n",
    "    \n",
    "    val_X, test_X, val_y, test_y = train_test_split(test_X, test_y, train_size=0.5, random_state=41)\n",
    "\n",
    "    train_file = 'non_linear_train.data'\n",
    "\n",
    "    f = io.BytesIO()\n",
    "    smac.write_numpy_to_dense_tensor(f, train_X.astype('float32'), train_y.astype('float32'))\n",
    "    f.seek(0)\n",
    "    boto3.Session().resource('s3').Bucket(BUCKET).Object(os.path.join(PREFIX, TEST_NAME, 'train', train_file)).upload_fileobj(f)\n",
    "    validation_file = 'non_linear_validation.data'\n",
    "    \n",
    "    f = io.BytesIO()\n",
    "    smac.write_numpy_to_dense_tensor(f, val_X.astype('float32'), val_y.astype('float32'))\n",
    "    f.seek(0)\n",
    "    boto3.Session().resource('s3').Bucket(BUCKET).Object(os.path.join(PREFIX, TEST_NAME,'validation', validation_file)).upload_fileobj(f)\n",
    "    return train_X, train_y, val_X, val_y, test_X, test_y"
   ]
  },
  {
   "cell_type": "markdown",
   "metadata": {},
   "source": [
    "## Create a non-linear regression model using keras <a class=\"anchor\" id=\"model-creation\"></a>"
   ]
  },
  {
   "cell_type": "code",
   "execution_count": 9,
   "metadata": {},
   "outputs": [
    {
     "name": "stderr",
     "output_type": "stream",
     "text": [
      "Using TensorFlow backend.\n"
     ]
    },
    {
     "name": "stdout",
     "output_type": "stream",
     "text": [
      "WARNING:tensorflow:From /home/ec2-user/anaconda3/envs/tensorflow_p36/lib/python3.6/site-packages/tensorflow_core/__init__.py:1473: The name tf.estimator.inputs is deprecated. Please use tf.compat.v1.estimator.inputs instead.\n",
      "\n"
     ]
    }
   ],
   "source": [
    "from keras.models import Sequential\n",
    "from keras.layers import Dense\n",
    "from keras.layers import Dropout\n",
    "\n",
    "\n",
    "# Build the model\n",
    "def wide_keras_model(size_1, size_2):\n",
    "    model = Sequential()\n",
    "    model.add(Dense(size_1, input_dim=6, kernel_initializer='normal', bias_initializer='normal', activation='relu', name='hidden_1'))\n",
    "    model.add(Dropout(0.5, seed=42))\n",
    "    model.add(Dense(size_2, kernel_initializer='normal', bias_initializer='normal', activation='relu', name='hidden_2'))\n",
    "    model.add(Dropout(0.5, seed=42))\n",
    "    model.add(Dense(1, kernel_initializer='normal', bias_initializer='normal', activation='linear'))\n",
    "\n",
    "    # Compile the model\n",
    "    model.compile(loss=\"mean_squared_error\",\n",
    "                  optimizer='adam')\n",
    "    return model"
   ]
  },
  {
   "cell_type": "code",
   "execution_count": 10,
   "metadata": {},
   "outputs": [
    {
     "name": "stdout",
     "output_type": "stream",
     "text": [
      "Number of examples in training data: 2405\n",
      "Number of examples in validation data: 515\n",
      "Number of examples in test data: 516\n"
     ]
    }
   ],
   "source": [
    "train_X, train_y, val_X, val_y, test_X, test_y = save_train_and_validation_data_to_s3(df_reordered)\n",
    "train_y = np.expand_dims(train_y, axis=1)\n",
    "val_y = np.expand_dims(val_y, axis=1)\n",
    "test_y = np.expand_dims(test_y, axis=1)\n",
    "print(f'Number of examples in training data: {len(train_y)}')\n",
    "print(f'Number of examples in validation data: {len(val_y)}')\n",
    "print(f'Number of examples in test data: {len(test_y)}')"
   ]
  },
  {
   "cell_type": "markdown",
   "metadata": {},
   "source": [
    "### Use a manual grid search for best architecture using Validation data and EarlyStopping"
   ]
  },
  {
   "cell_type": "code",
   "execution_count": 11,
   "metadata": {},
   "outputs": [
    {
     "name": "stdout",
     "output_type": "stream",
     "text": [
      "WARNING:tensorflow:From /home/ec2-user/anaconda3/envs/tensorflow_p36/lib/python3.6/site-packages/keras/backend/tensorflow_backend.py:74: The name tf.get_default_graph is deprecated. Please use tf.compat.v1.get_default_graph instead.\n",
      "\n",
      "WARNING:tensorflow:From /home/ec2-user/anaconda3/envs/tensorflow_p36/lib/python3.6/site-packages/keras/backend/tensorflow_backend.py:517: The name tf.placeholder is deprecated. Please use tf.compat.v1.placeholder instead.\n",
      "\n",
      "WARNING:tensorflow:From /home/ec2-user/anaconda3/envs/tensorflow_p36/lib/python3.6/site-packages/keras/backend/tensorflow_backend.py:4115: The name tf.random_normal is deprecated. Please use tf.random.normal instead.\n",
      "\n",
      "WARNING:tensorflow:From /home/ec2-user/anaconda3/envs/tensorflow_p36/lib/python3.6/site-packages/keras/backend/tensorflow_backend.py:133: The name tf.placeholder_with_default is deprecated. Please use tf.compat.v1.placeholder_with_default instead.\n",
      "\n",
      "WARNING:tensorflow:From /home/ec2-user/anaconda3/envs/tensorflow_p36/lib/python3.6/site-packages/keras/backend/tensorflow_backend.py:3445: calling dropout (from tensorflow.python.ops.nn_ops) with keep_prob is deprecated and will be removed in a future version.\n",
      "Instructions for updating:\n",
      "Please use `rate` instead of `keep_prob`. Rate should be set to `rate = 1 - keep_prob`.\n",
      "WARNING:tensorflow:From /home/ec2-user/anaconda3/envs/tensorflow_p36/lib/python3.6/site-packages/keras/optimizers.py:790: The name tf.train.Optimizer is deprecated. Please use tf.compat.v1.train.Optimizer instead.\n",
      "\n",
      "WARNING:tensorflow:From /home/ec2-user/anaconda3/envs/tensorflow_p36/lib/python3.6/site-packages/keras/backend/tensorflow_backend.py:986: The name tf.assign_add is deprecated. Please use tf.compat.v1.assign_add instead.\n",
      "\n",
      "WARNING:tensorflow:From /home/ec2-user/anaconda3/envs/tensorflow_p36/lib/python3.6/site-packages/keras/backend/tensorflow_backend.py:973: The name tf.assign is deprecated. Please use tf.compat.v1.assign instead.\n",
      "\n",
      "WARNING:tensorflow:From /home/ec2-user/anaconda3/envs/tensorflow_p36/lib/python3.6/site-packages/keras/backend/tensorflow_backend.py:2741: The name tf.Session is deprecated. Please use tf.compat.v1.Session instead.\n",
      "\n",
      "WARNING:tensorflow:From /home/ec2-user/anaconda3/envs/tensorflow_p36/lib/python3.6/site-packages/keras/backend/tensorflow_backend.py:174: The name tf.get_default_session is deprecated. Please use tf.compat.v1.get_default_session instead.\n",
      "\n",
      "WARNING:tensorflow:From /home/ec2-user/anaconda3/envs/tensorflow_p36/lib/python3.6/site-packages/keras/backend/tensorflow_backend.py:184: The name tf.ConfigProto is deprecated. Please use tf.compat.v1.ConfigProto instead.\n",
      "\n",
      "WARNING:tensorflow:From /home/ec2-user/anaconda3/envs/tensorflow_p36/lib/python3.6/site-packages/keras/backend/tensorflow_backend.py:190: The name tf.global_variables is deprecated. Please use tf.compat.v1.global_variables instead.\n",
      "\n",
      "WARNING:tensorflow:From /home/ec2-user/anaconda3/envs/tensorflow_p36/lib/python3.6/site-packages/keras/backend/tensorflow_backend.py:199: The name tf.is_variable_initialized is deprecated. Please use tf.compat.v1.is_variable_initialized instead.\n",
      "\n",
      "WARNING:tensorflow:From /home/ec2-user/anaconda3/envs/tensorflow_p36/lib/python3.6/site-packages/keras/backend/tensorflow_backend.py:206: The name tf.variables_initializer is deprecated. Please use tf.compat.v1.variables_initializer instead.\n",
      "\n",
      "Scores for hidden layer sizes 64 and 32:\n",
      "training MSE:0.0086\n",
      "validationMSE:0.0089\n",
      "\n",
      "\n",
      "Scores for hidden layer sizes 128 and 64:\n",
      "training MSE:0.0065\n",
      "validationMSE:0.0067\n",
      "\n",
      "\n",
      "Scores for hidden layer sizes 256 and 128:\n",
      "training MSE:0.0058\n",
      "validationMSE:0.0061\n",
      "\n",
      "\n",
      "Scores for hidden layer sizes 512 and 256:\n",
      "training MSE:0.0045\n",
      "validationMSE:0.0048\n",
      "\n",
      "\n"
     ]
    }
   ],
   "source": [
    "from keras.callbacks import EarlyStopping\n",
    "hidden_layer_sizes = [(64, 32), (128, 64), (256, 128), (512, 256)]\n",
    "models = []\n",
    "scores = []\n",
    "callback = EarlyStopping(\n",
    "    monitor='val_loss',\n",
    "    patience=15, \n",
    "    restore_best_weights=True,\n",
    "    verbose=0)\n",
    "\n",
    "for i, (size_1, size_2) in enumerate(hidden_layer_sizes):\n",
    "    models.append(wide_keras_model(size_1, size_2))\n",
    "    models[i].fit(\n",
    "        train_X,\n",
    "        train_y,\n",
    "        epochs=200,\n",
    "        batch_size=16,\n",
    "        verbose=0,\n",
    "        validation_data=(val_X, val_y),\n",
    "        callbacks=[callback])\n",
    "    training_score = models[i].evaluate(train_X, train_y, verbose=0)\n",
    "    val_score = models[i].evaluate(val_X, val_y, verbose=0)\n",
    "    scores.append(val_score)\n",
    "    print(f'Scores for hidden layer sizes {size_1} and {size_2}:')\n",
    "    print(f'training MSE:{training_score:.4f}')\n",
    "    print(f'validationMSE:{val_score:.4f}')\n",
    "    print('\\n')"
   ]
  },
  {
   "cell_type": "markdown",
   "metadata": {},
   "source": [
    "## Evaluate best model on test data <a class=\"anchor\" id=\"model-evaluation\"></a>"
   ]
  },
  {
   "cell_type": "code",
   "execution_count": 12,
   "metadata": {},
   "outputs": [
    {
     "name": "stdout",
     "output_type": "stream",
     "text": [
      "_________________________________________________________________\n",
      "Layer (type)                 Output Shape              Param #   \n",
      "=================================================================\n",
      "hidden_1 (Dense)             (None, 512)               3584      \n",
      "_________________________________________________________________\n",
      "dropout_7 (Dropout)          (None, 512)               0         \n",
      "_________________________________________________________________\n",
      "hidden_2 (Dense)             (None, 256)               131328    \n",
      "_________________________________________________________________\n",
      "dropout_8 (Dropout)          (None, 256)               0         \n",
      "_________________________________________________________________\n",
      "dense_4 (Dense)              (None, 1)                 257       \n",
      "=================================================================\n",
      "Total params: 135,169\n",
      "Trainable params: 135,169\n",
      "Non-trainable params: 0\n",
      "_________________________________________________________________\n",
      "Best performing model is of sizes (512, 256) for hidden layers\n",
      "Best model MSE on the test set: 0.0050\n"
     ]
    }
   ],
   "source": [
    "best_idx = np.argmin(scores)\n",
    "best_sizes = hidden_layer_sizes[best_idx]\n",
    "best_model = models[best_idx]\n",
    "best_model.summary()\n",
    "test_score = best_model.evaluate(test_X, test_y, verbose=0)\n",
    "print(f'Best performing model is of sizes {best_sizes} for hidden layers')\n",
    "print(f'Best model MSE on the test set: {test_score:.4f}')"
   ]
  },
  {
   "cell_type": "code",
   "execution_count": 13,
   "metadata": {},
   "outputs": [
    {
     "data": {
      "image/png": "[encoded data removed]",
      "text/plain": [
       "<Figure size 1080x360 with 1 Axes>"
      ]
     },
     "metadata": {
      "needs_background": "light"
     },
     "output_type": "display_data"
    }
   ],
   "source": [
    "from matplotlib import pyplot as plt\n",
    "\n",
    "plt.figure(figsize=(15,5))\n",
    "plt.plot(best_model.history.history['loss'], label='train')\n",
    "plt.plot(best_model.history.history['val_loss'], label='validation')\n",
    "plt.legend()\n",
    "plt.show()"
   ]
  },
  {
   "cell_type": "markdown",
   "metadata": {},
   "source": [
    "### Sanity check using different library"
   ]
  },
  {
   "cell_type": "code",
   "execution_count": 14,
   "metadata": {},
   "outputs": [
    {
     "name": "stdout",
     "output_type": "stream",
     "text": [
      "TEST MAE: 0.0509\n",
      "Test MSE: 0.005, \n",
      "\n",
      "Top highest absolute value errors on test data: \n",
      " ['0.324: (-0.253, -0.577)', '0.298: (-0.279, -0.577)', '0.255: (-0.580, -0.325)', '0.247: (-0.685, -0.438)', '0.235: (-0.757, -0.993)', '0.234: (0.026, 0.261)', '0.232: (0.767, 0.999)', '0.224: (-0.783, -0.559)', '0.202: (-0.804, -0.602)', '0.202: (-0.556, -0.758)'] \n",
      "\n",
      "Top lowest absolute value errors on test data: \n",
      " ['0.002: (0.189, 0.191)', '0.002: (-0.919, -0.921)', '0.002: (0.159, 0.157)', '0.001: (0.982, 0.983)', '0.001: (-0.672, -0.673)', '0.001: (-0.923, -0.922)', '0.001: (0.986, 0.985)', '0.001: (-0.405, -0.404)', '0.001: (0.190, 0.191)', '0.0: (-0.928, -0.928)']\n"
     ]
    }
   ],
   "source": [
    "from sklearn.metrics import mean_squared_error\n",
    "from scipy.stats import gaussian_kde\n",
    "\n",
    "test_pred = best_model.predict(test_X)\n",
    "absolute_error = np.squeeze(np.absolute(test_pred - test_y))\n",
    "print(f'TEST MAE: {np.mean(absolute_error):.4f}')\n",
    "mse = mean_squared_error(test_y, test_pred)\n",
    "print(f\"Test MSE: {round(mse,4)}, \\n\")\n",
    "\n",
    "abs_error = [(-e, i) for i, e in enumerate(absolute_error)]\n",
    "abs_error.sort()\n",
    "highest_errors = [\n",
    "    f'{round(-e,3)}: ({test_pred[i][0]:.3f}, {round(test_y[i][0], 3)})' for e, i in abs_error]\n",
    "print(f'Top highest absolute value errors on test data: \\n {highest_errors[:10]} \\n')\n",
    "print(f'Top lowest absolute value errors on test data: \\n {highest_errors[-10:]}')\n"
   ]
  },
  {
   "cell_type": "code",
   "execution_count": 15,
   "metadata": {},
   "outputs": [
    {
     "data": {
      "image/png": "[encoded data removed]",
      "text/plain": [
       "<Figure size 1080x360 with 1 Axes>"
      ]
     },
     "metadata": {
      "needs_background": "light"
     },
     "output_type": "display_data"
    }
   ],
   "source": [
    "density = gaussian_kde(absolute_error)\n",
    "xs = np.linspace(0,1,50)\n",
    "plt.figure(figsize=(15,5))\n",
    "plt.plot(xs,density(xs))\n",
    "plt.locator_params(axis='y', nbins=20)\n",
    "plt.locator_params(axis='x', nbins=30)\n",
    "plt.title('Density plot of absolute error')\n",
    "plt.show()"
   ]
  },
  {
   "cell_type": "markdown",
   "metadata": {},
   "source": [
    "## Save best model and create an endpoint from it <a class=\"anchor\" id=\"endpoint\"></a>"
   ]
  },
  {
   "cell_type": "code",
   "execution_count": 16,
   "metadata": {},
   "outputs": [],
   "source": [
    "best_model.save_weights('keras_sine_model/best_model_weights.h5')\n",
    "model_json = best_model.to_json()\n",
    "with open(\"keras_sine_model/best_model.json\", \"w\") as json_file:\n",
    "    json_file.write(model_json)"
   ]
  },
  {
   "cell_type": "code",
   "execution_count": 17,
   "metadata": {},
   "outputs": [],
   "source": [
    "import keras\n",
    "from keras.models import model_from_json"
   ]
  },
  {
   "cell_type": "code",
   "execution_count": 18,
   "metadata": {},
   "outputs": [],
   "source": [
    "json_file = open('keras_sine_model/best_model.json', 'r')\n",
    "loaded_model_json = json_file.read()\n",
    "loaded_model = model_from_json(loaded_model_json)\n",
    "loaded_model.load_weights('keras_sine_model/best_model_weights.h5')\n",
    "json_file.close()"
   ]
  },
  {
   "cell_type": "code",
   "execution_count": 19,
   "metadata": {},
   "outputs": [],
   "source": [
    "!rm -rf export"
   ]
  },
  {
   "cell_type": "code",
   "execution_count": 20,
   "metadata": {},
   "outputs": [
    {
     "name": "stdout",
     "output_type": "stream",
     "text": [
      "WARNING:tensorflow:From /home/ec2-user/anaconda3/envs/tensorflow_p36/lib/python3.6/site-packages/tensorflow_core/python/saved_model/signature_def_utils_impl.py:201: build_tensor_info (from tensorflow.python.saved_model.utils_impl) is deprecated and will be removed in a future version.\n",
      "Instructions for updating:\n",
      "This function will only be available through the v1 compatibility library as tf.compat.v1.saved_model.utils.build_tensor_info or tf.compat.v1.saved_model.build_tensor_info.\n",
      "INFO:tensorflow:No assets to save.\n",
      "INFO:tensorflow:No assets to write.\n",
      "INFO:tensorflow:SavedModel written to: export/Servo/1/saved_model.pb\n"
     ]
    }
   ],
   "source": [
    "from tensorflow.python.saved_model import builder\n",
    "from tensorflow.python.saved_model.signature_def_utils import predict_signature_def\n",
    "from tensorflow.python.saved_model import tag_constants\n",
    "\n",
    "version_number = '1'\n",
    "export_dir = 'export/Servo/' + version_number\n",
    "builder = builder.SavedModelBuilder(export_dir)\n",
    "signature = predict_signature_def(\n",
    "    inputs={\"inputs\": loaded_model.input}, outputs={\"score\": loaded_model.output})\n",
    "\n",
    "from keras import backend as K\n",
    "with K.get_session() as sess:\n",
    "    builder.add_meta_graph_and_variables(\n",
    "        sess=sess, tags=[tag_constants.SERVING], signature_def_map={\"serving_default\": signature})\n",
    "    builder.save()"
   ]
  },
  {
   "cell_type": "code",
   "execution_count": 21,
   "metadata": {},
   "outputs": [],
   "source": [
    "import tarfile\n",
    "\n",
    "with tarfile.open('keras-sine-model.tar.gz', mode='w:gz') as archive:\n",
    "    archive.add('export', recursive=True)\n",
    "\n",
    "sagemaker_session = sagemaker.Session()\n",
    "inputs = sagemaker_session.upload_data(path='keras-sine-model.tar.gz', bucket=BUCKET, key_prefix='keras_sine_model')"
   ]
  },
  {
   "cell_type": "code",
   "execution_count": 22,
   "metadata": {},
   "outputs": [
    {
     "name": "stderr",
     "output_type": "stream",
     "text": [
      "Parameter image will be renamed to image_uri in SageMaker Python SDK v2.\n",
      "2.1.0 is the latest version of tensorflow that supports Python 2. Newer versions of tensorflow will only be available for Python 3.Please set the argument \"py_version='py3'\" to use the Python 3 tensorflow image.\n"
     ]
    }
   ],
   "source": [
    "!touch train.py\n",
    "\n",
    "from sagemaker.tensorflow.model import TensorFlowModel\n",
    "sagemaker_model = TensorFlowModel(model_data = 's3://' + BUCKET + '/keras_sine_model/keras-sine-model.tar.gz',\n",
    "                                  role = ROLE,\n",
    "                                  framework_version = '1.12',\n",
    "                                  entry_point = 'train.py')"
   ]
  },
  {
   "cell_type": "code",
   "execution_count": 23,
   "metadata": {},
   "outputs": [
    {
     "name": "stderr",
     "output_type": "stream",
     "text": [
      "'create_image_uri' will be deprecated in favor of 'ImageURIProvider' class in SageMaker Python SDK v2.\n"
     ]
    },
    {
     "name": "stdout",
     "output_type": "stream",
     "text": [
      "---------------!CPU times: user 492 ms, sys: 29.4 ms, total: 521 ms\n",
      "Wall time: 7min 33s\n"
     ]
    }
   ],
   "source": [
    "%%time\n",
    "predictor = sagemaker_model.deploy(\n",
    "    endpoint_name = ENDPOINT_NAME,\n",
    "    initial_instance_count=1,\n",
    "    instance_type=INSTANCE_TYPE)"
   ]
  },
  {
   "cell_type": "markdown",
   "metadata": {},
   "source": [
    "### Call the endpoint"
   ]
  },
  {
   "cell_type": "code",
   "execution_count": 24,
   "metadata": {
    "scrolled": true
   },
   "outputs": [],
   "source": [
    "import json\n",
    "\n",
    "runtime = boto3.client('runtime.sagemaker')\n",
    "payload = json.dumps(test_X.tolist())\n",
    "response = runtime.invoke_endpoint(EndpointName=ENDPOINT_NAME,\n",
    "                                   Body=payload)\n",
    "result = json.loads(response['Body'].read().decode())\n",
    "test_pred = np.array([r for r in result['outputs']['score']['floatVal']])"
   ]
  },
  {
   "cell_type": "markdown",
   "metadata": {},
   "source": [
    "## Sanity check evaluating the endpoint on test data again"
   ]
  },
  {
   "cell_type": "code",
   "execution_count": 25,
   "metadata": {},
   "outputs": [
    {
     "name": "stdout",
     "output_type": "stream",
     "text": [
      "TEST MAE: 0.0509\n",
      "Test MSE: 0.005, \n",
      "\n"
     ]
    }
   ],
   "source": [
    "absolute_error = np.absolute(test_pred - np.squeeze(test_y))\n",
    "print(f'TEST MAE: {np.mean(absolute_error):.4f}')\n",
    "mse = mean_squared_error(test_y, test_pred)\n",
    "print(f\"Test MSE: {round(mse,4)}, \\n\")"
   ]
  },
  {
   "cell_type": "code",
   "execution_count": null,
   "metadata": {},
   "outputs": [],
   "source": []
  }
 ],
 "metadata": {
  "kernelspec": {
   "display_name": "conda_tensorflow_p36",
   "language": "python",
   "name": "conda_tensorflow_p36"
  },
  "language_info": {
   "codemirror_mode": {
    "name": "ipython",
    "version": 3
   },
   "file_extension": ".py",
   "mimetype": "text/x-python",
   "name": "python",
   "nbconvert_exporter": "python",
   "pygments_lexer": "ipython3",
   "version": "3.6.10"
  }
 },
 "nbformat": 4,
 "nbformat_minor": 4
}
