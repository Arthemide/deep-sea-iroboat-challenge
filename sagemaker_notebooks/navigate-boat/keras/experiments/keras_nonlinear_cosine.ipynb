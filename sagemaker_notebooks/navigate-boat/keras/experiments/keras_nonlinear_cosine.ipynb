{
 "cells": [
  {
   "cell_type": "markdown",
   "metadata": {},
   "source": [
    "## Contents:\n",
    "* [General overview](#general-overview)\n",
    "* [Imports and config](#import-config)\n",
    "* [Data inpsection and preparation](#data-prep)\n",
    "* [Model training](#model-creation)\n",
    "* [Model evaluation](#model-evaluation)\n",
    "* [Further experiments](#further-experiments)"
   ]
  },
  {
   "cell_type": "markdown",
   "metadata": {},
   "source": [
    "## General overview <a class=\"anchor\" id=\"general-overview\"></a>"
   ]
  },
  {
   "cell_type": "markdown",
   "metadata": {},
   "source": [
    "Our goal is to create an ML model that can predict with high accuracy the angle at which a boat should be heading, given metadata features such as boat speed, wind speed, attack angle and target angle. Rather than performing a regression to predict the angle directly, we will instead create two models for predicting the cosine and sine, respectively. This notebook is concerned with predicting the cosine of boat's angle.\n",
    "\n",
    "As a counter-candidate model for linear regression, we will create a (non-linear) regression model using Keras. In addition to this, we will use cosine and sine of the angles involved as features, rather than the angles themselves.\n",
    "\n",
    "**Important findings** after running the experiments below:\n",
    "1. Minimizing MSE is a better strategy than minimizing MAE;\n",
    "2. Non-linear regression outperforms linear regression;\n",
    "3. Wider models outperform deeper models. This is not immediately obvious, but seems to be the case in regression tasks involving other well-known datasets, see for example [here](https://machinelearningmastery.com/regression-tutorial-keras-deep-learning-library-python/)\n",
    "4. The best model is either 2-hidden layers of sizes (256, 128) OR 2-hidden layers of sizes (512, 256)."
   ]
  },
  {
   "cell_type": "markdown",
   "metadata": {},
   "source": [
    "## Basic imports <a class=\"anchor\" id=\"import-config\"></a>"
   ]
  },
  {
   "cell_type": "code",
   "execution_count": 1,
   "metadata": {},
   "outputs": [],
   "source": [
    "import pandas as pd\n",
    "import numpy as np\n",
    "import io\n",
    "import time\n",
    "import json\n",
    "import sagemaker.amazon.common as smac\n",
    "import os\n",
    "import boto3\n",
    "import re\n",
    "import sagemaker\n",
    "from os.path import join\n",
    "from sklearn.model_selection import train_test_split"
   ]
  },
  {
   "cell_type": "markdown",
   "metadata": {},
   "source": [
    "## Setup the config"
   ]
  },
  {
   "cell_type": "code",
   "execution_count": 2,
   "metadata": {},
   "outputs": [],
   "source": [
    "ROLE = sagemaker.get_execution_role()\n",
    "REGION = boto3.Session().region_name\n",
    "\n",
    "# S3 bucket for saving code and model artifacts.\n",
    "# Feel free to specify a different bucket and prefix\n",
    "\n",
    "BUCKET = 'virtual-regatta-ml'\n",
    "PREFIX = 'non_linear_keras_cosine' # place to upload training files within the bucket\n",
    "TEST_NAME = 'default'"
   ]
  },
  {
   "cell_type": "markdown",
   "metadata": {},
   "source": [
    "## Load the data <a class=\"anchor\" id=\"data-prep\"></a>"
   ]
  },
  {
   "cell_type": "code",
   "execution_count": 3,
   "metadata": {},
   "outputs": [
    {
     "name": "stdout",
     "output_type": "stream",
     "text": [
      "   boat_speed  cos_attack_angle  sin_attack_angle  wind_speed  \\\n",
      "0     7.73236         -0.558392         -0.829577     9.43467   \n",
      "1     7.73236         -0.558392         -0.829577     9.43467   \n",
      "2     7.78952         -0.572786         -0.819705     9.59005   \n",
      "3     7.81913         -0.572786         -0.819705     9.66396   \n",
      "4     7.81658         -0.572786         -0.819705     9.65759   \n",
      "\n",
      "   cos_target_angle  sin_target_angle  cos_boat_angle  \n",
      "0         -0.554636         -0.832093       -0.498210  \n",
      "1         -0.564295         -0.825573       -0.498210  \n",
      "2         -0.577277         -0.816548       -0.512318  \n",
      "3         -0.592192         -0.805797       -0.521811  \n",
      "4         -0.607512         -0.794311       -0.526100  \n"
     ]
    }
   ],
   "source": [
    "data = pd.read_csv('../all-in-one.csv')\n",
    "# This column will be predicted using a classifier\n",
    "data['cos_attack_angle'] = data['angle_of_attack'].apply(lambda x: np.cos(np.deg2rad(x)))\n",
    "data['sin_attack_angle'] = data['angle_of_attack'].apply(lambda x: np.sin(np.deg2rad(x)))\n",
    "data = data.drop(columns=['sin_boat_angle','angle_of_attack'])\n",
    "\n",
    "# The column to predict has to be in last position\n",
    "df_reordered = data[['boat_speed','cos_attack_angle', 'sin_attack_angle', 'wind_speed','cos_target_angle', 'sin_target_angle', 'cos_boat_angle']]\n",
    "\n",
    "print(df_reordered.head())\n"
   ]
  },
  {
   "cell_type": "markdown",
   "metadata": {},
   "source": [
    "The above output suggests we might have a series of duplicate rows, let's check this first"
   ]
  },
  {
   "cell_type": "code",
   "execution_count": 4,
   "metadata": {},
   "outputs": [
    {
     "name": "stdout",
     "output_type": "stream",
     "text": [
      "Total duplicate rows based on ['boat_speed', 'cos_attack_angle', 'sin_attack_angle', 'wind_speed', 'cos_boat_angle']: 379\n"
     ]
    },
    {
     "data": {
      "text/html": [
       "<div>\n",
       "<style scoped>\n",
       "    .dataframe tbody tr th:only-of-type {\n",
       "        vertical-align: middle;\n",
       "    }\n",
       "\n",
       "    .dataframe tbody tr th {\n",
       "        vertical-align: top;\n",
       "    }\n",
       "\n",
       "    .dataframe thead th {\n",
       "        text-align: right;\n",
       "    }\n",
       "</style>\n",
       "<table border=\"1\" class=\"dataframe\">\n",
       "  <thead>\n",
       "    <tr style=\"text-align: right;\">\n",
       "      <th></th>\n",
       "      <th>boat_speed</th>\n",
       "      <th>cos_attack_angle</th>\n",
       "      <th>sin_attack_angle</th>\n",
       "      <th>wind_speed</th>\n",
       "      <th>cos_target_angle</th>\n",
       "      <th>sin_target_angle</th>\n",
       "      <th>cos_boat_angle</th>\n",
       "    </tr>\n",
       "  </thead>\n",
       "  <tbody>\n",
       "    <tr>\n",
       "      <th>0</th>\n",
       "      <td>7.73236</td>\n",
       "      <td>-0.558392</td>\n",
       "      <td>-0.829577</td>\n",
       "      <td>9.43467</td>\n",
       "      <td>-0.554636</td>\n",
       "      <td>-0.832093</td>\n",
       "      <td>-0.498210</td>\n",
       "    </tr>\n",
       "    <tr>\n",
       "      <th>1</th>\n",
       "      <td>7.73236</td>\n",
       "      <td>-0.558392</td>\n",
       "      <td>-0.829577</td>\n",
       "      <td>9.43467</td>\n",
       "      <td>-0.564295</td>\n",
       "      <td>-0.825573</td>\n",
       "      <td>-0.498210</td>\n",
       "    </tr>\n",
       "    <tr>\n",
       "      <th>53</th>\n",
       "      <td>7.67317</td>\n",
       "      <td>-0.481758</td>\n",
       "      <td>-0.876304</td>\n",
       "      <td>9.45885</td>\n",
       "      <td>-0.599954</td>\n",
       "      <td>-0.800035</td>\n",
       "      <td>-0.565606</td>\n",
       "    </tr>\n",
       "    <tr>\n",
       "      <th>54</th>\n",
       "      <td>7.67317</td>\n",
       "      <td>-0.481758</td>\n",
       "      <td>-0.876304</td>\n",
       "      <td>9.45885</td>\n",
       "      <td>-0.611783</td>\n",
       "      <td>-0.791026</td>\n",
       "      <td>-0.565606</td>\n",
       "    </tr>\n",
       "    <tr>\n",
       "      <th>159</th>\n",
       "      <td>4.99455</td>\n",
       "      <td>0.677019</td>\n",
       "      <td>-0.735966</td>\n",
       "      <td>3.36962</td>\n",
       "      <td>0.246974</td>\n",
       "      <td>-0.969022</td>\n",
       "      <td>0.291625</td>\n",
       "    </tr>\n",
       "    <tr>\n",
       "      <th>160</th>\n",
       "      <td>4.99455</td>\n",
       "      <td>0.677019</td>\n",
       "      <td>-0.735966</td>\n",
       "      <td>3.36962</td>\n",
       "      <td>0.248787</td>\n",
       "      <td>-0.968558</td>\n",
       "      <td>0.291625</td>\n",
       "    </tr>\n",
       "    <tr>\n",
       "      <th>182</th>\n",
       "      <td>6.71103</td>\n",
       "      <td>-0.094576</td>\n",
       "      <td>-0.995518</td>\n",
       "      <td>3.61274</td>\n",
       "      <td>-0.201650</td>\n",
       "      <td>-0.979458</td>\n",
       "      <td>-0.299201</td>\n",
       "    </tr>\n",
       "    <tr>\n",
       "      <th>183</th>\n",
       "      <td>6.71103</td>\n",
       "      <td>-0.094576</td>\n",
       "      <td>-0.995518</td>\n",
       "      <td>3.61274</td>\n",
       "      <td>-0.199921</td>\n",
       "      <td>-0.979812</td>\n",
       "      <td>-0.299201</td>\n",
       "    </tr>\n",
       "    <tr>\n",
       "      <th>194</th>\n",
       "      <td>5.73604</td>\n",
       "      <td>-0.765839</td>\n",
       "      <td>-0.643032</td>\n",
       "      <td>4.55132</td>\n",
       "      <td>-0.500285</td>\n",
       "      <td>-0.865861</td>\n",
       "      <td>-0.301758</td>\n",
       "    </tr>\n",
       "    <tr>\n",
       "      <th>195</th>\n",
       "      <td>5.73604</td>\n",
       "      <td>-0.765839</td>\n",
       "      <td>-0.643032</td>\n",
       "      <td>4.55132</td>\n",
       "      <td>-0.502534</td>\n",
       "      <td>-0.864557</td>\n",
       "      <td>-0.301758</td>\n",
       "    </tr>\n",
       "  </tbody>\n",
       "</table>\n",
       "</div>"
      ],
      "text/plain": [
       "     boat_speed  cos_attack_angle  sin_attack_angle  wind_speed  \\\n",
       "0       7.73236         -0.558392         -0.829577     9.43467   \n",
       "1       7.73236         -0.558392         -0.829577     9.43467   \n",
       "53      7.67317         -0.481758         -0.876304     9.45885   \n",
       "54      7.67317         -0.481758         -0.876304     9.45885   \n",
       "159     4.99455          0.677019         -0.735966     3.36962   \n",
       "160     4.99455          0.677019         -0.735966     3.36962   \n",
       "182     6.71103         -0.094576         -0.995518     3.61274   \n",
       "183     6.71103         -0.094576         -0.995518     3.61274   \n",
       "194     5.73604         -0.765839         -0.643032     4.55132   \n",
       "195     5.73604         -0.765839         -0.643032     4.55132   \n",
       "\n",
       "     cos_target_angle  sin_target_angle  cos_boat_angle  \n",
       "0           -0.554636         -0.832093       -0.498210  \n",
       "1           -0.564295         -0.825573       -0.498210  \n",
       "53          -0.599954         -0.800035       -0.565606  \n",
       "54          -0.611783         -0.791026       -0.565606  \n",
       "159          0.246974         -0.969022        0.291625  \n",
       "160          0.248787         -0.968558        0.291625  \n",
       "182         -0.201650         -0.979458       -0.299201  \n",
       "183         -0.199921         -0.979812       -0.299201  \n",
       "194         -0.500285         -0.865861       -0.301758  \n",
       "195         -0.502534         -0.864557       -0.301758  "
      ]
     },
     "execution_count": 4,
     "metadata": {},
     "output_type": "execute_result"
    }
   ],
   "source": [
    "dup_columns_check = ['boat_speed', 'cos_attack_angle', 'sin_attack_angle', 'wind_speed', 'cos_boat_angle']\n",
    "dup_boat_angle = df_reordered[df_reordered.duplicated(dup_columns_check, keep=False)]\n",
    "print(f'Total duplicate rows based on {dup_columns_check}: {len(dup_boat_angle)}')\n",
    "dup_boat_angle.head(10)"
   ]
  },
  {
   "cell_type": "code",
   "execution_count": 5,
   "metadata": {},
   "outputs": [
    {
     "data": {
      "text/html": [
       "<style  type=\"text/css\" >\n",
       "    #T_07ae5bbe_0ee9_11eb_b6eb_71d86da00b0drow0_col0 {\n",
       "            background-color:  #023858;\n",
       "            color:  #f1f1f1;\n",
       "        }    #T_07ae5bbe_0ee9_11eb_b6eb_71d86da00b0drow0_col1 {\n",
       "            background-color:  #faf2f8;\n",
       "            color:  #000000;\n",
       "        }    #T_07ae5bbe_0ee9_11eb_b6eb_71d86da00b0drow0_col2 {\n",
       "            background-color:  #97b7d7;\n",
       "            color:  #000000;\n",
       "        }    #T_07ae5bbe_0ee9_11eb_b6eb_71d86da00b0drow0_col3 {\n",
       "            background-color:  #056ba7;\n",
       "            color:  #f1f1f1;\n",
       "        }    #T_07ae5bbe_0ee9_11eb_b6eb_71d86da00b0drow0_col4 {\n",
       "            background-color:  #fff7fb;\n",
       "            color:  #000000;\n",
       "        }    #T_07ae5bbe_0ee9_11eb_b6eb_71d86da00b0drow0_col5 {\n",
       "            background-color:  #c4cbe3;\n",
       "            color:  #000000;\n",
       "        }    #T_07ae5bbe_0ee9_11eb_b6eb_71d86da00b0drow0_col6 {\n",
       "            background-color:  #fff7fb;\n",
       "            color:  #000000;\n",
       "        }    #T_07ae5bbe_0ee9_11eb_b6eb_71d86da00b0drow1_col0 {\n",
       "            background-color:  #f8f1f8;\n",
       "            color:  #000000;\n",
       "        }    #T_07ae5bbe_0ee9_11eb_b6eb_71d86da00b0drow1_col1 {\n",
       "            background-color:  #023858;\n",
       "            color:  #f1f1f1;\n",
       "        }    #T_07ae5bbe_0ee9_11eb_b6eb_71d86da00b0drow1_col2 {\n",
       "            background-color:  #f5eef6;\n",
       "            color:  #000000;\n",
       "        }    #T_07ae5bbe_0ee9_11eb_b6eb_71d86da00b0drow1_col3 {\n",
       "            background-color:  #f7f0f7;\n",
       "            color:  #000000;\n",
       "        }    #T_07ae5bbe_0ee9_11eb_b6eb_71d86da00b0drow1_col4 {\n",
       "            background-color:  #1077b4;\n",
       "            color:  #f1f1f1;\n",
       "        }    #T_07ae5bbe_0ee9_11eb_b6eb_71d86da00b0drow1_col5 {\n",
       "            background-color:  #fff7fb;\n",
       "            color:  #000000;\n",
       "        }    #T_07ae5bbe_0ee9_11eb_b6eb_71d86da00b0drow1_col6 {\n",
       "            background-color:  #056dac;\n",
       "            color:  #f1f1f1;\n",
       "        }    #T_07ae5bbe_0ee9_11eb_b6eb_71d86da00b0drow2_col0 {\n",
       "            background-color:  #78abd0;\n",
       "            color:  #000000;\n",
       "        }    #T_07ae5bbe_0ee9_11eb_b6eb_71d86da00b0drow2_col1 {\n",
       "            background-color:  #e0dded;\n",
       "            color:  #000000;\n",
       "        }    #T_07ae5bbe_0ee9_11eb_b6eb_71d86da00b0drow2_col2 {\n",
       "            background-color:  #023858;\n",
       "            color:  #f1f1f1;\n",
       "        }    #T_07ae5bbe_0ee9_11eb_b6eb_71d86da00b0drow2_col3 {\n",
       "            background-color:  #63a2cb;\n",
       "            color:  #000000;\n",
       "        }    #T_07ae5bbe_0ee9_11eb_b6eb_71d86da00b0drow2_col4 {\n",
       "            background-color:  #e1dfed;\n",
       "            color:  #000000;\n",
       "        }    #T_07ae5bbe_0ee9_11eb_b6eb_71d86da00b0drow2_col5 {\n",
       "            background-color:  #abbfdc;\n",
       "            color:  #000000;\n",
       "        }    #T_07ae5bbe_0ee9_11eb_b6eb_71d86da00b0drow2_col6 {\n",
       "            background-color:  #ebe6f2;\n",
       "            color:  #000000;\n",
       "        }    #T_07ae5bbe_0ee9_11eb_b6eb_71d86da00b0drow3_col0 {\n",
       "            background-color:  #0568a3;\n",
       "            color:  #f1f1f1;\n",
       "        }    #T_07ae5bbe_0ee9_11eb_b6eb_71d86da00b0drow3_col1 {\n",
       "            background-color:  #ede8f3;\n",
       "            color:  #000000;\n",
       "        }    #T_07ae5bbe_0ee9_11eb_b6eb_71d86da00b0drow3_col2 {\n",
       "            background-color:  #6fa7ce;\n",
       "            color:  #000000;\n",
       "        }    #T_07ae5bbe_0ee9_11eb_b6eb_71d86da00b0drow3_col3 {\n",
       "            background-color:  #023858;\n",
       "            color:  #f1f1f1;\n",
       "        }    #T_07ae5bbe_0ee9_11eb_b6eb_71d86da00b0drow3_col4 {\n",
       "            background-color:  #f2ecf5;\n",
       "            color:  #000000;\n",
       "        }    #T_07ae5bbe_0ee9_11eb_b6eb_71d86da00b0drow3_col5 {\n",
       "            background-color:  #2c89bd;\n",
       "            color:  #000000;\n",
       "        }    #T_07ae5bbe_0ee9_11eb_b6eb_71d86da00b0drow3_col6 {\n",
       "            background-color:  #f3edf5;\n",
       "            color:  #000000;\n",
       "        }    #T_07ae5bbe_0ee9_11eb_b6eb_71d86da00b0drow4_col0 {\n",
       "            background-color:  #f2ecf5;\n",
       "            color:  #000000;\n",
       "        }    #T_07ae5bbe_0ee9_11eb_b6eb_71d86da00b0drow4_col1 {\n",
       "            background-color:  #0872b1;\n",
       "            color:  #f1f1f1;\n",
       "        }    #T_07ae5bbe_0ee9_11eb_b6eb_71d86da00b0drow4_col2 {\n",
       "            background-color:  #ebe6f2;\n",
       "            color:  #000000;\n",
       "        }    #T_07ae5bbe_0ee9_11eb_b6eb_71d86da00b0drow4_col3 {\n",
       "            background-color:  #f1ebf5;\n",
       "            color:  #000000;\n",
       "        }    #T_07ae5bbe_0ee9_11eb_b6eb_71d86da00b0drow4_col4 {\n",
       "            background-color:  #023858;\n",
       "            color:  #f1f1f1;\n",
       "        }    #T_07ae5bbe_0ee9_11eb_b6eb_71d86da00b0drow4_col5 {\n",
       "            background-color:  #e3e0ee;\n",
       "            color:  #000000;\n",
       "        }    #T_07ae5bbe_0ee9_11eb_b6eb_71d86da00b0drow4_col6 {\n",
       "            background-color:  #034871;\n",
       "            color:  #f1f1f1;\n",
       "        }    #T_07ae5bbe_0ee9_11eb_b6eb_71d86da00b0drow5_col0 {\n",
       "            background-color:  #c1cae2;\n",
       "            color:  #000000;\n",
       "        }    #T_07ae5bbe_0ee9_11eb_b6eb_71d86da00b0drow5_col1 {\n",
       "            background-color:  #fff7fb;\n",
       "            color:  #000000;\n",
       "        }    #T_07ae5bbe_0ee9_11eb_b6eb_71d86da00b0drow5_col2 {\n",
       "            background-color:  #c9cee4;\n",
       "            color:  #000000;\n",
       "        }    #T_07ae5bbe_0ee9_11eb_b6eb_71d86da00b0drow5_col3 {\n",
       "            background-color:  #3790c0;\n",
       "            color:  #000000;\n",
       "        }    #T_07ae5bbe_0ee9_11eb_b6eb_71d86da00b0drow5_col4 {\n",
       "            background-color:  #f0eaf4;\n",
       "            color:  #000000;\n",
       "        }    #T_07ae5bbe_0ee9_11eb_b6eb_71d86da00b0drow5_col5 {\n",
       "            background-color:  #023858;\n",
       "            color:  #f1f1f1;\n",
       "        }    #T_07ae5bbe_0ee9_11eb_b6eb_71d86da00b0drow5_col6 {\n",
       "            background-color:  #eae6f1;\n",
       "            color:  #000000;\n",
       "        }    #T_07ae5bbe_0ee9_11eb_b6eb_71d86da00b0drow6_col0 {\n",
       "            background-color:  #fff7fb;\n",
       "            color:  #000000;\n",
       "        }    #T_07ae5bbe_0ee9_11eb_b6eb_71d86da00b0drow6_col1 {\n",
       "            background-color:  #056ead;\n",
       "            color:  #f1f1f1;\n",
       "        }    #T_07ae5bbe_0ee9_11eb_b6eb_71d86da00b0drow6_col2 {\n",
       "            background-color:  #fff7fb;\n",
       "            color:  #000000;\n",
       "        }    #T_07ae5bbe_0ee9_11eb_b6eb_71d86da00b0drow6_col3 {\n",
       "            background-color:  #fff7fb;\n",
       "            color:  #000000;\n",
       "        }    #T_07ae5bbe_0ee9_11eb_b6eb_71d86da00b0drow6_col4 {\n",
       "            background-color:  #034973;\n",
       "            color:  #f1f1f1;\n",
       "        }    #T_07ae5bbe_0ee9_11eb_b6eb_71d86da00b0drow6_col5 {\n",
       "            background-color:  #ece7f2;\n",
       "            color:  #000000;\n",
       "        }    #T_07ae5bbe_0ee9_11eb_b6eb_71d86da00b0drow6_col6 {\n",
       "            background-color:  #023858;\n",
       "            color:  #f1f1f1;\n",
       "        }</style><table id=\"T_07ae5bbe_0ee9_11eb_b6eb_71d86da00b0d\" ><thead>    <tr>        <th class=\"blank level0\" ></th>        <th class=\"col_heading level0 col0\" >boat_speed</th>        <th class=\"col_heading level0 col1\" >cos_attack_angle</th>        <th class=\"col_heading level0 col2\" >sin_attack_angle</th>        <th class=\"col_heading level0 col3\" >wind_speed</th>        <th class=\"col_heading level0 col4\" >cos_target_angle</th>        <th class=\"col_heading level0 col5\" >sin_target_angle</th>        <th class=\"col_heading level0 col6\" >cos_boat_angle</th>    </tr></thead><tbody>\n",
       "                <tr>\n",
       "                        <th id=\"T_07ae5bbe_0ee9_11eb_b6eb_71d86da00b0dlevel0_row0\" class=\"row_heading level0 row0\" >boat_speed</th>\n",
       "                        <td id=\"T_07ae5bbe_0ee9_11eb_b6eb_71d86da00b0drow0_col0\" class=\"data row0 col0\" >1.000000</td>\n",
       "                        <td id=\"T_07ae5bbe_0ee9_11eb_b6eb_71d86da00b0drow0_col1\" class=\"data row0 col1\" >-0.169869</td>\n",
       "                        <td id=\"T_07ae5bbe_0ee9_11eb_b6eb_71d86da00b0drow0_col2\" class=\"data row0 col2\" >0.372060</td>\n",
       "                        <td id=\"T_07ae5bbe_0ee9_11eb_b6eb_71d86da00b0drow0_col3\" class=\"data row0 col3\" >0.749770</td>\n",
       "                        <td id=\"T_07ae5bbe_0ee9_11eb_b6eb_71d86da00b0drow0_col4\" class=\"data row0 col4\" >-0.124149</td>\n",
       "                        <td id=\"T_07ae5bbe_0ee9_11eb_b6eb_71d86da00b0drow0_col5\" class=\"data row0 col5\" >0.132518</td>\n",
       "                        <td id=\"T_07ae5bbe_0ee9_11eb_b6eb_71d86da00b0drow0_col6\" class=\"data row0 col6\" >-0.228734</td>\n",
       "            </tr>\n",
       "            <tr>\n",
       "                        <th id=\"T_07ae5bbe_0ee9_11eb_b6eb_71d86da00b0dlevel0_row1\" class=\"row_heading level0 row1\" >cos_attack_angle</th>\n",
       "                        <td id=\"T_07ae5bbe_0ee9_11eb_b6eb_71d86da00b0drow1_col0\" class=\"data row1 col0\" >-0.169869</td>\n",
       "                        <td id=\"T_07ae5bbe_0ee9_11eb_b6eb_71d86da00b0drow1_col1\" class=\"data row1 col1\" >1.000000</td>\n",
       "                        <td id=\"T_07ae5bbe_0ee9_11eb_b6eb_71d86da00b0drow1_col2\" class=\"data row1 col2\" >0.006623</td>\n",
       "                        <td id=\"T_07ae5bbe_0ee9_11eb_b6eb_71d86da00b0drow1_col3\" class=\"data row1 col3\" >-0.068656</td>\n",
       "                        <td id=\"T_07ae5bbe_0ee9_11eb_b6eb_71d86da00b0drow1_col4\" class=\"data row1 col4\" >0.684405</td>\n",
       "                        <td id=\"T_07ae5bbe_0ee9_11eb_b6eb_71d86da00b0drow1_col5\" class=\"data row1 col5\" >-0.215598</td>\n",
       "                        <td id=\"T_07ae5bbe_0ee9_11eb_b6eb_71d86da00b0drow1_col6\" class=\"data row1 col6\" >0.709679</td>\n",
       "            </tr>\n",
       "            <tr>\n",
       "                        <th id=\"T_07ae5bbe_0ee9_11eb_b6eb_71d86da00b0dlevel0_row2\" class=\"row_heading level0 row2\" >sin_attack_angle</th>\n",
       "                        <td id=\"T_07ae5bbe_0ee9_11eb_b6eb_71d86da00b0drow2_col0\" class=\"data row2 col0\" >0.372060</td>\n",
       "                        <td id=\"T_07ae5bbe_0ee9_11eb_b6eb_71d86da00b0drow2_col1\" class=\"data row2 col1\" >0.006623</td>\n",
       "                        <td id=\"T_07ae5bbe_0ee9_11eb_b6eb_71d86da00b0drow2_col2\" class=\"data row2 col2\" >1.000000</td>\n",
       "                        <td id=\"T_07ae5bbe_0ee9_11eb_b6eb_71d86da00b0drow2_col3\" class=\"data row2 col3\" >0.474577</td>\n",
       "                        <td id=\"T_07ae5bbe_0ee9_11eb_b6eb_71d86da00b0drow2_col4\" class=\"data row2 col4\" >0.070566</td>\n",
       "                        <td id=\"T_07ae5bbe_0ee9_11eb_b6eb_71d86da00b0drow2_col5\" class=\"data row2 col5\" >0.223785</td>\n",
       "                        <td id=\"T_07ae5bbe_0ee9_11eb_b6eb_71d86da00b0drow2_col6\" class=\"data row2 col6\" >-0.068226</td>\n",
       "            </tr>\n",
       "            <tr>\n",
       "                        <th id=\"T_07ae5bbe_0ee9_11eb_b6eb_71d86da00b0dlevel0_row3\" class=\"row_heading level0 row3\" >wind_speed</th>\n",
       "                        <td id=\"T_07ae5bbe_0ee9_11eb_b6eb_71d86da00b0drow3_col0\" class=\"data row3 col0\" >0.749770</td>\n",
       "                        <td id=\"T_07ae5bbe_0ee9_11eb_b6eb_71d86da00b0drow3_col1\" class=\"data row3 col1\" >-0.068656</td>\n",
       "                        <td id=\"T_07ae5bbe_0ee9_11eb_b6eb_71d86da00b0drow3_col2\" class=\"data row3 col2\" >0.474577</td>\n",
       "                        <td id=\"T_07ae5bbe_0ee9_11eb_b6eb_71d86da00b0drow3_col3\" class=\"data row3 col3\" >1.000000</td>\n",
       "                        <td id=\"T_07ae5bbe_0ee9_11eb_b6eb_71d86da00b0drow3_col4\" class=\"data row3 col4\" >-0.024937</td>\n",
       "                        <td id=\"T_07ae5bbe_0ee9_11eb_b6eb_71d86da00b0drow3_col5\" class=\"data row3 col5\" >0.574937</td>\n",
       "                        <td id=\"T_07ae5bbe_0ee9_11eb_b6eb_71d86da00b0drow3_col6\" class=\"data row3 col6\" >-0.128242</td>\n",
       "            </tr>\n",
       "            <tr>\n",
       "                        <th id=\"T_07ae5bbe_0ee9_11eb_b6eb_71d86da00b0dlevel0_row4\" class=\"row_heading level0 row4\" >cos_target_angle</th>\n",
       "                        <td id=\"T_07ae5bbe_0ee9_11eb_b6eb_71d86da00b0drow4_col0\" class=\"data row4 col0\" >-0.124149</td>\n",
       "                        <td id=\"T_07ae5bbe_0ee9_11eb_b6eb_71d86da00b0drow4_col1\" class=\"data row4 col1\" >0.684405</td>\n",
       "                        <td id=\"T_07ae5bbe_0ee9_11eb_b6eb_71d86da00b0drow4_col2\" class=\"data row4 col2\" >0.070566</td>\n",
       "                        <td id=\"T_07ae5bbe_0ee9_11eb_b6eb_71d86da00b0drow4_col3\" class=\"data row4 col3\" >-0.024937</td>\n",
       "                        <td id=\"T_07ae5bbe_0ee9_11eb_b6eb_71d86da00b0drow4_col4\" class=\"data row4 col4\" >1.000000</td>\n",
       "                        <td id=\"T_07ae5bbe_0ee9_11eb_b6eb_71d86da00b0drow4_col5\" class=\"data row4 col5\" >-0.012991</td>\n",
       "                        <td id=\"T_07ae5bbe_0ee9_11eb_b6eb_71d86da00b0drow4_col6\" class=\"data row4 col6\" >0.925472</td>\n",
       "            </tr>\n",
       "            <tr>\n",
       "                        <th id=\"T_07ae5bbe_0ee9_11eb_b6eb_71d86da00b0dlevel0_row5\" class=\"row_heading level0 row5\" >sin_target_angle</th>\n",
       "                        <td id=\"T_07ae5bbe_0ee9_11eb_b6eb_71d86da00b0drow5_col0\" class=\"data row5 col0\" >0.132518</td>\n",
       "                        <td id=\"T_07ae5bbe_0ee9_11eb_b6eb_71d86da00b0drow5_col1\" class=\"data row5 col1\" >-0.215598</td>\n",
       "                        <td id=\"T_07ae5bbe_0ee9_11eb_b6eb_71d86da00b0drow5_col2\" class=\"data row5 col2\" >0.223785</td>\n",
       "                        <td id=\"T_07ae5bbe_0ee9_11eb_b6eb_71d86da00b0drow5_col3\" class=\"data row5 col3\" >0.574937</td>\n",
       "                        <td id=\"T_07ae5bbe_0ee9_11eb_b6eb_71d86da00b0drow5_col4\" class=\"data row5 col4\" >-0.012991</td>\n",
       "                        <td id=\"T_07ae5bbe_0ee9_11eb_b6eb_71d86da00b0drow5_col5\" class=\"data row5 col5\" >1.000000</td>\n",
       "                        <td id=\"T_07ae5bbe_0ee9_11eb_b6eb_71d86da00b0drow5_col6\" class=\"data row5 col6\" >-0.061715</td>\n",
       "            </tr>\n",
       "            <tr>\n",
       "                        <th id=\"T_07ae5bbe_0ee9_11eb_b6eb_71d86da00b0dlevel0_row6\" class=\"row_heading level0 row6\" >cos_boat_angle</th>\n",
       "                        <td id=\"T_07ae5bbe_0ee9_11eb_b6eb_71d86da00b0drow6_col0\" class=\"data row6 col0\" >-0.228734</td>\n",
       "                        <td id=\"T_07ae5bbe_0ee9_11eb_b6eb_71d86da00b0drow6_col1\" class=\"data row6 col1\" >0.709679</td>\n",
       "                        <td id=\"T_07ae5bbe_0ee9_11eb_b6eb_71d86da00b0drow6_col2\" class=\"data row6 col2\" >-0.068226</td>\n",
       "                        <td id=\"T_07ae5bbe_0ee9_11eb_b6eb_71d86da00b0drow6_col3\" class=\"data row6 col3\" >-0.128242</td>\n",
       "                        <td id=\"T_07ae5bbe_0ee9_11eb_b6eb_71d86da00b0drow6_col4\" class=\"data row6 col4\" >0.925472</td>\n",
       "                        <td id=\"T_07ae5bbe_0ee9_11eb_b6eb_71d86da00b0drow6_col5\" class=\"data row6 col5\" >-0.061715</td>\n",
       "                        <td id=\"T_07ae5bbe_0ee9_11eb_b6eb_71d86da00b0drow6_col6\" class=\"data row6 col6\" >1.000000</td>\n",
       "            </tr>\n",
       "    </tbody></table>"
      ],
      "text/plain": [
       "<pandas.io.formats.style.Styler at 0x7f80b2310ef0>"
      ]
     },
     "execution_count": 5,
     "metadata": {},
     "output_type": "execute_result"
    }
   ],
   "source": [
    "corr = df_reordered.corr()\n",
    "corr.style.background_gradient()"
   ]
  },
  {
   "cell_type": "markdown",
   "metadata": {},
   "source": [
    "Let's remove duplicates and then have an overview of remaining data"
   ]
  },
  {
   "cell_type": "code",
   "execution_count": 6,
   "metadata": {},
   "outputs": [],
   "source": [
    "df_reordered = df_reordered.drop_duplicates(subset=dup_columns_check)"
   ]
  },
  {
   "cell_type": "code",
   "execution_count": 7,
   "metadata": {},
   "outputs": [
    {
     "data": {
      "text/html": [
       "<div>\n",
       "<style scoped>\n",
       "    .dataframe tbody tr th:only-of-type {\n",
       "        vertical-align: middle;\n",
       "    }\n",
       "\n",
       "    .dataframe tbody tr th {\n",
       "        vertical-align: top;\n",
       "    }\n",
       "\n",
       "    .dataframe thead th {\n",
       "        text-align: right;\n",
       "    }\n",
       "</style>\n",
       "<table border=\"1\" class=\"dataframe\">\n",
       "  <thead>\n",
       "    <tr style=\"text-align: right;\">\n",
       "      <th></th>\n",
       "      <th>boat_speed</th>\n",
       "      <th>cos_attack_angle</th>\n",
       "      <th>sin_attack_angle</th>\n",
       "      <th>wind_speed</th>\n",
       "      <th>cos_target_angle</th>\n",
       "      <th>sin_target_angle</th>\n",
       "      <th>cos_boat_angle</th>\n",
       "    </tr>\n",
       "  </thead>\n",
       "  <tbody>\n",
       "    <tr>\n",
       "      <th>count</th>\n",
       "      <td>3436.000000</td>\n",
       "      <td>3436.000000</td>\n",
       "      <td>3436.000000</td>\n",
       "      <td>3436.000000</td>\n",
       "      <td>3436.000000</td>\n",
       "      <td>3436.000000</td>\n",
       "      <td>3436.000000</td>\n",
       "    </tr>\n",
       "    <tr>\n",
       "      <th>mean</th>\n",
       "      <td>6.435845</td>\n",
       "      <td>-0.198043</td>\n",
       "      <td>0.058539</td>\n",
       "      <td>8.401832</td>\n",
       "      <td>-0.244525</td>\n",
       "      <td>-0.068352</td>\n",
       "      <td>-0.276057</td>\n",
       "    </tr>\n",
       "    <tr>\n",
       "      <th>std</th>\n",
       "      <td>2.747382</td>\n",
       "      <td>0.559119</td>\n",
       "      <td>0.803129</td>\n",
       "      <td>5.182322</td>\n",
       "      <td>0.619872</td>\n",
       "      <td>0.742675</td>\n",
       "      <td>0.595560</td>\n",
       "    </tr>\n",
       "    <tr>\n",
       "      <th>min</th>\n",
       "      <td>0.000000</td>\n",
       "      <td>-0.999884</td>\n",
       "      <td>-1.000000</td>\n",
       "      <td>2.000000</td>\n",
       "      <td>-1.000000</td>\n",
       "      <td>-0.999996</td>\n",
       "      <td>-1.000000</td>\n",
       "    </tr>\n",
       "    <tr>\n",
       "      <th>25%</th>\n",
       "      <td>4.396755</td>\n",
       "      <td>-0.701373</td>\n",
       "      <td>-0.762417</td>\n",
       "      <td>4.625820</td>\n",
       "      <td>-0.849687</td>\n",
       "      <td>-0.793188</td>\n",
       "      <td>-0.770911</td>\n",
       "    </tr>\n",
       "    <tr>\n",
       "      <th>50%</th>\n",
       "      <td>5.818855</td>\n",
       "      <td>-0.302591</td>\n",
       "      <td>0.514912</td>\n",
       "      <td>6.735055</td>\n",
       "      <td>-0.311420</td>\n",
       "      <td>-0.267974</td>\n",
       "      <td>-0.453952</td>\n",
       "    </tr>\n",
       "    <tr>\n",
       "      <th>75%</th>\n",
       "      <td>7.868065</td>\n",
       "      <td>0.200625</td>\n",
       "      <td>0.817129</td>\n",
       "      <td>9.959260</td>\n",
       "      <td>0.193021</td>\n",
       "      <td>0.824016</td>\n",
       "      <td>0.173648</td>\n",
       "    </tr>\n",
       "    <tr>\n",
       "      <th>max</th>\n",
       "      <td>14.291300</td>\n",
       "      <td>0.999766</td>\n",
       "      <td>1.000000</td>\n",
       "      <td>21.077130</td>\n",
       "      <td>0.999749</td>\n",
       "      <td>0.999990</td>\n",
       "      <td>0.993901</td>\n",
       "    </tr>\n",
       "  </tbody>\n",
       "</table>\n",
       "</div>"
      ],
      "text/plain": [
       "        boat_speed  cos_attack_angle  sin_attack_angle   wind_speed  \\\n",
       "count  3436.000000       3436.000000       3436.000000  3436.000000   \n",
       "mean      6.435845         -0.198043          0.058539     8.401832   \n",
       "std       2.747382          0.559119          0.803129     5.182322   \n",
       "min       0.000000         -0.999884         -1.000000     2.000000   \n",
       "25%       4.396755         -0.701373         -0.762417     4.625820   \n",
       "50%       5.818855         -0.302591          0.514912     6.735055   \n",
       "75%       7.868065          0.200625          0.817129     9.959260   \n",
       "max      14.291300          0.999766          1.000000    21.077130   \n",
       "\n",
       "       cos_target_angle  sin_target_angle  cos_boat_angle  \n",
       "count       3436.000000       3436.000000     3436.000000  \n",
       "mean          -0.244525         -0.068352       -0.276057  \n",
       "std            0.619872          0.742675        0.595560  \n",
       "min           -1.000000         -0.999996       -1.000000  \n",
       "25%           -0.849687         -0.793188       -0.770911  \n",
       "50%           -0.311420         -0.267974       -0.453952  \n",
       "75%            0.193021          0.824016        0.173648  \n",
       "max            0.999749          0.999990        0.993901  "
      ]
     },
     "execution_count": 7,
     "metadata": {},
     "output_type": "execute_result"
    }
   ],
   "source": [
    "df_reordered.describe()"
   ]
  },
  {
   "cell_type": "markdown",
   "metadata": {},
   "source": [
    "## Create train-val-test split"
   ]
  },
  {
   "cell_type": "code",
   "execution_count": 8,
   "metadata": {},
   "outputs": [],
   "source": [
    "def save_train_and_validation_data_to_s3(data) :\n",
    "    test_col = 'cos_boat_angle'\n",
    "    y_data = data[test_col]\n",
    "    X_data = data.drop(columns=[test_col])\n",
    "    X_data = X_data.to_numpy()\n",
    "    y_data = y_data.to_numpy()\n",
    "    \n",
    "    # 70% training, 15% validation, 15% testing split\n",
    "    train_X, test_X, train_y, test_y = train_test_split(X_data, y_data, train_size=0.7, random_state=42)\n",
    "    \n",
    "    val_X, test_X, val_y, test_y = train_test_split(test_X, test_y, train_size=0.5, random_state=41)\n",
    "\n",
    "    train_file = 'non_linear_train.data'\n",
    "\n",
    "    f = io.BytesIO()\n",
    "    smac.write_numpy_to_dense_tensor(f, train_X.astype('float32'), train_y.astype('float32'))\n",
    "    f.seek(0)\n",
    "    boto3.Session().resource('s3').Bucket(BUCKET).Object(os.path.join(PREFIX, TEST_NAME, 'train', train_file)).upload_fileobj(f)\n",
    "    validation_file = 'non_linear_validation.data'\n",
    "    \n",
    "    f = io.BytesIO()\n",
    "    smac.write_numpy_to_dense_tensor(f, val_X.astype('float32'), val_y.astype('float32'))\n",
    "    f.seek(0)\n",
    "    boto3.Session().resource('s3').Bucket(BUCKET).Object(os.path.join(PREFIX, TEST_NAME,'validation', validation_file)).upload_fileobj(f)\n",
    "    return train_X, train_y, val_X, val_y, test_X, test_y"
   ]
  },
  {
   "cell_type": "markdown",
   "metadata": {},
   "source": [
    "## Create a non-linear regression model using keras <a class=\"anchor\" id=\"model-creation\"></a>"
   ]
  },
  {
   "cell_type": "code",
   "execution_count": 9,
   "metadata": {},
   "outputs": [],
   "source": [
    "import tensorflow as tf\n",
    "from tensorflow.keras.models import Sequential\n",
    "from tensorflow.keras.layers import Dense\n",
    "from tensorflow.keras.layers import Dropout\n",
    "\n",
    "\n",
    "# Build the model\n",
    "def wide_keras_model(size_1, size_2):\n",
    "    model = Sequential()\n",
    "    model.add(Dense(size_1, input_dim=6, kernel_initializer='normal', bias_initializer='normal', activation='relu', name='hidden_1'))\n",
    "    model.add(Dropout(0.5, seed=42))\n",
    "    model.add(Dense(size_2, kernel_initializer='normal', bias_initializer='normal', activation='relu', name='hidden_2'))\n",
    "    model.add(Dropout(0.5, seed=42))\n",
    "    model.add(Dense(1, kernel_initializer='normal', bias_initializer='normal', activation='linear'))\n",
    "\n",
    "    # Compile the model\n",
    "    model.compile(loss=\"mean_squared_error\",\n",
    "                  metrics=[tf.keras.metrics.MeanAbsoluteError()],\n",
    "                  optimizer='adam')\n",
    "    return model"
   ]
  },
  {
   "cell_type": "code",
   "execution_count": 10,
   "metadata": {},
   "outputs": [
    {
     "name": "stdout",
     "output_type": "stream",
     "text": [
      "Number of examples in training data: 2405\n",
      "Number of examples in validation data: 515\n",
      "Number of examples in test data: 516\n"
     ]
    }
   ],
   "source": [
    "train_X, train_y, val_X, val_y, test_X, test_y = save_train_and_validation_data_to_s3(df_reordered)\n",
    "train_y = np.expand_dims(train_y, axis=1)\n",
    "val_y = np.expand_dims(val_y, axis=1)\n",
    "test_y = np.expand_dims(test_y, axis=1)\n",
    "print(f'Number of examples in training data: {len(train_y)}')\n",
    "print(f'Number of examples in validation data: {len(val_y)}')\n",
    "print(f'Number of examples in test data: {len(test_y)}')"
   ]
  },
  {
   "cell_type": "markdown",
   "metadata": {},
   "source": [
    "### Use a manual grid search for best architecture using Validation data and EarlyStopping"
   ]
  },
  {
   "cell_type": "code",
   "execution_count": 11,
   "metadata": {},
   "outputs": [
    {
     "name": "stdout",
     "output_type": "stream",
     "text": [
      "Scores for hidden layer sizes 64 and 32:\n",
      "training MAE:0.0834, MSE:0.0203\n",
      "validation MAE:0.0855, MSE:0.0237\n",
      "\n",
      "\n",
      "Scores for hidden layer sizes 128 and 64:\n",
      "training MAE:0.0746, MSE:0.0147\n",
      "validation MAE:0.0788, MSE:0.0177\n",
      "\n",
      "\n",
      "Scores for hidden layer sizes 256 and 128:\n",
      "training MAE:0.0660, MSE:0.0107\n",
      "validation MAE:0.0680, MSE:0.0137\n",
      "\n",
      "\n",
      "Scores for hidden layer sizes 512 and 256:\n",
      "training MAE:0.0635, MSE:0.0107\n",
      "validation MAE:0.0694, MSE:0.0146\n",
      "\n",
      "\n"
     ]
    }
   ],
   "source": [
    "hidden_layer_sizes = [(64, 32), (128, 64), (256, 128), (512, 256)]\n",
    "models = []\n",
    "scores = []\n",
    "callback = tf.keras.callbacks.EarlyStopping(\n",
    "    monitor='val_loss',\n",
    "    patience=15, \n",
    "    restore_best_weights=True,\n",
    "    verbose=0)\n",
    "\n",
    "for i, (size_1, size_2) in enumerate(hidden_layer_sizes):\n",
    "    models.append(wide_keras_model(size_1, size_2))\n",
    "    models[i].fit(\n",
    "        train_X,\n",
    "        train_y,\n",
    "        epochs=200,\n",
    "        batch_size=16,\n",
    "        verbose=0,\n",
    "        validation_data=(val_X, val_y),\n",
    "        callbacks=[callback])\n",
    "    training_score = models[i].evaluate(train_X, train_y, verbose=0)\n",
    "    val_score = models[i].evaluate(val_X, val_y, verbose=0)\n",
    "    scores.append(val_score[0])\n",
    "    print(f'Scores for hidden layer sizes {size_1} and {size_2}:')\n",
    "    print(f'training MAE:{training_score[1]:.4f}, MSE:{training_score[0]:.4f}')\n",
    "    print(f'validation MAE:{val_score[1]:.4f}, MSE:{val_score[0]:.4f}')\n",
    "    print('\\n')"
   ]
  },
  {
   "cell_type": "markdown",
   "metadata": {},
   "source": [
    "## Evaluate best model on test data <a class=\"anchor\" id=\"model-evaluation\"></a>"
   ]
  },
  {
   "cell_type": "code",
   "execution_count": 12,
   "metadata": {},
   "outputs": [
    {
     "name": "stdout",
     "output_type": "stream",
     "text": [
      "Model: \"sequential_2\"\n",
      "_________________________________________________________________\n",
      "Layer (type)                 Output Shape              Param #   \n",
      "=================================================================\n",
      "hidden_1 (Dense)             (None, 256)               1792      \n",
      "_________________________________________________________________\n",
      "dropout_4 (Dropout)          (None, 256)               0         \n",
      "_________________________________________________________________\n",
      "hidden_2 (Dense)             (None, 128)               32896     \n",
      "_________________________________________________________________\n",
      "dropout_5 (Dropout)          (None, 128)               0         \n",
      "_________________________________________________________________\n",
      "dense_2 (Dense)              (None, 1)                 129       \n",
      "=================================================================\n",
      "Total params: 34,817\n",
      "Trainable params: 34,817\n",
      "Non-trainable params: 0\n",
      "_________________________________________________________________\n",
      "Best performing model is of sizes (256, 128) for hidden layers\n",
      "Best model MAE on the test set: 0.0712\n",
      "Best model MSE on the test set: 0.0151\n"
     ]
    }
   ],
   "source": [
    "best_idx = np.argmin(scores)\n",
    "best_sizes = hidden_layer_sizes[best_idx]\n",
    "best_model = models[best_idx]\n",
    "best_model.summary()\n",
    "test_score = best_model.evaluate(test_X, test_y, verbose=0)\n",
    "print(f'Best performing model is of sizes {best_sizes} for hidden layers')\n",
    "print(f'Best model MAE on the test set: {test_score[1]:.4f}')\n",
    "print(f'Best model MSE on the test set: {test_score[0]:.4f}')"
   ]
  },
  {
   "cell_type": "code",
   "execution_count": 13,
   "metadata": {},
   "outputs": [
    {
     "data": {
      "image/png": "[encoded data removed]",
      "text/plain": [
       "<Figure size 1080x360 with 1 Axes>"
      ]
     },
     "metadata": {
      "needs_background": "light"
     },
     "output_type": "display_data"
    }
   ],
   "source": [
    "from matplotlib import pyplot as plt\n",
    "\n",
    "plt.figure(figsize=(15,5))\n",
    "plt.plot(best_model.history.history['loss'], label='train')\n",
    "plt.plot(best_model.history.history['val_loss'], label='validation')\n",
    "plt.legend()\n",
    "plt.show()"
   ]
  },
  {
   "cell_type": "code",
   "execution_count": 14,
   "metadata": {},
   "outputs": [
    {
     "data": {
      "image/png": "[encoded data removed]",
      "text/plain": [
       "<Figure size 1080x360 with 1 Axes>"
      ]
     },
     "metadata": {
      "needs_background": "light"
     },
     "output_type": "display_data"
    }
   ],
   "source": [
    "plt.figure(figsize=(15,5))\n",
    "plt.plot(best_model.history.history['mean_absolute_error'], label='train')\n",
    "plt.plot(best_model.history.history['val_mean_absolute_error'], label='validation')\n",
    "plt.legend()\n",
    "plt.show()"
   ]
  },
  {
   "cell_type": "markdown",
   "metadata": {},
   "source": [
    "### Sanity check using different library"
   ]
  },
  {
   "cell_type": "code",
   "execution_count": 15,
   "metadata": {},
   "outputs": [
    {
     "name": "stdout",
     "output_type": "stream",
     "text": [
      "TEST MAE: 0.0712\n",
      "Test MSE: 0.0151, \n",
      "\n",
      "Top highest absolute value errors on test data: \n",
      " ['1.234: (0.491, -0.743)', '0.744: (-0.459, 0.285)', '0.626: (-0.413, 0.213)', '0.569: (0.389, 0.958)', '0.546: (-0.426, 0.12)', '0.388: (0.569, 0.956)', '0.345: (0.297, -0.048)', '0.338: (0.628, 0.966)', '0.329: (-0.042, 0.287)', '0.323: (-0.420, -0.744)'] \n",
      "\n",
      "Top lowest absolute value errors on test data: \n",
      " ['0.002: (-0.529, -0.528)', '0.002: (-0.973, -0.974)', '0.002: (-0.480, -0.479)', '0.001: (0.060, 0.061)', '0.001: (-0.575, -0.574)', '0.001: (0.048, 0.049)', '0.001: (-0.723, -0.722)', '0.001: (-0.483, -0.483)', '0.001: (0.033, 0.034)', '0.0: (-0.481, -0.481)']\n"
     ]
    }
   ],
   "source": [
    "from sklearn.metrics import mean_squared_error\n",
    "from scipy.stats import gaussian_kde\n",
    "\n",
    "test_pred = best_model.predict(test_X)\n",
    "absolute_error = np.squeeze(np.absolute(test_pred - test_y))\n",
    "print(f'TEST MAE: {np.mean(absolute_error):.4f}')\n",
    "mse = mean_squared_error(test_y, test_pred)\n",
    "print(f\"Test MSE: {round(mse,4)}, \\n\")\n",
    "\n",
    "abs_error = [(-e, i) for i, e in enumerate(absolute_error)]\n",
    "abs_error.sort()\n",
    "highest_errors = [\n",
    "    f'{round(-e,3)}: ({test_pred[i][0]:.3f}, {round(test_y[i][0], 3)})' for e, i in abs_error]\n",
    "print(f'Top highest absolute value errors on test data: \\n {highest_errors[:10]} \\n')\n",
    "print(f'Top lowest absolute value errors on test data: \\n {highest_errors[-10:]}')\n"
   ]
  },
  {
   "cell_type": "code",
   "execution_count": 16,
   "metadata": {},
   "outputs": [
    {
     "data": {
      "image/png": "[encoded data removed]",
      "text/plain": [
       "<Figure size 1080x360 with 1 Axes>"
      ]
     },
     "metadata": {
      "needs_background": "light"
     },
     "output_type": "display_data"
    }
   ],
   "source": [
    "density = gaussian_kde(absolute_error)\n",
    "xs = np.linspace(0,1,50)\n",
    "plt.figure(figsize=(15,5))\n",
    "plt.plot(xs,density(xs))\n",
    "plt.locator_params(axis='y', nbins=20)\n",
    "plt.locator_params(axis='x', nbins=30)\n",
    "plt.title('Density plot of absolute error')\n",
    "plt.show()"
   ]
  },
  {
   "cell_type": "markdown",
   "metadata": {},
   "source": [
    "## Save the best model to bucket"
   ]
  },
  {
   "cell_type": "code",
   "execution_count": 32,
   "metadata": {},
   "outputs": [
    {
     "ename": "RuntimeError",
     "evalue": "build_tensor_info is not supported in Eager mode.",
     "output_type": "error",
     "traceback": [
      "\u001b[0;31m---------------------------------------------------------------------------\u001b[0m",
      "\u001b[0;31mRuntimeError\u001b[0m                              Traceback (most recent call last)",
      "\u001b[0;32m<ipython-input-32-a8667aa93874>\u001b[0m in \u001b[0;36m<module>\u001b[0;34m\u001b[0m\n\u001b[1;32m      7\u001b[0m \u001b[0mbuilder\u001b[0m \u001b[0;34m=\u001b[0m \u001b[0mbuilder\u001b[0m\u001b[0;34m.\u001b[0m\u001b[0mSavedModelBuilder\u001b[0m\u001b[0;34m(\u001b[0m\u001b[0mexport_dir\u001b[0m\u001b[0;34m)\u001b[0m\u001b[0;34m\u001b[0m\u001b[0;34m\u001b[0m\u001b[0m\n\u001b[1;32m      8\u001b[0m signature = predict_signature_def(\n\u001b[0;32m----> 9\u001b[0;31m     inputs={\"inputs\": best_model.input}, outputs={\"score\": best_model.output})\n\u001b[0m\u001b[1;32m     10\u001b[0m \u001b[0;32mfrom\u001b[0m \u001b[0mkeras\u001b[0m \u001b[0;32mimport\u001b[0m \u001b[0mbackend\u001b[0m \u001b[0;32mas\u001b[0m \u001b[0mK\u001b[0m\u001b[0;34m\u001b[0m\u001b[0;34m\u001b[0m\u001b[0m\n\u001b[1;32m     11\u001b[0m \u001b[0;32mwith\u001b[0m \u001b[0mK\u001b[0m\u001b[0;34m.\u001b[0m\u001b[0mget_session\u001b[0m\u001b[0;34m(\u001b[0m\u001b[0;34m)\u001b[0m \u001b[0;32mas\u001b[0m \u001b[0msess\u001b[0m\u001b[0;34m:\u001b[0m\u001b[0;34m\u001b[0m\u001b[0;34m\u001b[0m\u001b[0m\n",
      "\u001b[0;32m~/anaconda3/envs/tensorflow2_p36/lib/python3.6/site-packages/tensorflow_core/python/saved_model/signature_def_utils_impl.py\u001b[0m in \u001b[0;36mpredict_signature_def\u001b[0;34m(inputs, outputs)\u001b[0m\n\u001b[1;32m    199\u001b[0m \u001b[0;34m\u001b[0m\u001b[0m\n\u001b[1;32m    200\u001b[0m   signature_inputs = {key: utils.build_tensor_info(tensor)\n\u001b[0;32m--> 201\u001b[0;31m                       for key, tensor in inputs.items()}\n\u001b[0m\u001b[1;32m    202\u001b[0m   signature_outputs = {key: utils.build_tensor_info(tensor)\n\u001b[1;32m    203\u001b[0m                        for key, tensor in outputs.items()}\n",
      "\u001b[0;32m~/anaconda3/envs/tensorflow2_p36/lib/python3.6/site-packages/tensorflow_core/python/saved_model/signature_def_utils_impl.py\u001b[0m in \u001b[0;36m<dictcomp>\u001b[0;34m(.0)\u001b[0m\n\u001b[1;32m    199\u001b[0m \u001b[0;34m\u001b[0m\u001b[0m\n\u001b[1;32m    200\u001b[0m   signature_inputs = {key: utils.build_tensor_info(tensor)\n\u001b[0;32m--> 201\u001b[0;31m                       for key, tensor in inputs.items()}\n\u001b[0m\u001b[1;32m    202\u001b[0m   signature_outputs = {key: utils.build_tensor_info(tensor)\n\u001b[1;32m    203\u001b[0m                        for key, tensor in outputs.items()}\n",
      "\u001b[0;32m~/anaconda3/envs/tensorflow2_p36/lib/python3.6/site-packages/tensorflow_core/python/util/deprecation.py\u001b[0m in \u001b[0;36mnew_func\u001b[0;34m(*args, **kwargs)\u001b[0m\n\u001b[1;32m    322\u001b[0m               \u001b[0;34m'in a future version'\u001b[0m \u001b[0;32mif\u001b[0m \u001b[0mdate\u001b[0m \u001b[0;32mis\u001b[0m \u001b[0;32mNone\u001b[0m \u001b[0;32melse\u001b[0m \u001b[0;34m(\u001b[0m\u001b[0;34m'after %s'\u001b[0m \u001b[0;34m%\u001b[0m \u001b[0mdate\u001b[0m\u001b[0;34m)\u001b[0m\u001b[0;34m,\u001b[0m\u001b[0;34m\u001b[0m\u001b[0;34m\u001b[0m\u001b[0m\n\u001b[1;32m    323\u001b[0m               instructions)\n\u001b[0;32m--> 324\u001b[0;31m       \u001b[0;32mreturn\u001b[0m \u001b[0mfunc\u001b[0m\u001b[0;34m(\u001b[0m\u001b[0;34m*\u001b[0m\u001b[0margs\u001b[0m\u001b[0;34m,\u001b[0m \u001b[0;34m**\u001b[0m\u001b[0mkwargs\u001b[0m\u001b[0;34m)\u001b[0m\u001b[0;34m\u001b[0m\u001b[0;34m\u001b[0m\u001b[0m\n\u001b[0m\u001b[1;32m    325\u001b[0m     return tf_decorator.make_decorator(\n\u001b[1;32m    326\u001b[0m         \u001b[0mfunc\u001b[0m\u001b[0;34m,\u001b[0m \u001b[0mnew_func\u001b[0m\u001b[0;34m,\u001b[0m \u001b[0;34m'deprecated'\u001b[0m\u001b[0;34m,\u001b[0m\u001b[0;34m\u001b[0m\u001b[0;34m\u001b[0m\u001b[0m\n",
      "\u001b[0;32m~/anaconda3/envs/tensorflow2_p36/lib/python3.6/site-packages/tensorflow_core/python/saved_model/utils_impl.py\u001b[0m in \u001b[0;36mbuild_tensor_info\u001b[0;34m(tensor)\u001b[0m\n\u001b[1;32m     64\u001b[0m   \"\"\"\n\u001b[1;32m     65\u001b[0m   \u001b[0;32mif\u001b[0m \u001b[0mcontext\u001b[0m\u001b[0;34m.\u001b[0m\u001b[0mexecuting_eagerly\u001b[0m\u001b[0;34m(\u001b[0m\u001b[0;34m)\u001b[0m\u001b[0;34m:\u001b[0m\u001b[0;34m\u001b[0m\u001b[0;34m\u001b[0m\u001b[0m\n\u001b[0;32m---> 66\u001b[0;31m     \u001b[0;32mraise\u001b[0m \u001b[0mRuntimeError\u001b[0m\u001b[0;34m(\u001b[0m\u001b[0;34m\"build_tensor_info is not supported in Eager mode.\"\u001b[0m\u001b[0;34m)\u001b[0m\u001b[0;34m\u001b[0m\u001b[0;34m\u001b[0m\u001b[0m\n\u001b[0m\u001b[1;32m     67\u001b[0m   \u001b[0;32mreturn\u001b[0m \u001b[0mbuild_tensor_info_internal\u001b[0m\u001b[0;34m(\u001b[0m\u001b[0mtensor\u001b[0m\u001b[0;34m)\u001b[0m\u001b[0;34m\u001b[0m\u001b[0;34m\u001b[0m\u001b[0m\n\u001b[1;32m     68\u001b[0m \u001b[0;34m\u001b[0m\u001b[0m\n",
      "\u001b[0;31mRuntimeError\u001b[0m: build_tensor_info is not supported in Eager mode."
     ]
    }
   ],
   "source": [
    "from tensorflow.python.saved_model import builder\n",
    "from tensorflow.python.saved_model.signature_def_utils import predict_signature_def\n",
    "from tensorflow.python.saved_model import tag_constants\n",
    "\n",
    "version_number = '2'\n",
    "export_dir = 'export/Servo/' + version_number\n",
    "builder = builder.SavedModelBuilder(export_dir)\n",
    "signature = predict_signature_def(\n",
    "    inputs={\"inputs\": best_model.input}, outputs={\"score\": best_model.output})\n",
    "from keras import backend as K\n",
    "with K.get_session() as sess:\n",
    "    builder.add_meta_graph_and_variables(\n",
    "        sess=sess, tags=[tag_constants.SERVING], signature_def_map={\"serving_default\": signature})\n",
    "    builder.save()\n"
   ]
  },
  {
   "cell_type": "code",
   "execution_count": 18,
   "metadata": {},
   "outputs": [],
   "source": [
    "MODEL_h5_NAME = 'keras-cosine-model.h5'\n",
    "MODEL_tar_NAME = \"keras-cosine-model.tar.gz\"\n",
    "MODEL_BUCKET_PATH = os.path.join('keras_models', MODEL_tar_NAME)"
   ]
  },
  {
   "cell_type": "code",
   "execution_count": 19,
   "metadata": {},
   "outputs": [],
   "source": [
    "best_model.save(MODEL_h5_NAME)\n",
    "\n",
    "import tarfile\n",
    "tar = tarfile.open(MODEL_tar_NAME, \"w:gz\")\n",
    "tar.add(MODEL_h5_NAME)\n",
    "tar.close()"
   ]
  },
  {
   "cell_type": "code",
   "execution_count": 20,
   "metadata": {},
   "outputs": [],
   "source": [
    "client = boto3.client('s3')\n",
    "client.upload_file(Filename=MODEL_tar_NAME,\n",
    "                  Bucket=BUCKET,\n",
    "                  Key=MODEL_BUCKET_PATH)\n"
   ]
  },
  {
   "cell_type": "code",
   "execution_count": 21,
   "metadata": {},
   "outputs": [],
   "source": [
    "!touch train.py"
   ]
  },
  {
   "cell_type": "code",
   "execution_count": 29,
   "metadata": {},
   "outputs": [
    {
     "name": "stderr",
     "output_type": "stream",
     "text": [
      "Parameter image will be renamed to image_uri in SageMaker Python SDK v2.\n",
      "2.1.0 is the latest version of tensorflow that supports Python 2. Newer versions of tensorflow will only be available for Python 3.Please set the argument \"py_version='py3'\" to use the Python 3 tensorflow image.\n",
      "'create_image_uri' will be deprecated in favor of 'ImageURIProvider' class in SageMaker Python SDK v2.\n"
     ]
    },
    {
     "name": "stdout",
     "output_type": "stream",
     "text": [
      "-*"
     ]
    },
    {
     "ename": "UnexpectedStatusException",
     "evalue": "Error hosting endpoint sagemaker-tensorflow-2020-10-15-13-31-26-291: Failed. Reason:  The image '520713654638.dkr.ecr.eu-west-2.amazonaws.com/sagemaker-tensorflow:2.1.0-cpu-py2' does not exist..",
     "output_type": "error",
     "traceback": [
      "\u001b[0;31m---------------------------------------------------------------------------\u001b[0m",
      "\u001b[0;31mUnexpectedStatusException\u001b[0m                 Traceback (most recent call last)",
      "\u001b[0;32m<ipython-input-29-0ee8daf8c85e>\u001b[0m in \u001b[0;36m<module>\u001b[0;34m\u001b[0m\n\u001b[1;32m      5\u001b[0m     \u001b[0mentry_point\u001b[0m\u001b[0;34m=\u001b[0m\u001b[0;34m'train.py'\u001b[0m\u001b[0;34m,\u001b[0m\u001b[0;34m\u001b[0m\u001b[0;34m\u001b[0m\u001b[0m\n\u001b[1;32m      6\u001b[0m     framework_version=\"2.1.0\")\n\u001b[0;32m----> 7\u001b[0;31m \u001b[0mpredictor\u001b[0m \u001b[0;34m=\u001b[0m \u001b[0mmodel\u001b[0m\u001b[0;34m.\u001b[0m\u001b[0mdeploy\u001b[0m\u001b[0;34m(\u001b[0m\u001b[0minitial_instance_count\u001b[0m\u001b[0;34m=\u001b[0m\u001b[0;36m1\u001b[0m\u001b[0;34m,\u001b[0m \u001b[0minstance_type\u001b[0m\u001b[0;34m=\u001b[0m\u001b[0;34m'ml.m5.large'\u001b[0m\u001b[0;34m)\u001b[0m\u001b[0;34m\u001b[0m\u001b[0;34m\u001b[0m\u001b[0m\n\u001b[0m",
      "\u001b[0;32m~/anaconda3/envs/tensorflow2_p36/lib/python3.6/site-packages/sagemaker/model.py\u001b[0m in \u001b[0;36mdeploy\u001b[0;34m(self, initial_instance_count, instance_type, accelerator_type, endpoint_name, update_endpoint, tags, kms_key, wait, data_capture_config)\u001b[0m\n\u001b[1;32m    579\u001b[0m                 \u001b[0mkms_key\u001b[0m\u001b[0;34m=\u001b[0m\u001b[0mkms_key\u001b[0m\u001b[0;34m,\u001b[0m\u001b[0;34m\u001b[0m\u001b[0;34m\u001b[0m\u001b[0m\n\u001b[1;32m    580\u001b[0m                 \u001b[0mwait\u001b[0m\u001b[0;34m=\u001b[0m\u001b[0mwait\u001b[0m\u001b[0;34m,\u001b[0m\u001b[0;34m\u001b[0m\u001b[0;34m\u001b[0m\u001b[0m\n\u001b[0;32m--> 581\u001b[0;31m                 \u001b[0mdata_capture_config_dict\u001b[0m\u001b[0;34m=\u001b[0m\u001b[0mdata_capture_config_dict\u001b[0m\u001b[0;34m,\u001b[0m\u001b[0;34m\u001b[0m\u001b[0;34m\u001b[0m\u001b[0m\n\u001b[0m\u001b[1;32m    582\u001b[0m             )\n\u001b[1;32m    583\u001b[0m \u001b[0;34m\u001b[0m\u001b[0m\n",
      "\u001b[0;32m~/anaconda3/envs/tensorflow2_p36/lib/python3.6/site-packages/sagemaker/session.py\u001b[0m in \u001b[0;36mendpoint_from_production_variants\u001b[0;34m(self, name, production_variants, tags, kms_key, wait, data_capture_config_dict)\u001b[0m\n\u001b[1;32m   2903\u001b[0m \u001b[0;34m\u001b[0m\u001b[0m\n\u001b[1;32m   2904\u001b[0m             \u001b[0mself\u001b[0m\u001b[0;34m.\u001b[0m\u001b[0msagemaker_client\u001b[0m\u001b[0;34m.\u001b[0m\u001b[0mcreate_endpoint_config\u001b[0m\u001b[0;34m(\u001b[0m\u001b[0;34m**\u001b[0m\u001b[0mconfig_options\u001b[0m\u001b[0;34m)\u001b[0m\u001b[0;34m\u001b[0m\u001b[0;34m\u001b[0m\u001b[0m\n\u001b[0;32m-> 2905\u001b[0;31m         \u001b[0;32mreturn\u001b[0m \u001b[0mself\u001b[0m\u001b[0;34m.\u001b[0m\u001b[0mcreate_endpoint\u001b[0m\u001b[0;34m(\u001b[0m\u001b[0mendpoint_name\u001b[0m\u001b[0;34m=\u001b[0m\u001b[0mname\u001b[0m\u001b[0;34m,\u001b[0m \u001b[0mconfig_name\u001b[0m\u001b[0;34m=\u001b[0m\u001b[0mname\u001b[0m\u001b[0;34m,\u001b[0m \u001b[0mtags\u001b[0m\u001b[0;34m=\u001b[0m\u001b[0mtags\u001b[0m\u001b[0;34m,\u001b[0m \u001b[0mwait\u001b[0m\u001b[0;34m=\u001b[0m\u001b[0mwait\u001b[0m\u001b[0;34m)\u001b[0m\u001b[0;34m\u001b[0m\u001b[0;34m\u001b[0m\u001b[0m\n\u001b[0m\u001b[1;32m   2906\u001b[0m \u001b[0;34m\u001b[0m\u001b[0m\n\u001b[1;32m   2907\u001b[0m     \u001b[0;32mdef\u001b[0m \u001b[0mexpand_role\u001b[0m\u001b[0;34m(\u001b[0m\u001b[0mself\u001b[0m\u001b[0;34m,\u001b[0m \u001b[0mrole\u001b[0m\u001b[0;34m)\u001b[0m\u001b[0;34m:\u001b[0m\u001b[0;34m\u001b[0m\u001b[0;34m\u001b[0m\u001b[0m\n",
      "\u001b[0;32m~/anaconda3/envs/tensorflow2_p36/lib/python3.6/site-packages/sagemaker/session.py\u001b[0m in \u001b[0;36mcreate_endpoint\u001b[0;34m(self, endpoint_name, config_name, tags, wait)\u001b[0m\n\u001b[1;32m   2423\u001b[0m         )\n\u001b[1;32m   2424\u001b[0m         \u001b[0;32mif\u001b[0m \u001b[0mwait\u001b[0m\u001b[0;34m:\u001b[0m\u001b[0;34m\u001b[0m\u001b[0;34m\u001b[0m\u001b[0m\n\u001b[0;32m-> 2425\u001b[0;31m             \u001b[0mself\u001b[0m\u001b[0;34m.\u001b[0m\u001b[0mwait_for_endpoint\u001b[0m\u001b[0;34m(\u001b[0m\u001b[0mendpoint_name\u001b[0m\u001b[0;34m)\u001b[0m\u001b[0;34m\u001b[0m\u001b[0;34m\u001b[0m\u001b[0m\n\u001b[0m\u001b[1;32m   2426\u001b[0m         \u001b[0;32mreturn\u001b[0m \u001b[0mendpoint_name\u001b[0m\u001b[0;34m\u001b[0m\u001b[0;34m\u001b[0m\u001b[0m\n\u001b[1;32m   2427\u001b[0m \u001b[0;34m\u001b[0m\u001b[0m\n",
      "\u001b[0;32m~/anaconda3/envs/tensorflow2_p36/lib/python3.6/site-packages/sagemaker/session.py\u001b[0m in \u001b[0;36mwait_for_endpoint\u001b[0;34m(self, endpoint, poll)\u001b[0m\n\u001b[1;32m   2692\u001b[0m                 ),\n\u001b[1;32m   2693\u001b[0m                 \u001b[0mallowed_statuses\u001b[0m\u001b[0;34m=\u001b[0m\u001b[0;34m[\u001b[0m\u001b[0;34m\"InService\"\u001b[0m\u001b[0;34m]\u001b[0m\u001b[0;34m,\u001b[0m\u001b[0;34m\u001b[0m\u001b[0;34m\u001b[0m\u001b[0m\n\u001b[0;32m-> 2694\u001b[0;31m                 \u001b[0mactual_status\u001b[0m\u001b[0;34m=\u001b[0m\u001b[0mstatus\u001b[0m\u001b[0;34m,\u001b[0m\u001b[0;34m\u001b[0m\u001b[0;34m\u001b[0m\u001b[0m\n\u001b[0m\u001b[1;32m   2695\u001b[0m             )\n\u001b[1;32m   2696\u001b[0m         \u001b[0;32mreturn\u001b[0m \u001b[0mdesc\u001b[0m\u001b[0;34m\u001b[0m\u001b[0;34m\u001b[0m\u001b[0m\n",
      "\u001b[0;31mUnexpectedStatusException\u001b[0m: Error hosting endpoint sagemaker-tensorflow-2020-10-15-13-31-26-291: Failed. Reason:  The image '520713654638.dkr.ecr.eu-west-2.amazonaws.com/sagemaker-tensorflow:2.1.0-cpu-py2' does not exist.."
     ]
    }
   ],
   "source": [
    "from sagemaker.tensorflow import TensorFlowModel\n",
    "model = TensorFlowModel(\n",
    "    model_data='s3://' + BUCKET + '/' + MODEL_BUCKET_PATH,\n",
    "    role=ROLE,\n",
    "    py_version='py3',\n",
    "    entry_point='train.py',\n",
    "    framework_version=\"2.1.0\")\n",
    "predictor = model.deploy(initial_instance_count=1, instance_type='ml.m5.large')"
   ]
  },
  {
   "cell_type": "code",
   "execution_count": null,
   "metadata": {},
   "outputs": [],
   "source": [
    "# stop here when running all cells\n",
    "assert False"
   ]
  },
  {
   "cell_type": "markdown",
   "metadata": {},
   "source": [
    "## Further experiments <a class=\"anchor\" id=\"further-experiments\"></a>"
   ]
  },
  {
   "cell_type": "markdown",
   "metadata": {},
   "source": [
    "Try linear regression with keras"
   ]
  },
  {
   "cell_type": "code",
   "execution_count": null,
   "metadata": {},
   "outputs": [],
   "source": [
    "def linear_keras():\n",
    "    model = Sequential()\n",
    "    model.add(Dense(8, kernel_initializer='normal', activation='linear', name='hidden_1'))\n",
    "    model.add(Dense(1, kernel_initializer='normal', activation='linear'))\n",
    "\n",
    "    # Compile the model\n",
    "    model.compile(loss=\"mean_squared_error\",\n",
    "                  metrics=[tf.keras.metrics.MeanAbsoluteError()],\n",
    "                  optimizer='adam')\n",
    "    return model"
   ]
  },
  {
   "cell_type": "code",
   "execution_count": null,
   "metadata": {},
   "outputs": [],
   "source": [
    "\n",
    "models = []\n",
    "scores = []\n",
    "callback = tf.keras.callbacks.EarlyStopping(\n",
    "    monitor='val_loss',\n",
    "    patience=15, \n",
    "    restore_best_weights=True,\n",
    "    verbose=0)\n",
    "\n",
    "models.append(linear_keras())\n",
    "models[0].fit(\n",
    "    train_X,\n",
    "    train_y,\n",
    "    epochs=200,\n",
    "    batch_size=32,\n",
    "    verbose=0,\n",
    "    validation_data=(val_X, val_y),\n",
    "    callbacks=[callback])\n",
    "training_score = models[0].evaluate(train_X, train_y, verbose=0)\n",
    "val_score = models[0].evaluate(val_X, val_y, verbose=0)\n",
    "scores.append(val_score[0])\n",
    "print(f'training MAE:{training_score[1]:.4f}, MSE:{training_score[0]:.4f}')\n",
    "print(f'validation MAE:{val_score[1]:.4f}, MSE:{val_score[0]:.4f}')\n",
    "print('\\n')"
   ]
  },
  {
   "cell_type": "markdown",
   "metadata": {},
   "source": [
    "Try one layer keras model"
   ]
  },
  {
   "cell_type": "code",
   "execution_count": null,
   "metadata": {},
   "outputs": [],
   "source": [
    "# Build the model\n",
    "def wider_keras_model(size):\n",
    "    model = Sequential()\n",
    "    model.add(Dense(size_1, kernel_initializer='normal', activation='relu', name='hidden_1'))\n",
    "    model.add(Dropout(0.5, seed=42))\n",
    "    model.add(Dense(1, kernel_initializer='normal', activation='linear'))\n",
    "\n",
    "    # Compile the model\n",
    "    model.compile(loss=\"mean_squared_error\",\n",
    "                  metrics=[tf.keras.metrics.MeanAbsoluteError()],\n",
    "                  optimizer='adam')\n",
    "    return model"
   ]
  },
  {
   "cell_type": "code",
   "execution_count": null,
   "metadata": {},
   "outputs": [],
   "source": [
    "hidden_layer_sizes = [8, 16, 32, 64, 128, 512]\n",
    "models = []\n",
    "scores = []\n",
    "callback = tf.keras.callbacks.EarlyStopping(\n",
    "    monitor='val_loss',\n",
    "    patience=15, \n",
    "    restore_best_weights=True,\n",
    "    verbose=0)\n",
    "\n",
    "for i, size in enumerate(hidden_layer_sizes):\n",
    "    models.append(wider_keras_model(size))\n",
    "    models[i].fit(\n",
    "        train_X,\n",
    "        train_y,\n",
    "        epochs=200,\n",
    "        batch_size=32,\n",
    "        verbose=0,\n",
    "        validation_data=(val_X, val_y),\n",
    "        callbacks=[callback])\n",
    "    training_score = models[i].evaluate(train_X, train_y, verbose=0)\n",
    "    val_score = models[i].evaluate(val_X, val_y, verbose=0)\n",
    "    scores.append(val_score[0])\n",
    "    print(f'Scores for hidden layer size {size}:')\n",
    "    print(f'training MAE:{training_score[1]:.4f}, MSE:{training_score[0]:.4f}')\n",
    "    print(f'validation MAE:{val_score[1]:.4f}, MSE:{val_score[0]:.4f}')\n",
    "    print('\\n')"
   ]
  },
  {
   "cell_type": "markdown",
   "metadata": {},
   "source": [
    "### Check what happens if we minimize for MAE instead"
   ]
  },
  {
   "cell_type": "code",
   "execution_count": null,
   "metadata": {},
   "outputs": [],
   "source": [
    "import tensorflow as tf\n",
    "from tensorflow.keras.models import Sequential\n",
    "from tensorflow.keras.layers import Dense\n",
    "from tensorflow.keras.layers import Dropout\n",
    "\n",
    "\n",
    "# Build the model\n",
    "def wide_keras_model(size_1, size_2):\n",
    "    model = Sequential()\n",
    "    model.add(Dense(size_1, kernel_initializer='normal', activation='relu', name='hidden_1'))\n",
    "    model.add(Dropout(0.5, seed=42))\n",
    "    model.add(Dense(size_2, kernel_initializer='normal', activation='relu', name='hidden_2'))\n",
    "    model.add(Dropout(0.5, seed=42))\n",
    "    model.add(Dense(1, kernel_initializer='normal', activation='linear'))\n",
    "\n",
    "    # Compile the model\n",
    "    model.compile(loss=\"mean_absolute_error\",\n",
    "                  metrics=[tf.keras.metrics.MeanSquaredError()],\n",
    "                  optimizer='adam')\n",
    "    return model"
   ]
  },
  {
   "cell_type": "code",
   "execution_count": null,
   "metadata": {},
   "outputs": [],
   "source": [
    "train_X, train_y, val_X, val_y, test_X, test_y = save_train_and_validation_data_to_s3(df_reordered)\n",
    "train_y = np.expand_dims(train_y, axis=1)\n",
    "val_y = np.expand_dims(val_y, axis=1)\n",
    "test_y = np.expand_dims(test_y, axis=1)\n",
    "print(f'Number of examples in training data: {len(train_y)}')\n",
    "print(f'Number of examples in validation data: {len(val_y)}')\n",
    "print(f'Number of examples in test data: {len(test_y)}')"
   ]
  },
  {
   "cell_type": "code",
   "execution_count": null,
   "metadata": {
    "scrolled": true
   },
   "outputs": [],
   "source": [
    "hidden_layer_sizes = [(32, 16), (64, 32), (128, 64), (256, 128), (512, 256)]\n",
    "models = []\n",
    "scores = []\n",
    "callback = tf.keras.callbacks.EarlyStopping(\n",
    "    monitor='val_loss',\n",
    "    patience=10, \n",
    "    restore_best_weights=True,\n",
    "    verbose=0)\n",
    "\n",
    "for i, (size_1, size_2) in enumerate(hidden_layer_sizes):\n",
    "    models.append(wide_keras_model(size_1, size_2))\n",
    "    models[i].fit(\n",
    "        train_X,\n",
    "        train_y,\n",
    "        epochs=100,\n",
    "        batch_size=16,\n",
    "        verbose=0,\n",
    "        validation_data=(val_X, val_y),\n",
    "        callbacks=[callback])\n",
    "    training_score = models[i].evaluate(train_X, train_y, verbose=0)\n",
    "    val_score = models[i].evaluate(val_X, val_y, verbose=0)\n",
    "    scores.append(val_score[0])\n",
    "    print(f'Scores for hidden layer sizes {size_1} and {size_2}:')\n",
    "    print(f'training MAE:{training_score[0]:.4f}, MSE:{training_score[1]:.4f}')\n",
    "    print(f'validation MAE:{val_score[0]:.4f}, MSE:{val_score[1]:.4f}')\n",
    "    print('\\n')"
   ]
  },
  {
   "cell_type": "code",
   "execution_count": null,
   "metadata": {},
   "outputs": [],
   "source": [
    "best_idx = np.argmin(scores)\n",
    "best_sizes = hidden_layer_sizes[best_idx]\n",
    "best_model = models[best_idx]\n",
    "test_score = best_model.evaluate(test_X, test_y, verbose=0)\n",
    "print(f'Best performing model is of sizes {best_sizes} for hidden layers')\n",
    "print(f'Best model MAE on the test set: {test_score[0]:.4f}')\n",
    "print(f'Best model MSE on the test set: {test_score[1]:.4f}')\n"
   ]
  },
  {
   "cell_type": "code",
   "execution_count": null,
   "metadata": {},
   "outputs": [],
   "source": [
    "from matplotlib import pyplot as plt\n",
    "\n",
    "plt.plot(best_model.history.history['loss'], label='train')\n",
    "plt.plot(best_model.history.history['val_loss'], label='validation')\n",
    "plt.legend()\n",
    "plt.show()"
   ]
  },
  {
   "cell_type": "markdown",
   "metadata": {},
   "source": [
    "Sanity check using a different library"
   ]
  },
  {
   "cell_type": "code",
   "execution_count": null,
   "metadata": {
    "scrolled": true
   },
   "outputs": [],
   "source": [
    "test_pred = best_model.predict(test_X)\n",
    "\n",
    "from sklearn.metrics import mean_squared_error\n",
    "mse = mean_squared_error(test_y, test_pred)\n",
    "print(\"Test MSE:\", round(mse,4))"
   ]
  },
  {
   "cell_type": "markdown",
   "metadata": {},
   "source": [
    "### Try deeper architectures for comparison"
   ]
  },
  {
   "cell_type": "code",
   "execution_count": null,
   "metadata": {},
   "outputs": [],
   "source": [
    "def deep_keras_model(size_first_layer, num_layers):\n",
    "    model = Sequential()\n",
    "    size = size_first_layer\n",
    "    model.add(Dense(size, input_dim=6, kernel_initializer='normal', activation='relu', name='hidden_1'))\n",
    "    for i in range(1, num_layers):\n",
    "        size //= 2\n",
    "        model.add(Dense(size, kernel_initializer='normal', activation='relu', name='hidden' + str(i)))\n",
    "        model.add(Dropout(0.5, seed=42))\n",
    "    model.add(Dense(1, kernel_initializer='normal', activation='linear'))\n",
    "\n",
    "    # Compile the model\n",
    "    model.compile(loss=\"mean_squared_error\",\n",
    "                  metrics=[tf.keras.metrics.MeanAbsoluteError()],\n",
    "                  optimizer='adam')\n",
    "    return model"
   ]
  },
  {
   "cell_type": "code",
   "execution_count": null,
   "metadata": {},
   "outputs": [],
   "source": [
    "deep_sizes = [(16, 3), (16, 4), (32, 5), (64, 6), (128, 7)]\n",
    "deep_models = []\n",
    "deep_scores = []\n",
    "callback = tf.keras.callbacks.EarlyStopping(\n",
    "    monitor='val_loss',\n",
    "    patience=10, \n",
    "    restore_best_weights=True,\n",
    "    verbose=0)\n",
    "\n",
    "for i, (size_first_layer, num_layers) in enumerate(deep_sizes):\n",
    "    deep_models.append(deep_keras_model(size_first_layer, num_layers))\n",
    "    deep_models[i].fit(\n",
    "        train_X,\n",
    "        train_y,\n",
    "        epochs=200,\n",
    "        batch_size=16,\n",
    "        verbose=0,\n",
    "        validation_data=(val_X, val_y),\n",
    "        callbacks=[callback])\n",
    "    training_score = deep_models[i].evaluate(train_X, train_y, verbose=0)\n",
    "    val_score = deep_models[i].evaluate(val_X, val_y, verbose=0)\n",
    "    deep_scores.append(val_score[0])\n",
    "    print(f'Scores for {num_layers} hidden layers with first layer of size {size_first_layer}:')\n",
    "    print(f'training MAE:{training_score[1]:.4f}, MSE:{training_score[0]:.4f}')\n",
    "    print(f'validation MAE:{val_score[1]:.4f}, MSE:{val_score[0]:.4f}')\n",
    "    print('\\n')"
   ]
  },
  {
   "cell_type": "code",
   "execution_count": null,
   "metadata": {},
   "outputs": [],
   "source": [
    "best_deep_idx = np.argmin(deep_scores)\n",
    "best_sizes = deep_sizes[best_deep_idx]\n",
    "best_deep_model = deep_models[best_deep_idx]\n",
    "test_score = best_deep_model.evaluate(test_X, test_y, verbose=0)\n",
    "print(f'Best performing model is of sizes {best_sizes} for hidden layers')\n",
    "print(f'Best model MAE on the test set: {test_score[0]:.4f}')\n",
    "print(f'Best model MSE on the test set: {test_score[1]:.4f}')"
   ]
  },
  {
   "cell_type": "markdown",
   "metadata": {},
   "source": [
    "## Load the SageMaker Tensorflow training"
   ]
  },
  {
   "cell_type": "code",
   "execution_count": null,
   "metadata": {},
   "outputs": [],
   "source": [
    "# from sagemaker.tensorflow import Tensorflow\n",
    "\n",
    "# tf_estimator = TensorFlow(\n",
    "#     entry_point='non_linear_keras_train.py',\n",
    "#     train_instance_count=1,\n",
    "#     train_instance_type=\"ml.m5.large\",\n",
    "#     famework_version=tf_version,\n",
    "#     py_version='py3',\n",
    "#     script_mode=True,\n",
    "#     hyperparameters={\n",
    "#         'epochs': 10,\n",
    "#         'batch_size': 32,\n",
    "#     })"
   ]
  }
 ],
 "metadata": {
  "kernelspec": {
   "display_name": "conda_tensorflow2_p36",
   "language": "python",
   "name": "conda_tensorflow2_p36"
  },
  "language_info": {
   "codemirror_mode": {
    "name": "ipython",
    "version": 3
   },
   "file_extension": ".py",
   "mimetype": "text/x-python",
   "name": "python",
   "nbconvert_exporter": "python",
   "pygments_lexer": "ipython3",
   "version": "3.6.10"
  }
 },
 "nbformat": 4,
 "nbformat_minor": 4
}
