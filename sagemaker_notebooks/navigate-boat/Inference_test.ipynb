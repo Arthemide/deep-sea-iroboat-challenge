{
 "cells": [
  {
   "cell_type": "code",
   "execution_count": 844,
   "metadata": {},
   "outputs": [],
   "source": [
    "import numpy as np\n",
    "import boto3\n",
    "import pandas as pd\n",
    "import random\n",
    "import io\n",
    "import json\n",
    "import math\n",
    "from pprint import pprint"
   ]
  },
  {
   "cell_type": "code",
   "execution_count": 845,
   "metadata": {},
   "outputs": [],
   "source": [
    "def np2csv(arr):\n",
    "    csv = io.BytesIO()\n",
    "    np.savetxt(csv, arr, delimiter=',', fmt='%g')\n",
    "    return csv.getvalue().decode().rstrip()"
   ]
  },
  {
   "cell_type": "code",
   "execution_count": 846,
   "metadata": {},
   "outputs": [
    {
     "data": {
      "text/html": [
       "<div>\n",
       "<style scoped>\n",
       "    .dataframe tbody tr th:only-of-type {\n",
       "        vertical-align: middle;\n",
       "    }\n",
       "\n",
       "    .dataframe tbody tr th {\n",
       "        vertical-align: top;\n",
       "    }\n",
       "\n",
       "    .dataframe thead th {\n",
       "        text-align: right;\n",
       "    }\n",
       "</style>\n",
       "<table border=\"1\" class=\"dataframe\">\n",
       "  <thead>\n",
       "    <tr style=\"text-align: right;\">\n",
       "      <th></th>\n",
       "      <th>boat_speed</th>\n",
       "      <th>angle_of_attack</th>\n",
       "      <th>wind_speed</th>\n",
       "      <th>cos_target_angle</th>\n",
       "      <th>sin_target_angle</th>\n",
       "      <th>cos_boat_angle</th>\n",
       "      <th>sin_boat_angle</th>\n",
       "    </tr>\n",
       "  </thead>\n",
       "  <tbody>\n",
       "    <tr>\n",
       "      <th>count</th>\n",
       "      <td>2869.000000</td>\n",
       "      <td>2869.000000</td>\n",
       "      <td>2869.000000</td>\n",
       "      <td>2869.000000</td>\n",
       "      <td>2869.000000</td>\n",
       "      <td>2869.000000</td>\n",
       "      <td>2869.000000</td>\n",
       "    </tr>\n",
       "    <tr>\n",
       "      <th>mean</th>\n",
       "      <td>5.964360</td>\n",
       "      <td>12.365479</td>\n",
       "      <td>9.157457</td>\n",
       "      <td>-0.184606</td>\n",
       "      <td>0.166315</td>\n",
       "      <td>-0.213446</td>\n",
       "      <td>0.152944</td>\n",
       "    </tr>\n",
       "    <tr>\n",
       "      <th>std</th>\n",
       "      <td>2.373046</td>\n",
       "      <td>107.211737</td>\n",
       "      <td>5.706170</td>\n",
       "      <td>0.680841</td>\n",
       "      <td>0.689233</td>\n",
       "      <td>0.653259</td>\n",
       "      <td>0.710370</td>\n",
       "    </tr>\n",
       "    <tr>\n",
       "      <th>min</th>\n",
       "      <td>0.000000</td>\n",
       "      <td>-177.061360</td>\n",
       "      <td>2.000000</td>\n",
       "      <td>-1.000000</td>\n",
       "      <td>-0.999998</td>\n",
       "      <td>-1.000000</td>\n",
       "      <td>-0.999970</td>\n",
       "    </tr>\n",
       "    <tr>\n",
       "      <th>25%</th>\n",
       "      <td>4.151830</td>\n",
       "      <td>-108.771260</td>\n",
       "      <td>4.995720</td>\n",
       "      <td>-0.911645</td>\n",
       "      <td>-0.452754</td>\n",
       "      <td>-0.834221</td>\n",
       "      <td>-0.616197</td>\n",
       "    </tr>\n",
       "    <tr>\n",
       "      <th>50%</th>\n",
       "      <td>5.374240</td>\n",
       "      <td>44.951450</td>\n",
       "      <td>6.975660</td>\n",
       "      <td>-0.291872</td>\n",
       "      <td>0.176061</td>\n",
       "      <td>-0.451541</td>\n",
       "      <td>0.273611</td>\n",
       "    </tr>\n",
       "    <tr>\n",
       "      <th>75%</th>\n",
       "      <td>7.753420</td>\n",
       "      <td>95.351770</td>\n",
       "      <td>9.983790</td>\n",
       "      <td>0.406604</td>\n",
       "      <td>0.942611</td>\n",
       "      <td>0.412255</td>\n",
       "      <td>0.891026</td>\n",
       "    </tr>\n",
       "    <tr>\n",
       "      <th>max</th>\n",
       "      <td>9.949470</td>\n",
       "      <td>154.981630</td>\n",
       "      <td>21.077130</td>\n",
       "      <td>0.999989</td>\n",
       "      <td>0.999998</td>\n",
       "      <td>0.993901</td>\n",
       "      <td>1.000000</td>\n",
       "    </tr>\n",
       "  </tbody>\n",
       "</table>\n",
       "</div>"
      ],
      "text/plain": [
       "        boat_speed  angle_of_attack   wind_speed  cos_target_angle  \\\n",
       "count  2869.000000      2869.000000  2869.000000       2869.000000   \n",
       "mean      5.964360        12.365479     9.157457         -0.184606   \n",
       "std       2.373046       107.211737     5.706170          0.680841   \n",
       "min       0.000000      -177.061360     2.000000         -1.000000   \n",
       "25%       4.151830      -108.771260     4.995720         -0.911645   \n",
       "50%       5.374240        44.951450     6.975660         -0.291872   \n",
       "75%       7.753420        95.351770     9.983790          0.406604   \n",
       "max       9.949470       154.981630    21.077130          0.999989   \n",
       "\n",
       "       sin_target_angle  cos_boat_angle  sin_boat_angle  \n",
       "count       2869.000000     2869.000000     2869.000000  \n",
       "mean           0.166315       -0.213446        0.152944  \n",
       "std            0.689233        0.653259        0.710370  \n",
       "min           -0.999998       -1.000000       -0.999970  \n",
       "25%           -0.452754       -0.834221       -0.616197  \n",
       "50%            0.176061       -0.451541        0.273611  \n",
       "75%            0.942611        0.412255        0.891026  \n",
       "max            0.999998        0.993901        1.000000  "
      ]
     },
     "execution_count": 846,
     "metadata": {},
     "output_type": "execute_result"
    }
   ],
   "source": [
    "data = pd.read_csv('all-in-one.csv')\n",
    "\n",
    "df_reordered_cos = data[['boat_speed','angle_of_attack','wind_speed','cos_target_angle', 'sin_target_angle','cos_boat_angle','sin_boat_angle']]\n",
    "\n",
    "df_reordered_sin = data[['boat_speed','angle_of_attack','wind_speed','sin_target_angle','cos_target_angle', 'cos_boat_angle','sin_boat_angle']]\n",
    "\n",
    "\n",
    "# Binary classifier only accepts 0 and 1\n",
    "#df_reordered['sign_sin_target_angle'] = df_reordered['sign_sin_target_angle'].map({-1:0, 1:1})\n",
    "#df_reordered['sign_sin_boat_angle'] = df_reordered['sign_sin_boat_angle'].map({-1:0, 1:1})\n",
    "\n",
    "df_reordered_cos.describe()"
   ]
  },
  {
   "cell_type": "code",
   "execution_count": 847,
   "metadata": {},
   "outputs": [],
   "source": [
    "runtime= boto3.client('runtime.sagemaker')"
   ]
  },
  {
   "cell_type": "code",
   "execution_count": 848,
   "metadata": {},
   "outputs": [
    {
     "name": "stdout",
     "output_type": "stream",
     "text": [
      "[array([   3.60135   , -136.6674    ,    4.15544   ,   -0.81941255,\n",
      "          0.57320421])]\n",
      "[array([   3.60135   , -136.6674    ,    4.15544   ,    0.57320421,\n",
      "         -0.81941255])]\n",
      "{'angle_of_attack': -136.6674,\n",
      " 'boat_speed': 3.60135,\n",
      " 'cos_boat_angle': -0.6426529638821419,\n",
      " 'cos_target_angle': -0.8194125517195305,\n",
      " 'sin_boat_angle': 0.7661574042019684,\n",
      " 'sin_target_angle': 0.5732042132473274,\n",
      " 'wind_speed': 4.1554400000000005}\n"
     ]
    }
   ],
   "source": [
    "i = random.randint(0,len(df_reordered_cos.index))\n",
    "# boat_speed angle_of_attack wind_speed cos_target_angle sign_sin_target_angle\n",
    "test_values_cos = [df_reordered_cos.iloc[i,:-2].to_numpy()]\n",
    "#gt_sign_sin = max(df_reordered.iloc[i,-1], 0) # -1.0 was set to 0\n",
    "gt_sin = df_reordered_cos.iloc[i,-1]\n",
    "gt_cos = df_reordered_cos.iloc[i,-2]\n",
    "\n",
    "print(test_values_cos)\n",
    "test_values_sin = [df_reordered_sin.iloc[i,:-2].to_numpy()]\n",
    "print(test_values_sin)\n",
    "\n",
    "pprint(dict(zip(list(df_reordered.columns.values), df_reordered.iloc[i,:])))"
   ]
  },
  {
   "cell_type": "code",
   "execution_count": 849,
   "metadata": {},
   "outputs": [],
   "source": [
    "payload_cos = np2csv(test_values_cos)\n",
    "payload_sin = np2csv(test_values_sin)\n",
    "cos_endpoint ='VR-cos-regression-endpoint-202009251406'\n",
    "sign_sin_endpoint = 'VR-sign-sin-classifier-endpoint-202009111431'\n",
    "sin_endpoint = 'VR-sin-regression-endpoint-202009251406'\n"
   ]
  },
  {
   "cell_type": "code",
   "execution_count": 850,
   "metadata": {},
   "outputs": [
    {
     "name": "stdout",
     "output_type": "stream",
     "text": [
      "3.60135,-136.667,4.15544,-0.819413,0.573204\n",
      "{'predictions': [{'score': -0.7308506965637207}]}\n"
     ]
    }
   ],
   "source": [
    "print(payload_cos)\n",
    "response = runtime.invoke_endpoint(EndpointName=cos_endpoint,\n",
    "                                   ContentType='text/csv',\n",
    "                                   Body=payload_cos)\n",
    "result = json.loads(response['Body'].read().decode())\n",
    "print(result)\n",
    "pred_cos = np.array([r['score'] for r in result['predictions']])[0]\n",
    "pred_cos = min(1, pred_cos)\n",
    "pred_cos = max(-1, pred_cos)"
   ]
  },
  {
   "cell_type": "code",
   "execution_count": 851,
   "metadata": {},
   "outputs": [
    {
     "name": "stdout",
     "output_type": "stream",
     "text": [
      "3.60135,-136.667,4.15544,0.573204,-0.819413\n",
      "{'predictions': [{'score': 0.6392322778701782}]}\n"
     ]
    }
   ],
   "source": [
    "print(payload_sin)\n",
    "response = runtime.invoke_endpoint(EndpointName=sin_endpoint,\n",
    "                                   ContentType='text/csv',\n",
    "                                   Body=payload_sin)\n",
    "result = json.loads(response['Body'].read().decode())\n",
    "print(result)\n",
    "pred_sin = np.array([r['score'] for r in result['predictions']])[0]\n",
    "pred_sin = min(1, pred_sin)\n",
    "pred_sin = max(-1, pred_sin)"
   ]
  },
  {
   "cell_type": "code",
   "execution_count": 852,
   "metadata": {},
   "outputs": [
    {
     "name": "stdout",
     "output_type": "stream",
     "text": [
      "Ground Truth sinus: 0.77\n",
      "Predicted sinus: 0.64\n",
      "Ground Truth cosinus: -0.64\n",
      "Predicted cosinus: -0.73\n",
      "Ground Truth angle 129.99\n",
      "Predicted angle 136.96\n"
     ]
    }
   ],
   "source": [
    "\n",
    "print(f'Ground Truth sinus: {round(gt_sin, 2)}')\n",
    "print(f'Predicted sinus: {round(pred_sin,2)}')\n",
    "print(f'Ground Truth cosinus: {round(gt_cos,2)}')\n",
    "print(f'Predicted cosinus: {round(pred_cos,2)}')\n",
    "\n",
    "if gt_sin > 0:\n",
    "    print(f'Ground Truth angle {round(math.degrees(math.acos(gt_cos)),2)}')\n",
    "else:\n",
    "    print(f'Ground Truth angle {round(360 - math.degrees(math.acos(gt_cos)),2)}')\n",
    "    \n",
    "if pred_sin > 0:\n",
    "    print(f'Predicted angle {round(math.degrees(math.acos(pred_cos)),2)}')\n",
    "else:\n",
    "    print(f'Predicted angle {round(360 - math.degrees(math.acos(pred_cos)),2)}')"
   ]
  },
  {
   "cell_type": "code",
   "execution_count": null,
   "metadata": {},
   "outputs": [],
   "source": []
  },
  {
   "cell_type": "code",
   "execution_count": null,
   "metadata": {},
   "outputs": [],
   "source": []
  }
 ],
 "metadata": {
  "kernelspec": {
   "display_name": "conda_python3",
   "language": "python",
   "name": "conda_python3"
  },
  "language_info": {
   "codemirror_mode": {
    "name": "ipython",
    "version": 3
   },
   "file_extension": ".py",
   "mimetype": "text/x-python",
   "name": "python",
   "nbconvert_exporter": "python",
   "pygments_lexer": "ipython3",
   "version": "3.6.10"
  }
 },
 "nbformat": 4,
 "nbformat_minor": 4
}
