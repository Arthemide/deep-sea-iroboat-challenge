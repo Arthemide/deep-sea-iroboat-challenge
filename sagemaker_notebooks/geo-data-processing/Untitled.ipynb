{
 "cells": [
  {
   "cell_type": "code",
   "execution_count": null,
   "metadata": {},
   "outputs": [],
   "source": [
    "import os\n",
    "import requests\n",
    "import math\n",
    "\n",
    "\n",
    "RES = 1\n",
    "base = \"https://s3-eu-west-1.amazonaws.com/static.virtualregatta.com/ressources/maps/dalles/vro2k16/\"\n",
    "for i in range(-180, 180):\n",
    "    for j in range(-89, 90):\n",
    "        suffix = f\"{RES}/{math.trunc(i/10)}/{math.trunc(j/10)}/{RES}_{i}_{j}.deg\"\n",
    "        target = base + suffix\n",
    "        r = requests.get(target, allow_redirects=True)\n",
    "        with open('map_data/' + f\"{RES}_{i}_{j}.deg\", 'wb') as f:\n",
    "           f.write(r.content)\n"
   ]
  },
  {
   "cell_type": "code",
   "execution_count": 2,
   "metadata": {},
   "outputs": [
    {
     "name": "stdout",
     "output_type": "stream",
     "text": [
      "64440\n"
     ]
    }
   ],
   "source": [
    "import os\n",
    "\n",
    "print(len(os.listdir(\"map_data\")))"
   ]
  },
  {
   "cell_type": "code",
   "execution_count": 3,
   "metadata": {},
   "outputs": [
    {
     "data": {
      "text/plain": [
       "'/home/ec2-user/SageMaker/map_data.zip.zip'"
      ]
     },
     "execution_count": 3,
     "metadata": {},
     "output_type": "execute_result"
    }
   ],
   "source": [
    "import shutil\n",
    "shutil.make_archive(\"map_data.zip\", 'zip', \"map_data\")"
   ]
  },
  {
   "cell_type": "code",
   "execution_count": null,
   "metadata": {},
   "outputs": [],
   "source": []
  }
 ],
 "metadata": {
  "kernelspec": {
   "display_name": "conda_python3",
   "language": "python",
   "name": "conda_python3"
  },
  "language_info": {
   "codemirror_mode": {
    "name": "ipython",
    "version": 3
   },
   "file_extension": ".py",
   "mimetype": "text/x-python",
   "name": "python",
   "nbconvert_exporter": "python",
   "pygments_lexer": "ipython3",
   "version": "3.6.10"
  }
 },
 "nbformat": 4,
 "nbformat_minor": 4
}
