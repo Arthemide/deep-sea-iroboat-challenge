{
 "metadata": {
  "language_info": {
   "codemirror_mode": {
    "name": "ipython",
    "version": 3
   },
   "file_extension": ".py",
   "mimetype": "text/x-python",
   "name": "python",
   "nbconvert_exporter": "python",
   "pygments_lexer": "ipython3",
   "version": "3.8.1-final"
  },
  "orig_nbformat": 2,
  "kernelspec": {
   "name": "python_defaultSpec_1598533863441",
   "display_name": "Python 3.8.5 64-bit ('isochrones': pipenv)"
  }
 },
 "nbformat": 4,
 "nbformat_minor": 2,
 "cells": [
  {
   "cell_type": "code",
   "execution_count": 73,
   "metadata": {},
   "outputs": [],
   "source": [
    "import math\n",
    "import sys\n",
    "import pandas as pd\n",
    "file_path = '../../data/raw/177.wnd'"
   ]
  },
  {
   "cell_type": "code",
   "execution_count": 70,
   "metadata": {
    "tags": []
   },
   "outputs": [],
   "source": [
    "longitude = -180\n",
    "latitude = 90\n",
    "byte_couple_count = 0\n",
    "wind_values = []\n",
    "wind_value_couple = []\n",
    "with open(file_path, \"rb\") as f:\n",
    "    while (byte := f.read(1)):\n",
    "        if byte_couple_count == 2:\n",
    "            byte_couple_count = 0\n",
    "            # Store data\n",
    "            wind_values.append({'latitude': latitude, 'longitude': longitude, 'u': wind_value_couple[0], 'v': wind_value_couple[1]})\n",
    "            wind_value_couple = []\n",
    "\n",
    "            # Update long/lat\n",
    "            if longitude < 179:\n",
    "                longitude += 1\n",
    "            elif longitude == 179:\n",
    "                longitude = -180\n",
    "                latitude -= 1\n",
    "            else:\n",
    "                print(f'Error with the longitude value: {longitude}')\n",
    "                break\n",
    "\n",
    "        raw_value = int.from_bytes(byte, byteorder=sys.byteorder, signed=True)\n",
    "        wind_value_couple.append(math.copysign(1, raw_value) * raw_value**2/8)\n",
    "        byte_couple_count += 1\n",
    "    # Store last couple\n",
    "    wind_values.append({'latitude': latitude, 'longitude': longitude, 'u': wind_value_couple[0], 'v': wind_value_couple[1]})\n"
   ]
  },
  {
   "cell_type": "code",
   "execution_count": 71,
   "metadata": {
    "tags": []
   },
   "outputs": [
    {
     "output_type": "stream",
     "name": "stdout",
     "text": "65160\n"
    },
    {
     "output_type": "execute_result",
     "data": {
      "text/plain": "{'latitude': -90, 'longitude': 179, 'u': 84.5, 'v': -4.5}"
     },
     "metadata": {},
     "execution_count": 71
    }
   ],
   "source": [
    "print(len(wind_values))\n",
    "wind_values[-1]\n"
   ]
  },
  {
   "cell_type": "code",
   "execution_count": 76,
   "metadata": {},
   "outputs": [],
   "source": [
    "df = pd.DataFrame(wind_values)\n",
    "df.head()\n",
    "df.to_csv('test.csv')"
   ]
  }
 ]
}